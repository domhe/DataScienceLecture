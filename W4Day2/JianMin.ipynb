{
 "cells": [
  {
   "cell_type": "markdown",
   "metadata": {},
   "source": [
    "# INFO 6105 Assignment 4 "
   ]
  },
  {
   "cell_type": "markdown",
   "metadata": {},
   "source": [
    "## Jian Min 001491533"
   ]
  },
  {
   "cell_type": "markdown",
   "metadata": {},
   "source": [
    "# Question1.1"
   ]
  },
  {
   "cell_type": "markdown",
   "metadata": {},
   "source": [
    "What is the Probability Distribution for each F1 driver to win the Singaporean Grand Prix? \n",
    "\n",
    "What is the Probability Distribution for each F1 driver to win both the Singaporean and Russian Grand Prix? \n",
    "\n",
    "What is the probability for Mercedes to win both races? \n",
    "\n",
    "What is the probability for Mercedes to win at least one race?"
   ]
  },
  {
   "cell_type": "code",
   "execution_count": 1,
   "metadata": {},
   "outputs": [],
   "source": [
    "def p(event, space): \n",
    "    \"\"\"The probability of an event, given a sample space of equiprobable outcomes. \n",
    "    event: a collection of outcomes, or a predicate that is true of outcomes in the event. \n",
    "    space: a set of outcomes or a probability distribution of {outcome: frequency} pairs.\"\"\"\n",
    "    if is_predicate(event):\n",
    "        event = such_that(event, space)\n",
    "    if isinstance(space, ProbDist):\n",
    "        return sum(space[o] for o in space if o in event)\n",
    "    else:\n",
    "        return Fraction(len(event & space), len(space))\n",
    "\n",
    "is_predicate = callable\n",
    "\n",
    "def such_that(predicate, space): \n",
    "    \"\"\"The outcomes in the sample pace for which the predicate is true.\n",
    "    If space is a set, return a subset {outcome,...} with outcomes where predicate(element) is true;\n",
    "    if space is a ProbDist, return a ProbDist {outcome: frequency,...} with outcomes where predicate(element) is true.\"\"\"\n",
    "    if isinstance(space, ProbDist):\n",
    "        return ProbDist({o:space[o] for o in space if predicate(o)})\n",
    "    else:\n",
    "        return {o for o in space if predicate(o)}"
   ]
  },
  {
   "cell_type": "code",
   "execution_count": 2,
   "metadata": {},
   "outputs": [],
   "source": [
    "class ProbDist(dict):\n",
    "    \"\"\"A Probability Distribution; an {outcome: probability} mapping.\"\"\"\n",
    "    def __init__(self, mapping=(), **kwargs):\n",
    "        self.update(mapping, **kwargs)\n",
    "        # Make probabilities sum to 1.0; assert no negative probabilities\n",
    "        total = sum(self.values())\n",
    "        for outcome in self:\n",
    "            self[outcome] = self[outcome] / total\n",
    "            assert self[outcome] >= 0"
   ]
  },
  {
   "cell_type": "markdown",
   "metadata": {},
   "source": [
    "## 1.1.1 Probability Distribution for each F1 driver to win the Singaporean Grand Prix"
   ]
  },
  {
   "cell_type": "markdown",
   "metadata": {},
   "source": [
    "import data and get the probability distribution in one race"
   ]
  },
  {
   "cell_type": "code",
   "execution_count": 3,
   "metadata": {},
   "outputs": [],
   "source": [
    "SGP = ProbDist(\n",
    "    LH = 413,\n",
    "    VB = 326,\n",
    "    MV = 278,\n",
    "    CL = 264,\n",
    "    SV = 240,\n",
    "    CS = 96,\n",
    "    PG = 95,\n",
    "    AA = 92,\n",
    "    DR = 54,\n",
    "    SP = 52,\n",
    "    LN = 49,\n",
    "    KR = 43,\n",
    "    DK = 37,\n",
    "    NH = 37,\n",
    "    LS = 21,\n",
    "    KM = 20,\n",
    "    AG = 14,\n",
    "    RG = 8,\n",
    "    RK = 1,\n",
    "    GR = 0\n",
    ")\n",
    "SGP"
   ]
  },
  {
   "cell_type": "markdown",
   "metadata": {},
   "source": [
    "## 1.1.2 Probability Distribution for each F1 driver to win both the Singaporean and Russian Grand Prix"
   ]
  },
  {
   "cell_type": "markdown",
   "metadata": {},
   "source": [
    "the two race is just the same, we can get the probabilities by taking its square"
   ]
  },
  {
   "cell_type": "code",
   "execution_count": 4,
   "metadata": {},
   "outputs": [],
   "source": [
    "def f(x): return x ** 2.0\n",
    "SRGP = {k: f(v) for k, v in SGP.items()}\n",
    "SRGP"
   ]
  },
  {
   "cell_type": "markdown",
   "metadata": {},
   "source": [
    "or use leverage"
   ]
  },
  {
   "cell_type": "code",
   "execution_count": 5,
   "metadata": {},
   "outputs": [],
   "source": [
    "def joint(A, B, sep=''):\n",
    "    \"\"\"The joint distribution of two independent probability distributions. \n",
    "    Result is all entries of the form {a+sep+b: P(a)*P(b)}\"\"\"\n",
    "    return ProbDist({a + sep + b: A[a] * B[b]\n",
    "                    for a in A\n",
    "                    for b in B})\n",
    "SRGP = joint(SGP, SGP, ' ')"
   ]
  },
  {
   "cell_type": "code",
   "execution_count": 6,
   "metadata": {},
   "outputs": [
    {
     "name": "stdout",
     "output_type": "stream",
     "text": [
      "('SP SP', 0.000590444580312691)\n",
      "('AG AG', 4.279849768538737e-05)\n",
      "('LS LS', 9.629661979212154e-05)\n",
      "('PG PG', 0.001970696130666433)\n",
      "('DR DR', 0.0006367368329111712)\n",
      "('SV SV', 0.012577517687134243)\n",
      "('MV MV', 0.016875709668966718)\n",
      "('LN LN', 0.0005242815966459952)\n",
      "('KR KR', 0.000403747052144292)\n",
      "('VB VB', 0.023206393571490954)\n",
      "('CS CS', 0.0020124028299414788)\n",
      "('CL CL', 0.015218796401432434)\n",
      "('RG RG', 1.3975019652371384e-05)\n",
      "('NH NH', 0.0002989344047515066)\n",
      "('DK DK', 0.0002989344047515066)\n",
      "('AA AA', 0.0018481963490261156)\n",
      "('LH LH', 0.037245392610708354)\n",
      "('KM KM', 8.734387282732114e-05)\n",
      "('RK RK', 2.1835968206830287e-07)\n",
      "('GR GR', 0.0)\n"
     ]
    },
    {
     "data": {
      "text/plain": [
       "0.11394881649052317"
      ]
     },
     "execution_count": 6,
     "metadata": {},
     "output_type": "execute_result"
    }
   ],
   "source": [
    "winners = SRGP.keys()\n",
    "probs = SRGP.values()\n",
    "\n",
    "#check the first winner is the same as the second one\n",
    "double_winners = {x for x in winners if x[0] == x[3] and x[1] == x[4]}\n",
    "probs = [SRGP[k] for k in double_winners]\n",
    "double_winners_probs = list(zip(double_winners, probs))\n",
    "print('\\n'.join([str(outcome) for outcome in double_winners_probs]))\n",
    "sum(probs)"
   ]
  },
  {
   "cell_type": "markdown",
   "metadata": {},
   "source": [
    "## 1.1.3 Probability for Mercedes to win both races"
   ]
  },
  {
   "cell_type": "markdown",
   "metadata": {},
   "source": [
    "meet the Mercedes drivers"
   ]
  },
  {
   "cell_type": "code",
   "execution_count": 7,
   "metadata": {},
   "outputs": [],
   "source": [
    "Mercedes = ['LH','VB']"
   ]
  },
  {
   "cell_type": "markdown",
   "metadata": {},
   "source": [
    "write a function to check the keys if they meet the situation: Mercedes wins both races"
   ]
  },
  {
   "cell_type": "code",
   "execution_count": 8,
   "metadata": {},
   "outputs": [],
   "source": [
    "def are_both_Mercedes(keys):\n",
    "    count = 0;\n",
    "    for p in Mercedes:\n",
    "        count += keys.count(p)\n",
    "    if count == 2 : return True\n",
    "    else: return False;"
   ]
  },
  {
   "cell_type": "markdown",
   "metadata": {},
   "source": [
    "get the keys via the function"
   ]
  },
  {
   "cell_type": "code",
   "execution_count": 9,
   "metadata": {},
   "outputs": [
    {
     "data": {
      "text/plain": [
       "{'LH LH', 'LH VB', 'VB LH', 'VB VB'}"
      ]
     },
     "execution_count": 9,
     "metadata": {},
     "output_type": "execute_result"
    }
   ],
   "source": [
    "winners = SRGP.keys()\n",
    "probs = SRGP.values()\n",
    "Mercedes_win_both = {x for x in winners if are_both_Mercedes(x)}\n",
    "Mercedes_win_both"
   ]
  },
  {
   "cell_type": "markdown",
   "metadata": {},
   "source": [
    "get the values(probabilities) and sum them"
   ]
  },
  {
   "cell_type": "code",
   "execution_count": 10,
   "metadata": {},
   "outputs": [
    {
     "name": "stdout",
     "output_type": "stream",
     "text": [
      "Probability for Mercedes to win both races: 0.11925080793082363\n"
     ]
    }
   ],
   "source": [
    "Mercedes_probs_both = [SRGP[k] for k in Mercedes_win_both]\n",
    "Mercedes_wins_both_prob = sum(Mercedes_probs_both)\n",
    "print('Probability for Mercedes to win both races: ' + str(Mercedes_wins_both_prob))"
   ]
  },
  {
   "cell_type": "markdown",
   "metadata": {},
   "source": [
    "4 Probability for Mercedes to win at least one race"
   ]
  },
  {
   "cell_type": "markdown",
   "metadata": {},
   "source": [
    "write a function to check the keys meets the situation: Mercedes winx both races"
   ]
  },
  {
   "cell_type": "code",
   "execution_count": 11,
   "metadata": {},
   "outputs": [],
   "source": [
    "def at_least_one_Mercedes(keys):\n",
    "    flag = False;\n",
    "    for p in Mercedes:\n",
    "        if keys.count(p) > 0 : flag = True\n",
    "    return flag;"
   ]
  },
  {
   "cell_type": "markdown",
   "metadata": {},
   "source": [
    "get the keys via the function"
   ]
  },
  {
   "cell_type": "code",
   "execution_count": 12,
   "metadata": {},
   "outputs": [
    {
     "data": {
      "text/plain": [
       "76"
      ]
     },
     "execution_count": 12,
     "metadata": {},
     "output_type": "execute_result"
    }
   ],
   "source": [
    "Mercedes_wins_at_least_one = {x for x in winners if at_least_one_Mercedes(x)}\n",
    "len(Mercedes_wins_at_least_one)"
   ]
  },
  {
   "cell_type": "markdown",
   "metadata": {},
   "source": [
    "get the values(probabilities) and sum them"
   ]
  },
  {
   "cell_type": "code",
   "execution_count": 13,
   "metadata": {},
   "outputs": [
    {
     "name": "stdout",
     "output_type": "stream",
     "text": [
      "Probability for Mercedes to win at least one race: 0.5714033976766527\n"
     ]
    }
   ],
   "source": [
    "Mercedes_probs_at_least_one = [SRGP[k] for k in Mercedes_wins_at_least_one]\n",
    "Mercedes_wins_at_least_one_prob = sum(Mercedes_probs_at_least_one)\n",
    "print('Probability for Mercedes to win at least one race: ' + str(Mercedes_wins_at_least_one_prob))"
   ]
  },
  {
   "cell_type": "markdown",
   "metadata": {},
   "source": [
    "# Question1.2"
   ]
  },
  {
   "cell_type": "markdown",
   "metadata": {},
   "source": [
    "If Mercedes wins the first race, what is the probability that Mercedes wins the next one? \n",
    "\n",
    "If Mercedes wins at least one of these two races, what is the probability Mercedes wins both races? \n",
    "\n",
    "How about Ferrari, Red Bull, and Renault?"
   ]
  },
  {
   "cell_type": "markdown",
   "metadata": {},
   "source": [
    "## 1.2.1 If Mercedes wins the first race, the probability that Mercedes wins the next one"
   ]
  },
  {
   "cell_type": "markdown",
   "metadata": {},
   "source": [
    "Because their are many teams, I change these functions that can take the space of each team"
   ]
  },
  {
   "cell_type": "code",
   "execution_count": 14,
   "metadata": {},
   "outputs": [],
   "source": [
    "# the team wins the first race\n",
    "def wins_first(keys,space):\n",
    "    flag = False;\n",
    "    for p in space:\n",
    "        if keys[0]+keys[1] == p : flag = True\n",
    "    return flag;\n",
    "# the team wins the next race\n",
    "def wins_next(keys,space):\n",
    "    flag = False;\n",
    "    for p in space:\n",
    "        if keys[3]+keys[4] == p : flag = True\n",
    "    return flag;\n",
    "# the team wins at least one of the races\n",
    "def at_least_one(keys,space):\n",
    "    flag = False;\n",
    "    for p in space:\n",
    "        if keys.count(p) > 0 : flag = True\n",
    "    return flag;\n",
    "# the team wins both of the races\n",
    "def wins_both(keys,space):\n",
    "    count = 0;\n",
    "    for p in space:\n",
    "        count += keys.count(p)\n",
    "    if count == 2 : return True\n",
    "    else: return False;"
   ]
  },
  {
   "cell_type": "markdown",
   "metadata": {},
   "source": [
    "the getSpace function can rebuild the SRGP dict to the situation we need "
   ]
  },
  {
   "cell_type": "code",
   "execution_count": 15,
   "metadata": {},
   "outputs": [],
   "source": [
    "#Get new sample space based on condition\n",
    "def getSpace(f,space):\n",
    "    new_dict = {}\n",
    "    denominator = 0;\n",
    "    for x in SRGP:\n",
    "        if(f(x,space)):\n",
    "            #update keys\n",
    "            new_dict.update({x : SRGP[x]})\n",
    "            denominator += SRGP[x]\n",
    "    #change value based the sample space\n",
    "    for i in new_dict:\n",
    "        new_dict[i] = new_dict[i]/denominator\n",
    "    return new_dict"
   ]
  },
  {
   "cell_type": "markdown",
   "metadata": {},
   "source": [
    "now we set the situation of Mercedes wins the first race "
   ]
  },
  {
   "cell_type": "code",
   "execution_count": 16,
   "metadata": {},
   "outputs": [
    {
     "data": {
      "text/plain": [
       "40"
      ]
     },
     "execution_count": 16,
     "metadata": {},
     "output_type": "execute_result"
    }
   ],
   "source": [
    "#MX is the sample space of Mercedes wins first race \n",
    "MX = getSpace(wins_first,Mercedes)\n",
    "len(MX)"
   ]
  },
  {
   "cell_type": "markdown",
   "metadata": {},
   "source": [
    "the size of space matchs, there should be 2*20 kinds of results(Mercedes wins the first one, anyone wins the next one)"
   ]
  },
  {
   "cell_type": "markdown",
   "metadata": {},
   "source": [
    "Then contiune computing the sum of the probabilities in the MX space which belongs to the situation that Mercedes wins the next one"
   ]
  },
  {
   "cell_type": "code",
   "execution_count": 17,
   "metadata": {},
   "outputs": [
    {
     "name": "stdout",
     "output_type": "stream",
     "text": [
      "If Mercedes wins the first race, the probability that Mercedes wins the next one: \n",
      "0.34532710280373835\n"
     ]
    }
   ],
   "source": [
    "winners = MX.keys()\n",
    "probs = MX.values()\n",
    "Mercedes_wins_next_if_MX = {x for x in winners if wins_next(x,Mercedes)}\n",
    "Mercedes_probs_wins_next_if_MX = [MX[k] for k in Mercedes_wins_next_if_MX if wins_next(k,Mercedes)]\n",
    "Mercedes_wins_both_if_MX_prob = sum(Mercedes_probs_wins_next_if_MX)\n",
    "print('If Mercedes wins the first race, the probability that Mercedes wins the next one: \\n' +\n",
    "      str(Mercedes_wins_both_if_MX_prob))"
   ]
  },
  {
   "cell_type": "markdown",
   "metadata": {},
   "source": [
    "So if Mercedes wins the first race, the probability that Mercedes wins the next one is up to 34%"
   ]
  },
  {
   "cell_type": "markdown",
   "metadata": {},
   "source": [
    "## Verification of 1.2.1"
   ]
  },
  {
   "cell_type": "markdown",
   "metadata": {},
   "source": [
    "To verify the result above is correct, we need to get all the probabilities that any one wins the next race if Mercedes wins the first race, and add them all together to see if it equals 1"
   ]
  },
  {
   "cell_type": "code",
   "execution_count": 18,
   "metadata": {},
   "outputs": [],
   "source": [
    "Mercedes = ['LH','VB']\n",
    "Ferrari = ['CL','SV']\n",
    "RedBull = ['MV','AA']\n",
    "Renault = ['DR','NH']\n",
    "McLaren = ['CS','LN']\n",
    "AlfaRomeo = ['KR','AG']\n",
    "Scuderia = ['PG','DK']\n",
    "RacingPoint = ['SP','LS']\n",
    "HAAS = ['KM','RG']\n",
    "WILLIAMS = ['RK','GR']"
   ]
  },
  {
   "cell_type": "markdown",
   "metadata": {},
   "source": [
    "I write a fucntion to make the verification efficient"
   ]
  },
  {
   "cell_type": "code",
   "execution_count": 19,
   "metadata": {},
   "outputs": [],
   "source": [
    "def autoGenerate(condition,result,condition_space,result_space):\n",
    "    new_space = getSpace(condition,condition_space)\n",
    "    winners = new_space.keys()\n",
    "    probs = new_space.values()\n",
    "    result_winners = {x for x in winners if result(x,result_space)}\n",
    "    result_probs = [new_space[k] for k in result_winners if result(k,result_space)]\n",
    "    result_sum_prob = sum(result_probs)\n",
    "    return result_sum_prob;"
   ]
  },
  {
   "cell_type": "code",
   "execution_count": 20,
   "metadata": {},
   "outputs": [
    {
     "name": "stdout",
     "output_type": "stream",
     "text": [
      "Mercedes_prob: 0.34532710280373835\n",
      "Ferrari_prob: 0.23551401869158883\n",
      "RedBull_prob: 0.1728971962616823\n",
      "Renault_prob: 0.04252336448598132\n",
      "McLaren_prob: 0.0677570093457944\n",
      "AlfaRomeo_prob: 0.026635514018691596\n",
      "Scuderia_prob: 0.06168224299065421\n",
      "RacingPoint_prob: 0.03411214953271029\n",
      "HAAS_prob: 0.013084112149532713\n",
      "WILLIAMS_prob: 0.0004672897196261683\n",
      "Add them all and get: 1.0000000000000002\n"
     ]
    }
   ],
   "source": [
    "#Mercedes\n",
    "#don't forget this one\n",
    "Mercedes_prob = Mercedes_wins_both_if_MX_prob\n",
    "print('Mercedes_prob: ' + str(Mercedes_prob))\n",
    "#Ferrari\n",
    "Ferrari_prob = autoGenerate(wins_first,wins_next,Mercedes,Ferrari)\n",
    "print('Ferrari_prob: ' + str(Ferrari_prob))\n",
    "#RedBull\n",
    "RedBull_prob = autoGenerate(wins_first,wins_next,Mercedes,RedBull)\n",
    "print('RedBull_prob: ' + str(RedBull_prob))\n",
    "#Renault \n",
    "Renault_prob = autoGenerate(wins_first,wins_next,Mercedes,Renault)\n",
    "print('Renault_prob: ' + str(Renault_prob))\n",
    "#McLaren\n",
    "McLaren_prob = autoGenerate(wins_first,wins_next,Mercedes,McLaren)\n",
    "print('McLaren_prob: ' + str(McLaren_prob))\n",
    "#AlfaRomeo\n",
    "AlfaRomeo_prob = autoGenerate(wins_first,wins_next,Mercedes,AlfaRomeo)\n",
    "print('AlfaRomeo_prob: ' + str(AlfaRomeo_prob))\n",
    "#Scuderia\n",
    "Scuderia_prob = autoGenerate(wins_first,wins_next,Mercedes,Scuderia)\n",
    "print('Scuderia_prob: ' + str(Scuderia_prob))\n",
    "#RacingPoint\n",
    "RacingPoint_prob = autoGenerate(wins_first,wins_next,Mercedes,RacingPoint)\n",
    "print('RacingPoint_prob: ' + str(RacingPoint_prob))\n",
    "#HAAS\n",
    "HAAS_prob = autoGenerate(wins_first,wins_next,Mercedes,HAAS)\n",
    "print('HAAS_prob: ' + str(HAAS_prob))\n",
    "#WILLIAMS\n",
    "WILLIAMS_prob = autoGenerate(wins_first,wins_next,Mercedes,WILLIAMS)\n",
    "print('WILLIAMS_prob: ' + str(WILLIAMS_prob))\n",
    "\n",
    "#SUM\n",
    "allProbs = [Mercedes_prob,\n",
    "            Ferrari_prob,\n",
    "            RedBull_prob,\n",
    "            Renault_prob,\n",
    "            McLaren_prob,\n",
    "            AlfaRomeo_prob,\n",
    "            Scuderia_prob,\n",
    "            RacingPoint_prob,\n",
    "            HAAS_prob,\n",
    "            WILLIAMS_prob]\n",
    "sumProb = sum(allProbs)\n",
    "print(\"Add them all and get: \" + str(sumProb))\n"
   ]
  },
  {
   "cell_type": "markdown",
   "metadata": {},
   "source": [
    "if the sum value is (almost) 1, then the function works in the correct way"
   ]
  },
  {
   "cell_type": "markdown",
   "metadata": {},
   "source": [
    "## 1.2.2 If Mercedes wins at least one of these two races, the probability Mercedes wins both races"
   ]
  },
  {
   "cell_type": "markdown",
   "metadata": {},
   "source": [
    "we set the situation of Mercedes wins the first race"
   ]
  },
  {
   "cell_type": "code",
   "execution_count": 21,
   "metadata": {},
   "outputs": [
    {
     "data": {
      "text/plain": [
       "76"
      ]
     },
     "execution_count": 21,
     "metadata": {},
     "output_type": "execute_result"
    }
   ],
   "source": [
    "#M1 is the sample space of Mercedes wins at least one of these two races\n",
    "M1 = getSpace(at_least_one,Mercedes)\n",
    "len(M1)"
   ]
  },
  {
   "cell_type": "markdown",
   "metadata": {},
   "source": [
    "the size of space matchs, there should be \n",
    "\n",
    "2*18 (Mercedes wins the first one, one of the rest wins the next one) +\n",
    "\n",
    "18*2 (Mercedes wins the next one, one of the rest wins the first one) +\n",
    "\n",
    "2*2（Mercedes wins the both）\n",
    "\n",
    "which is 76 kinds of results "
   ]
  },
  {
   "cell_type": "code",
   "execution_count": 22,
   "metadata": {},
   "outputs": [
    {
     "name": "stdout",
     "output_type": "stream",
     "text": [
      "If Mercedes wins at least one of these two races, the probability Mercedes wins both races \n",
      "0.20869810787913018\n"
     ]
    }
   ],
   "source": [
    "winners = M1.keys()\n",
    "probs = M1.values()\n",
    "Mercedes_wins_both_if_M1 = {x for x in winners if wins_both(x,Mercedes)}\n",
    "Mercedes_probs_wins_both_if_M1 = [M1[k] for k in Mercedes_wins_both_if_M1 if wins_both(k,Mercedes)]\n",
    "Mercedes_wins_both_if_M1_prob = sum(Mercedes_probs_wins_both_if_M1)\n",
    "print('If Mercedes wins at least one of these two races, the probability Mercedes wins both races \\n' +\n",
    "      str(Mercedes_wins_both_if_M1_prob))"
   ]
  },
  {
   "cell_type": "markdown",
   "metadata": {},
   "source": [
    "## Verification of 1.2.2"
   ]
  },
  {
   "cell_type": "markdown",
   "metadata": {},
   "source": [
    "To verify the result above is correct, we need to get all the probabilities that any one wins the other race if Mercedes wins one races, and add them all together to see if it equals 1"
   ]
  },
  {
   "cell_type": "markdown",
   "metadata": {},
   "source": [
    "With the last verification's functions, the results are directly"
   ]
  },
  {
   "cell_type": "code",
   "execution_count": 23,
   "metadata": {},
   "outputs": [
    {
     "name": "stdout",
     "output_type": "stream",
     "text": [
      "Mercedes_prob: 0.20869810787913018\n",
      "Ferrari_prob: 0.2846653487715334\n",
      "RedBull_prob: 0.20898051397910197\n",
      "Renault_prob: 0.0513979101948602\n",
      "McLaren_prob: 0.08189776899181021\n",
      "AlfaRomeo_prob: 0.03219429539678057\n",
      "Scuderia_prob: 0.07455521039254448\n",
      "RacingPoint_prob: 0.041231290595876866\n",
      "HAAS_prob: 0.015814741598418523\n",
      "WILLIAMS_prob: 0.0005648121999435188\n",
      "Add them all and get: 0.9999999999999998\n"
     ]
    }
   ],
   "source": [
    "#Mercedes\n",
    "#don't forget this one\n",
    "Mercedes_prob = Mercedes_wins_both_if_M1_prob\n",
    "print('Mercedes_prob: ' + str(Mercedes_prob))\n",
    "#Ferrari\n",
    "Ferrari_prob = autoGenerate(at_least_one,at_least_one,Mercedes,Ferrari)\n",
    "print('Ferrari_prob: ' + str(Ferrari_prob))\n",
    "#RedBull\n",
    "RedBull_prob = autoGenerate(at_least_one,at_least_one,Mercedes,RedBull)\n",
    "print('RedBull_prob: ' + str(RedBull_prob))\n",
    "#Renault \n",
    "Renault_prob = autoGenerate(at_least_one,at_least_one,Mercedes,Renault)\n",
    "print('Renault_prob: ' + str(Renault_prob))\n",
    "#McLaren\n",
    "McLaren_prob = autoGenerate(at_least_one,at_least_one,Mercedes,McLaren)\n",
    "print('McLaren_prob: ' + str(McLaren_prob))\n",
    "#AlfaRomeo\n",
    "AlfaRomeo_prob = autoGenerate(at_least_one,at_least_one,Mercedes,AlfaRomeo)\n",
    "print('AlfaRomeo_prob: ' + str(AlfaRomeo_prob))\n",
    "#Scuderia\n",
    "Scuderia_prob = autoGenerate(at_least_one,at_least_one,Mercedes,Scuderia)\n",
    "print('Scuderia_prob: ' + str(Scuderia_prob))\n",
    "#RacingPoint\n",
    "RacingPoint_prob = autoGenerate(at_least_one,at_least_one,Mercedes,RacingPoint)\n",
    "print('RacingPoint_prob: ' + str(RacingPoint_prob))\n",
    "#HAAS\n",
    "HAAS_prob = autoGenerate(at_least_one,at_least_one,Mercedes,HAAS)\n",
    "print('HAAS_prob: ' + str(HAAS_prob))\n",
    "#WILLIAMS\n",
    "WILLIAMS_prob = autoGenerate(at_least_one,at_least_one,Mercedes,WILLIAMS)\n",
    "print('WILLIAMS_prob: ' + str(WILLIAMS_prob))\n",
    "\n",
    "#SUM\n",
    "allProbs = [Mercedes_prob,\n",
    "            Ferrari_prob,\n",
    "            RedBull_prob,\n",
    "            Renault_prob,\n",
    "            McLaren_prob,\n",
    "            AlfaRomeo_prob,\n",
    "            Scuderia_prob,\n",
    "            RacingPoint_prob,\n",
    "            HAAS_prob,\n",
    "            WILLIAMS_prob]\n",
    "sumProb = sum(allProbs)\n",
    "print(\"Add them all and get: \" + str(sumProb))"
   ]
  },
  {
   "cell_type": "markdown",
   "metadata": {},
   "source": [
    "if the sum value is (almost) 1, then the function works in the correct way"
   ]
  },
  {
   "cell_type": "markdown",
   "metadata": {},
   "source": [
    "## 1.2.3 Other teams"
   ]
  },
  {
   "cell_type": "markdown",
   "metadata": {},
   "source": [
    "Since the scope of teams is not the same in BlackBoard and notebook, I take all the teams that mentioned"
   ]
  },
  {
   "cell_type": "code",
   "execution_count": 24,
   "metadata": {},
   "outputs": [],
   "source": [
    "Ferrari = ['CL','SV']\n",
    "RedBull = ['MV','AA']\n",
    "Renault = ['DR','NH']\n",
    "McLaren = ['CS','LN']\n",
    "AlfaRomeo = ['KR','AG']"
   ]
  },
  {
   "cell_type": "markdown",
   "metadata": {},
   "source": [
    "I wrote this function after I finished all the part, and I tried it in the Ferrari part, the endless variable names makes me crazy :( "
   ]
  },
  {
   "cell_type": "code",
   "execution_count": 25,
   "metadata": {},
   "outputs": [],
   "source": [
    "def autoGenerate(condition,result,condition_space,result_space):\n",
    "    new_space = getSpace(condition,condition_space)\n",
    "    winners = new_space.keys()\n",
    "    probs = new_space.values()\n",
    "    result_winners = {x for x in winners if result(x,result_space)}\n",
    "    result_probs = [new_space[k] for k in result_winners if result(k,result_space)]\n",
    "    result_sum_prob = sum(result_probs)\n",
    "    return result_sum_prob;"
   ]
  },
  {
   "cell_type": "markdown",
   "metadata": {},
   "source": [
    "## Ferrari:\n",
    "\n",
    "1 If Ferrari wins the first race, the probability that Ferrari wins the next one: "
   ]
  },
  {
   "cell_type": "code",
   "execution_count": 26,
   "metadata": {},
   "outputs": [
    {
     "data": {
      "text/plain": [
       "40"
      ]
     },
     "execution_count": 26,
     "metadata": {},
     "output_type": "execute_result"
    }
   ],
   "source": [
    "#FX is the sample space of Ferrari wins first race \n",
    "FX = getSpace(wins_first,Ferrari)\n",
    "len(FX)"
   ]
  },
  {
   "cell_type": "code",
   "execution_count": 27,
   "metadata": {},
   "outputs": [
    {
     "name": "stdout",
     "output_type": "stream",
     "text": [
      "If Ferrari wins the first race, the probability that Ferrari wins the next one: \n",
      "0.23551401869158872\n"
     ]
    }
   ],
   "source": [
    "winners = FX.keys()\n",
    "probs = FX.values()\n",
    "Ferrari_wins_next_if_FX = {x for x in winners if wins_next(x,Ferrari)}\n",
    "Ferrari_probs_wins_next_if_FX = [FX[k] for k in Ferrari_wins_next_if_FX if wins_next(k,Ferrari)]\n",
    "Ferrari_wins_both_if_FX_prob = sum(Ferrari_probs_wins_next_if_FX)\n",
    "print('If Ferrari wins the first race, the probability that Ferrari wins the next one: \\n' +\n",
    "      str(Ferrari_wins_both_if_FX_prob))"
   ]
  },
  {
   "cell_type": "markdown",
   "metadata": {},
   "source": [
    "auto generater test:\n",
    "\n",
    "    condtion:wins_first\n",
    "    \n",
    "    result:wins_next\n",
    "    \n",
    "    space:Ferrari"
   ]
  },
  {
   "cell_type": "code",
   "execution_count": 28,
   "metadata": {},
   "outputs": [
    {
     "name": "stdout",
     "output_type": "stream",
     "text": [
      "0.23551401869158872\n"
     ]
    }
   ],
   "source": [
    "print(autoGenerate(wins_first,wins_next,Ferrari,Ferrari))"
   ]
  },
  {
   "cell_type": "markdown",
   "metadata": {},
   "source": [
    "2 If Ferrari wins at least one of these two races, the probability Ferrari wins both races"
   ]
  },
  {
   "cell_type": "code",
   "execution_count": 29,
   "metadata": {},
   "outputs": [
    {
     "data": {
      "text/plain": [
       "76"
      ]
     },
     "execution_count": 29,
     "metadata": {},
     "output_type": "execute_result"
    }
   ],
   "source": [
    "#F1 is the sample space of Ferrari wins at least one of these two races\n",
    "F1 = getSpace(at_least_one,Ferrari)\n",
    "len(F1)"
   ]
  },
  {
   "cell_type": "code",
   "execution_count": 30,
   "metadata": {},
   "outputs": [
    {
     "name": "stdout",
     "output_type": "stream",
     "text": [
      "If Ferrari wins at least one of these two races, the probability Ferrari wins both races \n",
      "0.1334745762711864\n"
     ]
    }
   ],
   "source": [
    "winners = F1.keys()\n",
    "probs = F1.values()\n",
    "Ferrari_wins_both_if_F1 = {x for x in winners if wins_both(x,Ferrari)}\n",
    "Ferrari_probs_wins_both_if_F1 = [F1[k] for k in Ferrari_wins_both_if_F1 if wins_both(k,Ferrari)]\n",
    "Ferrari_wins_both_if_F1_prob = sum(Ferrari_probs_wins_both_if_F1)\n",
    "print('If Ferrari wins at least one of these two races, the probability Ferrari wins both races \\n' +\n",
    "      str(Ferrari_wins_both_if_F1_prob))"
   ]
  },
  {
   "cell_type": "markdown",
   "metadata": {},
   "source": [
    "## RedBull\n",
    "\n",
    "1 If RedBull wins the first race, the probability that RedBull wins the next one:"
   ]
  },
  {
   "cell_type": "code",
   "execution_count": 31,
   "metadata": {},
   "outputs": [
    {
     "data": {
      "text/plain": [
       "40"
      ]
     },
     "execution_count": 31,
     "metadata": {},
     "output_type": "execute_result"
    }
   ],
   "source": [
    "#RbX is the sample space of RedBull wins first race \n",
    "RbX = getSpace(wins_first,RedBull)\n",
    "len(RbX)"
   ]
  },
  {
   "cell_type": "code",
   "execution_count": 32,
   "metadata": {},
   "outputs": [
    {
     "name": "stdout",
     "output_type": "stream",
     "text": [
      "If RedBull wins the first race, the probability that RedBull wins the next one: \n",
      "0.17289719626168232\n"
     ]
    }
   ],
   "source": [
    "winners = RbX.keys()\n",
    "probs = RbX.values()\n",
    "RedBull_wins_next_if_RbX = {x for x in winners if wins_next(x,RedBull)}\n",
    "RedBull_probs_wins_next_if_RbX = [RbX[k] for k in RedBull_wins_next_if_RbX if wins_next(k,RedBull)]\n",
    "RedBull_wins_both_if_RbX_prob = sum(RedBull_probs_wins_next_if_RbX)\n",
    "print('If RedBull wins the first race, the probability that RedBull wins the next one: \\n' +\n",
    "      str(RedBull_wins_both_if_RbX_prob))"
   ]
  },
  {
   "cell_type": "markdown",
   "metadata": {},
   "source": [
    "2 If RedBull wins at least one of these two races, the probability RedBull wins both races"
   ]
  },
  {
   "cell_type": "code",
   "execution_count": 33,
   "metadata": {},
   "outputs": [
    {
     "data": {
      "text/plain": [
       "76"
      ]
     },
     "execution_count": 33,
     "metadata": {},
     "output_type": "execute_result"
    }
   ],
   "source": [
    "#Rb1 is the sample space of RedBull wins at least one of these two races\n",
    "Rb1 = getSpace(at_least_one,RedBull)\n",
    "len(Rb1)"
   ]
  },
  {
   "cell_type": "code",
   "execution_count": 34,
   "metadata": {},
   "outputs": [
    {
     "name": "stdout",
     "output_type": "stream",
     "text": [
      "If RedBull wins at least one of these two races, the probability RedBull wins both races \n",
      "0.09462915601023018\n"
     ]
    }
   ],
   "source": [
    "winners = Rb1.keys()\n",
    "probs = Rb1.values()\n",
    "RedBull_wins_both_if_Rb1 = {x for x in winners if wins_both(x,RedBull)}\n",
    "RedBull_probs_wins_both_if_Rb1 = [Rb1[k] for k in RedBull_wins_both_if_Rb1 if wins_both(k,RedBull)]\n",
    "RedBull_wins_both_if_Rb1_prob = sum(RedBull_probs_wins_both_if_Rb1)\n",
    "print('If RedBull wins at least one of these two races, the probability RedBull wins both races \\n' +\n",
    "      str(RedBull_wins_both_if_Rb1_prob))"
   ]
  },
  {
   "cell_type": "markdown",
   "metadata": {},
   "source": [
    "## Renault\n",
    "\n",
    "1 If Renault wins the first race, the probability that Renault wins the next one:"
   ]
  },
  {
   "cell_type": "code",
   "execution_count": 35,
   "metadata": {},
   "outputs": [
    {
     "data": {
      "text/plain": [
       "40"
      ]
     },
     "execution_count": 35,
     "metadata": {},
     "output_type": "execute_result"
    }
   ],
   "source": [
    "#RX is the sample space of Renault wins first race \n",
    "RX = getSpace(wins_first,Renault)\n",
    "len(RX)"
   ]
  },
  {
   "cell_type": "code",
   "execution_count": 36,
   "metadata": {},
   "outputs": [
    {
     "name": "stdout",
     "output_type": "stream",
     "text": [
      "If Renault wins the first race, the probability that Renault wins the next one: \n",
      "0.04252336448598132\n"
     ]
    }
   ],
   "source": [
    "winners = RX.keys()\n",
    "probs = RX.values()\n",
    "Renault_wins_next_if_RX = {x for x in winners if wins_next(x,Renault)}\n",
    "Renault_probs_wins_next_if_RX = [RX[k] for k in Renault_wins_next_if_RX if wins_next(k,Renault)]\n",
    "Renault_wins_both_if_RX_prob = sum(Renault_probs_wins_next_if_RX)\n",
    "print('If Renault wins the first race, the probability that Renault wins the next one: \\n' +\n",
    "      str(Renault_wins_both_if_RX_prob))"
   ]
  },
  {
   "cell_type": "markdown",
   "metadata": {},
   "source": [
    "2 If Renault wins at least one of these two races, the probability Renault wins both races"
   ]
  },
  {
   "cell_type": "code",
   "execution_count": 37,
   "metadata": {},
   "outputs": [
    {
     "data": {
      "text/plain": [
       "76"
      ]
     },
     "execution_count": 37,
     "metadata": {},
     "output_type": "execute_result"
    }
   ],
   "source": [
    "#R1 is the sample space of Renault wins at least one of these two races\n",
    "R1 = getSpace(at_least_one,Renault )\n",
    "len(R1)"
   ]
  },
  {
   "cell_type": "code",
   "execution_count": 38,
   "metadata": {},
   "outputs": [
    {
     "name": "stdout",
     "output_type": "stream",
     "text": [
      "If Renault wins at least one of these two races, the probability Renault wins both races \n",
      "0.021723561709238483\n"
     ]
    }
   ],
   "source": [
    "winners = R1.keys()\n",
    "probs = R1.values()\n",
    "Renault_wins_both_if_R1 = {x for x in winners if wins_both(x,Renault)}\n",
    "Renault_probs_wins_both_if_R1 = [R1[k] for k in Renault_wins_both_if_R1 if wins_both(k,Renault)]\n",
    "Renault_wins_both_if_R1_prob = sum(Renault_probs_wins_both_if_R1)\n",
    "print('If Renault wins at least one of these two races, the probability Renault wins both races \\n' +\n",
    "      str(Renault_wins_both_if_R1_prob))"
   ]
  },
  {
   "cell_type": "markdown",
   "metadata": {},
   "source": [
    "## McLaren\n",
    "\n",
    "1 If McLaren wins the first race, the probability that McLaren wins the next one:"
   ]
  },
  {
   "cell_type": "code",
   "execution_count": 39,
   "metadata": {},
   "outputs": [
    {
     "data": {
      "text/plain": [
       "40"
      ]
     },
     "execution_count": 39,
     "metadata": {},
     "output_type": "execute_result"
    }
   ],
   "source": [
    "#McX is the sample space of Renault wins first race \n",
    "McX = getSpace(wins_first,McLaren)\n",
    "len(McX)"
   ]
  },
  {
   "cell_type": "code",
   "execution_count": 40,
   "metadata": {},
   "outputs": [
    {
     "name": "stdout",
     "output_type": "stream",
     "text": [
      "If McLaren wins the first race, the probability that McLaren wins the next one: \n",
      "0.06775700934579439\n"
     ]
    }
   ],
   "source": [
    "winners = McX.keys()\n",
    "probs = McX.values()\n",
    "McLaren_wins_next_if_McX = {x for x in winners if wins_next(x,McLaren)}\n",
    "McLaren_probs_wins_next_if_McX = [McX[k] for k in McLaren_wins_next_if_McX if wins_next(k,McLaren)]\n",
    "McLaren_wins_both_if_McX_prob = sum(McLaren_probs_wins_next_if_McX)\n",
    "print('If McLaren wins the first race, the probability that McLaren wins the next one: \\n' +\n",
    "      str(McLaren_wins_both_if_McX_prob))"
   ]
  },
  {
   "cell_type": "markdown",
   "metadata": {},
   "source": [
    "2 If McLaren wins at least one of these two races, the probability McLaren wins both races"
   ]
  },
  {
   "cell_type": "code",
   "execution_count": 41,
   "metadata": {},
   "outputs": [
    {
     "data": {
      "text/plain": [
       "76"
      ]
     },
     "execution_count": 41,
     "metadata": {},
     "output_type": "execute_result"
    }
   ],
   "source": [
    "#Mc1 is the sample space of McLaren wins at least one of these two races\n",
    "Mc1 = getSpace(at_least_one,McLaren)\n",
    "len(Mc1)"
   ]
  },
  {
   "cell_type": "code",
   "execution_count": 42,
   "metadata": {},
   "outputs": [
    {
     "name": "stdout",
     "output_type": "stream",
     "text": [
      "If McLaren wins at least one of these two races, the probability McLaren wins both races \n",
      "0.03506650544135429\n"
     ]
    }
   ],
   "source": [
    "winners = Mc1.keys()\n",
    "probs = Mc1.values()\n",
    "McLaren_wins_both_if_Mc1 = {x for x in winners if wins_both(x,McLaren)}\n",
    "McLaren_probs_wins_both_if_Mc1 = [Mc1[k] for k in McLaren_wins_both_if_Mc1 if wins_both(k,McLaren)]\n",
    "McLaren_wins_both_if_Mc1_prob = sum(McLaren_probs_wins_both_if_Mc1)\n",
    "print('If McLaren wins at least one of these two races, the probability McLaren wins both races \\n' +\n",
    "      str(McLaren_wins_both_if_Mc1_prob))"
   ]
  },
  {
   "cell_type": "markdown",
   "metadata": {},
   "source": [
    "## AlfaRomeo\n",
    "\n",
    "1 If AlfaRomeo wins the first race, the probability that AlfaRomeo wins the next one:"
   ]
  },
  {
   "cell_type": "code",
   "execution_count": 43,
   "metadata": {},
   "outputs": [
    {
     "data": {
      "text/plain": [
       "40"
      ]
     },
     "execution_count": 43,
     "metadata": {},
     "output_type": "execute_result"
    }
   ],
   "source": [
    "#AX is the sample space of Renault wins first race \n",
    "AX = getSpace(wins_first,AlfaRomeo)\n",
    "len(AX)"
   ]
  },
  {
   "cell_type": "code",
   "execution_count": 44,
   "metadata": {},
   "outputs": [
    {
     "name": "stdout",
     "output_type": "stream",
     "text": [
      "If AlfaRomeo wins the first race, the probability that AlfaRomeo wins the next one: \n",
      "0.026635514018691592\n"
     ]
    }
   ],
   "source": [
    "winners = AX.keys()\n",
    "probs = AX.values()\n",
    "AlfaRomeo_wins_next_if_AX = {x for x in winners if wins_next(x,AlfaRomeo)}\n",
    "AlfaRomeo_probs_wins_next_if_AX = [AX[k] for k in AlfaRomeo_wins_next_if_AX if wins_next(k,AlfaRomeo)]\n",
    "AlfaRomeo_wins_both_if_AX_prob = sum(AlfaRomeo_probs_wins_next_if_AX)\n",
    "print('If AlfaRomeo wins the first race, the probability that AlfaRomeo wins the next one: \\n' +\n",
    "      str(AlfaRomeo_wins_both_if_AX_prob))"
   ]
  },
  {
   "cell_type": "markdown",
   "metadata": {},
   "source": [
    "2 If AlfaRomeo wins at least one of these two races, the probability AlfaRomeo wins both races"
   ]
  },
  {
   "cell_type": "code",
   "execution_count": 45,
   "metadata": {},
   "outputs": [
    {
     "data": {
      "text/plain": [
       "76"
      ]
     },
     "execution_count": 45,
     "metadata": {},
     "output_type": "execute_result"
    }
   ],
   "source": [
    "#A1 is the sample space of AlfaRomeo wins at least one of these two races\n",
    "A1 = getSpace(at_least_one,AlfaRomeo)\n",
    "len(A1)"
   ]
  },
  {
   "cell_type": "code",
   "execution_count": 46,
   "metadata": {},
   "outputs": [
    {
     "name": "stdout",
     "output_type": "stream",
     "text": [
      "If AlfaRomeo wins at least one of these two races, the probability AlfaRomeo wins both races \n",
      "0.013497513615912862\n"
     ]
    }
   ],
   "source": [
    "winners = A1.keys()\n",
    "probs = A1.values()\n",
    "AlfaRomeo_wins_both_if_A1 = {x for x in winners if wins_both(x,AlfaRomeo)}\n",
    "AlfaRomeo_probs_wins_both_if_A1 = [A1[k] for k in AlfaRomeo_wins_both_if_A1 if wins_both(k,AlfaRomeo)]\n",
    "AlfaRomeo_wins_both_if_A1_prob = sum(AlfaRomeo_probs_wins_both_if_A1)\n",
    "print('If AlfaRomeo wins at least one of these two races, the probability AlfaRomeo wins both races \\n' +\n",
    "      str(AlfaRomeo_wins_both_if_A1_prob))"
   ]
  },
  {
   "cell_type": "markdown",
   "metadata": {},
   "source": [
    "# Question1.3\n",
    "\n",
    "Mercedes wins at least one of these two races on a rainy day. \n",
    "\n",
    "What is the probability Mercedes wins both races, assuming races can be held on either rainy, sunny, cloudy, snowy or foggy days?"
   ]
  },
  {
   "cell_type": "markdown",
   "metadata": {},
   "source": [
    "First, we create weather space and each type of weather has the same probability"
   ]
  },
  {
   "cell_type": "code",
   "execution_count": 47,
   "metadata": {},
   "outputs": [],
   "source": [
    "weather = ProbDist(\n",
    "    R = 1,#Rainy\n",
    "    S = 1,#Sunny\n",
    "    C = 1,#Cloudy\n",
    "    Sn = 1,#Snowy\n",
    "    F = 1 #Foggy\n",
    ")"
   ]
  },
  {
   "cell_type": "markdown",
   "metadata": {},
   "source": [
    "get joint probability of the two race"
   ]
  },
  {
   "cell_type": "code",
   "execution_count": 48,
   "metadata": {},
   "outputs": [
    {
     "data": {
      "text/plain": [
       "10000"
      ]
     },
     "execution_count": 48,
     "metadata": {},
     "output_type": "execute_result"
    }
   ],
   "source": [
    "SGP_weather = joint(SGP, weather, '')\n",
    "SRGP_weather = joint(SGP_weather , SGP_weather,' ')\n",
    "len(SRGP_weather)"
   ]
  },
  {
   "cell_type": "code",
   "execution_count": 49,
   "metadata": {},
   "outputs": [
    {
     "data": {
      "text/plain": [
       "100"
      ]
     },
     "execution_count": 49,
     "metadata": {},
     "output_type": "execute_result"
    }
   ],
   "source": [
    "len(SGP_weather)"
   ]
  },
  {
   "cell_type": "markdown",
   "metadata": {},
   "source": [
    "Then we need some new functions:"
   ]
  },
  {
   "cell_type": "code",
   "execution_count": 50,
   "metadata": {},
   "outputs": [],
   "source": [
    "#check the situation that any team win at least one of the races on a rainy day\n",
    "def at_least_one_R(keys,space):\n",
    "    flag = False;\n",
    "    for p in space:\n",
    "        if keys.count(p +'R') > 0 : flag = True\n",
    "    return flag;\n",
    "Mercedes = ['LH','VB']\n",
    "#get sample space from SRGP_weather\n",
    "def getSpaceWeather(f,space):\n",
    "    new_dict = {}\n",
    "    denominator = 0;\n",
    "    for x in SRGP_weather:\n",
    "        if(f(x,space)):\n",
    "            #update keys\n",
    "            new_dict.update({x : SRGP_weather[x]})\n",
    "            denominator += SRGP_weather[x]\n",
    "    #change value based the sample space\n",
    "    for i in new_dict:\n",
    "        new_dict[i] = new_dict[i]/denominator\n",
    "    return new_dict"
   ]
  },
  {
   "cell_type": "code",
   "execution_count": 51,
   "metadata": {},
   "outputs": [
    {
     "data": {
      "text/plain": [
       "396"
      ]
     },
     "execution_count": 51,
     "metadata": {},
     "output_type": "execute_result"
    }
   ],
   "source": [
    "#M1_R is the sample space of Mercedes wins at least one of these two races on a rainy day\n",
    "M1_R = getSpaceWeather(at_least_one_R,Mercedes)\n",
    "len(M1_R)"
   ]
  },
  {
   "cell_type": "markdown",
   "metadata": {},
   "source": [
    "And we can check the size:\n",
    "\n",
    "(2 * 1) * (18 * 5) (Mercedes wins the first race on a rainy day, the one of rest team wins the next one on any kinds day) +\n",
    "\n",
    "(18 * 5) * (2 * 1) (Mercedes wins the next race on a rainy day, the one of rest team wins the first one on any kinds day) +\n",
    "\n",
    "(2 * 1) * (2 * 4) (Mercedes wins the both races, only first race is a rainy day) +\n",
    "\n",
    "(2 * 4) * (2 * 1) (Mercedes wins the both races, only next race is a rainy day) +\n",
    "\n",
    "(2 * 1) * (2 * 1) (Mercedes wins the both races, and they are both rainy day) +\n",
    "\n",
    "which is 396 kinds results\n",
    "\n",
    "so it's correct"
   ]
  },
  {
   "cell_type": "markdown",
   "metadata": {},
   "source": [
    "And question is \"what is probability Mercedes wins both races\" in the space M1_R\n",
    "\n",
    "(It's lucky my first wins_both function won't be impact by the character order changed in the key, so I don't need to renew it.)"
   ]
  },
  {
   "cell_type": "code",
   "execution_count": 52,
   "metadata": {
    "scrolled": true
   },
   "outputs": [
    {
     "name": "stdout",
     "output_type": "stream",
     "text": [
      "If Mercedes wins at least one of these two races on a rainy day, the probability that Mercedes wins both races: \n",
      "0.3219108465224339\n"
     ]
    }
   ],
   "source": [
    "winners = M1_R.keys()\n",
    "probs = M1_R.values()\n",
    "Mercedes_wins_both_if_M1_R = {x for x in winners if wins_both(x,Mercedes)}\n",
    "Mercedes_prob_wins_both_if_M1_R = [M1_R[k] for k in Mercedes_wins_both_if_M1_R if wins_both(k,Mercedes)]\n",
    "Mercedes_wins_both_if_M1_R_prob = sum(Mercedes_prob_wins_both_if_M1_R)\n",
    "print('If Mercedes wins at least one of these two races on a rainy day, the probability that Mercedes wins both races: \\n' +\n",
    "      str(Mercedes_wins_both_if_M1_R_prob))"
   ]
  },
  {
   "cell_type": "markdown",
   "metadata": {},
   "source": [
    "32% is quite good\n",
    "\n",
    "After seeing the result, I guess the drivers of Mercedes may want to win in a rainy day :)"
   ]
  },
  {
   "cell_type": "code",
   "execution_count": null,
   "metadata": {},
   "outputs": [],
   "source": []
  }
 ],
 "metadata": {
  "kernelspec": {
   "display_name": "Python 3",
   "language": "python",
   "name": "python3"
  },
  "language_info": {
   "codemirror_mode": {
    "name": "ipython",
    "version": 3
   },
   "file_extension": ".py",
   "mimetype": "text/x-python",
   "name": "python",
   "nbconvert_exporter": "python",
   "pygments_lexer": "ipython3",
   "version": "3.7.4"
  }
 },
 "nbformat": 4,
 "nbformat_minor": 2
}
