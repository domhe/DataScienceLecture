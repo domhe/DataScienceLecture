{
 "cells": [
  {
   "cell_type": "markdown",
   "metadata": {},
   "source": [
    "# Homework Part II: Random variates from arbitrary distribution\n",
    "\n",
    "`scipy.stats.rv_histogram` produces a pdf from a histogram.\n",
    "\n",
    "\n",
    "How to submit your homework?\n",
    "\n",
    "Your homework should contain a function (or class), which takes in a numpy array \"A\", a number \"N\", and a range \"R\" as input. When given A, N, and R, it does its magic and generates random variates within that range as a numpy array, which should conform to the input histogram A.\n",
    "\n",
    "How are your TAs going to grade your homework? They are going to call your function with their own A, N, and R. They are going to obtain your output numpy array, let's call it \"O\". They are going to compute its histogram \"H\" using NumPy and are going to compute the difference between H and A. The homework with the smallest difference will get an A. The TAs will evaluate the standard deviation of your results, and grade accordingly."
   ]
  },
  {
   "cell_type": "code",
   "execution_count": 1,
   "metadata": {},
   "outputs": [],
   "source": [
    "import matplotlib.pyplot as plt\n",
    "import numpy as np\n",
    "import scipy.stats\n",
    "import random\n",
    "\n",
    "def randomDistributionGenerator(input_array,total_number,_range):\n",
    "    \n",
    "    start = _range[0]\n",
    "    end = _range[1]\n",
    "    length_bin = (end-start)/len(input_array)\n",
    "    output_list = []\n",
    "   \n",
    "    len_input_array = len(input_array)\n",
    "    \n",
    "    step_frequency = total_number/sum(input_array)\n",
    "    \n",
    "#   sample_array = np.linspace(start,end,len_input_array)\n",
    "    sample_array = random.uniform(start,end)\n",
    "    count = 0\n",
    "    for i in range (len_input_array):\n",
    "        frequency = input_array[i]*step_frequency\n",
    "        sample_value = random.uniform(start + count * length_bin,start + (count + 1) * length_bin)\n",
    "        for j in range(int(frequency)):\n",
    "            output_list.append(sample_value)\n",
    "        count+=1\n",
    "    output_array = np.array(output_list)\n",
    "    return output_array\n"
   ]
  },
  {
   "cell_type": "markdown",
   "metadata": {},
   "source": [
    "## Test Cell"
   ]
  },
  {
   "cell_type": "code",
   "execution_count": 7,
   "metadata": {},
   "outputs": [],
   "source": [
    "# array A\n",
    "A = [1,1,1,1,1,1,1,1,1,20]\n",
    "# number N\n",
    "N = 29\n",
    "# range R\n",
    "R = (-1,1)\n",
    "start = R[0]\n",
    "end = R[1]\n",
    "data = randomDistributionGenerator(A,N,R)"
   ]
  },
  {
   "cell_type": "code",
   "execution_count": 8,
   "metadata": {},
   "outputs": [
    {
     "data": {
      "text/html": [
       "<div>\n",
       "<style scoped>\n",
       "    .dataframe tbody tr th:only-of-type {\n",
       "        vertical-align: middle;\n",
       "    }\n",
       "\n",
       "    .dataframe tbody tr th {\n",
       "        vertical-align: top;\n",
       "    }\n",
       "\n",
       "    .dataframe thead th {\n",
       "        text-align: right;\n",
       "    }\n",
       "</style>\n",
       "<table border=\"1\" class=\"dataframe\">\n",
       "  <thead>\n",
       "    <tr style=\"text-align: right;\">\n",
       "      <th></th>\n",
       "      <th>Frequencies</th>\n",
       "    </tr>\n",
       "  </thead>\n",
       "  <tbody>\n",
       "    <tr>\n",
       "      <td>-0.937624</td>\n",
       "      <td>1</td>\n",
       "    </tr>\n",
       "    <tr>\n",
       "      <td>-0.655768</td>\n",
       "      <td>1</td>\n",
       "    </tr>\n",
       "    <tr>\n",
       "      <td>-0.496001</td>\n",
       "      <td>1</td>\n",
       "    </tr>\n",
       "    <tr>\n",
       "      <td>-0.383562</td>\n",
       "      <td>1</td>\n",
       "    </tr>\n",
       "    <tr>\n",
       "      <td>-0.045263</td>\n",
       "      <td>1</td>\n",
       "    </tr>\n",
       "    <tr>\n",
       "      <td>0.194324</td>\n",
       "      <td>1</td>\n",
       "    </tr>\n",
       "    <tr>\n",
       "      <td>0.345576</td>\n",
       "      <td>1</td>\n",
       "    </tr>\n",
       "    <tr>\n",
       "      <td>0.581144</td>\n",
       "      <td>1</td>\n",
       "    </tr>\n",
       "    <tr>\n",
       "      <td>0.782677</td>\n",
       "      <td>1</td>\n",
       "    </tr>\n",
       "    <tr>\n",
       "      <td>0.886034</td>\n",
       "      <td>20</td>\n",
       "    </tr>\n",
       "  </tbody>\n",
       "</table>\n",
       "</div>"
      ],
      "text/plain": [
       "           Frequencies\n",
       "-0.937624            1\n",
       "-0.655768            1\n",
       "-0.496001            1\n",
       "-0.383562            1\n",
       "-0.045263            1\n",
       " 0.194324            1\n",
       " 0.345576            1\n",
       " 0.581144            1\n",
       " 0.782677            1\n",
       " 0.886034           20"
      ]
     },
     "execution_count": 8,
     "metadata": {},
     "output_type": "execute_result"
    }
   ],
   "source": [
    "import pandas as pd\n",
    "from collections import Counter\n",
    "df = pd.DataFrame.from_dict (Counter(list(data)),orient='index')\n",
    "df.iloc[:, 0] = [x for x in df.iloc[:, 0]]\n",
    "df.rename(columns={0:'Frequencies'}, inplace = True)\n",
    "df = df.sort_index()\n",
    "df"
   ]
  },
  {
   "cell_type": "code",
   "execution_count": 12,
   "metadata": {},
   "outputs": [],
   "source": [
    "# hist = np.histogram(data, bins=len(A))\n",
    "# hist_dist = scipy.stats.rv_histogram(hist)\n",
    "# hist\n",
    "# %matplotlib inline\n",
    "# X = np.linspace(start,end, len(A))\n",
    "# plt.title(\"histogram and PDF from Template\")\n",
    "# plt.hist(data, density=True, bins=len(A))\n",
    "# plt.plot(X, hist_dist.pdf(X), label='PDF')\n",
    "# plt.show()"
   ]
  }
 ],
 "metadata": {
  "kernelspec": {
   "display_name": "Python 3",
   "language": "python",
   "name": "python3"
  },
  "language_info": {
   "codemirror_mode": {
    "name": "ipython",
    "version": 3
   },
   "file_extension": ".py",
   "mimetype": "text/x-python",
   "name": "python",
   "nbconvert_exporter": "python",
   "pygments_lexer": "ipython3",
   "version": "3.7.4"
  }
 },
 "nbformat": 4,
 "nbformat_minor": 2
}
