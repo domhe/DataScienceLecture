{
 "cells": [
  {
   "cell_type": "markdown",
   "metadata": {},
   "source": [
    "# Homework Part I\n",
    "\n",
    "1. I have a drug group and a placebo group. I want some quantitative confirmation to see if they produce the ***same*** or ***different*** outcomes: `drug-A` and `placebo-A`.\n",
    "\n",
    "2. I have a drug group and a placebo group: `drug-B` and `placebo-B`. The mean outcome is ***lower*** in the placebo group and I have a theory that may explain this, but I first need to rule out the possibility that the lower outcome is just due to chance.\n",
    "\n",
    "In each case construct (i.e. actually write down) your two hypotheses, decide from how they are worded, whether they are one-tailed or two-tailed, then use statistical tests to assess which you should accept.\n",
    "\n",
    "Hints:\n",
    "\n",
    "* Test data sets for normality (are they pretty, do they have a normal distribution?). Use the test we have not used yet, the D’Agostino & Pearson test to provide probabilities of normality (prettiness).\n",
    "\n",
    "* Test whether means differ significantly: When testing if means are different, you should use use either a two-tailed Mann-Whitney p-value, or a two-tailed T-test p-value, depending on the result of the normality test. Remember that `scipy.stats`'s `Mann-Whitney` function returns a one-tailed p-value."
   ]
  },
  {
   "cell_type": "code",
   "execution_count": 27,
   "metadata": {},
   "outputs": [],
   "source": [
    "import numpy as np\n",
    "import matplotlib.pyplot as plt\n",
    "import pandas as pd\n",
    "from scipy import stats\n",
    "import csv"
   ]
  },
  {
   "cell_type": "code",
   "execution_count": 28,
   "metadata": {},
   "outputs": [],
   "source": [
    "# Read in the records.\n",
    "drug_A = np.recfromcsv(\"data/drug-A.csv\") \n",
    "drug_B = np.recfromcsv(\"data/drug-B.csv\") \n",
    "placebo_A = np.recfromcsv(\"data/placebo-A.csv\")\n",
    "placebo_B= np.recfromcsv(\"data/placebo-B.csv\")"
   ]
  },
  {
   "cell_type": "code",
   "execution_count": 29,
   "metadata": {},
   "outputs": [],
   "source": [
    "with open ('data/drug-A.csv') as drugA_csv:\n",
    "    drug_A = np.array([row[0] for row in csv.reader(drugA_csv)]).astype(np.float)\n",
    "with open ('data/drug-B.csv') as drugA_csv:\n",
    "    drug_B = np.array([row[0] for row in csv.reader(drugA_csv)]).astype(np.float)\n",
    "with open ('data/placebo-A.csv') as drugA_csv:\n",
    "    placebo_A = np.array([row[0] for row in csv.reader(drugA_csv)]).astype(np.float)\n",
    "with open ('data/placebo-B.csv') as drugA_csv:\n",
    "    placebo_B = np.array([row[0] for row in csv.reader(drugA_csv)]).astype(np.float)"
   ]
  },
  {
   "cell_type": "markdown",
   "metadata": {},
   "source": [
    "# 1."
   ]
  },
  {
   "cell_type": "markdown",
   "metadata": {},
   "source": [
    "First, we need to judge if these two data set is normally distributed.\n",
    "So, we need to use the D’Agostino & Pearson test verify my mind."
   ]
  },
  {
   "cell_type": "code",
   "execution_count": 42,
   "metadata": {},
   "outputs": [],
   "source": [
    "from scipy.stats import normaltest"
   ]
  },
  {
   "cell_type": "code",
   "execution_count": 50,
   "metadata": {},
   "outputs": [
    {
     "name": "stdout",
     "output_type": "stream",
     "text": [
      "Skew =  1.287411721043734 p-value=  0.5253419681562425\n",
      "H0 - drug_A come from a normal distribution: \n",
      "Accept H0,drug_A come from a normal distribution\n"
     ]
    },
    {
     "data": {
      "text/plain": [
       "<matplotlib.legend.Legend at 0x1a1d604690>"
      ]
     },
     "execution_count": 50,
     "metadata": {},
     "output_type": "execute_result"
    },
    {
     "data": {
      "image/png": "[encoded data removed]",
      "text/plain": [
       "<Figure size 432x288 with 1 Axes>"
      ]
     },
     "metadata": {
      "needs_background": "light"
     },
     "output_type": "display_data"
    }
   ],
   "source": [
    "# drug_A \n",
    "k2, p = normaltest(drug_A)\n",
    "print (\"Skew = \", k2,\"p-value= \", p)\n",
    "print (\"H0 - drug_A come from a normal distribution: \")\n",
    "if p<0.05:\n",
    "    print (\"Reject H0,drug_A doesn't come from a normal distribution.\")\n",
    "else:\n",
    "    print (\"Accept H0,drug_A come from a normal distribution\")\n",
    "plt.hist(drug_A, bins=5)\n",
    "plt.legend((\"p-value=%.2g\"%p, ))"
   ]
  },
  {
   "cell_type": "code",
   "execution_count": 51,
   "metadata": {},
   "outputs": [
    {
     "name": "stdout",
     "output_type": "stream",
     "text": [
      "Skew =  1.2202628948918977 p-value=  0.5432794516844254\n",
      "H0 - placebo_A come from a normal distribution: \n",
      "Accept H0,placebo_A come from a normal distribution\n"
     ]
    },
    {
     "data": {
      "text/plain": [
       "<matplotlib.legend.Legend at 0x1a1d891590>"
      ]
     },
     "execution_count": 51,
     "metadata": {},
     "output_type": "execute_result"
    },
    {
     "data": {
      "image/png": "[encoded data removed]",
      "text/plain": [
       "<Figure size 432x288 with 1 Axes>"
      ]
     },
     "metadata": {
      "needs_background": "light"
     },
     "output_type": "display_data"
    }
   ],
   "source": [
    "# placebo_A \n",
    "k2, p = normaltest(placebo_A)\n",
    "print (\"Skew = \", k2,\"p-value= \", p)\n",
    "print (\"H0 - placebo_A come from a normal distribution: \")\n",
    "if p<0.05:\n",
    "    print (\"Reject H0,placebo_A doesn't come from a normal distribution.\")\n",
    "else:\n",
    "    print (\"Accept H0,placebo_A come from a normal distribution\")\n",
    "plt.hist(placebo_A, bins=5)\n",
    "plt.legend((\"p-value=%.2g\"%p, ))"
   ]
  },
  {
   "cell_type": "markdown",
   "metadata": {},
   "source": [
    "According to the normal test above, we can assume that both placebo A and drug A is distributed normally."
   ]
  },
  {
   "cell_type": "markdown",
   "metadata": {},
   "source": [
    "## Now, I can give my hypothesis\n",
    "H0:The drug group and the placebo group produce the same outcome\n",
    "\n",
    "H1:The drug group and the placebo group produce the different outcome"
   ]
  },
  {
   "cell_type": "code",
   "execution_count": 56,
   "metadata": {},
   "outputs": [
    {
     "data": {
      "text/plain": [
       "Ttest_indResult(statistic=-1.7473607598380747, pvalue=0.08686705804164516)"
      ]
     },
     "execution_count": 56,
     "metadata": {},
     "output_type": "execute_result"
    }
   ],
   "source": [
    "# Null hypothesis: 2 independent samples have identical average (expected) values values.\n",
    "from scipy.stats import ttest_ind\n",
    "ttest_ind(drug_A,placebo_A,equal_var=False)\n"
   ]
  },
  {
   "cell_type": "markdown",
   "metadata": {},
   "source": [
    "The test measures whether the average (expected) value differs significantly across samples. \n",
    "If we observe a large p-value, for example larger than 0.05 or 0.1, then we cannot reject the null hypothesis of identical average scores.\n",
    "If the p-value is smaller than the threshold, e.g. 1%, 5% or 10%,then we reject the null hypothesis of equal averages."
   ]
  },
  {
   "cell_type": "code",
   "execution_count": 61,
   "metadata": {},
   "outputs": [
    {
     "data": {
      "text/plain": [
       "-1.6859544576438146"
      ]
     },
     "execution_count": 61,
     "metadata": {},
     "output_type": "execute_result"
    }
   ],
   "source": [
    "stats.t.ppf(q=0.05,  # Quantile to check\n",
    "            df=38)  # Degrees of freedom"
   ]
  },
  {
   "cell_type": "markdown",
   "metadata": {},
   "source": [
    "### Conclusion:  Here we see that our test statistic of 1.74 is out of the quantile of the t-distribution (1.68), so we should reject the null hypothesis------The drug group and the placebo group produce the different outcome."
   ]
  },
  {
   "cell_type": "markdown",
   "metadata": {},
   "source": [
    "# 2.I have a drug group and a placebo group: drug-B and placebo-B. The mean outcome is lower in the placebo group and I have a theory that may explain this, but I first need to rule out the possibility that the lower outcome is just due to chance."
   ]
  },
  {
   "cell_type": "markdown",
   "metadata": {},
   "source": [
    "## Hypotheses\n",
    "\n",
    "We formulate two hypotheses:\n",
    "The *null hypothesis* (H0):\n",
    "\n",
    "> *There is no difference in mean outcome in the placebo group and the drug group *\n",
    "\n",
    "...and an *alternative hypothesis* (H1):\n",
    "\n",
    "> *The  mean outcome in the placebo group is lower than ean outcome in the drug group.*\n",
    "\n",
    "Only accept H1 if it is very unlikely that H0 can explain our observations - otherwise reject H1."
   ]
  },
  {
   "cell_type": "markdown",
   "metadata": {},
   "source": [
    "First, we need to judge if these two data set is normally distributed.\n",
    "So, we need to use the D’Agostino & Pearson test verify my mind."
   ]
  },
  {
   "cell_type": "code",
   "execution_count": 68,
   "metadata": {},
   "outputs": [
    {
     "name": "stdout",
     "output_type": "stream",
     "text": [
      "Skew =  20.701784062790804 p-value=  3.19642639296486e-05\n",
      "H0 - drug_B come from a normal distribution: \n",
      "Reject H0,drug_B doesn't come from a normal distribution.\n"
     ]
    },
    {
     "data": {
      "text/plain": [
       "<matplotlib.legend.Legend at 0x1a1d478f50>"
      ]
     },
     "execution_count": 68,
     "metadata": {},
     "output_type": "execute_result"
    },
    {
     "data": {
      "image/png": "[encoded data removed]",
      "text/plain": [
       "<Figure size 432x288 with 1 Axes>"
      ]
     },
     "metadata": {
      "needs_background": "light"
     },
     "output_type": "display_data"
    }
   ],
   "source": [
    "# drug_B \n",
    "k2, p = normaltest(drug_B)\n",
    "print (\"Skew = \", k2,\"p-value= \", p)\n",
    "print (\"H0 - drug_B come from a normal distribution: \")\n",
    "if p<0.05:\n",
    "    print (\"Reject H0,drug_B doesn't come from a normal distribution.\")\n",
    "else:\n",
    "    print (\"Accept H0,drug_B come from a normal distribution\")\n",
    "plt.hist(drug_B, bins=5)\n",
    "plt.legend((\"p-value=%.2g\"%p, ))"
   ]
  },
  {
   "cell_type": "code",
   "execution_count": 69,
   "metadata": {},
   "outputs": [
    {
     "name": "stdout",
     "output_type": "stream",
     "text": [
      "Skew =  2.0203883984723765 p-value=  0.36414825539139845\n",
      "H0 - placebo_B come from a normal distribution: \n",
      "Accept H0,placebo_B come from a normal distribution\n"
     ]
    },
    {
     "data": {
      "text/plain": [
       "<matplotlib.legend.Legend at 0x1a1d4ff750>"
      ]
     },
     "execution_count": 69,
     "metadata": {},
     "output_type": "execute_result"
    },
    {
     "data": {
      "image/png": "[encoded data removed]",
      "text/plain": [
       "<Figure size 432x288 with 1 Axes>"
      ]
     },
     "metadata": {
      "needs_background": "light"
     },
     "output_type": "display_data"
    }
   ],
   "source": [
    "# placebo_B \n",
    "k2, p = normaltest(placebo_B)\n",
    "print (\"Skew = \", k2,\"p-value= \", p)\n",
    "print (\"H0 - placebo_B come from a normal distribution: \")\n",
    "if p<0.05:\n",
    "    print (\"Reject H0,placebo_B doesn't come from a normal distribution.\")\n",
    "else:\n",
    "    print (\"Accept H0,placebo_B come from a normal distribution\")\n",
    "plt.hist(placebo_B, bins=5)\n",
    "plt.legend((\"p-value=%.2g\"%p, ))"
   ]
  },
  {
   "cell_type": "markdown",
   "metadata": {},
   "source": [
    "### According to the analysis above, we can know that the drug B is not distributed normally but the placebo B is. As a result, I will use the Mann-Whitney U test to verify my hypothesis."
   ]
  },
  {
   "cell_type": "code",
   "execution_count": 87,
   "metadata": {},
   "outputs": [
    {
     "data": {
      "text/plain": [
       "MannwhitneyuResult(statistic=512.5, pvalue=0.021983043515195907)"
      ]
     },
     "execution_count": 87,
     "metadata": {},
     "output_type": "execute_result"
    }
   ],
   "source": [
    "stats.mannwhitneyu(placebo_B,drug_B, alternative=\"less\")"
   ]
  },
  {
   "cell_type": "markdown",
   "metadata": {},
   "source": [
    "Because the pvalue 0.02 is less than 0.05, so we can reject the null hypothese.\n",
    "\n",
    "### Conclusion:The mean outcome in the placebo group is lower than ean outcome in the drug group."
   ]
  }
 ],
 "metadata": {
  "kernelspec": {
   "display_name": "Python 3",
   "language": "python",
   "name": "python3"
  },
  "language_info": {
   "codemirror_mode": {
    "name": "ipython",
    "version": 3
   },
   "file_extension": ".py",
   "mimetype": "text/x-python",
   "name": "python",
   "nbconvert_exporter": "python",
   "pygments_lexer": "ipython3",
   "version": "3.7.4"
  }
 },
 "nbformat": 4,
 "nbformat_minor": 2
}
