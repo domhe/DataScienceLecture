{
 "cells": [
  {
   "cell_type": "markdown",
   "metadata": {},
   "source": [
    "<div style=\"text-align: right\">INFO 6105 Data Science Eng Methods and Tools</div>\n",
    "<div style=\"text-align: right\">Dino Konstantopoulos, 31 January 2019</div>\n",
    "\n",
    "Today we run a lab to make you comfortable working probabilities by writing code instead of doing math. Please rearrange to work in pairs, but each on their own laptop. **Do not advance past your teammate** at any time. This lab may count as a homework.\n",
    "\n",
    "<br />\n",
    "<center>\n",
    "<img src = ipynb.images/pairs.png width = 500 />\n",
    "</center>\n",
    "\n",
    "# Two Exams\n",
    "\n",
    "<br />\n",
    "<center>\n",
    "<img src = ipynb.images/exam.jpg width = 500 />\n",
    "</center>\n",
    "\n",
    "You have two tests scheduled for the semester, a midterm exam, and a final exam. (Actually, I got rid of your final exam for the semester, but let's assume it's still on). \n",
    "\n",
    "- What's the probability that you'll pass *both* exams? \n",
    "- What's the probability you'll pass both exams if one of them is held on a Friday?\n",
    "\n",
    "<center>\n",
    "<img src = ipynb.images/friday.jpg width = 300 />\n",
    "</center>"
   ]
  },
  {
   "cell_type": "markdown",
   "metadata": {},
   "source": [
    "## Part 1\n",
    "\n",
    "Let's import our probability counting framework which we introduced in class. We use the function `P` and the class `ProbDist`."
   ]
  },
  {
   "cell_type": "code",
   "execution_count": 1,
   "metadata": {},
   "outputs": [
    {
     "name": "stdout",
     "output_type": "stream",
     "text": [
      "hello world\n"
     ]
    }
   ],
   "source": [
    "from fractions import Fraction\n",
    "\n",
    "def P(pred, dist): \n",
    "    \"probability that pred is true, given prob distro dist\"\n",
    "    return sum(dist[event] for event in dist if pred(event))\n",
    "\n",
    "class ProbDist(dict):\n",
    "    \"pdf. An {outcome => probability} mapping.\"\n",
    "    def __init__(self, mapping=(), **kwargs):\n",
    "        self.update(mapping, **kwargs)\n",
    "        total = sum(self.values())\n",
    "        if isinstance(total, int): \n",
    "            total = Fraction(total, 1)\n",
    "        for key in self: # Ensure pb's sum to 1\n",
    "            self[key] = self[key] / total\n",
    "            \n",
    "    def __and__(self, pred): # Call this fct. with `probdist & pred`\n",
    "        \"new pdf restricted to outcomes of ProbDist where pred is true\"\n",
    "        return ProbDist({event:self[event] for event in self if pred(event)})\n",
    "\n",
    "print('hello world')"
   ]
  },
  {
   "cell_type": "markdown",
   "metadata": {},
   "source": [
    "Now, write down a function that returns a **joint distribution** of two variables $X$, $Y$. Each variable can be thought of as a python **set**."
   ]
  },
  {
   "cell_type": "code",
   "execution_count": 2,
   "metadata": {},
   "outputs": [],
   "source": [
    "def joint_exclusive(A, B, sep=' '):\n",
    "    \"\"\"The joint distribution of two independent probability distributions. \n",
    "    Result is all entries of the form {a+sep+b: P(a)*P(b)}\"\"\"\n",
    "    return ProbDist({a + sep + b: A[a] * B[b]\n",
    "                    for a in A\n",
    "                    for b in B\n",
    "                    if a != b})"
   ]
  },
  {
   "cell_type": "markdown",
   "metadata": {},
   "source": [
    "Use this function to return the joint distribution of any two F1 drivers coming in as 1st place/2nd place. Call this probability distribution `OneTwo`:"
   ]
  },
  {
   "cell_type": "markdown",
   "metadata": {},
   "source": [
    "OneTwo = "
   ]
  },
  {
   "cell_type": "code",
   "execution_count": 3,
   "metadata": {},
   "outputs": [],
   "source": [
    "RGP = ProbDist(\n",
    "    LH = 281,\n",
    "    SV = 241,\n",
    "    KR = 174,\n",
    "    VB = 171,\n",
    "    MV = 148,\n",
    "    DR = 126,\n",
    "    NH = 53,\n",
    "    FA = 50,\n",
    "    KM = 49,\n",
    "    SP = 46,\n",
    "    EO = 45,\n",
    "    CS = 38,\n",
    "    PG = 28,\n",
    "    RG = 27,\n",
    "    CL = 15,\n",
    "    SD = 8,\n",
    "    LS = 6,\n",
    "    ME = 6,\n",
    "    BH = 2,\n",
    "    SS = 1)"
   ]
  },
  {
   "cell_type": "code",
   "execution_count": 4,
   "metadata": {},
   "outputs": [
    {
     "data": {
      "text/plain": [
       "['PG KR',\n",
       " 'KM SD',\n",
       " 'ME KM',\n",
       " 'CS SS',\n",
       " 'LS SV',\n",
       " 'VB EO',\n",
       " 'BH SV',\n",
       " 'EO PG',\n",
       " 'KR SS',\n",
       " 'DR SS']"
      ]
     },
     "execution_count": 4,
     "metadata": {},
     "output_type": "execute_result"
    }
   ],
   "source": [
    "OneTwo = joint_exclusive(RGP, RGP)\n",
    "import random\n",
    "random.sample(list(OneTwo), 10)"
   ]
  },
  {
   "cell_type": "code",
   "execution_count": 5,
   "metadata": {
    "scrolled": true
   },
   "outputs": [
    {
     "data": {
      "text/plain": [
       "{'LH SV': Fraction(67721, 2045712),\n",
       " 'LH KR': Fraction(8149, 340952),\n",
       " 'LH VB': Fraction(16017, 681904),\n",
       " 'LH MV': Fraction(10397, 511428),\n",
       " 'LH DR': Fraction(5901, 340952),\n",
       " 'LH NH': Fraction(14893, 2045712),\n",
       " 'LH FA': Fraction(7025, 1022856),\n",
       " 'LH KM': Fraction(13769, 2045712),\n",
       " 'LH SP': Fraction(281, 44472),\n",
       " 'LH EO': Fraction(4215, 681904),\n",
       " 'LH CS': Fraction(5339, 1022856),\n",
       " 'LH PG': Fraction(1967, 511428),\n",
       " 'LH RG': Fraction(2529, 681904),\n",
       " 'LH CL': Fraction(1405, 681904),\n",
       " 'LH SD': Fraction(281, 255714),\n",
       " 'LH LS': Fraction(281, 340952),\n",
       " 'LH ME': Fraction(281, 340952),\n",
       " 'LH BH': Fraction(281, 1022856),\n",
       " 'LH SS': Fraction(281, 2045712),\n",
       " 'SV LH': Fraction(67721, 2045712),\n",
       " 'SV KR': Fraction(6989, 340952),\n",
       " 'SV VB': Fraction(13737, 681904),\n",
       " 'SV MV': Fraction(8917, 511428),\n",
       " 'SV DR': Fraction(5061, 340952),\n",
       " 'SV NH': Fraction(12773, 2045712),\n",
       " 'SV FA': Fraction(6025, 1022856),\n",
       " 'SV KM': Fraction(11809, 2045712),\n",
       " 'SV SP': Fraction(241, 44472),\n",
       " 'SV EO': Fraction(3615, 681904),\n",
       " 'SV CS': Fraction(4579, 1022856),\n",
       " 'SV PG': Fraction(1687, 511428),\n",
       " 'SV RG': Fraction(2169, 681904),\n",
       " 'SV CL': Fraction(1205, 681904),\n",
       " 'SV SD': Fraction(241, 255714),\n",
       " 'SV LS': Fraction(241, 340952),\n",
       " 'SV ME': Fraction(241, 340952),\n",
       " 'SV BH': Fraction(241, 1022856),\n",
       " 'SV SS': Fraction(241, 2045712),\n",
       " 'KR LH': Fraction(8149, 340952),\n",
       " 'KR SV': Fraction(6989, 340952),\n",
       " 'KR VB': Fraction(4959, 340952),\n",
       " 'KR MV': Fraction(1073, 85238),\n",
       " 'KR DR': Fraction(1827, 170476),\n",
       " 'KR NH': Fraction(1537, 340952),\n",
       " 'KR FA': Fraction(725, 170476),\n",
       " 'KR KM': Fraction(1421, 340952),\n",
       " 'KR SP': Fraction(29, 7412),\n",
       " 'KR EO': Fraction(1305, 340952),\n",
       " 'KR CS': Fraction(551, 170476),\n",
       " 'KR PG': Fraction(203, 85238),\n",
       " 'KR RG': Fraction(783, 340952),\n",
       " 'KR CL': Fraction(435, 340952),\n",
       " 'KR SD': Fraction(29, 42619),\n",
       " 'KR LS': Fraction(87, 170476),\n",
       " 'KR ME': Fraction(87, 170476),\n",
       " 'KR BH': Fraction(29, 170476),\n",
       " 'KR SS': Fraction(29, 340952),\n",
       " 'VB LH': Fraction(16017, 681904),\n",
       " 'VB SV': Fraction(13737, 681904),\n",
       " 'VB KR': Fraction(4959, 340952),\n",
       " 'VB MV': Fraction(2109, 170476),\n",
       " 'VB DR': Fraction(3591, 340952),\n",
       " 'VB NH': Fraction(3021, 681904),\n",
       " 'VB FA': Fraction(1425, 340952),\n",
       " 'VB KM': Fraction(2793, 681904),\n",
       " 'VB SP': Fraction(57, 14824),\n",
       " 'VB EO': Fraction(2565, 681904),\n",
       " 'VB CS': Fraction(1083, 340952),\n",
       " 'VB PG': Fraction(399, 170476),\n",
       " 'VB RG': Fraction(1539, 681904),\n",
       " 'VB CL': Fraction(855, 681904),\n",
       " 'VB SD': Fraction(57, 85238),\n",
       " 'VB LS': Fraction(171, 340952),\n",
       " 'VB ME': Fraction(171, 340952),\n",
       " 'VB BH': Fraction(57, 340952),\n",
       " 'VB SS': Fraction(57, 681904),\n",
       " 'MV LH': Fraction(10397, 511428),\n",
       " 'MV SV': Fraction(8917, 511428),\n",
       " 'MV KR': Fraction(1073, 85238),\n",
       " 'MV VB': Fraction(2109, 170476),\n",
       " 'MV DR': Fraction(777, 85238),\n",
       " 'MV NH': Fraction(1961, 511428),\n",
       " 'MV FA': Fraction(925, 255714),\n",
       " 'MV KM': Fraction(1813, 511428),\n",
       " 'MV SP': Fraction(37, 11118),\n",
       " 'MV EO': Fraction(555, 170476),\n",
       " 'MV CS': Fraction(703, 255714),\n",
       " 'MV PG': Fraction(259, 127857),\n",
       " 'MV RG': Fraction(333, 170476),\n",
       " 'MV CL': Fraction(185, 170476),\n",
       " 'MV SD': Fraction(74, 127857),\n",
       " 'MV LS': Fraction(37, 85238),\n",
       " 'MV ME': Fraction(37, 85238),\n",
       " 'MV BH': Fraction(37, 255714),\n",
       " 'MV SS': Fraction(37, 511428),\n",
       " 'DR LH': Fraction(5901, 340952),\n",
       " 'DR SV': Fraction(5061, 340952),\n",
       " 'DR KR': Fraction(1827, 170476),\n",
       " 'DR VB': Fraction(3591, 340952),\n",
       " 'DR MV': Fraction(777, 85238),\n",
       " 'DR NH': Fraction(1113, 340952),\n",
       " 'DR FA': Fraction(525, 170476),\n",
       " 'DR KM': Fraction(1029, 340952),\n",
       " 'DR SP': Fraction(21, 7412),\n",
       " 'DR EO': Fraction(945, 340952),\n",
       " 'DR CS': Fraction(399, 170476),\n",
       " 'DR PG': Fraction(147, 85238),\n",
       " 'DR RG': Fraction(567, 340952),\n",
       " 'DR CL': Fraction(315, 340952),\n",
       " 'DR SD': Fraction(21, 42619),\n",
       " 'DR LS': Fraction(63, 170476),\n",
       " 'DR ME': Fraction(63, 170476),\n",
       " 'DR BH': Fraction(21, 170476),\n",
       " 'DR SS': Fraction(21, 340952),\n",
       " 'NH LH': Fraction(14893, 2045712),\n",
       " 'NH SV': Fraction(12773, 2045712),\n",
       " 'NH KR': Fraction(1537, 340952),\n",
       " 'NH VB': Fraction(3021, 681904),\n",
       " 'NH MV': Fraction(1961, 511428),\n",
       " 'NH DR': Fraction(1113, 340952),\n",
       " 'NH FA': Fraction(1325, 1022856),\n",
       " 'NH KM': Fraction(2597, 2045712),\n",
       " 'NH SP': Fraction(53, 44472),\n",
       " 'NH EO': Fraction(795, 681904),\n",
       " 'NH CS': Fraction(1007, 1022856),\n",
       " 'NH PG': Fraction(371, 511428),\n",
       " 'NH RG': Fraction(477, 681904),\n",
       " 'NH CL': Fraction(265, 681904),\n",
       " 'NH SD': Fraction(53, 255714),\n",
       " 'NH LS': Fraction(53, 340952),\n",
       " 'NH ME': Fraction(53, 340952),\n",
       " 'NH BH': Fraction(53, 1022856),\n",
       " 'NH SS': Fraction(53, 2045712),\n",
       " 'FA LH': Fraction(7025, 1022856),\n",
       " 'FA SV': Fraction(6025, 1022856),\n",
       " 'FA KR': Fraction(725, 170476),\n",
       " 'FA VB': Fraction(1425, 340952),\n",
       " 'FA MV': Fraction(925, 255714),\n",
       " 'FA DR': Fraction(525, 170476),\n",
       " 'FA NH': Fraction(1325, 1022856),\n",
       " 'FA KM': Fraction(1225, 1022856),\n",
       " 'FA SP': Fraction(25, 22236),\n",
       " 'FA EO': Fraction(375, 340952),\n",
       " 'FA CS': Fraction(475, 511428),\n",
       " 'FA PG': Fraction(175, 255714),\n",
       " 'FA RG': Fraction(225, 340952),\n",
       " 'FA CL': Fraction(125, 340952),\n",
       " 'FA SD': Fraction(25, 127857),\n",
       " 'FA LS': Fraction(25, 170476),\n",
       " 'FA ME': Fraction(25, 170476),\n",
       " 'FA BH': Fraction(25, 511428),\n",
       " 'FA SS': Fraction(25, 1022856),\n",
       " 'KM LH': Fraction(13769, 2045712),\n",
       " 'KM SV': Fraction(11809, 2045712),\n",
       " 'KM KR': Fraction(1421, 340952),\n",
       " 'KM VB': Fraction(2793, 681904),\n",
       " 'KM MV': Fraction(1813, 511428),\n",
       " 'KM DR': Fraction(1029, 340952),\n",
       " 'KM NH': Fraction(2597, 2045712),\n",
       " 'KM FA': Fraction(1225, 1022856),\n",
       " 'KM SP': Fraction(49, 44472),\n",
       " 'KM EO': Fraction(735, 681904),\n",
       " 'KM CS': Fraction(931, 1022856),\n",
       " 'KM PG': Fraction(343, 511428),\n",
       " 'KM RG': Fraction(441, 681904),\n",
       " 'KM CL': Fraction(245, 681904),\n",
       " 'KM SD': Fraction(49, 255714),\n",
       " 'KM LS': Fraction(49, 340952),\n",
       " 'KM ME': Fraction(49, 340952),\n",
       " 'KM BH': Fraction(49, 1022856),\n",
       " 'KM SS': Fraction(49, 2045712),\n",
       " 'SP LH': Fraction(281, 44472),\n",
       " 'SP SV': Fraction(241, 44472),\n",
       " 'SP KR': Fraction(29, 7412),\n",
       " 'SP VB': Fraction(57, 14824),\n",
       " 'SP MV': Fraction(37, 11118),\n",
       " 'SP DR': Fraction(21, 7412),\n",
       " 'SP NH': Fraction(53, 44472),\n",
       " 'SP FA': Fraction(25, 22236),\n",
       " 'SP KM': Fraction(49, 44472),\n",
       " 'SP EO': Fraction(15, 14824),\n",
       " 'SP CS': Fraction(19, 22236),\n",
       " 'SP PG': Fraction(7, 11118),\n",
       " 'SP RG': Fraction(9, 14824),\n",
       " 'SP CL': Fraction(5, 14824),\n",
       " 'SP SD': Fraction(1, 5559),\n",
       " 'SP LS': Fraction(1, 7412),\n",
       " 'SP ME': Fraction(1, 7412),\n",
       " 'SP BH': Fraction(1, 22236),\n",
       " 'SP SS': Fraction(1, 44472),\n",
       " 'EO LH': Fraction(4215, 681904),\n",
       " 'EO SV': Fraction(3615, 681904),\n",
       " 'EO KR': Fraction(1305, 340952),\n",
       " 'EO VB': Fraction(2565, 681904),\n",
       " 'EO MV': Fraction(555, 170476),\n",
       " 'EO DR': Fraction(945, 340952),\n",
       " 'EO NH': Fraction(795, 681904),\n",
       " 'EO FA': Fraction(375, 340952),\n",
       " 'EO KM': Fraction(735, 681904),\n",
       " 'EO SP': Fraction(15, 14824),\n",
       " 'EO CS': Fraction(285, 340952),\n",
       " 'EO PG': Fraction(105, 170476),\n",
       " 'EO RG': Fraction(405, 681904),\n",
       " 'EO CL': Fraction(225, 681904),\n",
       " 'EO SD': Fraction(15, 85238),\n",
       " 'EO LS': Fraction(45, 340952),\n",
       " 'EO ME': Fraction(45, 340952),\n",
       " 'EO BH': Fraction(15, 340952),\n",
       " 'EO SS': Fraction(15, 681904),\n",
       " 'CS LH': Fraction(5339, 1022856),\n",
       " 'CS SV': Fraction(4579, 1022856),\n",
       " 'CS KR': Fraction(551, 170476),\n",
       " 'CS VB': Fraction(1083, 340952),\n",
       " 'CS MV': Fraction(703, 255714),\n",
       " 'CS DR': Fraction(399, 170476),\n",
       " 'CS NH': Fraction(1007, 1022856),\n",
       " 'CS FA': Fraction(475, 511428),\n",
       " 'CS KM': Fraction(931, 1022856),\n",
       " 'CS SP': Fraction(19, 22236),\n",
       " 'CS EO': Fraction(285, 340952),\n",
       " 'CS PG': Fraction(133, 255714),\n",
       " 'CS RG': Fraction(171, 340952),\n",
       " 'CS CL': Fraction(95, 340952),\n",
       " 'CS SD': Fraction(19, 127857),\n",
       " 'CS LS': Fraction(19, 170476),\n",
       " 'CS ME': Fraction(19, 170476),\n",
       " 'CS BH': Fraction(19, 511428),\n",
       " 'CS SS': Fraction(19, 1022856),\n",
       " 'PG LH': Fraction(1967, 511428),\n",
       " 'PG SV': Fraction(1687, 511428),\n",
       " 'PG KR': Fraction(203, 85238),\n",
       " 'PG VB': Fraction(399, 170476),\n",
       " 'PG MV': Fraction(259, 127857),\n",
       " 'PG DR': Fraction(147, 85238),\n",
       " 'PG NH': Fraction(371, 511428),\n",
       " 'PG FA': Fraction(175, 255714),\n",
       " 'PG KM': Fraction(343, 511428),\n",
       " 'PG SP': Fraction(7, 11118),\n",
       " 'PG EO': Fraction(105, 170476),\n",
       " 'PG CS': Fraction(133, 255714),\n",
       " 'PG RG': Fraction(63, 170476),\n",
       " 'PG CL': Fraction(35, 170476),\n",
       " 'PG SD': Fraction(14, 127857),\n",
       " 'PG LS': Fraction(7, 85238),\n",
       " 'PG ME': Fraction(7, 85238),\n",
       " 'PG BH': Fraction(7, 255714),\n",
       " 'PG SS': Fraction(7, 511428),\n",
       " 'RG LH': Fraction(2529, 681904),\n",
       " 'RG SV': Fraction(2169, 681904),\n",
       " 'RG KR': Fraction(783, 340952),\n",
       " 'RG VB': Fraction(1539, 681904),\n",
       " 'RG MV': Fraction(333, 170476),\n",
       " 'RG DR': Fraction(567, 340952),\n",
       " 'RG NH': Fraction(477, 681904),\n",
       " 'RG FA': Fraction(225, 340952),\n",
       " 'RG KM': Fraction(441, 681904),\n",
       " 'RG SP': Fraction(9, 14824),\n",
       " 'RG EO': Fraction(405, 681904),\n",
       " 'RG CS': Fraction(171, 340952),\n",
       " 'RG PG': Fraction(63, 170476),\n",
       " 'RG CL': Fraction(135, 681904),\n",
       " 'RG SD': Fraction(9, 85238),\n",
       " 'RG LS': Fraction(27, 340952),\n",
       " 'RG ME': Fraction(27, 340952),\n",
       " 'RG BH': Fraction(9, 340952),\n",
       " 'RG SS': Fraction(9, 681904),\n",
       " 'CL LH': Fraction(1405, 681904),\n",
       " 'CL SV': Fraction(1205, 681904),\n",
       " 'CL KR': Fraction(435, 340952),\n",
       " 'CL VB': Fraction(855, 681904),\n",
       " 'CL MV': Fraction(185, 170476),\n",
       " 'CL DR': Fraction(315, 340952),\n",
       " 'CL NH': Fraction(265, 681904),\n",
       " 'CL FA': Fraction(125, 340952),\n",
       " 'CL KM': Fraction(245, 681904),\n",
       " 'CL SP': Fraction(5, 14824),\n",
       " 'CL EO': Fraction(225, 681904),\n",
       " 'CL CS': Fraction(95, 340952),\n",
       " 'CL PG': Fraction(35, 170476),\n",
       " 'CL RG': Fraction(135, 681904),\n",
       " 'CL SD': Fraction(5, 85238),\n",
       " 'CL LS': Fraction(15, 340952),\n",
       " 'CL ME': Fraction(15, 340952),\n",
       " 'CL BH': Fraction(5, 340952),\n",
       " 'CL SS': Fraction(5, 681904),\n",
       " 'SD LH': Fraction(281, 255714),\n",
       " 'SD SV': Fraction(241, 255714),\n",
       " 'SD KR': Fraction(29, 42619),\n",
       " 'SD VB': Fraction(57, 85238),\n",
       " 'SD MV': Fraction(74, 127857),\n",
       " 'SD DR': Fraction(21, 42619),\n",
       " 'SD NH': Fraction(53, 255714),\n",
       " 'SD FA': Fraction(25, 127857),\n",
       " 'SD KM': Fraction(49, 255714),\n",
       " 'SD SP': Fraction(1, 5559),\n",
       " 'SD EO': Fraction(15, 85238),\n",
       " 'SD CS': Fraction(19, 127857),\n",
       " 'SD PG': Fraction(14, 127857),\n",
       " 'SD RG': Fraction(9, 85238),\n",
       " 'SD CL': Fraction(5, 85238),\n",
       " 'SD LS': Fraction(1, 42619),\n",
       " 'SD ME': Fraction(1, 42619),\n",
       " 'SD BH': Fraction(1, 127857),\n",
       " 'SD SS': Fraction(1, 255714),\n",
       " 'LS LH': Fraction(281, 340952),\n",
       " 'LS SV': Fraction(241, 340952),\n",
       " 'LS KR': Fraction(87, 170476),\n",
       " 'LS VB': Fraction(171, 340952),\n",
       " 'LS MV': Fraction(37, 85238),\n",
       " 'LS DR': Fraction(63, 170476),\n",
       " 'LS NH': Fraction(53, 340952),\n",
       " 'LS FA': Fraction(25, 170476),\n",
       " 'LS KM': Fraction(49, 340952),\n",
       " 'LS SP': Fraction(1, 7412),\n",
       " 'LS EO': Fraction(45, 340952),\n",
       " 'LS CS': Fraction(19, 170476),\n",
       " 'LS PG': Fraction(7, 85238),\n",
       " 'LS RG': Fraction(27, 340952),\n",
       " 'LS CL': Fraction(15, 340952),\n",
       " 'LS SD': Fraction(1, 42619),\n",
       " 'LS ME': Fraction(3, 170476),\n",
       " 'LS BH': Fraction(1, 170476),\n",
       " 'LS SS': Fraction(1, 340952),\n",
       " 'ME LH': Fraction(281, 340952),\n",
       " 'ME SV': Fraction(241, 340952),\n",
       " 'ME KR': Fraction(87, 170476),\n",
       " 'ME VB': Fraction(171, 340952),\n",
       " 'ME MV': Fraction(37, 85238),\n",
       " 'ME DR': Fraction(63, 170476),\n",
       " 'ME NH': Fraction(53, 340952),\n",
       " 'ME FA': Fraction(25, 170476),\n",
       " 'ME KM': Fraction(49, 340952),\n",
       " 'ME SP': Fraction(1, 7412),\n",
       " 'ME EO': Fraction(45, 340952),\n",
       " 'ME CS': Fraction(19, 170476),\n",
       " 'ME PG': Fraction(7, 85238),\n",
       " 'ME RG': Fraction(27, 340952),\n",
       " 'ME CL': Fraction(15, 340952),\n",
       " 'ME SD': Fraction(1, 42619),\n",
       " 'ME LS': Fraction(3, 170476),\n",
       " 'ME BH': Fraction(1, 170476),\n",
       " 'ME SS': Fraction(1, 340952),\n",
       " 'BH LH': Fraction(281, 1022856),\n",
       " 'BH SV': Fraction(241, 1022856),\n",
       " 'BH KR': Fraction(29, 170476),\n",
       " 'BH VB': Fraction(57, 340952),\n",
       " 'BH MV': Fraction(37, 255714),\n",
       " 'BH DR': Fraction(21, 170476),\n",
       " 'BH NH': Fraction(53, 1022856),\n",
       " 'BH FA': Fraction(25, 511428),\n",
       " 'BH KM': Fraction(49, 1022856),\n",
       " 'BH SP': Fraction(1, 22236),\n",
       " 'BH EO': Fraction(15, 340952),\n",
       " 'BH CS': Fraction(19, 511428),\n",
       " 'BH PG': Fraction(7, 255714),\n",
       " 'BH RG': Fraction(9, 340952),\n",
       " 'BH CL': Fraction(5, 340952),\n",
       " 'BH SD': Fraction(1, 127857),\n",
       " 'BH LS': Fraction(1, 170476),\n",
       " 'BH ME': Fraction(1, 170476),\n",
       " 'BH SS': Fraction(1, 1022856),\n",
       " 'SS LH': Fraction(281, 2045712),\n",
       " 'SS SV': Fraction(241, 2045712),\n",
       " 'SS KR': Fraction(29, 340952),\n",
       " 'SS VB': Fraction(57, 681904),\n",
       " 'SS MV': Fraction(37, 511428),\n",
       " 'SS DR': Fraction(21, 340952),\n",
       " 'SS NH': Fraction(53, 2045712),\n",
       " 'SS FA': Fraction(25, 1022856),\n",
       " 'SS KM': Fraction(49, 2045712),\n",
       " 'SS SP': Fraction(1, 44472),\n",
       " 'SS EO': Fraction(15, 681904),\n",
       " 'SS CS': Fraction(19, 1022856),\n",
       " 'SS PG': Fraction(7, 511428),\n",
       " 'SS RG': Fraction(9, 681904),\n",
       " 'SS CL': Fraction(5, 681904),\n",
       " 'SS SD': Fraction(1, 255714),\n",
       " 'SS LS': Fraction(1, 340952),\n",
       " 'SS ME': Fraction(1, 340952),\n",
       " 'SS BH': Fraction(1, 1022856)}"
      ]
     },
     "execution_count": 5,
     "metadata": {},
     "output_type": "execute_result"
    }
   ],
   "source": [
    "OneTwo"
   ]
  },
  {
   "cell_type": "markdown",
   "metadata": {},
   "source": [
    "Now, write down a python function called `Uniform`, whcih returns a Uniform probability distribution. Google *uniform probability distribution* on Wikipedia."
   ]
  },
  {
   "cell_type": "code",
   "execution_count": 6,
   "metadata": {},
   "outputs": [],
   "source": [
    "# import uniform distribution\n",
    "from scipy.stats import uniform"
   ]
  },
  {
   "cell_type": "code",
   "execution_count": 7,
   "metadata": {},
   "outputs": [],
   "source": [
    "def joint(A, B, sep=' '):\n",
    "    \"\"\"The joint distribution of two independent probability distributions. \n",
    "    Result is all entries of the form {a+sep+b: P(a)*P(b)}\"\"\"\n",
    "    return ProbDist({a + sep + b: A[a] * B[b]\n",
    "                    for a in A\n",
    "                    for b in B})\n"
   ]
  },
  {
   "cell_type": "code",
   "execution_count": 8,
   "metadata": {},
   "outputs": [],
   "source": [
    "def Uniform(outcomes): return ProbDist({event: 1 for event in outcomes})"
   ]
  },
  {
   "cell_type": "markdown",
   "metadata": {},
   "source": [
    "We're now ready to start with our lab. Let's describe the experiment, the sample space, and do some counting!\n",
    "\n",
    "**Test Experiment**: At the end of the semester, a student is chosen at random in this class. The student is asked if he passed at least one of his exams for the class. \"Yes\", he says.\n",
    "\n",
    "We'll use the letter 'P' for `pass`, and the letter 'F' for `fail` to describe the outcome of an exam. \n",
    "\n",
    "Assume each exam can be either a pass or a fail. In other words, pass of fail is **equiprobable**. Write down the probability distribution describing the outcome of two exams. Call it  **two_exams**.  **two_exams** is if we don't care about the day of the week any exam is held."
   ]
  },
  {
   "cell_type": "code",
   "execution_count": 9,
   "metadata": {},
   "outputs": [],
   "source": [
    "two_exams = Uniform({'PP', 'PF', 'FP', 'FF'})"
   ]
  },
  {
   "cell_type": "markdown",
   "metadata": {},
   "source": [
    "Now, let's start caring about the day of the week that the exams are held on! Assume 7 days in the week. Yes, professor Dino sometimes schedules exams on Sundays! In fact, Professor Dino is so random, that the chances of scheduling an exam on any day of the week are equiprobable.\n",
    "\n",
    "Write down the probability distribution for one exam, taken any day of the week. Call it  **one_exam_week**.\n",
    "\n",
    "Write down the probability distribution for two exams, each taken on any day of the week. Call it  **two_exams_week**.\n",
    "\n",
    "Start counting weekdays on Sunday, so if Sunday is 1, Friday is 6.\n",
    "\n",
    "What's the number of possible outcomes for **two_exams_week**?"
   ]
  },
  {
   "cell_type": "code",
   "execution_count": 10,
   "metadata": {},
   "outputs": [],
   "source": [
    "one_exam_week = joint(Uniform('PF'), Uniform('1234567'))"
   ]
  },
  {
   "cell_type": "code",
   "execution_count": 11,
   "metadata": {},
   "outputs": [
    {
     "data": {
      "text/plain": [
       "{'P 1': Fraction(1, 14),\n",
       " 'P 2': Fraction(1, 14),\n",
       " 'P 3': Fraction(1, 14),\n",
       " 'P 4': Fraction(1, 14),\n",
       " 'P 5': Fraction(1, 14),\n",
       " 'P 6': Fraction(1, 14),\n",
       " 'P 7': Fraction(1, 14),\n",
       " 'F 1': Fraction(1, 14),\n",
       " 'F 2': Fraction(1, 14),\n",
       " 'F 3': Fraction(1, 14),\n",
       " 'F 4': Fraction(1, 14),\n",
       " 'F 5': Fraction(1, 14),\n",
       " 'F 6': Fraction(1, 14),\n",
       " 'F 7': Fraction(1, 14)}"
      ]
     },
     "execution_count": 11,
     "metadata": {},
     "output_type": "execute_result"
    }
   ],
   "source": [
    "one_exam_week"
   ]
  },
  {
   "cell_type": "code",
   "execution_count": 12,
   "metadata": {},
   "outputs": [
    {
     "data": {
      "text/plain": [
       "{'P 1 P 1': Fraction(1, 196),\n",
       " 'P 1 P 2': Fraction(1, 196),\n",
       " 'P 1 P 3': Fraction(1, 196),\n",
       " 'P 1 P 4': Fraction(1, 196),\n",
       " 'P 1 P 5': Fraction(1, 196),\n",
       " 'P 1 P 6': Fraction(1, 196),\n",
       " 'P 1 P 7': Fraction(1, 196),\n",
       " 'P 1 F 1': Fraction(1, 196),\n",
       " 'P 1 F 2': Fraction(1, 196),\n",
       " 'P 1 F 3': Fraction(1, 196),\n",
       " 'P 1 F 4': Fraction(1, 196),\n",
       " 'P 1 F 5': Fraction(1, 196),\n",
       " 'P 1 F 6': Fraction(1, 196),\n",
       " 'P 1 F 7': Fraction(1, 196),\n",
       " 'P 2 P 1': Fraction(1, 196),\n",
       " 'P 2 P 2': Fraction(1, 196),\n",
       " 'P 2 P 3': Fraction(1, 196),\n",
       " 'P 2 P 4': Fraction(1, 196),\n",
       " 'P 2 P 5': Fraction(1, 196),\n",
       " 'P 2 P 6': Fraction(1, 196),\n",
       " 'P 2 P 7': Fraction(1, 196),\n",
       " 'P 2 F 1': Fraction(1, 196),\n",
       " 'P 2 F 2': Fraction(1, 196),\n",
       " 'P 2 F 3': Fraction(1, 196),\n",
       " 'P 2 F 4': Fraction(1, 196),\n",
       " 'P 2 F 5': Fraction(1, 196),\n",
       " 'P 2 F 6': Fraction(1, 196),\n",
       " 'P 2 F 7': Fraction(1, 196),\n",
       " 'P 3 P 1': Fraction(1, 196),\n",
       " 'P 3 P 2': Fraction(1, 196),\n",
       " 'P 3 P 3': Fraction(1, 196),\n",
       " 'P 3 P 4': Fraction(1, 196),\n",
       " 'P 3 P 5': Fraction(1, 196),\n",
       " 'P 3 P 6': Fraction(1, 196),\n",
       " 'P 3 P 7': Fraction(1, 196),\n",
       " 'P 3 F 1': Fraction(1, 196),\n",
       " 'P 3 F 2': Fraction(1, 196),\n",
       " 'P 3 F 3': Fraction(1, 196),\n",
       " 'P 3 F 4': Fraction(1, 196),\n",
       " 'P 3 F 5': Fraction(1, 196),\n",
       " 'P 3 F 6': Fraction(1, 196),\n",
       " 'P 3 F 7': Fraction(1, 196),\n",
       " 'P 4 P 1': Fraction(1, 196),\n",
       " 'P 4 P 2': Fraction(1, 196),\n",
       " 'P 4 P 3': Fraction(1, 196),\n",
       " 'P 4 P 4': Fraction(1, 196),\n",
       " 'P 4 P 5': Fraction(1, 196),\n",
       " 'P 4 P 6': Fraction(1, 196),\n",
       " 'P 4 P 7': Fraction(1, 196),\n",
       " 'P 4 F 1': Fraction(1, 196),\n",
       " 'P 4 F 2': Fraction(1, 196),\n",
       " 'P 4 F 3': Fraction(1, 196),\n",
       " 'P 4 F 4': Fraction(1, 196),\n",
       " 'P 4 F 5': Fraction(1, 196),\n",
       " 'P 4 F 6': Fraction(1, 196),\n",
       " 'P 4 F 7': Fraction(1, 196),\n",
       " 'P 5 P 1': Fraction(1, 196),\n",
       " 'P 5 P 2': Fraction(1, 196),\n",
       " 'P 5 P 3': Fraction(1, 196),\n",
       " 'P 5 P 4': Fraction(1, 196),\n",
       " 'P 5 P 5': Fraction(1, 196),\n",
       " 'P 5 P 6': Fraction(1, 196),\n",
       " 'P 5 P 7': Fraction(1, 196),\n",
       " 'P 5 F 1': Fraction(1, 196),\n",
       " 'P 5 F 2': Fraction(1, 196),\n",
       " 'P 5 F 3': Fraction(1, 196),\n",
       " 'P 5 F 4': Fraction(1, 196),\n",
       " 'P 5 F 5': Fraction(1, 196),\n",
       " 'P 5 F 6': Fraction(1, 196),\n",
       " 'P 5 F 7': Fraction(1, 196),\n",
       " 'P 6 P 1': Fraction(1, 196),\n",
       " 'P 6 P 2': Fraction(1, 196),\n",
       " 'P 6 P 3': Fraction(1, 196),\n",
       " 'P 6 P 4': Fraction(1, 196),\n",
       " 'P 6 P 5': Fraction(1, 196),\n",
       " 'P 6 P 6': Fraction(1, 196),\n",
       " 'P 6 P 7': Fraction(1, 196),\n",
       " 'P 6 F 1': Fraction(1, 196),\n",
       " 'P 6 F 2': Fraction(1, 196),\n",
       " 'P 6 F 3': Fraction(1, 196),\n",
       " 'P 6 F 4': Fraction(1, 196),\n",
       " 'P 6 F 5': Fraction(1, 196),\n",
       " 'P 6 F 6': Fraction(1, 196),\n",
       " 'P 6 F 7': Fraction(1, 196),\n",
       " 'P 7 P 1': Fraction(1, 196),\n",
       " 'P 7 P 2': Fraction(1, 196),\n",
       " 'P 7 P 3': Fraction(1, 196),\n",
       " 'P 7 P 4': Fraction(1, 196),\n",
       " 'P 7 P 5': Fraction(1, 196),\n",
       " 'P 7 P 6': Fraction(1, 196),\n",
       " 'P 7 P 7': Fraction(1, 196),\n",
       " 'P 7 F 1': Fraction(1, 196),\n",
       " 'P 7 F 2': Fraction(1, 196),\n",
       " 'P 7 F 3': Fraction(1, 196),\n",
       " 'P 7 F 4': Fraction(1, 196),\n",
       " 'P 7 F 5': Fraction(1, 196),\n",
       " 'P 7 F 6': Fraction(1, 196),\n",
       " 'P 7 F 7': Fraction(1, 196),\n",
       " 'F 1 P 1': Fraction(1, 196),\n",
       " 'F 1 P 2': Fraction(1, 196),\n",
       " 'F 1 P 3': Fraction(1, 196),\n",
       " 'F 1 P 4': Fraction(1, 196),\n",
       " 'F 1 P 5': Fraction(1, 196),\n",
       " 'F 1 P 6': Fraction(1, 196),\n",
       " 'F 1 P 7': Fraction(1, 196),\n",
       " 'F 1 F 1': Fraction(1, 196),\n",
       " 'F 1 F 2': Fraction(1, 196),\n",
       " 'F 1 F 3': Fraction(1, 196),\n",
       " 'F 1 F 4': Fraction(1, 196),\n",
       " 'F 1 F 5': Fraction(1, 196),\n",
       " 'F 1 F 6': Fraction(1, 196),\n",
       " 'F 1 F 7': Fraction(1, 196),\n",
       " 'F 2 P 1': Fraction(1, 196),\n",
       " 'F 2 P 2': Fraction(1, 196),\n",
       " 'F 2 P 3': Fraction(1, 196),\n",
       " 'F 2 P 4': Fraction(1, 196),\n",
       " 'F 2 P 5': Fraction(1, 196),\n",
       " 'F 2 P 6': Fraction(1, 196),\n",
       " 'F 2 P 7': Fraction(1, 196),\n",
       " 'F 2 F 1': Fraction(1, 196),\n",
       " 'F 2 F 2': Fraction(1, 196),\n",
       " 'F 2 F 3': Fraction(1, 196),\n",
       " 'F 2 F 4': Fraction(1, 196),\n",
       " 'F 2 F 5': Fraction(1, 196),\n",
       " 'F 2 F 6': Fraction(1, 196),\n",
       " 'F 2 F 7': Fraction(1, 196),\n",
       " 'F 3 P 1': Fraction(1, 196),\n",
       " 'F 3 P 2': Fraction(1, 196),\n",
       " 'F 3 P 3': Fraction(1, 196),\n",
       " 'F 3 P 4': Fraction(1, 196),\n",
       " 'F 3 P 5': Fraction(1, 196),\n",
       " 'F 3 P 6': Fraction(1, 196),\n",
       " 'F 3 P 7': Fraction(1, 196),\n",
       " 'F 3 F 1': Fraction(1, 196),\n",
       " 'F 3 F 2': Fraction(1, 196),\n",
       " 'F 3 F 3': Fraction(1, 196),\n",
       " 'F 3 F 4': Fraction(1, 196),\n",
       " 'F 3 F 5': Fraction(1, 196),\n",
       " 'F 3 F 6': Fraction(1, 196),\n",
       " 'F 3 F 7': Fraction(1, 196),\n",
       " 'F 4 P 1': Fraction(1, 196),\n",
       " 'F 4 P 2': Fraction(1, 196),\n",
       " 'F 4 P 3': Fraction(1, 196),\n",
       " 'F 4 P 4': Fraction(1, 196),\n",
       " 'F 4 P 5': Fraction(1, 196),\n",
       " 'F 4 P 6': Fraction(1, 196),\n",
       " 'F 4 P 7': Fraction(1, 196),\n",
       " 'F 4 F 1': Fraction(1, 196),\n",
       " 'F 4 F 2': Fraction(1, 196),\n",
       " 'F 4 F 3': Fraction(1, 196),\n",
       " 'F 4 F 4': Fraction(1, 196),\n",
       " 'F 4 F 5': Fraction(1, 196),\n",
       " 'F 4 F 6': Fraction(1, 196),\n",
       " 'F 4 F 7': Fraction(1, 196),\n",
       " 'F 5 P 1': Fraction(1, 196),\n",
       " 'F 5 P 2': Fraction(1, 196),\n",
       " 'F 5 P 3': Fraction(1, 196),\n",
       " 'F 5 P 4': Fraction(1, 196),\n",
       " 'F 5 P 5': Fraction(1, 196),\n",
       " 'F 5 P 6': Fraction(1, 196),\n",
       " 'F 5 P 7': Fraction(1, 196),\n",
       " 'F 5 F 1': Fraction(1, 196),\n",
       " 'F 5 F 2': Fraction(1, 196),\n",
       " 'F 5 F 3': Fraction(1, 196),\n",
       " 'F 5 F 4': Fraction(1, 196),\n",
       " 'F 5 F 5': Fraction(1, 196),\n",
       " 'F 5 F 6': Fraction(1, 196),\n",
       " 'F 5 F 7': Fraction(1, 196),\n",
       " 'F 6 P 1': Fraction(1, 196),\n",
       " 'F 6 P 2': Fraction(1, 196),\n",
       " 'F 6 P 3': Fraction(1, 196),\n",
       " 'F 6 P 4': Fraction(1, 196),\n",
       " 'F 6 P 5': Fraction(1, 196),\n",
       " 'F 6 P 6': Fraction(1, 196),\n",
       " 'F 6 P 7': Fraction(1, 196),\n",
       " 'F 6 F 1': Fraction(1, 196),\n",
       " 'F 6 F 2': Fraction(1, 196),\n",
       " 'F 6 F 3': Fraction(1, 196),\n",
       " 'F 6 F 4': Fraction(1, 196),\n",
       " 'F 6 F 5': Fraction(1, 196),\n",
       " 'F 6 F 6': Fraction(1, 196),\n",
       " 'F 6 F 7': Fraction(1, 196),\n",
       " 'F 7 P 1': Fraction(1, 196),\n",
       " 'F 7 P 2': Fraction(1, 196),\n",
       " 'F 7 P 3': Fraction(1, 196),\n",
       " 'F 7 P 4': Fraction(1, 196),\n",
       " 'F 7 P 5': Fraction(1, 196),\n",
       " 'F 7 P 6': Fraction(1, 196),\n",
       " 'F 7 P 7': Fraction(1, 196),\n",
       " 'F 7 F 1': Fraction(1, 196),\n",
       " 'F 7 F 2': Fraction(1, 196),\n",
       " 'F 7 F 3': Fraction(1, 196),\n",
       " 'F 7 F 4': Fraction(1, 196),\n",
       " 'F 7 F 5': Fraction(1, 196),\n",
       " 'F 7 F 6': Fraction(1, 196),\n",
       " 'F 7 F 7': Fraction(1, 196)}"
      ]
     },
     "execution_count": 12,
     "metadata": {},
     "output_type": "execute_result"
    }
   ],
   "source": [
    "two_exams_week = joint(one_exam_week, one_exam_week)\n",
    "two_exams_week\n",
    "# random.sample(list(two_exams_week), 10)"
   ]
  },
  {
   "cell_type": "markdown",
   "metadata": {},
   "source": [
    "Now sample for the possible outcomes (give me a random sampling of possibilities):"
   ]
  },
  {
   "cell_type": "code",
   "execution_count": 13,
   "metadata": {},
   "outputs": [
    {
     "data": {
      "text/plain": [
       "['P 6 F 5',\n",
       " 'F 5 P 2',\n",
       " 'P 7 F 2',\n",
       " 'P 5 F 4',\n",
       " 'F 1 P 5',\n",
       " 'P 6 F 6',\n",
       " 'P 1 F 1',\n",
       " 'F 1 P 4',\n",
       " 'F 3 P 6',\n",
       " 'F 1 F 4']"
      ]
     },
     "execution_count": 13,
     "metadata": {},
     "output_type": "execute_result"
    }
   ],
   "source": [
    "random.sample(list(two_exams_week), 10)"
   ]
  },
  {
   "cell_type": "markdown",
   "metadata": {},
   "source": [
    "Now let's define some relevant predicates, and start playing around with the problem.\n",
    "\n",
    "Write down the predicate (a function that returns true or false when given one possible outcome) called `at_least_one_pass`, which returns true if at least one of the exams was a pass. \n",
    "\n",
    "Write down the predicate (a function that returns true or false when given one possible outcome) called `two_passes`, which returns true if both exams were a pass. "
   ]
  },
  {
   "cell_type": "code",
   "execution_count": 14,
   "metadata": {},
   "outputs": [],
   "source": [
    "def at_least_one_pass(outcome): return 'P' in outcome\n",
    "def two_passes(outcome): return outcome.count('P') == 2"
   ]
  },
  {
   "cell_type": "markdown",
   "metadata": {},
   "source": [
    "Evaluate the probability (as a `Fraction`) of passing at least one exam, when the same space is **two_exams_week** (where we keep track of the day of week) and, next, in **two_exams** (where we don't). Use your `P` function."
   ]
  },
  {
   "cell_type": "code",
   "execution_count": 15,
   "metadata": {},
   "outputs": [
    {
     "data": {
      "text/plain": [
       "Fraction(3, 4)"
      ]
     },
     "execution_count": 15,
     "metadata": {},
     "output_type": "execute_result"
    }
   ],
   "source": [
    "P(at_least_one_pass, two_exams)"
   ]
  },
  {
   "cell_type": "code",
   "execution_count": 16,
   "metadata": {},
   "outputs": [
    {
     "data": {
      "text/plain": [
       "Fraction(1, 4)"
      ]
     },
     "execution_count": 16,
     "metadata": {},
     "output_type": "execute_result"
    }
   ],
   "source": [
    "P(two_passes, two_exams)"
   ]
  },
  {
   "cell_type": "markdown",
   "metadata": {},
   "source": [
    "Evaluate the probability (as a `Fraction`) of passing both exams, when the same space is **two_exams_week** (where we keep track of the day of week) and in **two_exams** (where we don't). "
   ]
  },
  {
   "cell_type": "code",
   "execution_count": null,
   "metadata": {},
   "outputs": [],
   "source": []
  },
  {
   "cell_type": "code",
   "execution_count": null,
   "metadata": {},
   "outputs": [],
   "source": []
  },
  {
   "cell_type": "markdown",
   "metadata": {},
   "source": [
    "Evaluate the probability (as a `Fraction`) of passing both exams, given that at least one of them is a pass (a **conditional probability**), when the sample space is **two_exams** (where we don't keep track of days of week). \n",
    "\n",
    "Then, evaluate the probability (as a `Fraction`) of passing both exams, given that at least one of them is a pass (a **conditional probability**), when the sample space is **two_exams_week** (where we keep track of the day of week)."
   ]
  },
  {
   "cell_type": "code",
   "execution_count": null,
   "metadata": {},
   "outputs": [],
   "source": []
  },
  {
   "cell_type": "code",
   "execution_count": 17,
   "metadata": {},
   "outputs": [
    {
     "data": {
      "text/plain": [
       "Fraction(1, 3)"
      ]
     },
     "execution_count": 17,
     "metadata": {},
     "output_type": "execute_result"
    }
   ],
   "source": [
    "P(two_passes, two_exams & at_least_one_pass)"
   ]
  },
  {
   "cell_type": "markdown",
   "metadata": {},
   "source": [
    "Is the joint probability of two passes equal to the joint-conditional probability of two passes given at least one pass? Does the sample space make a difference? Please write answer in english and reason why you think you got the results you got. "
   ]
  },
  {
   "cell_type": "markdown",
   "metadata": {},
   "source": []
  },
  {
   "cell_type": "markdown",
   "metadata": {},
   "source": [
    "Now, define a predicate for one pass **on Friday**, call it `at_least_one_pass_friday`:"
   ]
  },
  {
   "cell_type": "code",
   "execution_count": 18,
   "metadata": {},
   "outputs": [],
   "source": [
    "def at_least_one_pass_friday(outcome): return 'P 6' in outcome"
   ]
  },
  {
   "cell_type": "markdown",
   "metadata": {},
   "source": [
    "And now answer the question: What's the probability you'll pass two exams if one of them is held on a Friday and is a pass?"
   ]
  },
  {
   "cell_type": "code",
   "execution_count": 19,
   "metadata": {},
   "outputs": [
    {
     "data": {
      "text/plain": [
       "Fraction(13, 27)"
      ]
     },
     "execution_count": 19,
     "metadata": {},
     "output_type": "execute_result"
    }
   ],
   "source": [
    " P(two_passes, two_exams_week & at_least_one_pass_friday)"
   ]
  },
  {
   "cell_type": "markdown",
   "metadata": {},
   "source": [
    "Is it the same as the probability of passing two exams while one is Pass? Why?"
   ]
  },
  {
   "cell_type": "markdown",
   "metadata": {},
   "source": [
    "## Part 2\n",
    "\n",
    "Let's display results as a 2D grid of outcomes. A cell will be colored green if `event` is true, yellow if `condition` is true, and the sample space consists of `dist`:\n",
    "\n",
    "```python```\n",
    "from IPython.display import HTML\n",
    "\n",
    "def Pgrid(event, dist, condition):\n",
    "    def first_half(s): return s[:len(s)//2]\n",
    "    firsts = sorted(set(map(first_half, dist)))\n",
    "    return HTML('<table>' +\n",
    "                cat(row(first, event, dist, condition) for first in firsts) +\n",
    "                '</table>' + \n",
    "                '<tt>P({} | {}) = {}</tt>'.format(\n",
    "                event.__name__, condition.__name__, \n",
    "                P(event, dist & condition)))\n",
    "\n",
    "def row(first, event, dist, condition):\n",
    "    \"Display a row where the first exam is paired with each of the possible second exam.\"\n",
    "    thisrow = sorted(outcome for outcome in dist if outcome.startswith(first))\n",
    "    return '<tr>' + cat(cell(outcome, event, condition) for outcome in thisrow) + '</tr>'\n",
    "\n",
    "def cell(outcome, event, condition): \n",
    "    \"Display outcome in appropriate color.\"\n",
    "    color = ('lightgreen' if event(outcome) and condition(outcome) else\n",
    "             'yellow' if condition(outcome) else\n",
    "             'white')\n",
    "    return '<td style=\"background-color: {}\">{}</td>'.format(color, outcome)    \n",
    "\n",
    "cat = ''.join\n",
    "```"
   ]
  },
  {
   "cell_type": "code",
   "execution_count": 20,
   "metadata": {},
   "outputs": [],
   "source": [
    "from IPython.display import HTML\n",
    "\n",
    "def Pgrid(event, dist, condition):\n",
    "    def first_half(s): return s[:len(s)//2]\n",
    "    firsts = sorted(set(map(first_half, dist)))\n",
    "    return HTML('<table>' +\n",
    "                cat(row(first, event, dist, condition) for first in firsts) +\n",
    "                '</table>' + \n",
    "                '<tt>P({} | {}) = {}</tt>'.format(\n",
    "                event.__name__, condition.__name__, \n",
    "                P(event, dist & condition)))\n",
    "\n",
    "def row(first, event, dist, condition):\n",
    "    \"Display a row where the first exam is paired with each of the possible second exam.\"\n",
    "    thisrow = sorted(outcome for outcome in dist if outcome.startswith(first))\n",
    "    return '<tr>' + cat(cell(outcome, event, condition) for outcome in thisrow) + '</tr>'\n",
    "\n",
    "def cell(outcome, event, condition): \n",
    "    \"Display outcome in appropriate color.\"\n",
    "    color = ('lightgreen' if event(outcome) and condition(outcome) else\n",
    "             'yellow' if condition(outcome) else\n",
    "             'white')\n",
    "    return '<td style=\"background-color: {}\">{}</td>'.format(color, outcome)    \n",
    "\n",
    "cat = ''.join"
   ]
  },
  {
   "cell_type": "markdown",
   "metadata": {},
   "source": [
    "Draw the grid that displays in green all possibilities of two passes, in yellow all possibilities of one pass and one fail, and in white all twin fails. In other words, colored cells describe all possibilities of at least one pass. The sample space is **two_exams_week**.\n",
    "\n",
    "```python```\n",
    "Pgrid(two_passes, two_exams_week, at_least_one_pass)\n",
    "```"
   ]
  },
  {
   "cell_type": "code",
   "execution_count": 21,
   "metadata": {},
   "outputs": [
    {
     "data": {
      "text/html": [
       "<table><tr><td style=\"background-color: white\">F 1 F 1</td><td style=\"background-color: white\">F 1 F 2</td><td style=\"background-color: white\">F 1 F 3</td><td style=\"background-color: white\">F 1 F 4</td><td style=\"background-color: white\">F 1 F 5</td><td style=\"background-color: white\">F 1 F 6</td><td style=\"background-color: white\">F 1 F 7</td><td style=\"background-color: yellow\">F 1 P 1</td><td style=\"background-color: yellow\">F 1 P 2</td><td style=\"background-color: yellow\">F 1 P 3</td><td style=\"background-color: yellow\">F 1 P 4</td><td style=\"background-color: yellow\">F 1 P 5</td><td style=\"background-color: yellow\">F 1 P 6</td><td style=\"background-color: yellow\">F 1 P 7</td></tr><tr><td style=\"background-color: white\">F 2 F 1</td><td style=\"background-color: white\">F 2 F 2</td><td style=\"background-color: white\">F 2 F 3</td><td style=\"background-color: white\">F 2 F 4</td><td style=\"background-color: white\">F 2 F 5</td><td style=\"background-color: white\">F 2 F 6</td><td style=\"background-color: white\">F 2 F 7</td><td style=\"background-color: yellow\">F 2 P 1</td><td style=\"background-color: yellow\">F 2 P 2</td><td style=\"background-color: yellow\">F 2 P 3</td><td style=\"background-color: yellow\">F 2 P 4</td><td style=\"background-color: yellow\">F 2 P 5</td><td style=\"background-color: yellow\">F 2 P 6</td><td style=\"background-color: yellow\">F 2 P 7</td></tr><tr><td style=\"background-color: white\">F 3 F 1</td><td style=\"background-color: white\">F 3 F 2</td><td style=\"background-color: white\">F 3 F 3</td><td style=\"background-color: white\">F 3 F 4</td><td style=\"background-color: white\">F 3 F 5</td><td style=\"background-color: white\">F 3 F 6</td><td style=\"background-color: white\">F 3 F 7</td><td style=\"background-color: yellow\">F 3 P 1</td><td style=\"background-color: yellow\">F 3 P 2</td><td style=\"background-color: yellow\">F 3 P 3</td><td style=\"background-color: yellow\">F 3 P 4</td><td style=\"background-color: yellow\">F 3 P 5</td><td style=\"background-color: yellow\">F 3 P 6</td><td style=\"background-color: yellow\">F 3 P 7</td></tr><tr><td style=\"background-color: white\">F 4 F 1</td><td style=\"background-color: white\">F 4 F 2</td><td style=\"background-color: white\">F 4 F 3</td><td style=\"background-color: white\">F 4 F 4</td><td style=\"background-color: white\">F 4 F 5</td><td style=\"background-color: white\">F 4 F 6</td><td style=\"background-color: white\">F 4 F 7</td><td style=\"background-color: yellow\">F 4 P 1</td><td style=\"background-color: yellow\">F 4 P 2</td><td style=\"background-color: yellow\">F 4 P 3</td><td style=\"background-color: yellow\">F 4 P 4</td><td style=\"background-color: yellow\">F 4 P 5</td><td style=\"background-color: yellow\">F 4 P 6</td><td style=\"background-color: yellow\">F 4 P 7</td></tr><tr><td style=\"background-color: white\">F 5 F 1</td><td style=\"background-color: white\">F 5 F 2</td><td style=\"background-color: white\">F 5 F 3</td><td style=\"background-color: white\">F 5 F 4</td><td style=\"background-color: white\">F 5 F 5</td><td style=\"background-color: white\">F 5 F 6</td><td style=\"background-color: white\">F 5 F 7</td><td style=\"background-color: yellow\">F 5 P 1</td><td style=\"background-color: yellow\">F 5 P 2</td><td style=\"background-color: yellow\">F 5 P 3</td><td style=\"background-color: yellow\">F 5 P 4</td><td style=\"background-color: yellow\">F 5 P 5</td><td style=\"background-color: yellow\">F 5 P 6</td><td style=\"background-color: yellow\">F 5 P 7</td></tr><tr><td style=\"background-color: white\">F 6 F 1</td><td style=\"background-color: white\">F 6 F 2</td><td style=\"background-color: white\">F 6 F 3</td><td style=\"background-color: white\">F 6 F 4</td><td style=\"background-color: white\">F 6 F 5</td><td style=\"background-color: white\">F 6 F 6</td><td style=\"background-color: white\">F 6 F 7</td><td style=\"background-color: yellow\">F 6 P 1</td><td style=\"background-color: yellow\">F 6 P 2</td><td style=\"background-color: yellow\">F 6 P 3</td><td style=\"background-color: yellow\">F 6 P 4</td><td style=\"background-color: yellow\">F 6 P 5</td><td style=\"background-color: yellow\">F 6 P 6</td><td style=\"background-color: yellow\">F 6 P 7</td></tr><tr><td style=\"background-color: white\">F 7 F 1</td><td style=\"background-color: white\">F 7 F 2</td><td style=\"background-color: white\">F 7 F 3</td><td style=\"background-color: white\">F 7 F 4</td><td style=\"background-color: white\">F 7 F 5</td><td style=\"background-color: white\">F 7 F 6</td><td style=\"background-color: white\">F 7 F 7</td><td style=\"background-color: yellow\">F 7 P 1</td><td style=\"background-color: yellow\">F 7 P 2</td><td style=\"background-color: yellow\">F 7 P 3</td><td style=\"background-color: yellow\">F 7 P 4</td><td style=\"background-color: yellow\">F 7 P 5</td><td style=\"background-color: yellow\">F 7 P 6</td><td style=\"background-color: yellow\">F 7 P 7</td></tr><tr><td style=\"background-color: yellow\">P 1 F 1</td><td style=\"background-color: yellow\">P 1 F 2</td><td style=\"background-color: yellow\">P 1 F 3</td><td style=\"background-color: yellow\">P 1 F 4</td><td style=\"background-color: yellow\">P 1 F 5</td><td style=\"background-color: yellow\">P 1 F 6</td><td style=\"background-color: yellow\">P 1 F 7</td><td style=\"background-color: lightgreen\">P 1 P 1</td><td style=\"background-color: lightgreen\">P 1 P 2</td><td style=\"background-color: lightgreen\">P 1 P 3</td><td style=\"background-color: lightgreen\">P 1 P 4</td><td style=\"background-color: lightgreen\">P 1 P 5</td><td style=\"background-color: lightgreen\">P 1 P 6</td><td style=\"background-color: lightgreen\">P 1 P 7</td></tr><tr><td style=\"background-color: yellow\">P 2 F 1</td><td style=\"background-color: yellow\">P 2 F 2</td><td style=\"background-color: yellow\">P 2 F 3</td><td style=\"background-color: yellow\">P 2 F 4</td><td style=\"background-color: yellow\">P 2 F 5</td><td style=\"background-color: yellow\">P 2 F 6</td><td style=\"background-color: yellow\">P 2 F 7</td><td style=\"background-color: lightgreen\">P 2 P 1</td><td style=\"background-color: lightgreen\">P 2 P 2</td><td style=\"background-color: lightgreen\">P 2 P 3</td><td style=\"background-color: lightgreen\">P 2 P 4</td><td style=\"background-color: lightgreen\">P 2 P 5</td><td style=\"background-color: lightgreen\">P 2 P 6</td><td style=\"background-color: lightgreen\">P 2 P 7</td></tr><tr><td style=\"background-color: yellow\">P 3 F 1</td><td style=\"background-color: yellow\">P 3 F 2</td><td style=\"background-color: yellow\">P 3 F 3</td><td style=\"background-color: yellow\">P 3 F 4</td><td style=\"background-color: yellow\">P 3 F 5</td><td style=\"background-color: yellow\">P 3 F 6</td><td style=\"background-color: yellow\">P 3 F 7</td><td style=\"background-color: lightgreen\">P 3 P 1</td><td style=\"background-color: lightgreen\">P 3 P 2</td><td style=\"background-color: lightgreen\">P 3 P 3</td><td style=\"background-color: lightgreen\">P 3 P 4</td><td style=\"background-color: lightgreen\">P 3 P 5</td><td style=\"background-color: lightgreen\">P 3 P 6</td><td style=\"background-color: lightgreen\">P 3 P 7</td></tr><tr><td style=\"background-color: yellow\">P 4 F 1</td><td style=\"background-color: yellow\">P 4 F 2</td><td style=\"background-color: yellow\">P 4 F 3</td><td style=\"background-color: yellow\">P 4 F 4</td><td style=\"background-color: yellow\">P 4 F 5</td><td style=\"background-color: yellow\">P 4 F 6</td><td style=\"background-color: yellow\">P 4 F 7</td><td style=\"background-color: lightgreen\">P 4 P 1</td><td style=\"background-color: lightgreen\">P 4 P 2</td><td style=\"background-color: lightgreen\">P 4 P 3</td><td style=\"background-color: lightgreen\">P 4 P 4</td><td style=\"background-color: lightgreen\">P 4 P 5</td><td style=\"background-color: lightgreen\">P 4 P 6</td><td style=\"background-color: lightgreen\">P 4 P 7</td></tr><tr><td style=\"background-color: yellow\">P 5 F 1</td><td style=\"background-color: yellow\">P 5 F 2</td><td style=\"background-color: yellow\">P 5 F 3</td><td style=\"background-color: yellow\">P 5 F 4</td><td style=\"background-color: yellow\">P 5 F 5</td><td style=\"background-color: yellow\">P 5 F 6</td><td style=\"background-color: yellow\">P 5 F 7</td><td style=\"background-color: lightgreen\">P 5 P 1</td><td style=\"background-color: lightgreen\">P 5 P 2</td><td style=\"background-color: lightgreen\">P 5 P 3</td><td style=\"background-color: lightgreen\">P 5 P 4</td><td style=\"background-color: lightgreen\">P 5 P 5</td><td style=\"background-color: lightgreen\">P 5 P 6</td><td style=\"background-color: lightgreen\">P 5 P 7</td></tr><tr><td style=\"background-color: yellow\">P 6 F 1</td><td style=\"background-color: yellow\">P 6 F 2</td><td style=\"background-color: yellow\">P 6 F 3</td><td style=\"background-color: yellow\">P 6 F 4</td><td style=\"background-color: yellow\">P 6 F 5</td><td style=\"background-color: yellow\">P 6 F 6</td><td style=\"background-color: yellow\">P 6 F 7</td><td style=\"background-color: lightgreen\">P 6 P 1</td><td style=\"background-color: lightgreen\">P 6 P 2</td><td style=\"background-color: lightgreen\">P 6 P 3</td><td style=\"background-color: lightgreen\">P 6 P 4</td><td style=\"background-color: lightgreen\">P 6 P 5</td><td style=\"background-color: lightgreen\">P 6 P 6</td><td style=\"background-color: lightgreen\">P 6 P 7</td></tr><tr><td style=\"background-color: yellow\">P 7 F 1</td><td style=\"background-color: yellow\">P 7 F 2</td><td style=\"background-color: yellow\">P 7 F 3</td><td style=\"background-color: yellow\">P 7 F 4</td><td style=\"background-color: yellow\">P 7 F 5</td><td style=\"background-color: yellow\">P 7 F 6</td><td style=\"background-color: yellow\">P 7 F 7</td><td style=\"background-color: lightgreen\">P 7 P 1</td><td style=\"background-color: lightgreen\">P 7 P 2</td><td style=\"background-color: lightgreen\">P 7 P 3</td><td style=\"background-color: lightgreen\">P 7 P 4</td><td style=\"background-color: lightgreen\">P 7 P 5</td><td style=\"background-color: lightgreen\">P 7 P 6</td><td style=\"background-color: lightgreen\">P 7 P 7</td></tr></table><tt>P(two_passes | at_least_one_pass) = 1/3</tt>"
      ],
      "text/plain": [
       "<IPython.core.display.HTML object>"
      ]
     },
     "execution_count": 21,
     "metadata": {},
     "output_type": "execute_result"
    }
   ],
   "source": [
    "Pgrid(two_passes, two_exams_week, at_least_one_pass)"
   ]
  },
  {
   "cell_type": "markdown",
   "metadata": {},
   "source": [
    "So the probability of two passes given at least one pass is, indeed, 1/3 because we need to throw away the upper left quadrant, and there is 1/3rd of green cells over colored cells."
   ]
  },
  {
   "cell_type": "markdown",
   "metadata": {},
   "source": [
    "Now draw the grid that displays in green all possibilities of two passes when one is on a Friday, in yellow all possibilities of one pass and one fail when one pass is on a Friday, and in white for the rest. In other words, colored cells are all cells where at least one pass happened on Friday. The sample space is **two_exams_week**.\n",
    "\n",
    "```python```\n",
    "Pgrid(two_passes, two_exams_week, at_least_one_pass_friday)\n",
    "```"
   ]
  },
  {
   "cell_type": "code",
   "execution_count": 22,
   "metadata": {},
   "outputs": [
    {
     "data": {
      "text/html": [
       "<table><tr><td style=\"background-color: white\">F 1 F 1</td><td style=\"background-color: white\">F 1 F 2</td><td style=\"background-color: white\">F 1 F 3</td><td style=\"background-color: white\">F 1 F 4</td><td style=\"background-color: white\">F 1 F 5</td><td style=\"background-color: white\">F 1 F 6</td><td style=\"background-color: white\">F 1 F 7</td><td style=\"background-color: white\">F 1 P 1</td><td style=\"background-color: white\">F 1 P 2</td><td style=\"background-color: white\">F 1 P 3</td><td style=\"background-color: white\">F 1 P 4</td><td style=\"background-color: white\">F 1 P 5</td><td style=\"background-color: yellow\">F 1 P 6</td><td style=\"background-color: white\">F 1 P 7</td></tr><tr><td style=\"background-color: white\">F 2 F 1</td><td style=\"background-color: white\">F 2 F 2</td><td style=\"background-color: white\">F 2 F 3</td><td style=\"background-color: white\">F 2 F 4</td><td style=\"background-color: white\">F 2 F 5</td><td style=\"background-color: white\">F 2 F 6</td><td style=\"background-color: white\">F 2 F 7</td><td style=\"background-color: white\">F 2 P 1</td><td style=\"background-color: white\">F 2 P 2</td><td style=\"background-color: white\">F 2 P 3</td><td style=\"background-color: white\">F 2 P 4</td><td style=\"background-color: white\">F 2 P 5</td><td style=\"background-color: yellow\">F 2 P 6</td><td style=\"background-color: white\">F 2 P 7</td></tr><tr><td style=\"background-color: white\">F 3 F 1</td><td style=\"background-color: white\">F 3 F 2</td><td style=\"background-color: white\">F 3 F 3</td><td style=\"background-color: white\">F 3 F 4</td><td style=\"background-color: white\">F 3 F 5</td><td style=\"background-color: white\">F 3 F 6</td><td style=\"background-color: white\">F 3 F 7</td><td style=\"background-color: white\">F 3 P 1</td><td style=\"background-color: white\">F 3 P 2</td><td style=\"background-color: white\">F 3 P 3</td><td style=\"background-color: white\">F 3 P 4</td><td style=\"background-color: white\">F 3 P 5</td><td style=\"background-color: yellow\">F 3 P 6</td><td style=\"background-color: white\">F 3 P 7</td></tr><tr><td style=\"background-color: white\">F 4 F 1</td><td style=\"background-color: white\">F 4 F 2</td><td style=\"background-color: white\">F 4 F 3</td><td style=\"background-color: white\">F 4 F 4</td><td style=\"background-color: white\">F 4 F 5</td><td style=\"background-color: white\">F 4 F 6</td><td style=\"background-color: white\">F 4 F 7</td><td style=\"background-color: white\">F 4 P 1</td><td style=\"background-color: white\">F 4 P 2</td><td style=\"background-color: white\">F 4 P 3</td><td style=\"background-color: white\">F 4 P 4</td><td style=\"background-color: white\">F 4 P 5</td><td style=\"background-color: yellow\">F 4 P 6</td><td style=\"background-color: white\">F 4 P 7</td></tr><tr><td style=\"background-color: white\">F 5 F 1</td><td style=\"background-color: white\">F 5 F 2</td><td style=\"background-color: white\">F 5 F 3</td><td style=\"background-color: white\">F 5 F 4</td><td style=\"background-color: white\">F 5 F 5</td><td style=\"background-color: white\">F 5 F 6</td><td style=\"background-color: white\">F 5 F 7</td><td style=\"background-color: white\">F 5 P 1</td><td style=\"background-color: white\">F 5 P 2</td><td style=\"background-color: white\">F 5 P 3</td><td style=\"background-color: white\">F 5 P 4</td><td style=\"background-color: white\">F 5 P 5</td><td style=\"background-color: yellow\">F 5 P 6</td><td style=\"background-color: white\">F 5 P 7</td></tr><tr><td style=\"background-color: white\">F 6 F 1</td><td style=\"background-color: white\">F 6 F 2</td><td style=\"background-color: white\">F 6 F 3</td><td style=\"background-color: white\">F 6 F 4</td><td style=\"background-color: white\">F 6 F 5</td><td style=\"background-color: white\">F 6 F 6</td><td style=\"background-color: white\">F 6 F 7</td><td style=\"background-color: white\">F 6 P 1</td><td style=\"background-color: white\">F 6 P 2</td><td style=\"background-color: white\">F 6 P 3</td><td style=\"background-color: white\">F 6 P 4</td><td style=\"background-color: white\">F 6 P 5</td><td style=\"background-color: yellow\">F 6 P 6</td><td style=\"background-color: white\">F 6 P 7</td></tr><tr><td style=\"background-color: white\">F 7 F 1</td><td style=\"background-color: white\">F 7 F 2</td><td style=\"background-color: white\">F 7 F 3</td><td style=\"background-color: white\">F 7 F 4</td><td style=\"background-color: white\">F 7 F 5</td><td style=\"background-color: white\">F 7 F 6</td><td style=\"background-color: white\">F 7 F 7</td><td style=\"background-color: white\">F 7 P 1</td><td style=\"background-color: white\">F 7 P 2</td><td style=\"background-color: white\">F 7 P 3</td><td style=\"background-color: white\">F 7 P 4</td><td style=\"background-color: white\">F 7 P 5</td><td style=\"background-color: yellow\">F 7 P 6</td><td style=\"background-color: white\">F 7 P 7</td></tr><tr><td style=\"background-color: white\">P 1 F 1</td><td style=\"background-color: white\">P 1 F 2</td><td style=\"background-color: white\">P 1 F 3</td><td style=\"background-color: white\">P 1 F 4</td><td style=\"background-color: white\">P 1 F 5</td><td style=\"background-color: white\">P 1 F 6</td><td style=\"background-color: white\">P 1 F 7</td><td style=\"background-color: white\">P 1 P 1</td><td style=\"background-color: white\">P 1 P 2</td><td style=\"background-color: white\">P 1 P 3</td><td style=\"background-color: white\">P 1 P 4</td><td style=\"background-color: white\">P 1 P 5</td><td style=\"background-color: lightgreen\">P 1 P 6</td><td style=\"background-color: white\">P 1 P 7</td></tr><tr><td style=\"background-color: white\">P 2 F 1</td><td style=\"background-color: white\">P 2 F 2</td><td style=\"background-color: white\">P 2 F 3</td><td style=\"background-color: white\">P 2 F 4</td><td style=\"background-color: white\">P 2 F 5</td><td style=\"background-color: white\">P 2 F 6</td><td style=\"background-color: white\">P 2 F 7</td><td style=\"background-color: white\">P 2 P 1</td><td style=\"background-color: white\">P 2 P 2</td><td style=\"background-color: white\">P 2 P 3</td><td style=\"background-color: white\">P 2 P 4</td><td style=\"background-color: white\">P 2 P 5</td><td style=\"background-color: lightgreen\">P 2 P 6</td><td style=\"background-color: white\">P 2 P 7</td></tr><tr><td style=\"background-color: white\">P 3 F 1</td><td style=\"background-color: white\">P 3 F 2</td><td style=\"background-color: white\">P 3 F 3</td><td style=\"background-color: white\">P 3 F 4</td><td style=\"background-color: white\">P 3 F 5</td><td style=\"background-color: white\">P 3 F 6</td><td style=\"background-color: white\">P 3 F 7</td><td style=\"background-color: white\">P 3 P 1</td><td style=\"background-color: white\">P 3 P 2</td><td style=\"background-color: white\">P 3 P 3</td><td style=\"background-color: white\">P 3 P 4</td><td style=\"background-color: white\">P 3 P 5</td><td style=\"background-color: lightgreen\">P 3 P 6</td><td style=\"background-color: white\">P 3 P 7</td></tr><tr><td style=\"background-color: white\">P 4 F 1</td><td style=\"background-color: white\">P 4 F 2</td><td style=\"background-color: white\">P 4 F 3</td><td style=\"background-color: white\">P 4 F 4</td><td style=\"background-color: white\">P 4 F 5</td><td style=\"background-color: white\">P 4 F 6</td><td style=\"background-color: white\">P 4 F 7</td><td style=\"background-color: white\">P 4 P 1</td><td style=\"background-color: white\">P 4 P 2</td><td style=\"background-color: white\">P 4 P 3</td><td style=\"background-color: white\">P 4 P 4</td><td style=\"background-color: white\">P 4 P 5</td><td style=\"background-color: lightgreen\">P 4 P 6</td><td style=\"background-color: white\">P 4 P 7</td></tr><tr><td style=\"background-color: white\">P 5 F 1</td><td style=\"background-color: white\">P 5 F 2</td><td style=\"background-color: white\">P 5 F 3</td><td style=\"background-color: white\">P 5 F 4</td><td style=\"background-color: white\">P 5 F 5</td><td style=\"background-color: white\">P 5 F 6</td><td style=\"background-color: white\">P 5 F 7</td><td style=\"background-color: white\">P 5 P 1</td><td style=\"background-color: white\">P 5 P 2</td><td style=\"background-color: white\">P 5 P 3</td><td style=\"background-color: white\">P 5 P 4</td><td style=\"background-color: white\">P 5 P 5</td><td style=\"background-color: lightgreen\">P 5 P 6</td><td style=\"background-color: white\">P 5 P 7</td></tr><tr><td style=\"background-color: yellow\">P 6 F 1</td><td style=\"background-color: yellow\">P 6 F 2</td><td style=\"background-color: yellow\">P 6 F 3</td><td style=\"background-color: yellow\">P 6 F 4</td><td style=\"background-color: yellow\">P 6 F 5</td><td style=\"background-color: yellow\">P 6 F 6</td><td style=\"background-color: yellow\">P 6 F 7</td><td style=\"background-color: lightgreen\">P 6 P 1</td><td style=\"background-color: lightgreen\">P 6 P 2</td><td style=\"background-color: lightgreen\">P 6 P 3</td><td style=\"background-color: lightgreen\">P 6 P 4</td><td style=\"background-color: lightgreen\">P 6 P 5</td><td style=\"background-color: lightgreen\">P 6 P 6</td><td style=\"background-color: lightgreen\">P 6 P 7</td></tr><tr><td style=\"background-color: white\">P 7 F 1</td><td style=\"background-color: white\">P 7 F 2</td><td style=\"background-color: white\">P 7 F 3</td><td style=\"background-color: white\">P 7 F 4</td><td style=\"background-color: white\">P 7 F 5</td><td style=\"background-color: white\">P 7 F 6</td><td style=\"background-color: white\">P 7 F 7</td><td style=\"background-color: white\">P 7 P 1</td><td style=\"background-color: white\">P 7 P 2</td><td style=\"background-color: white\">P 7 P 3</td><td style=\"background-color: white\">P 7 P 4</td><td style=\"background-color: white\">P 7 P 5</td><td style=\"background-color: lightgreen\">P 7 P 6</td><td style=\"background-color: white\">P 7 P 7</td></tr></table><tt>P(two_passes | at_least_one_pass_friday) = 13/27</tt>"
      ],
      "text/plain": [
       "<IPython.core.display.HTML object>"
      ]
     },
     "execution_count": 22,
     "metadata": {},
     "output_type": "execute_result"
    }
   ],
   "source": [
    "Pgrid(two_passes, two_exams_week, at_least_one_pass_friday)"
   ]
  },
  {
   "cell_type": "markdown",
   "metadata": {},
   "source": [
    "And now count the probability of two passes given that one was on a Friday by counting the number of green cells over the number of colored cells, and conclude."
   ]
  },
  {
   "cell_type": "markdown",
   "metadata": {},
   "source": [
    "Probability theory is all about counting!\n",
    "\n",
    "<br />\n",
    "<center>\n",
    "<img src = ipynb.images/counting.jpg width = 400 />\n",
    "</center>\n",
    "\n",
    "The critical twist here is that the information on a pass on Friday is used at the outset to determine the sample space. In other words, we are really considering the question: “Among all twin exams for which one of them is conducted on a Friday, what fraction of these interviews are double passes”? This is the information we're after, and this information determines your sample space.\n",
    "\n",
    "Paradoxes usually appear when the sampling procedure is not fully specified and the reader needs to interpret it. A good interpretation of the hypothesis is required to qunch paradoxes.\n",
    "\n",
    "<br />\n",
    "<center>\n",
    "<img src = ipynb.images/paradox.jpg width = 400 />\n",
    "</center>"
   ]
  },
  {
   "cell_type": "code",
   "execution_count": null,
   "metadata": {},
   "outputs": [],
   "source": []
  }
 ],
 "metadata": {
  "kernelspec": {
   "display_name": "Python 3",
   "language": "python",
   "name": "python3"
  },
  "language_info": {
   "codemirror_mode": {
    "name": "ipython",
    "version": 3
   },
   "file_extension": ".py",
   "mimetype": "text/x-python",
   "name": "python",
   "nbconvert_exporter": "python",
   "pygments_lexer": "ipython3",
   "version": "3.7.0"
  }
 },
 "nbformat": 4,
 "nbformat_minor": 1
}
