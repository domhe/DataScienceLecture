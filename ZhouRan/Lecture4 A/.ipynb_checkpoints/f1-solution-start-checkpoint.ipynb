{
 "cells": [
  {
   "cell_type": "markdown",
   "metadata": {
    "button": false,
    "new_sheet": false,
    "run_control": {
     "read_only": false
    }
   },
   "source": [
    "<div style=\"text-align: right\">INFO 6105 Data Sci Engineering Methods and Tools, Week 4 Lecture 1</div>\n",
    "<div style=\"text-align: right\">Dino Konstantopoulos, 4 February 2019</div>\n",
    "\n",
    "We correct your data science homework involving Formula 1 driving. \n",
    "\n",
    "Let's use the following probability function."
   ]
  },
  {
   "cell_type": "code",
   "execution_count": 1,
   "metadata": {
    "button": false,
    "new_sheet": false,
    "run_control": {
     "read_only": false
    }
   },
   "outputs": [],
   "source": [
    "def p(event, space): \n",
    "    \"\"\"The probability of an event, given a sample space of outcomes. \n",
    "    event: a collection of outcomes, or a predicate that is true of outcomes in the event. \n",
    "    space: a set of outcomes or a probability distribution of {outcome: frequency} pairs.\"\"\"\n",
    "    if is_predicate(event):\n",
    "        event = such_that(event, space)\n",
    "    if isinstance(space, ProbDist):\n",
    "        return sum(space[o] for o in space if o in event)\n",
    "    else:\n",
    "        return Fraction(len(event & space), len(space))\n",
    "\n",
    "is_predicate = callable\n",
    "\n",
    "def such_that(predicate, space): \n",
    "    \"\"\"The outcomes in the sample pace for which the predicate is true.\n",
    "    If space is a set, return a subset {outcome,...} with outcomes where predicate(element) is true;\n",
    "    if space is a ProbDist, return a ProbDist {outcome: frequency,...} with outcomes where predicate(element) is true.\"\"\"\n",
    "    if isinstance(space, ProbDist):\n",
    "        return ProbDist({o:space[o] for o in space if predicate(o)})\n",
    "    else:\n",
    "        return {o for o in space if predicate(o)}"
   ]
  },
  {
   "cell_type": "code",
   "execution_count": 2,
   "metadata": {},
   "outputs": [],
   "source": [
    "class ProbDist(dict):\n",
    "    \"\"\"A Probability Distribution; an {outcome: probability} mapping.\"\"\"\n",
    "    def __init__(self, mapping=(), **kwargs):\n",
    "        self.update(mapping, **kwargs)\n",
    "        # Make probabilities sum to 1.0; assert no negative probabilities\n",
    "        total = sum(self.values())\n",
    "        for outcome in self:\n",
    "            self[outcome] = self[outcome] / total\n",
    "            assert self[outcome] >= 0"
   ]
  },
  {
   "cell_type": "markdown",
   "metadata": {},
   "source": [
    "# F1\n",
    "\n",
    "<br />\n",
    "<center>\n",
    "    <img src=\"ipynb.images/f1races.png\" width=800 />\n",
    "</center>\n",
    "\n",
    "Question 1.1 (20 points) There are two F1 races coming up: The Russian Grand Prix this weekend and the Japanese Grand Prix the weekend after. The 2018 driver standings are given [here](https://www.formula1.com/en/results.html/2018/drivers.html). Given these standings (please do not use team standings given on the same Web site, use driver standings), what is the Probability Distribution for each F1 driver to win the Russian Grand Prix? What is the Probability Distribution for each F1 driver to win *both* the Russian and Japanese Grand Prix? What is the probability for Ferrari to win both races? What is the probability for Ferrari to win at least one race? Note that Ferrari, and each other racing team, has two drivers per race.\n",
    "\n",
    "Question 1.2 (30 points) If Ferrari wins the first race, what is the probability that Ferrari wins the next one? If Ferrari wins at least one of these two races, what is the probability Ferrari wins both races? How about Mercedes, Red Bull, and Williams?\n",
    "\n",
    "Question 1.3 (50 points) Ferrari wins one of these two races on a rainy day. What is the probability Ferrari wins both races, assuming races can be held on either rainy, sunny, cloudy, snowy or foggy days? Assume that rain, sun, clouds, snow, and fog are the only possible weather conditions on race tracks.\n",
    "\n",
    "You need to provide *proof* for your answers. `I think it's one in a million because Ferrari sucks` is not a good answer. Leverage the counting framework in this workbook."
   ]
  },
  {
   "cell_type": "markdown",
   "metadata": {},
   "source": [
    "put the standings here, so you don't have to refer to the Web site every time. Leave the cell unformatted.\n",
    "\n",
    "..."
   ]
  },
  {
   "cell_type": "markdown",
   "metadata": {},
   "source": [
    "Hint: Use `RGP` to denote the Probability Distribution given by F1 driver wins. Write driver initials as keys and driver wins as values in a dictionary that you pass to our function `ProbDist`..\n",
    "\n",
    "### Question 1"
   ]
  },
  {
   "cell_type": "code",
   "execution_count": 3,
   "metadata": {},
   "outputs": [
    {
     "data": {
      "text/plain": [
       "{'LH': 0.18547854785478549,\n",
       " 'SV': 0.15907590759075907,\n",
       " 'KR': 0.11485148514851486,\n",
       " 'VB': 0.11287128712871287,\n",
       " 'MV': 0.09768976897689768,\n",
       " 'DR': 0.08316831683168317,\n",
       " 'NH': 0.03498349834983498,\n",
       " 'FA': 0.033003300330033,\n",
       " 'KM': 0.03234323432343234,\n",
       " 'SP': 0.030363036303630363,\n",
       " 'EO': 0.0297029702970297,\n",
       " 'CS': 0.025082508250825083,\n",
       " 'PG': 0.018481848184818482,\n",
       " 'RG': 0.01782178217821782,\n",
       " 'CL': 0.009900990099009901,\n",
       " 'SD': 0.005280528052805281,\n",
       " 'LS': 0.0039603960396039604,\n",
       " 'ME': 0.0039603960396039604,\n",
       " 'BH': 0.0013201320132013201,\n",
       " 'SS': 0.0006600660066006601}"
      ]
     },
     "execution_count": 3,
     "metadata": {},
     "output_type": "execute_result"
    }
   ],
   "source": [
    "RGP = ProbDist(\n",
    "    LH = 281,\n",
    "    SV = 241,\n",
    "    KR = 174,\n",
    "    VB = 171,\n",
    "    MV = 148,\n",
    "    DR = 126,\n",
    "    NH = 53,\n",
    "    FA = 50,\n",
    "    KM = 49,\n",
    "    SP = 46,\n",
    "    EO = 45,\n",
    "    CS = 38,\n",
    "    PG = 28,\n",
    "    RG = 27,\n",
    "    CL = 15,\n",
    "    SD = 8,\n",
    "    LS = 6,\n",
    "    ME = 6,\n",
    "    BH = 2,\n",
    "    SS = 1)\n",
    "RGP"
   ]
  },
  {
   "cell_type": "markdown",
   "metadata": {},
   "source": [
    "The probability of two successive wins is just the square of each single win probability:"
   ]
  },
  {
   "cell_type": "code",
   "execution_count": 4,
   "metadata": {},
   "outputs": [
    {
     "data": {
      "text/plain": [
       "{'LH': 0.03440229171431995,\n",
       " 'SV': 0.025305144375823718,\n",
       " 'KR': 0.013190863640819528,\n",
       " 'VB': 0.012739927458092345,\n",
       " 'MV': 0.00954329096275964,\n",
       " 'DR': 0.006916968924615235,\n",
       " 'NH': 0.0012238451567929069,\n",
       " 'FA': 0.0010892178326743563,\n",
       " 'KM': 0.001046084806500452,\n",
       " 'SP': 0.0009219139735755754,\n",
       " 'EO': 0.0008822664444662287,\n",
       " 'CS': 0.0006291322201527084,\n",
       " 'PG': 0.0003415787123266782,\n",
       " 'RG': 0.0003176159200078423,\n",
       " 'CL': 9.80296049406921e-05,\n",
       " 'SD': 2.7883976516463527e-05,\n",
       " 'LS': 1.5684736790510734e-05,\n",
       " 'ME': 1.5684736790510734e-05,\n",
       " 'BH': 1.7427485322789704e-06,\n",
       " 'SS': 4.356871330697426e-07}"
      ]
     },
     "execution_count": 4,
     "metadata": {},
     "output_type": "execute_result"
    }
   ],
   "source": [
    "def f(x): return x ** 2.0\n",
    "RJGP = {k: f(v) for k, v in RGP.items()}\n",
    "RJGP"
   ]
  },
  {
   "cell_type": "code",
   "execution_count": null,
   "metadata": {},
   "outputs": [],
   "source": []
  },
  {
   "cell_type": "markdown",
   "metadata": {},
   "source": [
    "You could also compute this in a different way. You could leverage:"
   ]
  },
  {
   "cell_type": "code",
   "execution_count": 5,
   "metadata": {},
   "outputs": [
    {
     "name": "stdout",
     "output_type": "stream",
     "text": [
      "['SS CS', 'SV SP', 'VB CL', 'CS ME', 'LS SV', 'FA KM', 'LS SP', 'BH DR', 'ME KM', 'PG VB']\n",
      "('SS CS', 1.6556111056650233e-05)\n",
      "('SV SP', 0.00483002755721117)\n",
      "('VB CL', 0.0011175374963238907)\n",
      "('CS ME', 9.93366663399014e-05)\n",
      "('LS SV', 0.0006300035944188483)\n",
      "('FA KM', 0.00106743347602087)\n",
      "('LS SP', 0.00012024964872724906)\n",
      "('BH DR', 0.00010979315753357523)\n",
      "('ME KM', 0.00012809201712250443)\n",
      "('PG VB', 0.0020860699931379294)\n"
     ]
    }
   ],
   "source": [
    "def joint(A, B, sep=' '):\n",
    "    \"\"\"The joint distribution of two independent probability distributions. \n",
    "    Result is all entries of the form {a+sep+b: P(a)*P(b)}\"\"\"\n",
    "    return ProbDist({a + sep + b: A[a] * B[b]\n",
    "                    for a in A\n",
    "                    for b in B})\n",
    "\n",
    "RJGP2 = joint(RGP, RGP, ' ')\n",
    "import random\n",
    "winners_rnd = random.sample(list(RJGP2), 10)\n",
    "print(winners_rnd)\n",
    "probs_rnd = [RJGP2[k] for k in winners_rnd]\n",
    "winners_n_probs_rnd = list(zip(winners_rnd, probs_rnd))\n",
    "print('\\n'.join([str(outcome) for outcome in winners_n_probs_rnd]))"
   ]
  },
  {
   "cell_type": "markdown",
   "metadata": {},
   "source": [
    "Verify the sum of all probabilities is 1:\n",
    "```python\n",
    "all_probs = [RJGP2[k] for k in RJGP2]\n",
    "sum(all_probs)\n",
    "```"
   ]
  },
  {
   "cell_type": "code",
   "execution_count": 6,
   "metadata": {},
   "outputs": [
    {
     "data": {
      "text/plain": [
       "1.0000000000000004"
      ]
     },
     "execution_count": 6,
     "metadata": {},
     "output_type": "execute_result"
    }
   ],
   "source": [
    "all_probs = [RJGP2[k] for k in RJGP2]\n",
    "sum(all_probs)"
   ]
  },
  {
   "cell_type": "markdown",
   "metadata": {},
   "source": [
    "and finally:"
   ]
  },
  {
   "cell_type": "code",
   "execution_count": 8,
   "metadata": {},
   "outputs": [
    {
     "name": "stdout",
     "output_type": "stream",
     "text": [
      "('SV SV', 0.02530514437582374)\n",
      "('DR DR', 0.00691696892461524)\n",
      "('NH NH', 0.0012238451567929077)\n",
      "('PG PG', 0.0003415787123266785)\n",
      "('LH LH', 0.03440229171431998)\n",
      "('KR KR', 0.013190863640819539)\n",
      "('KM KM', 0.0010460848065004529)\n",
      "('RG RG', 0.0003176159200078426)\n",
      "('EO EO', 0.0008822664444662294)\n",
      "('VB VB', 0.012739927458092356)\n",
      "('BH BH', 1.7427485322789717e-06)\n",
      "('CL CL', 9.802960494069218e-05)\n",
      "('SS SS', 4.3568713306974293e-07)\n",
      "('FA FA', 0.0010892178326743572)\n",
      "('SP SP', 0.0009219139735755762)\n",
      "('CS CS', 0.0006291322201527089)\n",
      "('ME ME', 1.5684736790510748e-05)\n",
      "('SD SD', 2.7883976516463547e-05)\n",
      "('LS LS', 1.5684736790510748e-05)\n",
      "('MV MV', 0.009543290962759647)\n"
     ]
    },
    {
     "data": {
      "text/plain": [
       "0.10870960363363075"
      ]
     },
     "execution_count": 8,
     "metadata": {},
     "output_type": "execute_result"
    }
   ],
   "source": [
    "#print([outcome for outcome in RJGP2 ])\n",
    "#print(list(zip(RJGP2.keys(), RJGP2.values())))\n",
    "winners = RJGP2.keys()\n",
    "probs = RJGP2.values()\n",
    "double_winners = {x for x in winners if x[0] == x[3] and x[1] == x[4]}\n",
    "#print(double_winners)\n",
    "probs = [RJGP2[k] for k in double_winners]\n",
    "double_winners_n_probs = list(zip(double_winners, probs))\n",
    "print('\\n'.join([str(outcome) for outcome in double_winners_n_probs]))\n",
    "sum(probs)"
   ]
  },
  {
   "cell_type": "markdown",
   "metadata": {},
   "source": [
    ".. which matches our previous result!"
   ]
  },
  {
   "cell_type": "markdown",
   "metadata": {},
   "source": [
    "Since The Ferrari drivers are Kimmi Raikkonen (KR) and Sebastien Vettel (SV), the probability of Ferrari winning *both* races are represented by keys KR SV, SV KR, KR KR, and SV SV. And so the probability of Ferrari winning *both* races is:"
   ]
  },
  {
   "cell_type": "code",
   "execution_count": 10,
   "metadata": {},
   "outputs": [
    {
     "name": "stdout",
     "output_type": "stream",
     "text": [
      "400\n",
      "Probability of Ferrari drivers winning both races is: 0.07503621649293649\n"
     ]
    }
   ],
   "source": [
    "winners = RJGP2.keys()\n",
    "probs = RJGP2.values()\n",
    "print(len(winners))\n",
    "#Ferrari_wins_2 = {x for x in winners if x in ('KR SV', 'SV KR', 'KR KR', 'SV SV')}\n",
    "Ferrari_wins_2 = {x for x in winners if x.count('KR') + x.count('SV') == 2}\n",
    "#print(Ferrari_wins_2)\n",
    "Ferrari_probs_2 = [RJGP2[k] for k in Ferrari_wins_2]\n",
    "#Ferrari_wins_2_n_probs = list(zip(Ferrari_wins_2, Ferrari_probs_2))\n",
    "#print('\\n'.join([str(outcome) for outcome in Ferrari_wins_2_n_probs]))\n",
    "Ferrari_wins_2_prob = sum(Ferrari_probs_2)\n",
    "print('Probability of Ferrari drivers winning both races is: ' + str(Ferrari_wins_2_prob))"
   ]
  },
  {
   "cell_type": "markdown",
   "metadata": {},
   "source": [
    "Now, the probability of Ferrari winning *one of these races* is any win combination that includes one of the Ferrari drivers as keys. Note that this includes *both* Ferrari drivers winning!"
   ]
  },
  {
   "cell_type": "code",
   "execution_count": 11,
   "metadata": {},
   "outputs": [
    {
     "name": "stdout",
     "output_type": "stream",
     "text": [
      "400\n",
      "all possible combinations for one Ferrari win: \n",
      "['BH KR', 'BH SV', 'CL KR', 'CL SV', 'CS KR', 'CS SV', 'DR KR', 'DR SV', 'EO KR', 'EO SV', 'FA KR', 'FA SV', 'KM KR', 'KM SV', 'KR BH', 'KR CL', 'KR CS', 'KR DR', 'KR EO', 'KR FA', 'KR KM', 'KR KR', 'KR LH', 'KR LS', 'KR ME', 'KR MV', 'KR NH', 'KR PG', 'KR RG', 'KR SD', 'KR SP', 'KR SS', 'KR SV', 'KR VB', 'LH KR', 'LH SV', 'LS KR', 'LS SV', 'ME KR', 'ME SV', 'MV KR', 'MV SV', 'NH KR', 'NH SV', 'PG KR', 'PG SV', 'RG KR', 'RG SV', 'SD KR', 'SD SV', 'SP KR', 'SP SV', 'SS KR', 'SS SV', 'SV BH', 'SV CL', 'SV CS', 'SV DR', 'SV EO', 'SV FA', 'SV KM', 'SV KR', 'SV LH', 'SV LS', 'SV ME', 'SV MV', 'SV NH', 'SV PG', 'SV RG', 'SV SD', 'SV SP', 'SV SS', 'SV SV', 'SV VB', 'VB KR', 'VB SV']\n",
      "76\n",
      "Probability of Ferrari drivers winning one of these races is: 0.4728185689856118\n"
     ]
    }
   ],
   "source": [
    "winners = RJGP2.keys()\n",
    "print(len(winners))\n",
    "#Ferrari_wins_1 = {x for x in winners if 'KR ' in x or ' KR' in x or 'SV ' in x or ' SV' in x}\n",
    "Ferrari_wins_1 = {x for x in winners if x.count('KR') + x.count('SV') >= 1}\n",
    "print('all possible combinations for one Ferrari win: ')\n",
    "print(sorted(Ferrari_wins_1))\n",
    "#print('\\n'.join(sorted(Ferrari_wins_1)))\n",
    "print(len(Ferrari_wins_1))\n",
    "Ferrari_probs_1 = [RJGP2[k] for k in Ferrari_wins_1]\n",
    "#print(Ferrari_probs_1)\n",
    "#print(len(Ferrari_probs_1))\n",
    "#Ferrari_wins_1_probs = list(zip(Ferrari_wins_1, Ferrari_probs_1))\n",
    "#print('\\n'.join([str(outcome) for outcome in Ferrari_wins_1_n_probs]))\n",
    "Ferrari_wins_1_prob = sum(Ferrari_probs_1)\n",
    "print('Probability of Ferrari drivers winning one of these races is: ' + str(Ferrari_wins_1_prob))"
   ]
  },
  {
   "cell_type": "markdown",
   "metadata": {},
   "source": [
    "Wiat.. That seems strange... Sounds like a good bet for Ferrari.. \n",
    "<center>\n",
    "    <img src=\"ipynb.images/scrat.png\" width=200 />\n",
    "</center>\n",
    "\n",
    "Let's do some debugging. You should always do this when you get strange results in Data Science. Slow down, and retrace your steps in more detail."
   ]
  },
  {
   "cell_type": "code",
   "execution_count": 12,
   "metadata": {},
   "outputs": [],
   "source": [
    "def joint_dbg(A, B, sep=' '):\n",
    "    \"\"\"The joint distribution of two independent probability distributions. \n",
    "    Result is all entries of the form {a+sep+b: P(a)*P(b)}\"\"\"\n",
    "    return ProbDist({a + '(' + \"{0:.4f}\".format(A[a]) + ')' + sep + b + '(' + \"{0:.4f}\".format(B[b]) + ')' + sep \n",
    "                     + \"{0:.4f}\".format(A[a] * B[b]): A[a] * B[b]\n",
    "                    for a in A\n",
    "                    for b in B})"
   ]
  },
  {
   "cell_type": "markdown",
   "metadata": {},
   "source": [
    "Let's recompute *carefully*. "
   ]
  },
  {
   "cell_type": "code",
   "execution_count": 13,
   "metadata": {},
   "outputs": [
    {
     "name": "stdout",
     "output_type": "stream",
     "text": [
      "Possible win combinations: 400\n",
      "Probability of at least one Mercedes victory: 0.5695000000000002\n",
      "Probability of at least one Ferrari victory: 0.47269999999999995\n",
      "Probability of at least one Red Bull victory: 0.32860000000000006\n",
      "Probability of at least one Williams victory: 0.008599999999999997\n"
     ]
    }
   ],
   "source": [
    "RJGP3 = joint_dbg(RGP, RGP)\n",
    "winners = RJGP3.keys()\n",
    "print('Possible win combinations: ' + str(len(winners)))\n",
    "\n",
    "#print('Mercedes:')\n",
    "Mercedes_wins_1 = [x for x in winners if x.count('LH') + x.count('SV') >= 1]\n",
    "#print(Mercedes_wins_1)\n",
    "Mercedes_wins_1_probs = [float(x[22:]) for x in Mercedes_wins_1]\n",
    "#print(Mercedes_wins_1_probs)\n",
    "print('Probability of at least one Mercedes victory: ' + str(sum(Mercedes_wins_1_probs)))\n",
    "#print('---------')\n",
    "\n",
    "#print('Ferrari:')\n",
    "Ferrari_wins_1 = [x for x in winners if x.count('SV') + x.count('KR') >= 1]\n",
    "#print(Ferrari_wins_1)\n",
    "Ferrari_wins_1_probs = [float(x[22:]) for x in Ferrari_wins_1]\n",
    "#print(Ferrari_wins_1_probs)\n",
    "print('Probability of at least one Ferrari victory: ' + str(sum(Ferrari_wins_1_probs)))\n",
    "#print('---------')\n",
    "\n",
    "#print('Red Bull:')\n",
    "RedBull_wins_1 = [x for x in winners if x.count('MV') + x.count('DR') >= 1]\n",
    "#print(RedBull_wins_1)\n",
    "RedBull_wins_1_probs = [float(x[22:]) for x in RedBull_wins_1]\n",
    "#print(RedBull_wins_1_probs)\n",
    "print('Probability of at least one Red Bull victory: ' + str(sum(RedBull_wins_1_probs)))\n",
    "#print('---------')\n",
    "      \n",
    "#print('Williams:')\n",
    "Williams_wins_1 = [x for x in winners if x.count('LS') + x.count('SS') >= 1]\n",
    "#print(Williams_wins_1)\n",
    "Williams_wins_1_probs = [float(x[22:]) for x in Williams_wins_1]\n",
    "#print(Williams_wins_1_probs)\n",
    "print('Probability of at least one Williams victory: ' + str(sum(Williams_wins_1_probs)))\n",
    "#print('---------')"
   ]
  },
  {
   "cell_type": "markdown",
   "metadata": {},
   "source": [
    "Why do the probabilities *not add up to 1*?!!"
   ]
  },
  {
   "cell_type": "markdown",
   "metadata": {},
   "source": [
    "If you had computed the probability of one Ferrari win by squaring the probability of a 'KR' or 'SV' win, you would be making a *mistake*:"
   ]
  },
  {
   "cell_type": "code",
   "execution_count": 14,
   "metadata": {},
   "outputs": [
    {
     "name": "stdout",
     "output_type": "stream",
     "text": [
      "{0.11485148514851486, 0.15907590759075907}\n",
      "one win: 0.2739273927392739\n",
      "two wins: 0.07503621649293642\n"
     ]
    }
   ],
   "source": [
    "Ferrari_win = {RGP[k] for k in ('KR', 'SV')}\n",
    "print(Ferrari_win)\n",
    "print('one win: ' + str(sum(Ferrari_win)))\n",
    "print('two wins: ' + str(sum(Ferrari_win) ** 2))"
   ]
  },
  {
   "cell_type": "markdown",
   "metadata": {},
   "source": [
    "And so the probability of Mercedes or Ferrari drivers winning at least one of these races is much higher than the probability of winning one race. See the difference that *at least* makes? The probability of winning both races is much easier to evaluate."
   ]
  },
  {
   "cell_type": "markdown",
   "metadata": {},
   "source": [
    "### Question 2\n",
    "\n",
    "If Ferrari wins one of these races (assume that is given as evidence), what is the probability that Ferrari wins both of them? If Ferrari wins at least one of these two races (assume that is given as evidence), what is the probability Ferrari wins both races? How about Mercedes-McLaren?\n",
    "\n",
    "RJGP has 400 possible outcomes. This is a random sampling:"
   ]
  },
  {
   "cell_type": "code",
   "execution_count": 17,
   "metadata": {},
   "outputs": [
    {
     "name": "stdout",
     "output_type": "stream",
     "text": [
      "400\n",
      "('SV MV', 0.015540088662331591)\n",
      "('SV SV', 0.02530514437582374)\n",
      "('VB SD', 0.0005960199980394083)\n",
      "('MV BH', 0.0001289633913886439)\n",
      "('LH RG', 0.0033055582786001396)\n",
      "('VB ME', 0.00044701499852955627)\n",
      "('KR PG', 0.002122667712315788)\n",
      "('LH EO', 0.0055092637976669)\n",
      "('SS CS', 1.6556111056650233e-05)\n",
      "('SD VB', 0.0005960199980394083)\n"
     ]
    }
   ],
   "source": [
    "print(len(RJGP2))\n",
    "import random\n",
    "winners = random.sample(list(RJGP2), 10)\n",
    "probs = [RJGP2[k] for k in winners]\n",
    "winners_n_probs = list(zip(winners, probs))\n",
    "print('\\n'.join([str(outcome) for outcome in winners_n_probs]))"
   ]
  },
  {
   "cell_type": "markdown",
   "metadata": {},
   "source": [
    "If Ferrari wins one race, then the probability that Ferrari also wins the next one is just the probability of Ferrari winning one race, which is 27%."
   ]
  },
  {
   "cell_type": "markdown",
   "metadata": {},
   "source": [
    "Let's look at this from a different perspective:"
   ]
  },
  {
   "cell_type": "markdown",
   "metadata": {},
   "source": [
    "If Ferrari wins the first race (Russian Grand Prix), what is the probability Ferrari wins the next one (Japanese Grand Prix)? If Ferrari wins at least one of these races, what is the probability Ferrari wins both?\n",
    "\n",
    "Let's define predicates for Ferrari winning the next race `next_ferrari_win_p`, Ferrari winning at least one race (not only one race!) `one_ferrari_win_p`, and Ferrari winning 2 races `two_ferrari_wins_p`:"
   ]
  },
  {
   "cell_type": "code",
   "execution_count": 22,
   "metadata": {},
   "outputs": [],
   "source": [
    "def next_ferrari_win_p(outcome): return outcome.count('KR') + outcome.count('SV') == 1\n",
    "def one_ferrari_win_p(outcome): return outcome.count('KR') + outcome.count('SV') >= 1\n",
    "def two_ferrari_wins_p(outcome): return outcome.count('KR') + outcome.count('SV') == 2"
   ]
  },
  {
   "cell_type": "markdown",
   "metadata": {},
   "source": [
    "Let's define a new joint probability distribution that takes in a predicate as an argument:"
   ]
  },
  {
   "cell_type": "code",
   "execution_count": 23,
   "metadata": {},
   "outputs": [],
   "source": [
    "def joint_p(A, B, pred, sep=' '):\n",
    "    \"\"\"The joint distribution of two independent probability distributions, with a condition \n",
    "    Result is all entries of the form {a+sep+b: P(a)*P(b)}\"\"\"\n",
    "    return ProbDist({a + sep + b: A[a] * B[b]\n",
    "                    for a in A\n",
    "                    for b in B\n",
    "                    if pred(a + sep + b)})\n"
   ]
  },
  {
   "cell_type": "markdown",
   "metadata": {},
   "source": [
    "The probability Ferrari wins the Japanese Grand Prix given that it won the Russian Grand Prix:"
   ]
  },
  {
   "cell_type": "code",
   "execution_count": 24,
   "metadata": {},
   "outputs": [
    {
     "data": {
      "text/plain": [
       "72"
      ]
     },
     "execution_count": 24,
     "metadata": {},
     "output_type": "execute_result"
    }
   ],
   "source": [
    "next_ferrari_win = joint_p(RGP, RGP, next_ferrari_win_p, ' ')\n",
    "len(next_ferrari_win)"
   ]
  },
  {
   "cell_type": "code",
   "execution_count": 32,
   "metadata": {},
   "outputs": [
    {
     "data": {
      "text/plain": [
       "0"
      ]
     },
     "execution_count": 32,
     "metadata": {},
     "output_type": "execute_result"
    }
   ],
   "source": [
    "p(two_ferrari_wins_p, next_ferrari_win)"
   ]
  },
  {
   "cell_type": "markdown",
   "metadata": {},
   "source": [
    "And now the probability that Ferrari wins both races given that it won *at least one of them*:"
   ]
  },
  {
   "cell_type": "code",
   "execution_count": 27,
   "metadata": {},
   "outputs": [
    {
     "data": {
      "text/plain": [
       "76"
      ]
     },
     "execution_count": 27,
     "metadata": {},
     "output_type": "execute_result"
    }
   ],
   "source": [
    "one_ferrari_win = joint_p(RGP, RGP, one_ferrari_win_p, ' ')\n",
    "len(one_ferrari_win)"
   ]
  },
  {
   "cell_type": "code",
   "execution_count": 31,
   "metadata": {},
   "outputs": [
    {
     "data": {
      "text/plain": [
       "0.15869980879541112"
      ]
     },
     "execution_count": 31,
     "metadata": {},
     "output_type": "execute_result"
    }
   ],
   "source": [
    "p(two_ferrari_wins_p, one_ferrari_win)"
   ]
  },
  {
   "cell_type": "markdown",
   "metadata": {},
   "source": [
    "Understanding the answer is tougher. Some people may think the answer should be 27%. Can we justify the answer 16%? \n",
    "\n",
    "A win on the Russian Grand Prix does not really affect the probabily of winning the next race, so it's just the probability for Ferrari of winning *a* race.\n",
    "\n",
    "But there are more possibilities for `at least one Ferrari win` than `a Ferrari win for the Japanese Grand Prix`. And so our sample space is different. When we add up favorable outcomes, the total probability is smaller. \n",
    "\n",
    "Intuitively, if I tell you the Patriots won the AFC Championship game against the Chiefs two weekends ago, what's the probability they will win the Superbowl against the Rams, too? You will say, \"oh, good chance, good team\"! But if i tell you that over this weekend *and* next, the Patriots are going to win at least one game, and you know they already won one game, you will probably say, \"oh, that means they will loose the next one\", or at least you won't be as confident about the next one."
   ]
  },
  {
   "cell_type": "markdown",
   "metadata": {},
   "source": [
    "### Question 3\n",
    "\n",
    "Ferrari wins one of these races on a rainy day (Ferrari has great Pirelli tires). What is the probability Ferrari wins both races, assuming races can be held on either rainy, sunny, cloudy, snowy or foggy days? Assume that rain, sun, clouds, snow, and fog are the only possible weather conditions on race tracks.\n",
    " \n",
    "One Ferrari win is on a rainy day. What's the probability both races are wins for Ferrari?\n",
    "\n",
    "Whaaaaat? Why do we care that Ferrari wins on a cloudy day? Well, we do, because that is *extra* information. For example, it may tell us that Ferrari has great tires, so any time it rains, Ferrari is a proven winner on rainy tracks. It allows us to computer a *posterior* probability to update a *prior*, given new evidence. That is the foundation of bayesian statistics and Bayesian Machine Learning, which we'll cover this week.\n",
    " \n",
    "We have a *non-uniform* probability distribution for racers, and a *uniform* probability distribution for weather conditions. Let's derive the joint distribution for one race, and the joint distribution over two races.\n",
    "\n",
    "A Uniform distribution is just like a Probability distribution, except that all the values (probabilities) are the same!"
   ]
  },
  {
   "cell_type": "code",
   "execution_count": 35,
   "metadata": {},
   "outputs": [
    {
     "data": {
      "text/plain": [
       "10000"
      ]
     },
     "execution_count": 35,
     "metadata": {},
     "output_type": "execute_result"
    }
   ],
   "source": [
    "def Uniform(outcomes): return ProbDist({event: 1 for event in outcomes})\n",
    "F1_1_conditions  = joint(RGP, Uniform('rscnf'), '')\n",
    "F1_2_conditions = joint(F1_1_conditions, F1_1_conditions)\n",
    "len(F1_2_conditions)"
   ]
  },
  {
   "cell_type": "markdown",
   "metadata": {},
   "source": [
    "We have 10,000 different combinations of wins over two races, with weather conditions! Let's sample:"
   ]
  },
  {
   "cell_type": "code",
   "execution_count": 36,
   "metadata": {},
   "outputs": [
    {
     "data": {
      "text/plain": [
       "['LHr CLc',\n",
       " 'SSr DRs',\n",
       " 'CSn MEc',\n",
       " 'MVs SPr',\n",
       " 'KRs EOn',\n",
       " 'NHf BHr',\n",
       " 'RGc VBf',\n",
       " 'MEn LHn',\n",
       " 'FAc PGc',\n",
       " 'NHr SVn']"
      ]
     },
     "execution_count": 36,
     "metadata": {},
     "output_type": "execute_result"
    }
   ],
   "source": [
    "import random\n",
    "random.sample(list(F1_2_conditions), 10)"
   ]
  },
  {
   "cell_type": "markdown",
   "metadata": {},
   "source": [
    "For example, one possibility is Lewis Hamilton winning the first race on a foggy day, and Fernando Alonso winning the second race on a rainy day: {LHf FAr}.\n",
    "\n",
    "We determine below the probability of *at least* one Ferrari win over two races, both where we keep track of weather conditions and where we don't, is the same:"
   ]
  },
  {
   "cell_type": "code",
   "execution_count": 37,
   "metadata": {},
   "outputs": [
    {
     "data": {
      "text/plain": [
       "0.4728185689856118"
      ]
     },
     "execution_count": 37,
     "metadata": {},
     "output_type": "execute_result"
    }
   ],
   "source": [
    "def one_ferrari_win_p(outcome): return outcome.count('KR') + outcome.count('SV') >= 1\n",
    "p(one_ferrari_win_p, RJGP2)"
   ]
  },
  {
   "cell_type": "code",
   "execution_count": 38,
   "metadata": {},
   "outputs": [
    {
     "data": {
      "text/plain": [
       "2"
      ]
     },
     "execution_count": 38,
     "metadata": {},
     "output_type": "execute_result"
    }
   ],
   "source": [
    "\"LHf FAr\".count('LH') + \"LHf FAr\".count('FA')"
   ]
  },
  {
   "cell_type": "code",
   "execution_count": 39,
   "metadata": {},
   "outputs": [
    {
     "data": {
      "text/plain": [
       "0.47281856898560365"
      ]
     },
     "execution_count": 39,
     "metadata": {},
     "output_type": "execute_result"
    }
   ],
   "source": [
    "p(one_ferrari_win_p, F1_2_conditions)"
   ]
  },
  {
   "cell_type": "markdown",
   "metadata": {},
   "source": [
    "We determine below that the probability of two Ferrari wins, both where we keep track of weather conditions and where we don't, is the same:"
   ]
  },
  {
   "cell_type": "code",
   "execution_count": 40,
   "metadata": {},
   "outputs": [
    {
     "data": {
      "text/plain": [
       "0.07503621649293649"
      ]
     },
     "execution_count": 40,
     "metadata": {},
     "output_type": "execute_result"
    }
   ],
   "source": [
    "p(two_ferrari_wins_p, RJGP2)"
   ]
  },
  {
   "cell_type": "code",
   "execution_count": 47,
   "metadata": {},
   "outputs": [
    {
     "data": {
      "text/plain": [
       "0.07503621649293576"
      ]
     },
     "execution_count": 47,
     "metadata": {},
     "output_type": "execute_result"
    }
   ],
   "source": [
    "p(two_ferrari_wins_p, F1_2_conditions)"
   ]
  },
  {
   "cell_type": "markdown",
   "metadata": {},
   "source": [
    "So the probability of one Ferrari win and of two Ferrari wins is independent of weather conditions.\n",
    "\n",
    "Ok, now we're reassured that we are not crazy, and the professor is not part of some alien conspiracy to make us *think we're crazy*.\n",
    "\n",
    "<center>\n",
    "    <img src=\"ipynb.images/Scrat_Ice_Age.png\" width=200 />\n",
    "</center>\n",
    "\n",
    "Now, we have to figure the probability of two Ferrari wins given the evidence of one Ferrari win on a cloudy day. Hmmmmmm.."
   ]
  },
  {
   "cell_type": "markdown",
   "metadata": {},
   "source": [
    "Let's' define a predicate for the event of a Ferrari win on a rainy day:"
   ]
  },
  {
   "cell_type": "code",
   "execution_count": 48,
   "metadata": {},
   "outputs": [],
   "source": [
    "def at_least_one_Ferrari_win_on_a_rainy_day(outcome): return 'SVr' in outome or 'KRr' in outcome"
   ]
  },
  {
   "cell_type": "markdown",
   "metadata": {},
   "source": [
    "and so:"
   ]
  },
  {
   "cell_type": "code",
   "execution_count": 49,
   "metadata": {},
   "outputs": [
    {
     "ename": "NameError",
     "evalue": "name 'outome' is not defined",
     "output_type": "error",
     "traceback": [
      "\u001b[0;31m---------------------------------------------------------------------------\u001b[0m",
      "\u001b[0;31mNameError\u001b[0m                                 Traceback (most recent call last)",
      "\u001b[0;32m<ipython-input-49-b1d995fc9e81>\u001b[0m in \u001b[0;36m<module>\u001b[0;34m\u001b[0m\n\u001b[1;32m      1\u001b[0m F1_2_conditions_at_least_one_Ferrari_win_on_a_rainy_day = (\n\u001b[0;32m----> 2\u001b[0;31m     \u001b[0mjoint_p\u001b[0m\u001b[0;34m(\u001b[0m\u001b[0mF1_1_conditions\u001b[0m\u001b[0;34m,\u001b[0m \u001b[0mF1_1_conditions\u001b[0m\u001b[0;34m,\u001b[0m \u001b[0mat_least_one_Ferrari_win_on_a_rainy_day\u001b[0m\u001b[0;34m)\u001b[0m\u001b[0;34m\u001b[0m\u001b[0m\n\u001b[0m\u001b[1;32m      3\u001b[0m )\n\u001b[1;32m      4\u001b[0m \u001b[0mlen\u001b[0m\u001b[0;34m(\u001b[0m\u001b[0mF1_2_conditions_at_least_one_Ferrari_win_on_a_rainy_day\u001b[0m\u001b[0;34m)\u001b[0m\u001b[0;34m\u001b[0m\u001b[0m\n",
      "\u001b[0;32m<ipython-input-23-9da8b4e03f94>\u001b[0m in \u001b[0;36mjoint_p\u001b[0;34m(A, B, pred, sep)\u001b[0m\n\u001b[1;32m      3\u001b[0m     Result is all entries of the form {a+sep+b: P(a)*P(b)}\"\"\"\n\u001b[1;32m      4\u001b[0m     return ProbDist({a + sep + b: A[a] * B[b]\n\u001b[0;32m----> 5\u001b[0;31m                     \u001b[0;32mfor\u001b[0m \u001b[0ma\u001b[0m \u001b[0;32min\u001b[0m \u001b[0mA\u001b[0m\u001b[0;34m\u001b[0m\u001b[0m\n\u001b[0m\u001b[1;32m      6\u001b[0m                     \u001b[0;32mfor\u001b[0m \u001b[0mb\u001b[0m \u001b[0;32min\u001b[0m \u001b[0mB\u001b[0m\u001b[0;34m\u001b[0m\u001b[0m\n\u001b[1;32m      7\u001b[0m                     if pred(a + sep + b)})\n",
      "\u001b[0;32m<ipython-input-23-9da8b4e03f94>\u001b[0m in \u001b[0;36m<dictcomp>\u001b[0;34m(.0)\u001b[0m\n\u001b[1;32m      5\u001b[0m                     \u001b[0;32mfor\u001b[0m \u001b[0ma\u001b[0m \u001b[0;32min\u001b[0m \u001b[0mA\u001b[0m\u001b[0;34m\u001b[0m\u001b[0m\n\u001b[1;32m      6\u001b[0m                     \u001b[0;32mfor\u001b[0m \u001b[0mb\u001b[0m \u001b[0;32min\u001b[0m \u001b[0mB\u001b[0m\u001b[0;34m\u001b[0m\u001b[0m\n\u001b[0;32m----> 7\u001b[0;31m                     if pred(a + sep + b)})\n\u001b[0m",
      "\u001b[0;32m<ipython-input-48-439470005336>\u001b[0m in \u001b[0;36mat_least_one_Ferrari_win_on_a_rainy_day\u001b[0;34m(outcome)\u001b[0m\n\u001b[0;32m----> 1\u001b[0;31m \u001b[0;32mdef\u001b[0m \u001b[0mat_least_one_Ferrari_win_on_a_rainy_day\u001b[0m\u001b[0;34m(\u001b[0m\u001b[0moutcome\u001b[0m\u001b[0;34m)\u001b[0m\u001b[0;34m:\u001b[0m \u001b[0;32mreturn\u001b[0m \u001b[0;34m'SVr'\u001b[0m \u001b[0;32min\u001b[0m \u001b[0moutome\u001b[0m \u001b[0;32mor\u001b[0m \u001b[0;34m'KRr'\u001b[0m \u001b[0;32min\u001b[0m \u001b[0moutcome\u001b[0m\u001b[0;34m\u001b[0m\u001b[0m\n\u001b[0m",
      "\u001b[0;31mNameError\u001b[0m: name 'outome' is not defined"
     ]
    }
   ],
   "source": [
    "F1_2_conditions_at_least_one_Ferrari_win_on_a_rainy_day = (\n",
    "    joint_p(F1_1_conditions, F1_1_conditions, at_least_one_Ferrari_win_on_a_rainy_day)\n",
    ")\n",
    "len(F1_2_conditions_at_least_one_Ferrari_win_on_a_rainy_day)"
   ]
  },
  {
   "cell_type": "markdown",
   "metadata": {},
   "source": [
    "Out of 10,000 possibilities, we have 396 favorable outcomes. And so the probability for two Ferrari wins over two races given that Ferrari won one of them on a cloudy day:"
   ]
  },
  {
   "cell_type": "code",
   "execution_count": 50,
   "metadata": {},
   "outputs": [
    {
     "ename": "NameError",
     "evalue": "name 'F1_2_conditions_at_least_one_Ferrari_win_on_a_rainy_day' is not defined",
     "output_type": "error",
     "traceback": [
      "\u001b[0;31m---------------------------------------------------------------------------\u001b[0m",
      "\u001b[0;31mNameError\u001b[0m                                 Traceback (most recent call last)",
      "\u001b[0;32m<ipython-input-50-4313c11bc146>\u001b[0m in \u001b[0;36m<module>\u001b[0;34m\u001b[0m\n\u001b[1;32m      1\u001b[0m \u001b[0;32mdef\u001b[0m \u001b[0mtwo_ferrari_wins_p\u001b[0m\u001b[0;34m(\u001b[0m\u001b[0moutcome\u001b[0m\u001b[0;34m)\u001b[0m\u001b[0;34m:\u001b[0m \u001b[0;32mreturn\u001b[0m \u001b[0moutcome\u001b[0m\u001b[0;34m.\u001b[0m\u001b[0mcount\u001b[0m\u001b[0;34m(\u001b[0m\u001b[0;34m'KR'\u001b[0m\u001b[0;34m)\u001b[0m \u001b[0;34m+\u001b[0m \u001b[0moutcome\u001b[0m\u001b[0;34m.\u001b[0m\u001b[0mcount\u001b[0m\u001b[0;34m(\u001b[0m\u001b[0;34m'SV'\u001b[0m\u001b[0;34m)\u001b[0m \u001b[0;34m==\u001b[0m \u001b[0;36m2\u001b[0m\u001b[0;34m\u001b[0m\u001b[0m\n\u001b[0;32m----> 2\u001b[0;31m \u001b[0mp\u001b[0m\u001b[0;34m(\u001b[0m\u001b[0mtwo_ferrari_wins_p\u001b[0m\u001b[0;34m,\u001b[0m \u001b[0mF1_2_conditions_at_least_one_Ferrari_win_on_a_rainy_day\u001b[0m\u001b[0;34m)\u001b[0m\u001b[0;34m\u001b[0m\u001b[0m\n\u001b[0m",
      "\u001b[0;31mNameError\u001b[0m: name 'F1_2_conditions_at_least_one_Ferrari_win_on_a_rainy_day' is not defined"
     ]
    }
   ],
   "source": [
    "def two_ferrari_wins_p(outcome): return outcome.count('KR') + outcome.count('SV') == 2\n",
    "p(two_ferrari_wins_p, F1_2_conditions_at_least_one_Ferrari_win_on_a_rainy_day)"
   ]
  },
  {
   "cell_type": "markdown",
   "metadata": {},
   "source": [
    "The probability of two Ferrari wins when we know that Ferrari wins at least one race on a rainy day is 25%, which is much higher than the probability of two Ferrari wins (7%), and lower than the probability of at least one Ferrari win (47%). That's the value of extra information: It produces a different posterior!\n",
    "\n",
    "Wow, Bayesian statistics looks like great stuff, like maybe I can use to play at the new Boston [Casino](https://encorebostonharbor.com/), but what if the professor is just trying to seduce us with complicated programming?\n",
    "\n",
    "<br />\n",
    "<center>\n",
    "    <img src=\"ipynb.images/seduce.png\" width=300 />\n",
    "</center>"
   ]
  },
  {
   "cell_type": "markdown",
   "metadata": {},
   "source": [
    "Let's do some debugging. Let's display results as a 2D grid of outcomes. A cell will be colored white if Ferrari does not win two races, yellow if Ferrari wins two races but not with a least one win on a cloudy day, and green if Ferrari wins two races with at leat one win on a cloudy day. "
   ]
  },
  {
   "cell_type": "markdown",
   "metadata": {},
   "source": [
    "Let's reduce the amount of data to being our debugging, to just Ferrari, Renault, and Williams. You always debug with less data! And I picked these teams because they cover the range of wins: a lot, medium, very few. I'll also reduce weather to (r)ain, and (s)un."
   ]
  },
  {
   "cell_type": "code",
   "execution_count": 57,
   "metadata": {},
   "outputs": [],
   "source": [
    "def Uniform(outcomes): return ProbDist({event: 1 for event in outcomes})\n",
    "\n",
    "def joint(A, B, sep=' '):\n",
    "    \"\"\"The joint distribution of two independent probability distributions. \n",
    "    Result is all entries of the form {a+sep+b: P(a)*P(b)}\"\"\"\n",
    "    return ProbDist({a + sep + b: A[a] * B[b]\n",
    "                    for a in A\n",
    "                    for b in B})\n",
    "\n",
    "def next_ferrari_win_p(outcome): return outcome.count(' KR') + outcome.count(' SV') == 1\n",
    "def one_ferrari_win_p(outcome): return outcome.count('KR') + outcome.count('SV') >= 1\n",
    "def two_ferrari_wins_p(outcome): return outcome.count('KR') + outcome.count('SV') == 2\n",
    "\n",
    "def at_least_one_Ferrari_win_on_a_rainy_day(outcome): return 'KRr' in outcome or 'SVr' in outcome"
   ]
  },
  {
   "cell_type": "code",
   "execution_count": 55,
   "metadata": {},
   "outputs": [
    {
     "data": {
      "text/plain": [
       "{'SV': 0.4725490196078431,\n",
       " 'KR': 0.3352941176470588,\n",
       " 'NH': 0.10392156862745099,\n",
       " 'CS': 0.07450980392156863,\n",
       " 'LS': 0.011764705882352941,\n",
       " 'SS': 0.00196078431372549}"
      ]
     },
     "execution_count": 55,
     "metadata": {},
     "output_type": "execute_result"
    }
   ],
   "source": [
    "# probability of winning one race. Ferrari is SV and KR\n",
    "RGPr = ProbDist(\n",
    "    SV = 241,\n",
    "    KR = 171,\n",
    "    NH = 53,\n",
    "    CS = 38,\n",
    "    LS = 6,\n",
    "    SS = 1)\n",
    "RGPr"
   ]
  },
  {
   "cell_type": "code",
   "execution_count": 58,
   "metadata": {},
   "outputs": [
    {
     "data": {
      "text/plain": [
       "{'SVr': 0.2362745098039216,\n",
       " 'SVs': 0.2362745098039216,\n",
       " 'KRr': 0.16764705882352943,\n",
       " 'KRs': 0.16764705882352943,\n",
       " 'NHr': 0.0519607843137255,\n",
       " 'NHs': 0.0519607843137255,\n",
       " 'CSr': 0.03725490196078432,\n",
       " 'CSs': 0.03725490196078432,\n",
       " 'LSr': 0.005882352941176471,\n",
       " 'LSs': 0.005882352941176471,\n",
       " 'SSr': 0.0009803921568627453,\n",
       " 'SSs': 0.0009803921568627453}"
      ]
     },
     "execution_count": 58,
     "metadata": {},
     "output_type": "execute_result"
    }
   ],
   "source": [
    "# probability of winning a race on a specific weather condition\n",
    "RGPrw  = joint(RGPr, Uniform('rs'), '') #care about the weather\n",
    "RGPrw"
   ]
  },
  {
   "cell_type": "code",
   "execution_count": 59,
   "metadata": {},
   "outputs": [
    {
     "data": {
      "text/plain": [
       "144"
      ]
     },
     "execution_count": 59,
     "metadata": {},
     "output_type": "execute_result"
    }
   ],
   "source": [
    "# probability of winning two races on specific weather conditions\n",
    "RJGPrw  = joint(RGPrw, RGPrw)\n",
    "len(RJGPrw)"
   ]
  },
  {
   "cell_type": "markdown",
   "metadata": {},
   "source": [
    "Ok, I can work with 12 x 12 data points, they won't fry my kernel. What do they look like?"
   ]
  },
  {
   "cell_type": "code",
   "execution_count": 60,
   "metadata": {},
   "outputs": [
    {
     "data": {
      "text/plain": [
       "['LSr SVs',\n",
       " 'KRs CSr',\n",
       " 'LSr SSr',\n",
       " 'CSr NHs',\n",
       " 'NHr NHs',\n",
       " 'KRr LSr',\n",
       " 'SVs SSr',\n",
       " 'SVs KRr',\n",
       " 'SVr CSs',\n",
       " 'NHr KRs']"
      ]
     },
     "execution_count": 60,
     "metadata": {},
     "output_type": "execute_result"
    }
   ],
   "source": [
    "import random\n",
    "random.sample(list(RJGPrw), 10)"
   ]
  },
  {
   "cell_type": "markdown",
   "metadata": {},
   "source": [
    "Let's do some plotting. Machine learning is all about *geometry* (specifically, building outcome manifolds in state space that represent the surface joining all possible outcomes). That is why we debug everything with pictures.\n",
    "\n",
    "Let's plot all possible outcomes of our discrete probability distribution on a grid, and color cells in green and yellow depending on two respective predicates. If one is true, color the cell any color (yellow or green), if the other is true *as well*, color the cell green."
   ]
  },
  {
   "cell_type": "code",
   "execution_count": 61,
   "metadata": {},
   "outputs": [],
   "source": [
    "from IPython.display import HTML\n",
    "\n",
    "def Pgrid(event, condition, dist):\n",
    "    def first_half(s): return s[:len(s)//2]\n",
    "    firsts = sorted(set(map(first_half, dist)))\n",
    "    return HTML('<table>' +\n",
    "                cat(row(first, event, dist, condition) for first in firsts) +\n",
    "                '</table>')\n",
    "\n",
    "def row(first, event, dist, condition):\n",
    "    \"Display a row where the first race result is paired with each of the possible second race results.\"\n",
    "    thisrow = sorted(outcome for outcome in dist if outcome.startswith(first))\n",
    "    return '<tr>' + cat(cell(outcome, event, condition) for outcome in thisrow) + '</tr>'\n",
    "\n",
    "def cell(outcome, event, condition): \n",
    "    \"Display outcome in appropriate color.\"\n",
    "    color = ('lightgreen' if event(outcome) and condition(outcome) else\n",
    "             'yellow' if condition(outcome) else\n",
    "             'white')\n",
    "    return '<td style=\"background-color: {}\">{}</td>'.format(color, outcome)    \n",
    "\n",
    "cat = ''.join"
   ]
  },
  {
   "cell_type": "code",
   "execution_count": 62,
   "metadata": {},
   "outputs": [
    {
     "data": {
      "text/html": [
       "<table><tr><td style=\"background-color: white\">CSr CSr</td><td style=\"background-color: white\">CSr CSs</td><td style=\"background-color: yellow\">CSr KRr</td><td style=\"background-color: white\">CSr KRs</td><td style=\"background-color: white\">CSr LSr</td><td style=\"background-color: white\">CSr LSs</td><td style=\"background-color: white\">CSr NHr</td><td style=\"background-color: white\">CSr NHs</td><td style=\"background-color: white\">CSr SSr</td><td style=\"background-color: white\">CSr SSs</td><td style=\"background-color: yellow\">CSr SVr</td><td style=\"background-color: white\">CSr SVs</td></tr><tr><td style=\"background-color: white\">CSs CSr</td><td style=\"background-color: white\">CSs CSs</td><td style=\"background-color: yellow\">CSs KRr</td><td style=\"background-color: white\">CSs KRs</td><td style=\"background-color: white\">CSs LSr</td><td style=\"background-color: white\">CSs LSs</td><td style=\"background-color: white\">CSs NHr</td><td style=\"background-color: white\">CSs NHs</td><td style=\"background-color: white\">CSs SSr</td><td style=\"background-color: white\">CSs SSs</td><td style=\"background-color: yellow\">CSs SVr</td><td style=\"background-color: white\">CSs SVs</td></tr><tr><td style=\"background-color: yellow\">KRr CSr</td><td style=\"background-color: yellow\">KRr CSs</td><td style=\"background-color: lightgreen\">KRr KRr</td><td style=\"background-color: lightgreen\">KRr KRs</td><td style=\"background-color: yellow\">KRr LSr</td><td style=\"background-color: yellow\">KRr LSs</td><td style=\"background-color: yellow\">KRr NHr</td><td style=\"background-color: yellow\">KRr NHs</td><td style=\"background-color: yellow\">KRr SSr</td><td style=\"background-color: yellow\">KRr SSs</td><td style=\"background-color: lightgreen\">KRr SVr</td><td style=\"background-color: lightgreen\">KRr SVs</td></tr><tr><td style=\"background-color: white\">KRs CSr</td><td style=\"background-color: white\">KRs CSs</td><td style=\"background-color: lightgreen\">KRs KRr</td><td style=\"background-color: white\">KRs KRs</td><td style=\"background-color: white\">KRs LSr</td><td style=\"background-color: white\">KRs LSs</td><td style=\"background-color: white\">KRs NHr</td><td style=\"background-color: white\">KRs NHs</td><td style=\"background-color: white\">KRs SSr</td><td style=\"background-color: white\">KRs SSs</td><td style=\"background-color: lightgreen\">KRs SVr</td><td style=\"background-color: white\">KRs SVs</td></tr><tr><td style=\"background-color: white\">LSr CSr</td><td style=\"background-color: white\">LSr CSs</td><td style=\"background-color: yellow\">LSr KRr</td><td style=\"background-color: white\">LSr KRs</td><td style=\"background-color: white\">LSr LSr</td><td style=\"background-color: white\">LSr LSs</td><td style=\"background-color: white\">LSr NHr</td><td style=\"background-color: white\">LSr NHs</td><td style=\"background-color: white\">LSr SSr</td><td style=\"background-color: white\">LSr SSs</td><td style=\"background-color: yellow\">LSr SVr</td><td style=\"background-color: white\">LSr SVs</td></tr><tr><td style=\"background-color: white\">LSs CSr</td><td style=\"background-color: white\">LSs CSs</td><td style=\"background-color: yellow\">LSs KRr</td><td style=\"background-color: white\">LSs KRs</td><td style=\"background-color: white\">LSs LSr</td><td style=\"background-color: white\">LSs LSs</td><td style=\"background-color: white\">LSs NHr</td><td style=\"background-color: white\">LSs NHs</td><td style=\"background-color: white\">LSs SSr</td><td style=\"background-color: white\">LSs SSs</td><td style=\"background-color: yellow\">LSs SVr</td><td style=\"background-color: white\">LSs SVs</td></tr><tr><td style=\"background-color: white\">NHr CSr</td><td style=\"background-color: white\">NHr CSs</td><td style=\"background-color: yellow\">NHr KRr</td><td style=\"background-color: white\">NHr KRs</td><td style=\"background-color: white\">NHr LSr</td><td style=\"background-color: white\">NHr LSs</td><td style=\"background-color: white\">NHr NHr</td><td style=\"background-color: white\">NHr NHs</td><td style=\"background-color: white\">NHr SSr</td><td style=\"background-color: white\">NHr SSs</td><td style=\"background-color: yellow\">NHr SVr</td><td style=\"background-color: white\">NHr SVs</td></tr><tr><td style=\"background-color: white\">NHs CSr</td><td style=\"background-color: white\">NHs CSs</td><td style=\"background-color: yellow\">NHs KRr</td><td style=\"background-color: white\">NHs KRs</td><td style=\"background-color: white\">NHs LSr</td><td style=\"background-color: white\">NHs LSs</td><td style=\"background-color: white\">NHs NHr</td><td style=\"background-color: white\">NHs NHs</td><td style=\"background-color: white\">NHs SSr</td><td style=\"background-color: white\">NHs SSs</td><td style=\"background-color: yellow\">NHs SVr</td><td style=\"background-color: white\">NHs SVs</td></tr><tr><td style=\"background-color: white\">SSr CSr</td><td style=\"background-color: white\">SSr CSs</td><td style=\"background-color: yellow\">SSr KRr</td><td style=\"background-color: white\">SSr KRs</td><td style=\"background-color: white\">SSr LSr</td><td style=\"background-color: white\">SSr LSs</td><td style=\"background-color: white\">SSr NHr</td><td style=\"background-color: white\">SSr NHs</td><td style=\"background-color: white\">SSr SSr</td><td style=\"background-color: white\">SSr SSs</td><td style=\"background-color: yellow\">SSr SVr</td><td style=\"background-color: white\">SSr SVs</td></tr><tr><td style=\"background-color: white\">SSs CSr</td><td style=\"background-color: white\">SSs CSs</td><td style=\"background-color: yellow\">SSs KRr</td><td style=\"background-color: white\">SSs KRs</td><td style=\"background-color: white\">SSs LSr</td><td style=\"background-color: white\">SSs LSs</td><td style=\"background-color: white\">SSs NHr</td><td style=\"background-color: white\">SSs NHs</td><td style=\"background-color: white\">SSs SSr</td><td style=\"background-color: white\">SSs SSs</td><td style=\"background-color: yellow\">SSs SVr</td><td style=\"background-color: white\">SSs SVs</td></tr><tr><td style=\"background-color: yellow\">SVr CSr</td><td style=\"background-color: yellow\">SVr CSs</td><td style=\"background-color: lightgreen\">SVr KRr</td><td style=\"background-color: lightgreen\">SVr KRs</td><td style=\"background-color: yellow\">SVr LSr</td><td style=\"background-color: yellow\">SVr LSs</td><td style=\"background-color: yellow\">SVr NHr</td><td style=\"background-color: yellow\">SVr NHs</td><td style=\"background-color: yellow\">SVr SSr</td><td style=\"background-color: yellow\">SVr SSs</td><td style=\"background-color: lightgreen\">SVr SVr</td><td style=\"background-color: lightgreen\">SVr SVs</td></tr><tr><td style=\"background-color: white\">SVs CSr</td><td style=\"background-color: white\">SVs CSs</td><td style=\"background-color: lightgreen\">SVs KRr</td><td style=\"background-color: white\">SVs KRs</td><td style=\"background-color: white\">SVs LSr</td><td style=\"background-color: white\">SVs LSs</td><td style=\"background-color: white\">SVs NHr</td><td style=\"background-color: white\">SVs NHs</td><td style=\"background-color: white\">SVs SSr</td><td style=\"background-color: white\">SVs SSs</td><td style=\"background-color: lightgreen\">SVs SVr</td><td style=\"background-color: white\">SVs SVs</td></tr></table>"
      ],
      "text/plain": [
       "<IPython.core.display.HTML object>"
      ]
     },
     "execution_count": 62,
     "metadata": {},
     "output_type": "execute_result"
    }
   ],
   "source": [
    "# Let's plot the all possible outcomes\n",
    "# white cells: no two ferrari wins\n",
    "# colored cells: at least one ferrari win on a rainy day\n",
    "# green cells: two ferrari wins with at least one of them on a rainy day\n",
    "Pgrid(two_ferrari_wins_p, at_least_one_Ferrari_win_on_a_rainy_day, RJGPrw)"
   ]
  },
  {
   "cell_type": "markdown",
   "metadata": {},
   "source": [
    "Let's count.\n",
    "\n",
    "Number of cells where Ferrari wins at least once on a rainy day = 12 + 12 + (12 - 2) + (12 - 2) = 44\n",
    "Number of cells where Ferrari wins both races = 3 + 3 + 3 + 3 = 12\n",
    "And so probability of two Ferrari wins given that Ferrari won at least once race on a cloudy day is 12 / 44 = 27%.\n",
    "\n",
    "对"
   ]
  },
  {
   "cell_type": "markdown",
   "metadata": {},
   "source": [
    "And now let's color a slightly bigger table. Let's increase the amount of data to Mercedes, Ferrari, Renault, and Williams. Also, let's add (c)loudy day."
   ]
  },
  {
   "cell_type": "code",
   "execution_count": 63,
   "metadata": {},
   "outputs": [
    {
     "data": {
      "text/plain": [
       "{'LH': 0.2911917098445596,\n",
       " 'SV': 0.24974093264248703,\n",
       " 'VB': 0.18031088082901556,\n",
       " 'KR': 0.1772020725388601,\n",
       " 'NH': 0.054922279792746116,\n",
       " 'CS': 0.039378238341968914,\n",
       " 'LS': 0.0062176165803108805,\n",
       " 'SS': 0.0010362694300518134}"
      ]
     },
     "execution_count": 63,
     "metadata": {},
     "output_type": "execute_result"
    }
   ],
   "source": [
    "# probability of winning one race. Ferrari is SV and KR\n",
    "RGPr = ProbDist(\n",
    "    LH = 281,\n",
    "    SV = 241,\n",
    "    VB = 174,\n",
    "    KR = 171,\n",
    "    NH = 53,\n",
    "    CS = 38,\n",
    "    LS = 6,\n",
    "    SS = 1)\n",
    "RGPr"
   ]
  },
  {
   "cell_type": "code",
   "execution_count": 64,
   "metadata": {},
   "outputs": [
    {
     "data": {
      "text/plain": [
       "{'LHr': 0.09706390328151987,\n",
       " 'LHs': 0.09706390328151987,\n",
       " 'LHc': 0.09706390328151987,\n",
       " 'SVr': 0.08324697754749567,\n",
       " 'SVs': 0.08324697754749567,\n",
       " 'SVc': 0.08324697754749567,\n",
       " 'VBr': 0.06010362694300518,\n",
       " 'VBs': 0.06010362694300518,\n",
       " 'VBc': 0.06010362694300518,\n",
       " 'KRr': 0.05906735751295337,\n",
       " 'KRs': 0.05906735751295337,\n",
       " 'KRc': 0.05906735751295337,\n",
       " 'NHr': 0.018307426597582038,\n",
       " 'NHs': 0.018307426597582038,\n",
       " 'NHc': 0.018307426597582038,\n",
       " 'CSr': 0.013126079447322971,\n",
       " 'CSs': 0.013126079447322971,\n",
       " 'CSc': 0.013126079447322971,\n",
       " 'LSr': 0.002072538860103627,\n",
       " 'LSs': 0.002072538860103627,\n",
       " 'LSc': 0.002072538860103627,\n",
       " 'SSr': 0.0003454231433506045,\n",
       " 'SSs': 0.0003454231433506045,\n",
       " 'SSc': 0.0003454231433506045}"
      ]
     },
     "execution_count": 64,
     "metadata": {},
     "output_type": "execute_result"
    }
   ],
   "source": [
    "# probability of winning a race on a specific weather condition\n",
    "RGPrw  = joint(RGPr, Uniform('rsc'), '') #care about the weather\n",
    "RGPrw"
   ]
  },
  {
   "cell_type": "code",
   "execution_count": 65,
   "metadata": {},
   "outputs": [
    {
     "data": {
      "text/plain": [
       "576"
      ]
     },
     "execution_count": 65,
     "metadata": {},
     "output_type": "execute_result"
    }
   ],
   "source": [
    "# probability of winning two races on specific weather conditions\n",
    "RJGPrw  = joint(RGPrw, RGPrw)\n",
    "len(RJGPrw)"
   ]
  },
  {
   "cell_type": "markdown",
   "metadata": {},
   "source": [
    "Yikes, that's a 24 x 24 table, the square of our previous table!"
   ]
  },
  {
   "cell_type": "code",
   "execution_count": 66,
   "metadata": {},
   "outputs": [
    {
     "data": {
      "text/html": [
       "<table><tr><td style=\"background-color: white\">CSc CSc</td><td style=\"background-color: white\">CSc CSr</td><td style=\"background-color: white\">CSc CSs</td><td style=\"background-color: white\">CSc KRc</td><td style=\"background-color: yellow\">CSc KRr</td><td style=\"background-color: white\">CSc KRs</td><td style=\"background-color: white\">CSc LHc</td><td style=\"background-color: white\">CSc LHr</td><td style=\"background-color: white\">CSc LHs</td><td style=\"background-color: white\">CSc LSc</td><td style=\"background-color: white\">CSc LSr</td><td style=\"background-color: white\">CSc LSs</td><td style=\"background-color: white\">CSc NHc</td><td style=\"background-color: white\">CSc NHr</td><td style=\"background-color: white\">CSc NHs</td><td style=\"background-color: white\">CSc SSc</td><td style=\"background-color: white\">CSc SSr</td><td style=\"background-color: white\">CSc SSs</td><td style=\"background-color: white\">CSc SVc</td><td style=\"background-color: yellow\">CSc SVr</td><td style=\"background-color: white\">CSc SVs</td><td style=\"background-color: white\">CSc VBc</td><td style=\"background-color: white\">CSc VBr</td><td style=\"background-color: white\">CSc VBs</td></tr><tr><td style=\"background-color: white\">CSr CSc</td><td style=\"background-color: white\">CSr CSr</td><td style=\"background-color: white\">CSr CSs</td><td style=\"background-color: white\">CSr KRc</td><td style=\"background-color: yellow\">CSr KRr</td><td style=\"background-color: white\">CSr KRs</td><td style=\"background-color: white\">CSr LHc</td><td style=\"background-color: white\">CSr LHr</td><td style=\"background-color: white\">CSr LHs</td><td style=\"background-color: white\">CSr LSc</td><td style=\"background-color: white\">CSr LSr</td><td style=\"background-color: white\">CSr LSs</td><td style=\"background-color: white\">CSr NHc</td><td style=\"background-color: white\">CSr NHr</td><td style=\"background-color: white\">CSr NHs</td><td style=\"background-color: white\">CSr SSc</td><td style=\"background-color: white\">CSr SSr</td><td style=\"background-color: white\">CSr SSs</td><td style=\"background-color: white\">CSr SVc</td><td style=\"background-color: yellow\">CSr SVr</td><td style=\"background-color: white\">CSr SVs</td><td style=\"background-color: white\">CSr VBc</td><td style=\"background-color: white\">CSr VBr</td><td style=\"background-color: white\">CSr VBs</td></tr><tr><td style=\"background-color: white\">CSs CSc</td><td style=\"background-color: white\">CSs CSr</td><td style=\"background-color: white\">CSs CSs</td><td style=\"background-color: white\">CSs KRc</td><td style=\"background-color: yellow\">CSs KRr</td><td style=\"background-color: white\">CSs KRs</td><td style=\"background-color: white\">CSs LHc</td><td style=\"background-color: white\">CSs LHr</td><td style=\"background-color: white\">CSs LHs</td><td style=\"background-color: white\">CSs LSc</td><td style=\"background-color: white\">CSs LSr</td><td style=\"background-color: white\">CSs LSs</td><td style=\"background-color: white\">CSs NHc</td><td style=\"background-color: white\">CSs NHr</td><td style=\"background-color: white\">CSs NHs</td><td style=\"background-color: white\">CSs SSc</td><td style=\"background-color: white\">CSs SSr</td><td style=\"background-color: white\">CSs SSs</td><td style=\"background-color: white\">CSs SVc</td><td style=\"background-color: yellow\">CSs SVr</td><td style=\"background-color: white\">CSs SVs</td><td style=\"background-color: white\">CSs VBc</td><td style=\"background-color: white\">CSs VBr</td><td style=\"background-color: white\">CSs VBs</td></tr><tr><td style=\"background-color: white\">KRc CSc</td><td style=\"background-color: white\">KRc CSr</td><td style=\"background-color: white\">KRc CSs</td><td style=\"background-color: white\">KRc KRc</td><td style=\"background-color: lightgreen\">KRc KRr</td><td style=\"background-color: white\">KRc KRs</td><td style=\"background-color: white\">KRc LHc</td><td style=\"background-color: white\">KRc LHr</td><td style=\"background-color: white\">KRc LHs</td><td style=\"background-color: white\">KRc LSc</td><td style=\"background-color: white\">KRc LSr</td><td style=\"background-color: white\">KRc LSs</td><td style=\"background-color: white\">KRc NHc</td><td style=\"background-color: white\">KRc NHr</td><td style=\"background-color: white\">KRc NHs</td><td style=\"background-color: white\">KRc SSc</td><td style=\"background-color: white\">KRc SSr</td><td style=\"background-color: white\">KRc SSs</td><td style=\"background-color: white\">KRc SVc</td><td style=\"background-color: lightgreen\">KRc SVr</td><td style=\"background-color: white\">KRc SVs</td><td style=\"background-color: white\">KRc VBc</td><td style=\"background-color: white\">KRc VBr</td><td style=\"background-color: white\">KRc VBs</td></tr><tr><td style=\"background-color: yellow\">KRr CSc</td><td style=\"background-color: yellow\">KRr CSr</td><td style=\"background-color: yellow\">KRr CSs</td><td style=\"background-color: lightgreen\">KRr KRc</td><td style=\"background-color: lightgreen\">KRr KRr</td><td style=\"background-color: lightgreen\">KRr KRs</td><td style=\"background-color: yellow\">KRr LHc</td><td style=\"background-color: yellow\">KRr LHr</td><td style=\"background-color: yellow\">KRr LHs</td><td style=\"background-color: yellow\">KRr LSc</td><td style=\"background-color: yellow\">KRr LSr</td><td style=\"background-color: yellow\">KRr LSs</td><td style=\"background-color: yellow\">KRr NHc</td><td style=\"background-color: yellow\">KRr NHr</td><td style=\"background-color: yellow\">KRr NHs</td><td style=\"background-color: yellow\">KRr SSc</td><td style=\"background-color: yellow\">KRr SSr</td><td style=\"background-color: yellow\">KRr SSs</td><td style=\"background-color: lightgreen\">KRr SVc</td><td style=\"background-color: lightgreen\">KRr SVr</td><td style=\"background-color: lightgreen\">KRr SVs</td><td style=\"background-color: yellow\">KRr VBc</td><td style=\"background-color: yellow\">KRr VBr</td><td style=\"background-color: yellow\">KRr VBs</td></tr><tr><td style=\"background-color: white\">KRs CSc</td><td style=\"background-color: white\">KRs CSr</td><td style=\"background-color: white\">KRs CSs</td><td style=\"background-color: white\">KRs KRc</td><td style=\"background-color: lightgreen\">KRs KRr</td><td style=\"background-color: white\">KRs KRs</td><td style=\"background-color: white\">KRs LHc</td><td style=\"background-color: white\">KRs LHr</td><td style=\"background-color: white\">KRs LHs</td><td style=\"background-color: white\">KRs LSc</td><td style=\"background-color: white\">KRs LSr</td><td style=\"background-color: white\">KRs LSs</td><td style=\"background-color: white\">KRs NHc</td><td style=\"background-color: white\">KRs NHr</td><td style=\"background-color: white\">KRs NHs</td><td style=\"background-color: white\">KRs SSc</td><td style=\"background-color: white\">KRs SSr</td><td style=\"background-color: white\">KRs SSs</td><td style=\"background-color: white\">KRs SVc</td><td style=\"background-color: lightgreen\">KRs SVr</td><td style=\"background-color: white\">KRs SVs</td><td style=\"background-color: white\">KRs VBc</td><td style=\"background-color: white\">KRs VBr</td><td style=\"background-color: white\">KRs VBs</td></tr><tr><td style=\"background-color: white\">LHc CSc</td><td style=\"background-color: white\">LHc CSr</td><td style=\"background-color: white\">LHc CSs</td><td style=\"background-color: white\">LHc KRc</td><td style=\"background-color: yellow\">LHc KRr</td><td style=\"background-color: white\">LHc KRs</td><td style=\"background-color: white\">LHc LHc</td><td style=\"background-color: white\">LHc LHr</td><td style=\"background-color: white\">LHc LHs</td><td style=\"background-color: white\">LHc LSc</td><td style=\"background-color: white\">LHc LSr</td><td style=\"background-color: white\">LHc LSs</td><td style=\"background-color: white\">LHc NHc</td><td style=\"background-color: white\">LHc NHr</td><td style=\"background-color: white\">LHc NHs</td><td style=\"background-color: white\">LHc SSc</td><td style=\"background-color: white\">LHc SSr</td><td style=\"background-color: white\">LHc SSs</td><td style=\"background-color: white\">LHc SVc</td><td style=\"background-color: yellow\">LHc SVr</td><td style=\"background-color: white\">LHc SVs</td><td style=\"background-color: white\">LHc VBc</td><td style=\"background-color: white\">LHc VBr</td><td style=\"background-color: white\">LHc VBs</td></tr><tr><td style=\"background-color: white\">LHr CSc</td><td style=\"background-color: white\">LHr CSr</td><td style=\"background-color: white\">LHr CSs</td><td style=\"background-color: white\">LHr KRc</td><td style=\"background-color: yellow\">LHr KRr</td><td style=\"background-color: white\">LHr KRs</td><td style=\"background-color: white\">LHr LHc</td><td style=\"background-color: white\">LHr LHr</td><td style=\"background-color: white\">LHr LHs</td><td style=\"background-color: white\">LHr LSc</td><td style=\"background-color: white\">LHr LSr</td><td style=\"background-color: white\">LHr LSs</td><td style=\"background-color: white\">LHr NHc</td><td style=\"background-color: white\">LHr NHr</td><td style=\"background-color: white\">LHr NHs</td><td style=\"background-color: white\">LHr SSc</td><td style=\"background-color: white\">LHr SSr</td><td style=\"background-color: white\">LHr SSs</td><td style=\"background-color: white\">LHr SVc</td><td style=\"background-color: yellow\">LHr SVr</td><td style=\"background-color: white\">LHr SVs</td><td style=\"background-color: white\">LHr VBc</td><td style=\"background-color: white\">LHr VBr</td><td style=\"background-color: white\">LHr VBs</td></tr><tr><td style=\"background-color: white\">LHs CSc</td><td style=\"background-color: white\">LHs CSr</td><td style=\"background-color: white\">LHs CSs</td><td style=\"background-color: white\">LHs KRc</td><td style=\"background-color: yellow\">LHs KRr</td><td style=\"background-color: white\">LHs KRs</td><td style=\"background-color: white\">LHs LHc</td><td style=\"background-color: white\">LHs LHr</td><td style=\"background-color: white\">LHs LHs</td><td style=\"background-color: white\">LHs LSc</td><td style=\"background-color: white\">LHs LSr</td><td style=\"background-color: white\">LHs LSs</td><td style=\"background-color: white\">LHs NHc</td><td style=\"background-color: white\">LHs NHr</td><td style=\"background-color: white\">LHs NHs</td><td style=\"background-color: white\">LHs SSc</td><td style=\"background-color: white\">LHs SSr</td><td style=\"background-color: white\">LHs SSs</td><td style=\"background-color: white\">LHs SVc</td><td style=\"background-color: yellow\">LHs SVr</td><td style=\"background-color: white\">LHs SVs</td><td style=\"background-color: white\">LHs VBc</td><td style=\"background-color: white\">LHs VBr</td><td style=\"background-color: white\">LHs VBs</td></tr><tr><td style=\"background-color: white\">LSc CSc</td><td style=\"background-color: white\">LSc CSr</td><td style=\"background-color: white\">LSc CSs</td><td style=\"background-color: white\">LSc KRc</td><td style=\"background-color: yellow\">LSc KRr</td><td style=\"background-color: white\">LSc KRs</td><td style=\"background-color: white\">LSc LHc</td><td style=\"background-color: white\">LSc LHr</td><td style=\"background-color: white\">LSc LHs</td><td style=\"background-color: white\">LSc LSc</td><td style=\"background-color: white\">LSc LSr</td><td style=\"background-color: white\">LSc LSs</td><td style=\"background-color: white\">LSc NHc</td><td style=\"background-color: white\">LSc NHr</td><td style=\"background-color: white\">LSc NHs</td><td style=\"background-color: white\">LSc SSc</td><td style=\"background-color: white\">LSc SSr</td><td style=\"background-color: white\">LSc SSs</td><td style=\"background-color: white\">LSc SVc</td><td style=\"background-color: yellow\">LSc SVr</td><td style=\"background-color: white\">LSc SVs</td><td style=\"background-color: white\">LSc VBc</td><td style=\"background-color: white\">LSc VBr</td><td style=\"background-color: white\">LSc VBs</td></tr><tr><td style=\"background-color: white\">LSr CSc</td><td style=\"background-color: white\">LSr CSr</td><td style=\"background-color: white\">LSr CSs</td><td style=\"background-color: white\">LSr KRc</td><td style=\"background-color: yellow\">LSr KRr</td><td style=\"background-color: white\">LSr KRs</td><td style=\"background-color: white\">LSr LHc</td><td style=\"background-color: white\">LSr LHr</td><td style=\"background-color: white\">LSr LHs</td><td style=\"background-color: white\">LSr LSc</td><td style=\"background-color: white\">LSr LSr</td><td style=\"background-color: white\">LSr LSs</td><td style=\"background-color: white\">LSr NHc</td><td style=\"background-color: white\">LSr NHr</td><td style=\"background-color: white\">LSr NHs</td><td style=\"background-color: white\">LSr SSc</td><td style=\"background-color: white\">LSr SSr</td><td style=\"background-color: white\">LSr SSs</td><td style=\"background-color: white\">LSr SVc</td><td style=\"background-color: yellow\">LSr SVr</td><td style=\"background-color: white\">LSr SVs</td><td style=\"background-color: white\">LSr VBc</td><td style=\"background-color: white\">LSr VBr</td><td style=\"background-color: white\">LSr VBs</td></tr><tr><td style=\"background-color: white\">LSs CSc</td><td style=\"background-color: white\">LSs CSr</td><td style=\"background-color: white\">LSs CSs</td><td style=\"background-color: white\">LSs KRc</td><td style=\"background-color: yellow\">LSs KRr</td><td style=\"background-color: white\">LSs KRs</td><td style=\"background-color: white\">LSs LHc</td><td style=\"background-color: white\">LSs LHr</td><td style=\"background-color: white\">LSs LHs</td><td style=\"background-color: white\">LSs LSc</td><td style=\"background-color: white\">LSs LSr</td><td style=\"background-color: white\">LSs LSs</td><td style=\"background-color: white\">LSs NHc</td><td style=\"background-color: white\">LSs NHr</td><td style=\"background-color: white\">LSs NHs</td><td style=\"background-color: white\">LSs SSc</td><td style=\"background-color: white\">LSs SSr</td><td style=\"background-color: white\">LSs SSs</td><td style=\"background-color: white\">LSs SVc</td><td style=\"background-color: yellow\">LSs SVr</td><td style=\"background-color: white\">LSs SVs</td><td style=\"background-color: white\">LSs VBc</td><td style=\"background-color: white\">LSs VBr</td><td style=\"background-color: white\">LSs VBs</td></tr><tr><td style=\"background-color: white\">NHc CSc</td><td style=\"background-color: white\">NHc CSr</td><td style=\"background-color: white\">NHc CSs</td><td style=\"background-color: white\">NHc KRc</td><td style=\"background-color: yellow\">NHc KRr</td><td style=\"background-color: white\">NHc KRs</td><td style=\"background-color: white\">NHc LHc</td><td style=\"background-color: white\">NHc LHr</td><td style=\"background-color: white\">NHc LHs</td><td style=\"background-color: white\">NHc LSc</td><td style=\"background-color: white\">NHc LSr</td><td style=\"background-color: white\">NHc LSs</td><td style=\"background-color: white\">NHc NHc</td><td style=\"background-color: white\">NHc NHr</td><td style=\"background-color: white\">NHc NHs</td><td style=\"background-color: white\">NHc SSc</td><td style=\"background-color: white\">NHc SSr</td><td style=\"background-color: white\">NHc SSs</td><td style=\"background-color: white\">NHc SVc</td><td style=\"background-color: yellow\">NHc SVr</td><td style=\"background-color: white\">NHc SVs</td><td style=\"background-color: white\">NHc VBc</td><td style=\"background-color: white\">NHc VBr</td><td style=\"background-color: white\">NHc VBs</td></tr><tr><td style=\"background-color: white\">NHr CSc</td><td style=\"background-color: white\">NHr CSr</td><td style=\"background-color: white\">NHr CSs</td><td style=\"background-color: white\">NHr KRc</td><td style=\"background-color: yellow\">NHr KRr</td><td style=\"background-color: white\">NHr KRs</td><td style=\"background-color: white\">NHr LHc</td><td style=\"background-color: white\">NHr LHr</td><td style=\"background-color: white\">NHr LHs</td><td style=\"background-color: white\">NHr LSc</td><td style=\"background-color: white\">NHr LSr</td><td style=\"background-color: white\">NHr LSs</td><td style=\"background-color: white\">NHr NHc</td><td style=\"background-color: white\">NHr NHr</td><td style=\"background-color: white\">NHr NHs</td><td style=\"background-color: white\">NHr SSc</td><td style=\"background-color: white\">NHr SSr</td><td style=\"background-color: white\">NHr SSs</td><td style=\"background-color: white\">NHr SVc</td><td style=\"background-color: yellow\">NHr SVr</td><td style=\"background-color: white\">NHr SVs</td><td style=\"background-color: white\">NHr VBc</td><td style=\"background-color: white\">NHr VBr</td><td style=\"background-color: white\">NHr VBs</td></tr><tr><td style=\"background-color: white\">NHs CSc</td><td style=\"background-color: white\">NHs CSr</td><td style=\"background-color: white\">NHs CSs</td><td style=\"background-color: white\">NHs KRc</td><td style=\"background-color: yellow\">NHs KRr</td><td style=\"background-color: white\">NHs KRs</td><td style=\"background-color: white\">NHs LHc</td><td style=\"background-color: white\">NHs LHr</td><td style=\"background-color: white\">NHs LHs</td><td style=\"background-color: white\">NHs LSc</td><td style=\"background-color: white\">NHs LSr</td><td style=\"background-color: white\">NHs LSs</td><td style=\"background-color: white\">NHs NHc</td><td style=\"background-color: white\">NHs NHr</td><td style=\"background-color: white\">NHs NHs</td><td style=\"background-color: white\">NHs SSc</td><td style=\"background-color: white\">NHs SSr</td><td style=\"background-color: white\">NHs SSs</td><td style=\"background-color: white\">NHs SVc</td><td style=\"background-color: yellow\">NHs SVr</td><td style=\"background-color: white\">NHs SVs</td><td style=\"background-color: white\">NHs VBc</td><td style=\"background-color: white\">NHs VBr</td><td style=\"background-color: white\">NHs VBs</td></tr><tr><td style=\"background-color: white\">SSc CSc</td><td style=\"background-color: white\">SSc CSr</td><td style=\"background-color: white\">SSc CSs</td><td style=\"background-color: white\">SSc KRc</td><td style=\"background-color: yellow\">SSc KRr</td><td style=\"background-color: white\">SSc KRs</td><td style=\"background-color: white\">SSc LHc</td><td style=\"background-color: white\">SSc LHr</td><td style=\"background-color: white\">SSc LHs</td><td style=\"background-color: white\">SSc LSc</td><td style=\"background-color: white\">SSc LSr</td><td style=\"background-color: white\">SSc LSs</td><td style=\"background-color: white\">SSc NHc</td><td style=\"background-color: white\">SSc NHr</td><td style=\"background-color: white\">SSc NHs</td><td style=\"background-color: white\">SSc SSc</td><td style=\"background-color: white\">SSc SSr</td><td style=\"background-color: white\">SSc SSs</td><td style=\"background-color: white\">SSc SVc</td><td style=\"background-color: yellow\">SSc SVr</td><td style=\"background-color: white\">SSc SVs</td><td style=\"background-color: white\">SSc VBc</td><td style=\"background-color: white\">SSc VBr</td><td style=\"background-color: white\">SSc VBs</td></tr><tr><td style=\"background-color: white\">SSr CSc</td><td style=\"background-color: white\">SSr CSr</td><td style=\"background-color: white\">SSr CSs</td><td style=\"background-color: white\">SSr KRc</td><td style=\"background-color: yellow\">SSr KRr</td><td style=\"background-color: white\">SSr KRs</td><td style=\"background-color: white\">SSr LHc</td><td style=\"background-color: white\">SSr LHr</td><td style=\"background-color: white\">SSr LHs</td><td style=\"background-color: white\">SSr LSc</td><td style=\"background-color: white\">SSr LSr</td><td style=\"background-color: white\">SSr LSs</td><td style=\"background-color: white\">SSr NHc</td><td style=\"background-color: white\">SSr NHr</td><td style=\"background-color: white\">SSr NHs</td><td style=\"background-color: white\">SSr SSc</td><td style=\"background-color: white\">SSr SSr</td><td style=\"background-color: white\">SSr SSs</td><td style=\"background-color: white\">SSr SVc</td><td style=\"background-color: yellow\">SSr SVr</td><td style=\"background-color: white\">SSr SVs</td><td style=\"background-color: white\">SSr VBc</td><td style=\"background-color: white\">SSr VBr</td><td style=\"background-color: white\">SSr VBs</td></tr><tr><td style=\"background-color: white\">SSs CSc</td><td style=\"background-color: white\">SSs CSr</td><td style=\"background-color: white\">SSs CSs</td><td style=\"background-color: white\">SSs KRc</td><td style=\"background-color: yellow\">SSs KRr</td><td style=\"background-color: white\">SSs KRs</td><td style=\"background-color: white\">SSs LHc</td><td style=\"background-color: white\">SSs LHr</td><td style=\"background-color: white\">SSs LHs</td><td style=\"background-color: white\">SSs LSc</td><td style=\"background-color: white\">SSs LSr</td><td style=\"background-color: white\">SSs LSs</td><td style=\"background-color: white\">SSs NHc</td><td style=\"background-color: white\">SSs NHr</td><td style=\"background-color: white\">SSs NHs</td><td style=\"background-color: white\">SSs SSc</td><td style=\"background-color: white\">SSs SSr</td><td style=\"background-color: white\">SSs SSs</td><td style=\"background-color: white\">SSs SVc</td><td style=\"background-color: yellow\">SSs SVr</td><td style=\"background-color: white\">SSs SVs</td><td style=\"background-color: white\">SSs VBc</td><td style=\"background-color: white\">SSs VBr</td><td style=\"background-color: white\">SSs VBs</td></tr><tr><td style=\"background-color: white\">SVc CSc</td><td style=\"background-color: white\">SVc CSr</td><td style=\"background-color: white\">SVc CSs</td><td style=\"background-color: white\">SVc KRc</td><td style=\"background-color: lightgreen\">SVc KRr</td><td style=\"background-color: white\">SVc KRs</td><td style=\"background-color: white\">SVc LHc</td><td style=\"background-color: white\">SVc LHr</td><td style=\"background-color: white\">SVc LHs</td><td style=\"background-color: white\">SVc LSc</td><td style=\"background-color: white\">SVc LSr</td><td style=\"background-color: white\">SVc LSs</td><td style=\"background-color: white\">SVc NHc</td><td style=\"background-color: white\">SVc NHr</td><td style=\"background-color: white\">SVc NHs</td><td style=\"background-color: white\">SVc SSc</td><td style=\"background-color: white\">SVc SSr</td><td style=\"background-color: white\">SVc SSs</td><td style=\"background-color: white\">SVc SVc</td><td style=\"background-color: lightgreen\">SVc SVr</td><td style=\"background-color: white\">SVc SVs</td><td style=\"background-color: white\">SVc VBc</td><td style=\"background-color: white\">SVc VBr</td><td style=\"background-color: white\">SVc VBs</td></tr><tr><td style=\"background-color: yellow\">SVr CSc</td><td style=\"background-color: yellow\">SVr CSr</td><td style=\"background-color: yellow\">SVr CSs</td><td style=\"background-color: lightgreen\">SVr KRc</td><td style=\"background-color: lightgreen\">SVr KRr</td><td style=\"background-color: lightgreen\">SVr KRs</td><td style=\"background-color: yellow\">SVr LHc</td><td style=\"background-color: yellow\">SVr LHr</td><td style=\"background-color: yellow\">SVr LHs</td><td style=\"background-color: yellow\">SVr LSc</td><td style=\"background-color: yellow\">SVr LSr</td><td style=\"background-color: yellow\">SVr LSs</td><td style=\"background-color: yellow\">SVr NHc</td><td style=\"background-color: yellow\">SVr NHr</td><td style=\"background-color: yellow\">SVr NHs</td><td style=\"background-color: yellow\">SVr SSc</td><td style=\"background-color: yellow\">SVr SSr</td><td style=\"background-color: yellow\">SVr SSs</td><td style=\"background-color: lightgreen\">SVr SVc</td><td style=\"background-color: lightgreen\">SVr SVr</td><td style=\"background-color: lightgreen\">SVr SVs</td><td style=\"background-color: yellow\">SVr VBc</td><td style=\"background-color: yellow\">SVr VBr</td><td style=\"background-color: yellow\">SVr VBs</td></tr><tr><td style=\"background-color: white\">SVs CSc</td><td style=\"background-color: white\">SVs CSr</td><td style=\"background-color: white\">SVs CSs</td><td style=\"background-color: white\">SVs KRc</td><td style=\"background-color: lightgreen\">SVs KRr</td><td style=\"background-color: white\">SVs KRs</td><td style=\"background-color: white\">SVs LHc</td><td style=\"background-color: white\">SVs LHr</td><td style=\"background-color: white\">SVs LHs</td><td style=\"background-color: white\">SVs LSc</td><td style=\"background-color: white\">SVs LSr</td><td style=\"background-color: white\">SVs LSs</td><td style=\"background-color: white\">SVs NHc</td><td style=\"background-color: white\">SVs NHr</td><td style=\"background-color: white\">SVs NHs</td><td style=\"background-color: white\">SVs SSc</td><td style=\"background-color: white\">SVs SSr</td><td style=\"background-color: white\">SVs SSs</td><td style=\"background-color: white\">SVs SVc</td><td style=\"background-color: lightgreen\">SVs SVr</td><td style=\"background-color: white\">SVs SVs</td><td style=\"background-color: white\">SVs VBc</td><td style=\"background-color: white\">SVs VBr</td><td style=\"background-color: white\">SVs VBs</td></tr><tr><td style=\"background-color: white\">VBc CSc</td><td style=\"background-color: white\">VBc CSr</td><td style=\"background-color: white\">VBc CSs</td><td style=\"background-color: white\">VBc KRc</td><td style=\"background-color: yellow\">VBc KRr</td><td style=\"background-color: white\">VBc KRs</td><td style=\"background-color: white\">VBc LHc</td><td style=\"background-color: white\">VBc LHr</td><td style=\"background-color: white\">VBc LHs</td><td style=\"background-color: white\">VBc LSc</td><td style=\"background-color: white\">VBc LSr</td><td style=\"background-color: white\">VBc LSs</td><td style=\"background-color: white\">VBc NHc</td><td style=\"background-color: white\">VBc NHr</td><td style=\"background-color: white\">VBc NHs</td><td style=\"background-color: white\">VBc SSc</td><td style=\"background-color: white\">VBc SSr</td><td style=\"background-color: white\">VBc SSs</td><td style=\"background-color: white\">VBc SVc</td><td style=\"background-color: yellow\">VBc SVr</td><td style=\"background-color: white\">VBc SVs</td><td style=\"background-color: white\">VBc VBc</td><td style=\"background-color: white\">VBc VBr</td><td style=\"background-color: white\">VBc VBs</td></tr><tr><td style=\"background-color: white\">VBr CSc</td><td style=\"background-color: white\">VBr CSr</td><td style=\"background-color: white\">VBr CSs</td><td style=\"background-color: white\">VBr KRc</td><td style=\"background-color: yellow\">VBr KRr</td><td style=\"background-color: white\">VBr KRs</td><td style=\"background-color: white\">VBr LHc</td><td style=\"background-color: white\">VBr LHr</td><td style=\"background-color: white\">VBr LHs</td><td style=\"background-color: white\">VBr LSc</td><td style=\"background-color: white\">VBr LSr</td><td style=\"background-color: white\">VBr LSs</td><td style=\"background-color: white\">VBr NHc</td><td style=\"background-color: white\">VBr NHr</td><td style=\"background-color: white\">VBr NHs</td><td style=\"background-color: white\">VBr SSc</td><td style=\"background-color: white\">VBr SSr</td><td style=\"background-color: white\">VBr SSs</td><td style=\"background-color: white\">VBr SVc</td><td style=\"background-color: yellow\">VBr SVr</td><td style=\"background-color: white\">VBr SVs</td><td style=\"background-color: white\">VBr VBc</td><td style=\"background-color: white\">VBr VBr</td><td style=\"background-color: white\">VBr VBs</td></tr><tr><td style=\"background-color: white\">VBs CSc</td><td style=\"background-color: white\">VBs CSr</td><td style=\"background-color: white\">VBs CSs</td><td style=\"background-color: white\">VBs KRc</td><td style=\"background-color: yellow\">VBs KRr</td><td style=\"background-color: white\">VBs KRs</td><td style=\"background-color: white\">VBs LHc</td><td style=\"background-color: white\">VBs LHr</td><td style=\"background-color: white\">VBs LHs</td><td style=\"background-color: white\">VBs LSc</td><td style=\"background-color: white\">VBs LSr</td><td style=\"background-color: white\">VBs LSs</td><td style=\"background-color: white\">VBs NHc</td><td style=\"background-color: white\">VBs NHr</td><td style=\"background-color: white\">VBs NHs</td><td style=\"background-color: white\">VBs SSc</td><td style=\"background-color: white\">VBs SSr</td><td style=\"background-color: white\">VBs SSs</td><td style=\"background-color: white\">VBs SVc</td><td style=\"background-color: yellow\">VBs SVr</td><td style=\"background-color: white\">VBs SVs</td><td style=\"background-color: white\">VBs VBc</td><td style=\"background-color: white\">VBs VBr</td><td style=\"background-color: white\">VBs VBs</td></tr></table>"
      ],
      "text/plain": [
       "<IPython.core.display.HTML object>"
      ]
     },
     "execution_count": 66,
     "metadata": {},
     "output_type": "execute_result"
    }
   ],
   "source": [
    "Pgrid(two_ferrari_wins_p, at_least_one_Ferrari_win_on_a_rainy_day, RJGPrw)"
   ]
  },
  {
   "cell_type": "markdown",
   "metadata": {},
   "source": [
    "But the counting is similar: \n",
    "\n",
    "24 + 24 + (24 - 2) + (24 - 2) = 92 yellow cells\n",
    "5 + 5 + 5 + 5 = 20 green cells\n",
    "\n",
    "So probability of two Ferrari wins given at least one Ferrari win on a rainy day = 20/92 = 22%.\n",
    "\n",
    "And so it makes sense that for all of Formula 1 drivers and all 5 weather conditions, that the probability hovers around 25%. Do you want to run this? Sorry, I am not going to risk frying my kernel, but you can :-)\n"
   ]
  },
  {
   "cell_type": "markdown",
   "metadata": {},
   "source": [
    "Some of you may have gotten confused when I added evidence to a probability distribution, and you wondered how **the heck** are weather conditions related to F1 rankings? But you were thinking too hard. Probability theory is just counting. Given all possible outcomes, figure out the joint sample space, and just count favorable outcomes over all possible outcomes.\n",
    "\n",
    "<center>\n",
    "    <img src=\"ipynb.images/elementary.png\" width=300 />\n",
    "</center>"
   ]
  },
  {
   "cell_type": "markdown",
   "metadata": {},
   "source": [
    "But you know what's the strangest thing? A Ferrari win on a rainy day is understandable, because Ferrari has great Pirelli tires, and once I figure that out, I'm ready to bet on Ferrari on rainy days. But if i told you that Ferrari wins on the day it rains... in Australia (not on the race track), and that there are 5 possible weather conditions in Australia, *the same listing of cells above holds*! Same sample space, same favorable outcomes and unfavorable ones!\n",
    "\n",
    "<center>\n",
    "    <img src=\"ipynb.images/cmon-iceage.png\" width=200 />\n",
    "</center>\n",
    "\n",
    "You may say... \"Wait a minute, if this theory that you call probability theory gives me illogical answers, how can I trust it\"? \n",
    "\n",
    "Probability theory is mathematically sound, but it all comes down to **the model you apply it to**. \n",
    "\n",
    "If your sample space is the joint distribution of F1 drivers, and.. weather conditions **in Australia**, then you've probably built the wrong statistical model, and there ain't a single Machine Learning algorithm that will help you here. Junk in, junk out. But weather on race tracks and F1 racing, that does make sense, right? Skills of drivers, performance of tires..\n",
    "\n",
    "That is why the model is so important in Data Science. Before you start applying statistics to data, or feeding data into a Machine, you need to work on your model. In the case of discrete random variables, your pdf is a dictionary, much like our Danish or Formula 1 exemplars: Even though you have *some* data based on *some* experiment, you still need to build a model with joint distributions to complete your sample space for the problem at hand. In the case of continuous random variables your state space is most often infinite (countable or uncountable) and you need to build a much denser model. In fact, a high dimensional manifold in state space.\n",
    "\n",
    "Statistics is the field of mathematics which deals with the understanding and interpretation of data. Specifically, you want to find the underlying mechanism that yields the data you're analyzing. You took the first step by learning probability theory. Now we'll begin to catalog all possible probability distributions that lead to seemingly random data (Poisson, gaussian, exponential, etc), and by shaping models with Bayesian inference: You match the histogram of your data to a pdf on the catalogue, you find its parameters using probabilistic programs like variational inference or Monte Carlo methods, and once you have your analytic model, you extract all kinds of interesting statistics from it (instead of from the data).\n",
    "\n",
    "In fact, that is exactly what machines do. They use a deep neural structure to build a pdf, which they can then use for prediction. Machine Learning experts have stronger stats foundation than CS undergraduates in a deep learning class. Information theory, in general, requires a strong understanding of data and probability (and linear algebra), and anyone interested in becoming a Data Scientist or Machine Learning Engineer needs to develop a deep intuition of statistical (and linear algebra) concepts. That is our journey in this class.\n",
    "\n",
    "In many cases, predictive Machine Learning algorithms are completely useless in helping with the understanding of data. They do not yield their data model. Bayesian ML will change all that, and Alexa will be able to tell you why it lowered room temperature, John."
   ]
  }
 ],
 "metadata": {
  "kernelspec": {
   "display_name": "Python 3",
   "language": "python",
   "name": "python3"
  },
  "language_info": {
   "codemirror_mode": {
    "name": "ipython",
    "version": 3
   },
   "file_extension": ".py",
   "mimetype": "text/x-python",
   "name": "python",
   "nbconvert_exporter": "python",
   "pygments_lexer": "ipython3",
   "version": "3.7.0"
  }
 },
 "nbformat": 4,
 "nbformat_minor": 1
}
