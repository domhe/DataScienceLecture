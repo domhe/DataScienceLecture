{
 "cells": [
  {
   "cell_type": "markdown",
   "metadata": {},
   "source": [
    "<div style=\"text-align: right\">INFO 6105 Data Science Eng Methods and Tools, Spring 19 midterm</div>\n",
    "<div style=\"text-align: right\">Dino Konstantopoulos, 13 March 2019</div>\n",
    "<div style=\"text-align: right\">100 points total</div>\n",
    "\n",
    "# INFO 6105 Spring 19 Midterm\n",
    "\n",
    "You have up to an hour and a half. Good luck."
   ]
  },
  {
   "cell_type": "markdown",
   "metadata": {},
   "source": [
    "<div style=\"text-align: right\">15 points</div>\n",
    "\n",
    "## 1. Hurricanes\n",
    "\n",
    "Read hurricanes data from `hurricanes.csv` into a `pandas` data frame. Find the average number of hurricanes per quarter for years nineteen-fifty to nineteen-fiftynine, which includes years nineteen-fifty as well as nineteen-fiftynine, and where first quarter is months of January, February, and March, second quarter is months of April, May, and June, third quarter is months of July, August, and September, and fourth quarter is months of October, November, and December, and tabulate them below.\n",
    "\n",
    "Also, plot the number of hurricanes per quarter.\n",
    "\n",
    "</br >\n",
    "<center>\n",
    "<img src=\"ipynb.images/hurricanes.jpg\" width=400 />\n",
    "</center>"
   ]
  },
  {
   "cell_type": "code",
   "execution_count": 15,
   "metadata": {},
   "outputs": [],
   "source": [
    "%matplotlib inline\n",
    "import  matplotlib.pyplot as plt\n",
    "import numpy as np\n",
    "import pandas as pd"
   ]
  },
  {
   "cell_type": "code",
   "execution_count": 16,
   "metadata": {},
   "outputs": [
    {
     "data": {
      "text/html": [
       "<div>\n",
       "<style scoped>\n",
       "    .dataframe tbody tr th:only-of-type {\n",
       "        vertical-align: middle;\n",
       "    }\n",
       "\n",
       "    .dataframe tbody tr th {\n",
       "        vertical-align: top;\n",
       "    }\n",
       "\n",
       "    .dataframe thead th {\n",
       "        text-align: right;\n",
       "    }\n",
       "</style>\n",
       "<table border=\"1\" class=\"dataframe\">\n",
       "  <thead>\n",
       "    <tr style=\"text-align: right;\">\n",
       "      <th></th>\n",
       "      <th>year</th>\n",
       "      <th>month</th>\n",
       "      <th>passengers</th>\n",
       "    </tr>\n",
       "  </thead>\n",
       "  <tbody>\n",
       "    <tr>\n",
       "      <th>0</th>\n",
       "      <td>1949</td>\n",
       "      <td>January</td>\n",
       "      <td>112</td>\n",
       "    </tr>\n",
       "    <tr>\n",
       "      <th>1</th>\n",
       "      <td>1949</td>\n",
       "      <td>February</td>\n",
       "      <td>118</td>\n",
       "    </tr>\n",
       "    <tr>\n",
       "      <th>2</th>\n",
       "      <td>1949</td>\n",
       "      <td>March</td>\n",
       "      <td>132</td>\n",
       "    </tr>\n",
       "    <tr>\n",
       "      <th>3</th>\n",
       "      <td>1949</td>\n",
       "      <td>April</td>\n",
       "      <td>129</td>\n",
       "    </tr>\n",
       "    <tr>\n",
       "      <th>4</th>\n",
       "      <td>1949</td>\n",
       "      <td>May</td>\n",
       "      <td>121</td>\n",
       "    </tr>\n",
       "  </tbody>\n",
       "</table>\n",
       "</div>"
      ],
      "text/plain": [
       "   year     month  passengers\n",
       "0  1949   January         112\n",
       "1  1949  February         118\n",
       "2  1949     March         132\n",
       "3  1949     April         129\n",
       "4  1949       May         121"
      ]
     },
     "execution_count": 16,
     "metadata": {},
     "output_type": "execute_result"
    }
   ],
   "source": [
    "tables = pd.read_csv(\"data/hurricanes.csv\")\n",
    "tables.head()"
   ]
  },
  {
   "cell_type": "code",
   "execution_count": 3,
   "metadata": {},
   "outputs": [],
   "source": [
    "newtable = tables[tables.year == 1950]\n",
    "quarter1 = newtable[0:3].passengers.sum()\n",
    "quarter2 = newtable[3:6].passengers.sum()\n",
    "quarter3 = newtable[6:9].passengers.sum()\n",
    "quarter4 = newtable[9:12].passengers.sum()"
   ]
  },
  {
   "cell_type": "code",
   "execution_count": 4,
   "metadata": {},
   "outputs": [
    {
     "data": {
      "text/html": [
       "<div>\n",
       "<style scoped>\n",
       "    .dataframe tbody tr th:only-of-type {\n",
       "        vertical-align: middle;\n",
       "    }\n",
       "\n",
       "    .dataframe tbody tr th {\n",
       "        vertical-align: top;\n",
       "    }\n",
       "\n",
       "    .dataframe thead th {\n",
       "        text-align: right;\n",
       "    }\n",
       "</style>\n",
       "<table border=\"1\" class=\"dataframe\">\n",
       "  <thead>\n",
       "    <tr style=\"text-align: right;\">\n",
       "      <th></th>\n",
       "      <th>Quarter</th>\n",
       "      <th>Passengers</th>\n",
       "    </tr>\n",
       "  </thead>\n",
       "  <tbody>\n",
       "    <tr>\n",
       "      <th>0</th>\n",
       "      <td>quarter1</td>\n",
       "      <td>382</td>\n",
       "    </tr>\n",
       "    <tr>\n",
       "      <th>1</th>\n",
       "      <td>quarter2</td>\n",
       "      <td>409</td>\n",
       "    </tr>\n",
       "    <tr>\n",
       "      <th>2</th>\n",
       "      <td>quarter3</td>\n",
       "      <td>498</td>\n",
       "    </tr>\n",
       "    <tr>\n",
       "      <th>3</th>\n",
       "      <td>quarter4</td>\n",
       "      <td>387</td>\n",
       "    </tr>\n",
       "  </tbody>\n",
       "</table>\n",
       "</div>"
      ],
      "text/plain": [
       "    Quarter  Passengers\n",
       "0  quarter1         382\n",
       "1  quarter2         409\n",
       "2  quarter3         498\n",
       "3  quarter4         387"
      ]
     },
     "execution_count": 4,
     "metadata": {},
     "output_type": "execute_result"
    }
   ],
   "source": [
    "data = {'Quarter':['quarter1','quarter2','quarter3','quarter4'],\n",
    "     'Passengers':[quarter1,quarter2,quarter3,quarter4]}\n",
    "result = pd.DataFrame(data)\n",
    "result"
   ]
  },
  {
   "cell_type": "markdown",
   "metadata": {},
   "source": [
    "<div style=\"text-align: right\">15 points</div>\n",
    "\n",
    "# 2. Divisible numbers\n",
    "\n",
    "How many numbers between zero and a thousand, when you take the square of each number and then add the number 1, can be divided exactly by seventeen (with 0 remainder)? \n",
    "\n",
    "</br >\n",
    "<center>\n",
    "<img src=\"ipynb.images/divisible.png\" width=150 />\n",
    "</center>\n",
    "\n",
    "You need to write your own functions, and if you want to use python functions, you can only use these: `map()`, `filter()`, and `reduce()`."
   ]
  },
  {
   "cell_type": "code",
   "execution_count": 5,
   "metadata": {},
   "outputs": [
    {
     "name": "stdout",
     "output_type": "stream",
     "text": [
      "[4, 13, 21, 30, 38, 47, 55, 64, 72, 81, 89, 98]\n"
     ]
    }
   ],
   "source": [
    "from collections import Counter\n",
    "from functools import reduce\n",
    "\n",
    "def getResult(n):\n",
    "    result = []\n",
    "    for n in range(n):\n",
    "        if (n*n + 1)%17 == 0: \n",
    "            result.append(n)\n",
    "    return result\n",
    "            \n",
    "result = getResult(100)\n",
    "print(result)"
   ]
  },
  {
   "cell_type": "markdown",
   "metadata": {},
   "source": [
    "<div style=\"text-align: right\">20 points</div>\n",
    "\n",
    "# 3. DNA\n",
    "\n",
    "If you have a DNA sequence like the one in the cell underneath, write a four by four stochastic transition matrix $M(n,m)$ where each of its elements represents the following probability:\n",
    "\n",
    "* DNA base with index m appears right after DNA base with index n\n",
    "\n",
    "A DNA base is either `adenine`, denoted by the letter `a`, `cytosine`, denoted by the letter `c`, `thymine`, denoted by the letter `t`, and `guanine`, denoted by the letter `g`.\n",
    "\n",
    "</br >\n",
    "<center>\n",
    "<img src=\"ipynb.images/dnastructure.jpg\" width=300 />\n",
    "</center>\n",
    "\n",
    "Don't forget to verify that the sum over each row of matrix elements adds up to 1.\n",
    "\n",
    "Using the stochastic transition matrix, determine how these bases are distributed in the steady-state limit. In other words, the vector $z$ such that `A @ z = z`.\n",
    "\n",
    "Finding the steady state of DNA is a first approximation in the map of the future of humankind :-)"
   ]
  },
  {
   "cell_type": "code",
   "execution_count": 9,
   "metadata": {},
   "outputs": [
    {
     "data": {
      "text/plain": [
       "399"
      ]
     },
     "execution_count": 9,
     "metadata": {},
     "output_type": "execute_result"
    }
   ],
   "source": [
    "dna = '''cccaacatacagtgaactcggacacgcctgctcactgtgaaccctgcacttgtcgccgccggctatgcaagagattctag\n",
    "gagagggtacccggaccagacataccgaaagaacaacacccccgcctctccgtcgctcacccacatgtaattcgtaccgg\n",
    "tggtggtacacctcgcaccgcaccagcgcctcaaccgtcccaaaaacccccacccctcggccaagtccataagggaggcg\n",
    "caaagacagcccatccccccgaagagcattccctaacgacgccggcccaagagacccggcactactgacgtccacggtac\n",
    "ctccgccaaaccccccgggggccttcagatcgccctagcccgaagcaaacacctcctcccccgctcacgcctccacaag'''\n",
    "dna = dna.replace('\\n', '')\n",
    "dna = list(dna)\n",
    "len(dna)"
   ]
  },
  {
   "cell_type": "code",
   "execution_count": 10,
   "metadata": {},
   "outputs": [
    {
     "data": {
      "text/plain": [
       "7"
      ]
     },
     "execution_count": 10,
     "metadata": {},
     "output_type": "execute_result"
    }
   ],
   "source": [
    "dna.index('t')"
   ]
  },
  {
   "cell_type": "code",
   "execution_count": 11,
   "metadata": {},
   "outputs": [],
   "source": [
    "mylist = []\n",
    "for i in range(0, 400):\n",
    "    i = dna.index('t')\n",
    "    mylist.append(i)\n",
    "    dna = dna[i:]"
   ]
  },
  {
   "cell_type": "code",
   "execution_count": 22,
   "metadata": {},
   "outputs": [
    {
     "name": "stdout",
     "output_type": "stream",
     "text": [
      "[[0.4375     0.15       0.19375    0.21875   ]\n",
      " [0.45283019 0.09433962 0.20754717 0.24528302]\n",
      " [0.33333333 0.16666667 0.23809524 0.25      ]\n",
      " [0.4        0.09473684 0.23157895 0.27368421]]\n"
     ]
    }
   ],
   "source": [
    "import numpy as np\n",
    "\n",
    "t = [i  for i, x in enumerate(dna) if x == 't']\n",
    "c = [i  for i, x in enumerate(dna) if x == 'c']\n",
    "g = [i  for i, x in enumerate(dna) if x == 'g']\n",
    "a = [i  for i, x in enumerate(dna) if x == 'a']\n",
    "\n",
    "c_c = len([x for x in c if x+1 in c]) / len(c)\n",
    "c_t = len([x for x in c if x+1 in t]) / len(c)\n",
    "c_g = len([x for x in c if x+1 in g]) / len(c)\n",
    "c_a = len([x for x in c if x+1 in a]) / len(c)\n",
    "\n",
    "# t = matrix([[c_c, c_t, c_g, c_a], [...], [...], [...]])\n",
    "\n",
    "m = np.zeros([4,4])\n",
    "bases = [c, t, g, a]\n",
    "for i in range(0,4):\n",
    "    for j in range(0,4):\n",
    "        m[i,j] = len([x for x in bases[i] if x+1 in bases[j]]) / len(bases[i])\n",
    "print(m)"
   ]
  },
  {
   "cell_type": "code",
   "execution_count": 21,
   "metadata": {},
   "outputs": [
    {
     "data": {
      "text/plain": [
       "(array([ 0.99744221,  0.08142787, -0.04230441,  0.0070534 ]),\n",
       " array([[ 0.50164552,  0.54944843, -0.17448096, -0.04758608],\n",
       "        [ 0.50155709,  0.22962591,  0.65052895,  0.10543861],\n",
       "        [ 0.49537003, -0.64137611, -0.58364527, -0.73287604],\n",
       "        [ 0.50139883, -0.48375102,  0.45357102,  0.6704558 ]]))"
      ]
     },
     "execution_count": 21,
     "metadata": {},
     "output_type": "execute_result"
    }
   ],
   "source": [
    "np.linalg.eig(m)"
   ]
  },
  {
   "cell_type": "code",
   "execution_count": 3,
   "metadata": {},
   "outputs": [
    {
     "ename": "NameError",
     "evalue": "name 'np' is not defined",
     "output_type": "error",
     "traceback": [
      "\u001b[0;31m---------------------------------------------------------------------------\u001b[0m",
      "\u001b[0;31mNameError\u001b[0m                                 Traceback (most recent call last)",
      "\u001b[0;32m<ipython-input-3-f12e251545f2>\u001b[0m in \u001b[0;36m<module>\u001b[0;34m\u001b[0m\n\u001b[0;32m----> 1\u001b[0;31m \u001b[0mmatrix\u001b[0m \u001b[0;34m=\u001b[0m \u001b[0mnp\u001b[0m\u001b[0;34m.\u001b[0m\u001b[0marange\u001b[0m\u001b[0;34m(\u001b[0m\u001b[0;36m16\u001b[0m\u001b[0;34m)\u001b[0m\u001b[0;34m.\u001b[0m\u001b[0mreshape\u001b[0m\u001b[0;34m(\u001b[0m\u001b[0;36m4\u001b[0m\u001b[0;34m,\u001b[0m \u001b[0;36m4\u001b[0m\u001b[0;34m)\u001b[0m\u001b[0;34m\u001b[0m\u001b[0;34m\u001b[0m\u001b[0m\n\u001b[0m\u001b[1;32m      2\u001b[0m \u001b[0mmatrix\u001b[0m\u001b[0;34m\u001b[0m\u001b[0;34m\u001b[0m\u001b[0m\n",
      "\u001b[0;31mNameError\u001b[0m: name 'np' is not defined"
     ]
    }
   ],
   "source": [
    "matrix = np.arange(16).reshape(4, 4)\n",
    "matrix"
   ]
  },
  {
   "cell_type": "code",
   "execution_count": 4,
   "metadata": {},
   "outputs": [
    {
     "ename": "NameError",
     "evalue": "name 'np' is not defined",
     "output_type": "error",
     "traceback": [
      "\u001b[0;31m---------------------------------------------------------------------------\u001b[0m",
      "\u001b[0;31mNameError\u001b[0m                                 Traceback (most recent call last)",
      "\u001b[0;32m<ipython-input-4-a43e5f8547e7>\u001b[0m in \u001b[0;36m<module>\u001b[0;34m\u001b[0m\n\u001b[0;32m----> 1\u001b[0;31m \u001b[0mtheta\u001b[0m \u001b[0;34m=\u001b[0m \u001b[0mnp\u001b[0m\u001b[0;34m.\u001b[0m\u001b[0mdeg2rad\u001b[0m\u001b[0;34m(\u001b[0m\u001b[0;36m45\u001b[0m\u001b[0;34m)\u001b[0m\u001b[0;34m\u001b[0m\u001b[0;34m\u001b[0m\u001b[0m\n\u001b[0m\u001b[1;32m      2\u001b[0m \u001b[0mtheta\u001b[0m\u001b[0;34m\u001b[0m\u001b[0;34m\u001b[0m\u001b[0m\n",
      "\u001b[0;31mNameError\u001b[0m: name 'np' is not defined"
     ]
    }
   ],
   "source": [
    "theta = np.deg2rad(45)\n",
    "theta"
   ]
  },
  {
   "cell_type": "markdown",
   "metadata": {},
   "source": [
    "<div style=\"text-align: right\">20 points</div>\n",
    "\n",
    "# 4. Mountain transformations\n",
    "\n",
    "</br >\n",
    "<center>\n",
    "<img src=\"ipynb.images/rockclimbing.jpg\" width=400 />\n",
    "</center>\n",
    "\n",
    "Determine the transformation matrix that rotates unit perpendicular vectors (n, m) in the (x, y) plane by thirty degrees in a counterclockwise directions and expands n by three while contracting m by half. \n",
    "\n",
    "Find its inverse, as well, in a way that underscores that you understand the effects of this matrix. \n",
    "\n",
    "</br >\n",
    "<center>\n",
    "<img src=\"ipynb.images/base-rotation.png\" width=400 />\n",
    "</center>"
   ]
  },
  {
   "cell_type": "code",
   "execution_count": 23,
   "metadata": {},
   "outputs": [
    {
     "ename": "SyntaxError",
     "evalue": "can't assign to operator (<ipython-input-23-b0cb8a0249d6>, line 1)",
     "output_type": "error",
     "traceback": [
      "\u001b[0;36m  File \u001b[0;32m\"<ipython-input-23-b0cb8a0249d6>\"\u001b[0;36m, line \u001b[0;32m1\u001b[0m\n\u001b[0;31m    A @ x = y\u001b[0m\n\u001b[0m             ^\u001b[0m\n\u001b[0;31mSyntaxError\u001b[0m\u001b[0;31m:\u001b[0m can't assign to operator\n"
     ]
    }
   ],
   "source": [
    "A @ x = y\n",
    "a11 * x1 + a12 * x2 = y1\n",
    "a21 * x1 + a22 * x2 = y2\n",
    "a12 = a21\n",
    "a11 = a22"
   ]
  },
  {
   "cell_type": "markdown",
   "metadata": {},
   "source": [
    "<div style=\"text-align: right\">30 points</div>\n",
    "\n",
    "# 5. Airports\n",
    "\n",
    "</br >\n",
    "<center>\n",
    "<img src=\"ipynb.images/airports.gif\" width=400 />\n",
    "</center>\n",
    "\n",
    "Order airports from busiest to least-busiest using files `airports.csv` and `ontime.csv`.\n",
    "\n",
    "Google's PageRank algorithm unleashes a silver surfer on a graph whose nodes represent the states of the state machine represented by silver surfer locations, and finds the steady state regime of the Markovian silver surfer chain by solving a linear system of equations either analytically using sparse matrix methods, or approximately using the power method which leverages knowledge of the dominant eigenvector.\n",
    "\n",
    "PageRank makes the assumption that each and every location on the graph can be reached from any other location, but that is often not the case when the out degree of a location is 0. So we allow for the possibility for any graph location to have a small probability to transit to another location (shrimp eating sharks, remember?). This is represented by Google's damping factor in what I've called the silver surfer equation.\n",
    "\n",
    "Use pandas' `read_csv()` to read in the csv files, use `networkx` to represent the airports graph, compute out degrees the way we did it in class with food networks, and then either solve directly (if you can) or use an iterative method to order airports from busiest to least-busiest.\n",
    "Plot the airports graph using `networkx`' `draw()` function."
   ]
  },
  {
   "cell_type": "code",
   "execution_count": 9,
   "metadata": {},
   "outputs": [
    {
     "data": {
      "text/html": [
       "<div>\n",
       "<style scoped>\n",
       "    .dataframe tbody tr th:only-of-type {\n",
       "        vertical-align: middle;\n",
       "    }\n",
       "\n",
       "    .dataframe tbody tr th {\n",
       "        vertical-align: top;\n",
       "    }\n",
       "\n",
       "    .dataframe thead th {\n",
       "        text-align: right;\n",
       "    }\n",
       "</style>\n",
       "<table border=\"1\" class=\"dataframe\">\n",
       "  <thead>\n",
       "    <tr style=\"text-align: right;\">\n",
       "      <th></th>\n",
       "      <th>id</th>\n",
       "      <th>ident</th>\n",
       "      <th>type</th>\n",
       "      <th>name</th>\n",
       "      <th>latitude_deg</th>\n",
       "      <th>longitude_deg</th>\n",
       "      <th>elevation_ft</th>\n",
       "      <th>continent</th>\n",
       "      <th>iso_country</th>\n",
       "      <th>iso_region</th>\n",
       "      <th>municipality</th>\n",
       "      <th>scheduled_service</th>\n",
       "      <th>gps_code</th>\n",
       "      <th>iata_code</th>\n",
       "      <th>local_code</th>\n",
       "      <th>home_link</th>\n",
       "      <th>wikipedia_link</th>\n",
       "      <th>keywords</th>\n",
       "    </tr>\n",
       "  </thead>\n",
       "  <tbody>\n",
       "    <tr>\n",
       "      <th>0</th>\n",
       "      <td>6523</td>\n",
       "      <td>00A</td>\n",
       "      <td>heliport</td>\n",
       "      <td>Total Rf Heliport</td>\n",
       "      <td>40.070801</td>\n",
       "      <td>-74.933601</td>\n",
       "      <td>11.0</td>\n",
       "      <td>NaN</td>\n",
       "      <td>US</td>\n",
       "      <td>US-PA</td>\n",
       "      <td>Bensalem</td>\n",
       "      <td>no</td>\n",
       "      <td>00A</td>\n",
       "      <td>NaN</td>\n",
       "      <td>00A</td>\n",
       "      <td>NaN</td>\n",
       "      <td>NaN</td>\n",
       "      <td>NaN</td>\n",
       "    </tr>\n",
       "    <tr>\n",
       "      <th>1</th>\n",
       "      <td>323361</td>\n",
       "      <td>00AA</td>\n",
       "      <td>small_airport</td>\n",
       "      <td>Aero B Ranch Airport</td>\n",
       "      <td>38.704022</td>\n",
       "      <td>-101.473911</td>\n",
       "      <td>3435.0</td>\n",
       "      <td>NaN</td>\n",
       "      <td>US</td>\n",
       "      <td>US-KS</td>\n",
       "      <td>Leoti</td>\n",
       "      <td>no</td>\n",
       "      <td>00AA</td>\n",
       "      <td>NaN</td>\n",
       "      <td>00AA</td>\n",
       "      <td>NaN</td>\n",
       "      <td>NaN</td>\n",
       "      <td>NaN</td>\n",
       "    </tr>\n",
       "    <tr>\n",
       "      <th>2</th>\n",
       "      <td>6524</td>\n",
       "      <td>00AK</td>\n",
       "      <td>small_airport</td>\n",
       "      <td>Lowell Field</td>\n",
       "      <td>59.949200</td>\n",
       "      <td>-151.695999</td>\n",
       "      <td>450.0</td>\n",
       "      <td>NaN</td>\n",
       "      <td>US</td>\n",
       "      <td>US-AK</td>\n",
       "      <td>Anchor Point</td>\n",
       "      <td>no</td>\n",
       "      <td>00AK</td>\n",
       "      <td>NaN</td>\n",
       "      <td>00AK</td>\n",
       "      <td>NaN</td>\n",
       "      <td>NaN</td>\n",
       "      <td>NaN</td>\n",
       "    </tr>\n",
       "    <tr>\n",
       "      <th>3</th>\n",
       "      <td>6525</td>\n",
       "      <td>00AL</td>\n",
       "      <td>small_airport</td>\n",
       "      <td>Epps Airpark</td>\n",
       "      <td>34.864799</td>\n",
       "      <td>-86.770302</td>\n",
       "      <td>820.0</td>\n",
       "      <td>NaN</td>\n",
       "      <td>US</td>\n",
       "      <td>US-AL</td>\n",
       "      <td>Harvest</td>\n",
       "      <td>no</td>\n",
       "      <td>00AL</td>\n",
       "      <td>NaN</td>\n",
       "      <td>00AL</td>\n",
       "      <td>NaN</td>\n",
       "      <td>NaN</td>\n",
       "      <td>NaN</td>\n",
       "    </tr>\n",
       "    <tr>\n",
       "      <th>4</th>\n",
       "      <td>6526</td>\n",
       "      <td>00AR</td>\n",
       "      <td>closed</td>\n",
       "      <td>Newport Hospital &amp; Clinic Heliport</td>\n",
       "      <td>35.608700</td>\n",
       "      <td>-91.254898</td>\n",
       "      <td>237.0</td>\n",
       "      <td>NaN</td>\n",
       "      <td>US</td>\n",
       "      <td>US-AR</td>\n",
       "      <td>Newport</td>\n",
       "      <td>no</td>\n",
       "      <td>NaN</td>\n",
       "      <td>NaN</td>\n",
       "      <td>NaN</td>\n",
       "      <td>NaN</td>\n",
       "      <td>NaN</td>\n",
       "      <td>00AR</td>\n",
       "    </tr>\n",
       "  </tbody>\n",
       "</table>\n",
       "</div>"
      ],
      "text/plain": [
       "       id ident           type                                name  \\\n",
       "0    6523   00A       heliport                   Total Rf Heliport   \n",
       "1  323361  00AA  small_airport                Aero B Ranch Airport   \n",
       "2    6524  00AK  small_airport                        Lowell Field   \n",
       "3    6525  00AL  small_airport                        Epps Airpark   \n",
       "4    6526  00AR         closed  Newport Hospital & Clinic Heliport   \n",
       "\n",
       "   latitude_deg  longitude_deg  elevation_ft continent iso_country iso_region  \\\n",
       "0     40.070801     -74.933601          11.0       NaN          US      US-PA   \n",
       "1     38.704022    -101.473911        3435.0       NaN          US      US-KS   \n",
       "2     59.949200    -151.695999         450.0       NaN          US      US-AK   \n",
       "3     34.864799     -86.770302         820.0       NaN          US      US-AL   \n",
       "4     35.608700     -91.254898         237.0       NaN          US      US-AR   \n",
       "\n",
       "   municipality scheduled_service gps_code iata_code local_code home_link  \\\n",
       "0      Bensalem                no      00A       NaN        00A       NaN   \n",
       "1         Leoti                no     00AA       NaN       00AA       NaN   \n",
       "2  Anchor Point                no     00AK       NaN       00AK       NaN   \n",
       "3       Harvest                no     00AL       NaN       00AL       NaN   \n",
       "4       Newport                no      NaN       NaN        NaN       NaN   \n",
       "\n",
       "  wikipedia_link keywords  \n",
       "0            NaN      NaN  \n",
       "1            NaN      NaN  \n",
       "2            NaN      NaN  \n",
       "3            NaN      NaN  \n",
       "4            NaN     00AR  "
      ]
     },
     "execution_count": 9,
     "metadata": {},
     "output_type": "execute_result"
    }
   ],
   "source": [
    "import networkx as nx\n",
    "import scipy.linalg as la\n",
    "airports = pd.read_csv(\"data/airports.csv\")\n",
    "airports.head()"
   ]
  },
  {
   "cell_type": "code",
   "execution_count": 10,
   "metadata": {},
   "outputs": [
    {
     "data": {
      "text/html": [
       "<div>\n",
       "<style scoped>\n",
       "    .dataframe tbody tr th:only-of-type {\n",
       "        vertical-align: middle;\n",
       "    }\n",
       "\n",
       "    .dataframe tbody tr th {\n",
       "        vertical-align: top;\n",
       "    }\n",
       "\n",
       "    .dataframe thead th {\n",
       "        text-align: right;\n",
       "    }\n",
       "</style>\n",
       "<table border=\"1\" class=\"dataframe\">\n",
       "  <thead>\n",
       "    <tr style=\"text-align: right;\">\n",
       "      <th></th>\n",
       "      <th>ORIGIN_AIRPORT_ID</th>\n",
       "      <th>ORIGIN_AIRPORT_SEQ_ID</th>\n",
       "      <th>ORIGIN_CITY_MARKET_ID</th>\n",
       "      <th>DEST_AIRPORT_ID</th>\n",
       "      <th>DEST_AIRPORT_SEQ_ID</th>\n",
       "      <th>DEST_CITY_MARKET_ID</th>\n",
       "      <th>Unnamed: 6</th>\n",
       "    </tr>\n",
       "  </thead>\n",
       "  <tbody>\n",
       "    <tr>\n",
       "      <th>0</th>\n",
       "      <td>10135</td>\n",
       "      <td>1013505</td>\n",
       "      <td>30135</td>\n",
       "      <td>10397</td>\n",
       "      <td>1039707</td>\n",
       "      <td>30397</td>\n",
       "      <td>NaN</td>\n",
       "    </tr>\n",
       "    <tr>\n",
       "      <th>1</th>\n",
       "      <td>10135</td>\n",
       "      <td>1013505</td>\n",
       "      <td>30135</td>\n",
       "      <td>10397</td>\n",
       "      <td>1039707</td>\n",
       "      <td>30397</td>\n",
       "      <td>NaN</td>\n",
       "    </tr>\n",
       "    <tr>\n",
       "      <th>2</th>\n",
       "      <td>10135</td>\n",
       "      <td>1013505</td>\n",
       "      <td>30135</td>\n",
       "      <td>10397</td>\n",
       "      <td>1039707</td>\n",
       "      <td>30397</td>\n",
       "      <td>NaN</td>\n",
       "    </tr>\n",
       "    <tr>\n",
       "      <th>3</th>\n",
       "      <td>10135</td>\n",
       "      <td>1013505</td>\n",
       "      <td>30135</td>\n",
       "      <td>10397</td>\n",
       "      <td>1039707</td>\n",
       "      <td>30397</td>\n",
       "      <td>NaN</td>\n",
       "    </tr>\n",
       "    <tr>\n",
       "      <th>4</th>\n",
       "      <td>10135</td>\n",
       "      <td>1013505</td>\n",
       "      <td>30135</td>\n",
       "      <td>10397</td>\n",
       "      <td>1039707</td>\n",
       "      <td>30397</td>\n",
       "      <td>NaN</td>\n",
       "    </tr>\n",
       "  </tbody>\n",
       "</table>\n",
       "</div>"
      ],
      "text/plain": [
       "   ORIGIN_AIRPORT_ID  ORIGIN_AIRPORT_SEQ_ID  ORIGIN_CITY_MARKET_ID  \\\n",
       "0              10135                1013505                  30135   \n",
       "1              10135                1013505                  30135   \n",
       "2              10135                1013505                  30135   \n",
       "3              10135                1013505                  30135   \n",
       "4              10135                1013505                  30135   \n",
       "\n",
       "   DEST_AIRPORT_ID  DEST_AIRPORT_SEQ_ID  DEST_CITY_MARKET_ID  Unnamed: 6  \n",
       "0            10397              1039707                30397         NaN  \n",
       "1            10397              1039707                30397         NaN  \n",
       "2            10397              1039707                30397         NaN  \n",
       "3            10397              1039707                30397         NaN  \n",
       "4            10397              1039707                30397         NaN  "
      ]
     },
     "execution_count": 10,
     "metadata": {},
     "output_type": "execute_result"
    }
   ],
   "source": [
    "ontime = pd.read_csv(\"data/ontime.csv\")\n",
    "ontime.head()"
   ]
  },
  {
   "cell_type": "code",
   "execution_count": 11,
   "metadata": {},
   "outputs": [],
   "source": [
    "import networkx as nx"
   ]
  },
  {
   "cell_type": "code",
   "execution_count": 14,
   "metadata": {},
   "outputs": [],
   "source": [
    "column_edge = 'id'\n",
    "column_ID = 'name'\n",
    "g = nx.Graph()\n",
    "g.clear() \n",
    "for m in airports.name:\n",
    "    g.add_node(m)"
   ]
  },
  {
   "cell_type": "code",
   "execution_count": 78,
   "metadata": {},
   "outputs": [],
   "source": []
  },
  {
   "cell_type": "code",
   "execution_count": null,
   "metadata": {},
   "outputs": [],
   "source": []
  }
 ],
 "metadata": {
  "kernelspec": {
   "display_name": "Python 3",
   "language": "python",
   "name": "python3"
  },
  "language_info": {
   "codemirror_mode": {
    "name": "ipython",
    "version": 3
   },
   "file_extension": ".py",
   "mimetype": "text/x-python",
   "name": "python",
   "nbconvert_exporter": "python",
   "pygments_lexer": "ipython3",
   "version": "3.7.2"
  }
 },
 "nbformat": 4,
 "nbformat_minor": 2
}
