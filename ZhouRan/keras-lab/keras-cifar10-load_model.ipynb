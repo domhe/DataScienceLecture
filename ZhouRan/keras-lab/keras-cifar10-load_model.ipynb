{
 "cells": [
  {
   "cell_type": "markdown",
   "metadata": {},
   "source": [
    "<div style=\"text-align: right\">INFO 6105 Data Science Eng Methods and Tools, Lecture 9</div>\n",
    "<div style=\"text-align: right\">Dino Konstantopoulos, 27 March 2019</div>\n",
    "\n",
    "# Lab: Machine Learning (ML) with Keras\n",
    "\n",
    "In this notebook, we reuse professor's trained weights to recognize images we download from the web. We start with an image of a bird that we selected in class.\n",
    "\n",
    "Steps:\n",
    "- Create folder `saved_models` in your `C:/Users/<username>` folder. In that folder, place professor's pretrained neural weights in [H5 format](https://en.wikipedia.org/wiki/Hierarchical_Data_Format) `keras_cifar10_trained_model.h5`, which is up on blackboard\n",
    "- In your `C:/Users/<username>/data` folder, download the images used for training from file `cifar-10-batches-py.tar.gz` on blackboard\n",
    "- Download the picture of a bird we picked together in class `yellowboard.jpg` and place it in folder `C:/Users/<username>/data`\n",
    "- Run this notebook, which should run pretty fast"
   ]
  },
  {
   "cell_type": "code",
   "execution_count": 1,
   "metadata": {},
   "outputs": [
    {
     "name": "stderr",
     "output_type": "stream",
     "text": [
      "d:\\Anaconda3.5.1\\lib\\site-packages\\h5py\\__init__.py:36: FutureWarning: Conversion of the second argument of issubdtype from `float` to `np.floating` is deprecated. In future, it will be treated as `np.float64 == np.dtype(float).type`.\n",
      "  from ._conv import register_converters as _register_converters\n",
      "Using Theano backend.\n",
      "d:\\Anaconda3.5.1\\lib\\site-packages\\requests\\__init__.py:80: RequestsDependencyWarning: urllib3 (1.24.1) or chardet (3.0.4) doesn't match a supported version!\n",
      "  RequestsDependencyWarning)\n"
     ]
    }
   ],
   "source": [
    "from __future__ import print_function\n",
    "import keras\n",
    "from keras.datasets import cifar10\n",
    "from keras.preprocessing.image import ImageDataGenerator\n",
    "from keras.models import Sequential\n",
    "from keras.layers import Dense, Dropout, Activation, Flatten\n",
    "from keras.layers import Conv2D, MaxPooling2D\n",
    "import os"
   ]
  },
  {
   "cell_type": "code",
   "execution_count": 2,
   "metadata": {},
   "outputs": [],
   "source": [
    "batch_size = 32\n",
    "num_classes = 10\n",
    "epochs = 100\n",
    "data_augmentation = True\n",
    "num_predictions = 20\n",
    "save_dir = os.path.join(os.getcwd(), 'saved_models')\n",
    "model_name = 'keras_cifar10_trained_model.h5'"
   ]
  },
  {
   "cell_type": "code",
   "execution_count": 3,
   "metadata": {},
   "outputs": [
    {
     "name": "stdout",
     "output_type": "stream",
     "text": [
      "x_train shape: (50000, 32, 32, 3)\n",
      "50000 train samples\n",
      "10000 test samples\n"
     ]
    }
   ],
   "source": [
    "# The data, split between train and test sets:\n",
    "(x_train, y_train), (x_test, y_test) = cifar10.load_data()\n",
    "print('x_train shape:', x_train.shape)\n",
    "print(x_train.shape[0], 'train samples')\n",
    "print(x_test.shape[0], 'test samples')"
   ]
  },
  {
   "cell_type": "code",
   "execution_count": 4,
   "metadata": {},
   "outputs": [],
   "source": [
    "# Convert class vectors to binary class matrices.\n",
    "y_train = keras.utils.to_categorical(y_train, num_classes)\n",
    "y_test = keras.utils.to_categorical(y_test, num_classes)"
   ]
  },
  {
   "cell_type": "code",
   "execution_count": 5,
   "metadata": {},
   "outputs": [],
   "source": [
    "x_train = x_train.astype('float32')\n",
    "x_test = x_test.astype('float32')\n",
    "x_train /= 255\n",
    "x_test /= 255"
   ]
  },
  {
   "cell_type": "code",
   "execution_count": 6,
   "metadata": {},
   "outputs": [],
   "source": [
    "from keras.models import load_model\n",
    "#model.load_weights('saved_models/keras_cifar10_trained_model.h5')\n",
    "model = load_model('saved_models/keras_cifar10_trained_model.h5')"
   ]
  },
  {
   "cell_type": "markdown",
   "metadata": {},
   "source": [
    "This should take about a minute:"
   ]
  },
  {
   "cell_type": "code",
   "execution_count": 7,
   "metadata": {},
   "outputs": [
    {
     "name": "stdout",
     "output_type": "stream",
     "text": [
      "10000/10000 [==============================] - 17s 2ms/step\n",
      "Test loss: 0.7208882711410523\n",
      "Test accuracy: 0.7705\n"
     ]
    }
   ],
   "source": [
    "# Score trained model.\n",
    "scores = model.evaluate(x_test, y_test, verbose=1)\n",
    "print('Test loss:', scores[0])\n",
    "print('Test accuracy:', scores[1])"
   ]
  },
  {
   "cell_type": "code",
   "execution_count": 8,
   "metadata": {},
   "outputs": [],
   "source": [
    "def setup_load_cifar(verbose=False):\n",
    "  import os,shutil\n",
    "  from keras.datasets import cifar10\n",
    "  from keras.utils import to_categorical\n",
    "  \n",
    "  #datadir = os.path.expanduser(\"~\") + \"/.keras/datasets/\"\n",
    "  datadir = \"/data\"\n",
    "  datafile = datadir+\"cifar-10-batches-py.tar.gz\" # the name keras looks for\n",
    "  \n",
    "  #if not os.path.isfile(datafile):\n",
    "  #  os.makedirs(datadir)\n",
    "  #  shutil.copyfile($$ref{{[\"~:output\",\"119210b3-a610-428e-93f2-ad5d987f442b\",\"cifar-10-python.tar.gz\"]}}, datafile)\n",
    "  \n",
    "  # The data, shuffled and split between train and test sets:\n",
    "  (x_train, y_train), (x_test, y_test) = cifar10.load_data()\n",
    "  if verbose:\n",
    "    print(\"x_train shape: {}, {} train samples, {} test samples.\\n\".format(\n",
    "      x_train.shape, x_train.shape[0], x_test.shape[0]))\n",
    "  \n",
    "  # Convert class vectors to binary class matrices.\n",
    "  y_train = to_categorical(y_train, num_classes)\n",
    "  y_test = to_categorical(y_test, num_classes)\n",
    "  \n",
    "  x_train = x_train.astype(\"float32\")\n",
    "  x_test = x_test.astype(\"float32\")\n",
    "  x_train /= 255.0\n",
    "  x_test /= 255.0\n",
    "  \n",
    "  # Load label names to use in prediction results\n",
    "  label_list_path = \"datasets/cifar-10-batches-py/batches.meta\"\n",
    "  \n",
    "  keras_dir = os.path.expanduser(os.path.join(\"~\", \".keras\"))\n",
    "  datadir_base = os.path.expanduser(keras_dir)\n",
    "  if not os.access(datadir_base, os.W_OK):\n",
    "    datadir_base = os.path.join(\"/tmp\", \".keras\")\n",
    "  label_list_path = os.path.join(datadir_base, label_list_path)\n",
    "  \n",
    "  with open(label_list_path, mode=\"rb\") as f:\n",
    "    labels = pickle.load(f)\n",
    "  \n",
    "  return x_train, y_train, x_test, y_test, labels"
   ]
  },
  {
   "cell_type": "code",
   "execution_count": 9,
   "metadata": {},
   "outputs": [],
   "source": [
    "#!conda install dill\n",
    "import numpy as np\n",
    "import dill as pickle\n",
    "from math import *\n",
    "_,_,_,_,labels = setup_load_cifar()"
   ]
  },
  {
   "cell_type": "code",
   "execution_count": 10,
   "metadata": {},
   "outputs": [],
   "source": [
    "import numpy as np\n",
    "import tensorflow\n",
    "import keras.backend.tensorflow_backend as K\n",
    "sess = K.get_session()"
   ]
  },
  {
   "cell_type": "markdown",
   "metadata": {},
   "source": [
    "Predicting should only take a few seconds!"
   ]
  },
  {
   "cell_type": "code",
   "execution_count": 11,
   "metadata": {},
   "outputs": [
    {
     "data": {
      "text/plain": [
       "'bird'"
      ]
     },
     "execution_count": 11,
     "metadata": {},
     "output_type": "execute_result"
    }
   ],
   "source": [
    "img = tensorflow.read_file('data/yellowbird.jpg')\n",
    "img = tensorflow.image.decode_jpeg(img, channels=3)\n",
    "img.set_shape([None, None, 3])\n",
    "img = tensorflow.image.resize_images(img, (32, 32))\n",
    "img = img.eval(session=sess) # convert to numpy array\n",
    "img = np.expand_dims(img, 0) # make 'batch' of 1\n",
    "\n",
    "pred = model.predict(img)\n",
    "pred = labels[\"label_names\"][np.argmax(pred)]\n",
    "pred"
   ]
  },
  {
   "cell_type": "markdown",
   "metadata": {},
   "source": [
    "Now download images of a cats, or dogs, or horses, or frogs, or deer, or birds, or ships, or airplanes, or automobiles, or trucks, and test them against the model. Keep a score :-)"
   ]
  }
 ],
 "metadata": {
  "kernelspec": {
   "display_name": "Python 3",
   "language": "python",
   "name": "python3"
  },
  "language_info": {
   "codemirror_mode": {
    "name": "ipython",
    "version": 3
   },
   "file_extension": ".py",
   "mimetype": "text/x-python",
   "name": "python",
   "nbconvert_exporter": "python",
   "pygments_lexer": "ipython3",
   "version": "3.6.4"
  }
 },
 "nbformat": 4,
 "nbformat_minor": 1
}
