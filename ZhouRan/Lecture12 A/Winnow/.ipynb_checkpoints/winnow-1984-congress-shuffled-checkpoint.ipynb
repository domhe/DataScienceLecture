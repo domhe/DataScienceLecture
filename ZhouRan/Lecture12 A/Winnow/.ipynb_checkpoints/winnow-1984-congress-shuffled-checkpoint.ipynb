{
 "cells": [
  {
   "cell_type": "markdown",
   "metadata": {},
   "source": [
    "<div style=\"text-align: right\">INFO 6105 Data Science Eng Methods and Tools, Lecture 10</div>\n",
    "<div style=\"text-align: right\">Dino Konstantopoulos, 8 April 2019</div>\n",
    "\n",
    "# Review: Regression Analysis\n",
    "\n",
    "You had your humble beginnings in data science and machine learning in INFO 6105, with a professor that loves bikes :-) I need to make sure you know the *basics* before you move on to a Coop or a more complicated class, so that employers and professors can be impressed by *how much you know*. So let's do a bit of review.\n",
    "\n",
    "**Regression analysis** is a **statistical process** for estimating relationships among variables.\n",
    "\n",
    "It includes many techniques for modeling and analyzing several variables, when the focus is on the relationship between a **dependent variable** and one or more **independent variables** (or 'predictors').\n",
    "\n",
    "More specifically, regression analysis helps one understand how the typical value of the dependent variable (or 'criterion variable') changes when any one of the independent variables is varied, while the other independent variables are held fixed\n",
    "Regression analysis is widely used for prediction and forecasting, where its use has substantial overlap with the field of machine learning.\n",
    "\n",
    "**Linear Regression** is a simple approach for modeling the relationship between a scalar dependent variable y and one or more explanatory variable (independent variable) x where data are modeled using linear predictor functions. \n",
    "Linear regression models are often fitted using the least squares approach, but they may also be fitted in other ways, such as with Bayesian modeling where we try to maximize the probability of observing the data.\n",
    "\n",
    "The decision as to which variable in a data set is modeled as the dependent variable and which are modeled as the independent variables may be based on a presumption that the value of one of the variables is caused by, or directly influenced by the other variables. That decision is the most important one in regression analysis. A decision forest can help you determine these variables, using information theoretic metrics like **Information Gain**.\n",
    "\n",
    "There are two kinds of regression analyses: **auto-encoding** and **discriminative**. In the former, we learn to model the entire datase. In the latter we attempt to classify data in bins. In the picture below, we classify data in two color bins by shaping the right **decision boundary**. In the regression model, we shape parameters using a probabilistic framework like PyMC3. In Machine Learning, we adjust the weights between the neurons to get the right decision boundary.\n",
    "\n",
    "In the beginning of the semester, I told you that Machine Learning is a *geometric problem*. Now you see why. On Wednesday, you'll understand this *even better*. And you're never going to be scared by a machine again :-)\n",
    "\n",
    "<br />\n",
    "<center>\n",
    "<img src =ipynb.images/decision-boundary.png width = 800 />\n",
    "</center>\n",
    "\n",
    "If the neural transfer function is linear, the ANN can only draw straight  decision boundaries, even if there are many layers of units. And so it might not work in general. It is the **non-linearity** of the neural transfer function that adds modeling power to your ANN. And yet, we can still model with linear decsion boundaries, as we will see today."
   ]
  },
  {
   "cell_type": "markdown",
   "metadata": {},
   "source": [
    "# The winnow algorithm\n",
    "\n",
    "\n",
    "</br >\n",
    "<center>\n",
    "<img src=\"ipynb.images/winnow.png\" width=400 />\n",
    "</center>\n",
    "\n",
    "*Winnowing* means **removing unwanted items**. Its purpose as an algorthm is to train a binary classifier based on binary features, using a *linear* decision boundary.\n",
    "\n",
    "In other words, the goal is to predict one of two states, using a collection of features which are all binary.\n",
    "\n",
    "Our networks so far have been equal-weighted. But with artifical neural networks, are edges acquire weights between nodes. It's similar to the facebook friends graph. Our facebook friends are simiarly weighted. But in reality, we like some friends a lot more than others!\n",
    "\n",
    "The prediction model assigns weights to each feature. To predict the state of an observation, it checks all the features that are “active” (true, or detected in an observation) and sums up the weights assigned to these features. If the total is *above* a certain threshold, the result is true, otherwise it’s false. \n",
    "\n",
    "So we create a network (I know you can do this very well now), and initialize weights $w_1 = w_2 = \\cdots = w_n = 1$.\n",
    "\n",
    "Then we iterate on each observation consisting of a vector of dimension $n$: $ = [x_1, x_2, \\cdots, x_n]$.\n",
    "\n",
    "We predict (for each iteration **epoch**): Output is 1 if *{some condition}*. Output is 0 otherwise.\n",
    "\n",
    "Then, we get the **true** (binary) label corresponding to that observation, and we update the weights **only if we make a mistake**:\n",
    "- **False-positive** error (we predict 0 wheras the label is really 1): Then for each $x_i == 1$, we set $w_i = 2*w_i$.\n",
    "- **False-negative** error (we predict 1 wheras the label is really 0): Then for each $x_i == 1$, we set $wi = wi/2$.\n",
    "\n",
    "Here is the *english* of the math above:\n",
    "If our network predicts true but should predict false, it is **over-shooting**, so weights that were used in the prediction (i.e. the weights attached to active features) should be reduced.\n",
    "Conversely, if the prediction is false but the correct result should be true, the active features are not used enough to reach the threshold, so weights should be bumped up.\n",
    "\n",
    "Our goal is to minimze the number of mistakes. When we're down to the minimum we can achieve, we say we have **converged**."
   ]
  },
  {
   "cell_type": "markdown",
   "metadata": {},
   "source": [
    "\n",
    "# Dataset: 1984 Congress\n",
    "\n",
    "The Machine learning repository at the University of California, Irvine, has some great data sets. [Here](https://archive.ics.uci.edu/ml/datasets/congressional+voting+records) are the congressional voting records of the House of Representatives for a select set of bills in the 1984 Congress.\n",
    "\n",
    "\n",
    "</br >\n",
    "<center>\n",
    "<img src=\"ipynb.images/congress.jpg\" width=600 />\n",
    "</center>\n",
    "\n",
    "Our goal is to predict the political party, Democrat or Republican, of a member of the U.S. House of Representatives, based on the Representative’s votes on 16 different bills. An example of a bill is \"Should we drill for oil in Alaskan National Parks\"?\n",
    "\n",
    "The House of Representatives has 435 members. A well-known benchmark data set contains 435 items stored in a simple text [file](https://archive.ics.uci.edu/ml/machine-learning-databases/voting-records/).\n",
    "\n",
    "You told me last week that you wanted to do some coding. So this is the **simplest** possible artifical neural network I can come up with that has a chance at learning a dataset/ It's so simple that it does *not* have a non-linear transfer function in in its neuron: it lets the *entire* signal pass through! Do you think that can work as an artificial brain? \n",
    "\n",
    "Let's see.\n",
    "\n",
    "We should strive to ensure that our accuracy on the test data is 70% or above (anything approaching 50% is junk: just a guess!). Rerun your training (which shuffles the data), or change your random number generator seed maybe? Add another layer? Those could be hyperparameters?\n",
    "\n",
    "### These are the questions we want to be able to answer:\n",
    "\n",
    "Based on the Representatives' voting records on those bills, and knowledge of party affiliation (label), can we guess if a person is a republican or democrat based on how they would vote (`yes` or `nay`) on these bills? If a person voted all `nays` or all `yays` on all bills, would they be democrats or republicans based on how congressmen vote on these bills?\n",
    "\n",
    "Is there a bill that is more important than others in determining whether a congressman is republican or democrat? Can you figure this out just by looking at the weights of your winnow network?\n",
    "\n",
    "Finally, compare the performance of your winnow versus the performance of a random forest algorithm.\n",
    "\n",
    "### winnow algorithm:"
   ]
  },
  {
   "cell_type": "raw",
   "metadata": {},
   "source": [
    "initialize weights\n",
    "loop until done\n",
    "  for each training item\n",
    "    compute Y\n",
    "    if correct do nothing\n",
    "    else if incorrect\n",
    "      if computed Y is too large\n",
    "        divide all relevant weights by 2.0\n",
    "      else if computed Y is too small\n",
    "        multiply all relevant weights by 2.0\n",
    "  end for\n",
    "end loop"
   ]
  },
  {
   "cell_type": "markdown",
   "metadata": {},
   "source": [
    "## Crazy professor\n",
    "\n",
    "</br >\n",
    "<center>\n",
    "<img src=\"ipynb.images/crazy.jpg\" width=400 />\n",
    "</center>\n",
    "\n",
    "Oh no! Crazy professor tried to create a new class to add the Winnow algorithm and he edited the .ipynb files manually, and he completely **$&!&~~wed up the cells**! Based on what I told you above, can you reconstruct the cells so that it works?\n",
    "```(python)\n",
    "class Winnow:\n",
    "\n",
    "```"
   ]
  },
  {
   "cell_type": "code",
   "execution_count": null,
   "metadata": {},
   "outputs": [],
   "source": [
    "# int[][] matrix\n",
    "def ShowMatrix(matrix, decimals, numRows, indices):\n",
    "    frmt = '%.' + str(decimals) + 'f'\n",
    "    for i in range(numRows):\n",
    "        if (indices):\n",
    "            print(\"[\" + '%02d' % i + \"]   \", end='')\n",
    "        for j in range(len(matrix[i])):\n",
    "            print(frmt % matrix[i][j] + \" \", end='')\n",
    "        print(\"\")\n",
    "    lastIndex = len(matrix) - 1\n",
    "    if (indices):\n",
    "        print(\"[\" + '%02d' % lastIndex + \"]   \", end='')\n",
    "    for j in range(len(matrix[lastIndex])):\n",
    "        print(frmt % matrix[lastIndex][j] + \" \", end='')\n",
    "    print(\"\")"
   ]
  },
  {
   "cell_type": "code",
   "execution_count": null,
   "metadata": {},
   "outputs": [],
   "source": [
    "trainAcc = w.Accuracy(trainData)\n",
    "testAcc = w.Accuracy(testData)\n",
    "\n",
    "print(\"Prediction accuracy on training data = \" + str(trainAcc))\n",
    "print(\"Prediction accuracy on test data = \" + str(testAcc))"
   ]
  },
  {
   "cell_type": "code",
   "execution_count": null,
   "metadata": {},
   "outputs": [],
   "source": [
    "print(\"Final model weights are:\")\n",
    "ShowVector(weights, 4, 8, True)"
   ]
  },
  {
   "cell_type": "code",
   "execution_count": null,
   "metadata": {},
   "outputs": [],
   "source": [
    "    # returns double, int[][] trainData\n",
    "    def Accuracy(self, trainData):\n",
    "        numCorrect = 0\n",
    "        numWrong = 0\n",
    "        xValues = [0] *numInput\n",
    "        \n",
    "        for i in range(len(trainData)):\n",
    "            xValues = np.copy(trainData[i])\n",
    "            target = trainData[i][numInput] #last value is target\n",
    "            computed = self.ComputeY(xValues)\n",
    "\n",
    "            if computed == target:\n",
    "                numCorrect += 1\n",
    "            else:\n",
    "                numWrong += 1\n",
    "                \n",
    "        return (numCorrect * 1.0) / (numCorrect + numWrong)"
   ]
  },
  {
   "cell_type": "code",
   "execution_count": 97,
   "metadata": {},
   "outputs": [],
   "source": [
    "# double[] vector\n",
    "def ShowVector(vector, decimals, valsPerRow, newLine):\n",
    "    frmt = '%.' + str(decimals) + 'f'\n",
    "    for i in range(len(vector)):\n",
    "        if (i % valsPerRow == 0): print(\"\", end='')\n",
    "        print(frmt % vector[i] + \" \", end='')\n",
    "    if (newLine): print(\"\")"
   ]
  },
  {
   "cell_type": "code",
   "execution_count": null,
   "metadata": {},
   "outputs": [],
   "source": [
    "    # Fisher-Yates shuffle algorithm int[][] trainData\n",
    "    def ShuffleObservations(self, trainData):\n",
    "        for i in range(len(trainData)):\n",
    "            r = randint(i, len(trainData) - 1)\n",
    "            tmp = []\n",
    "            tmp = trainData[r]\n",
    "            trainData[r] = trainData[i]\n",
    "            trainData[i] = tmp"
   ]
  },
  {
   "cell_type": "code",
   "execution_count": null,
   "metadata": {},
   "outputs": [],
   "source": [
    "print(\"Predicting party of Representative with all 'yes' votes: \", end='')\n",
    "yays = [ 1, 1, 1, 1, 1, 1, 1, 1, 1, 1, 1, 1, 1, 1, 1, 1 ]\n",
    "predicted = w.ComputeY(yays)\n",
    "if predicted == 0:\n",
    "    print(\"democrat\")\n",
    "else:\n",
    "    print(\"republican\")\n",
    "\n",
    "print(\"Predicting party of Representative with all 'no' votes: \", end='')\n",
    "nays = [ 0, 0, 0, 0, 0, 0, 0, 0, 0, 0, 0, 0, 0, 0, 0, 0 ]\n",
    "predicted2 = w.ComputeY(nays)\n",
    "if predicted2 == 0:\n",
    "    print(\"democrat\")\n",
    "else:\n",
    "    print(\"republican\")"
   ]
  },
  {
   "cell_type": "code",
   "execution_count": null,
   "metadata": {},
   "outputs": [],
   "source": [
    "    # returns double[], int[][] trainData\n",
    "    def TrainWeights(self, trainData):\n",
    "        xValues = [] * numInput\n",
    "        self.ShuffleObservations(trainData)\n",
    "        for i in range(len(trainData)):\n",
    "            #  get the inputs\n",
    "            xValues = np.copy(trainData[i])\n",
    "            \n",
    "            #  last value is target\n",
    "            target = trainData[i][numInput] \n",
    "            \n",
    "            computed = self.ComputeY(xValues)\n",
    "\n",
    "            if (computed == 1 and target == 0):\n",
    "                # need to decrease weight:\n",
    "                for j in range(numInput):\n",
    "                    if (xValues[j] == 0): continue\n",
    "                    self.weights[j] = self.weights[j] / self.alpha #demotion\n",
    "            elif (computed == 0 and target == 1):\n",
    "                # need to increase weight:\n",
    "                for j in range(numInput):\n",
    "                    if (xValues[j] == 0): continue\n",
    "                    self.weights[j] = self.weights[j] * self.alpha #promotion\n",
    "\n",
    "        result = [0.0] *numInput # = number weights\n",
    "        result = self.weights\n",
    "        return result"
   ]
  },
  {
   "cell_type": "code",
   "execution_count": null,
   "metadata": {},
   "outputs": [],
   "source": [
    "print(\"Encoding 'n' and '?' = 0, 'y' = 1, 'democrat' = 0, 'republican' = 1\")\n",
    "print(\"Moving political party to last column\")\n",
    "print(\"First few rows of training data are:\")\n",
    "ShowMatrix(trainData, 0, 3, True)"
   ]
  },
  {
   "cell_type": "code",
   "execution_count": 99,
   "metadata": {},
   "outputs": [],
   "source": [
    "data = np.empty((100,17))\n",
    "\n",
    "# Congressional votes of the 1984 Congress on 16 different bills.\n",
    "# 0 is a 'no' vote\n",
    "# 1 is a yes vote\n",
    "# Last column is the label: democrat = 0, republican = 1\n",
    "data[0] =  [ 0, 1, 0, 1, 1, 1, 0, 0, 0, 1, 0, 1, 1, 1, 0, 1, 1 ] \n",
    "data[1] =  [ 0, 1, 0, 1, 1, 1, 0, 0, 0, 0, 0, 1, 1, 1, 0, 0, 1 ]\n",
    "data[2] =  [ 0, 1, 1, 0, 1, 1, 0, 0, 0, 0, 1, 0, 1, 1, 0, 0, 0 ]\n",
    "data[3] =  [ 0, 1, 1, 0, 0, 1, 0, 0, 0, 0, 1, 0, 1, 0, 0, 1, 0 ]\n",
    "data[4] =  [ 1, 1, 1, 0, 1, 1, 0, 0, 0, 0, 1, 0, 1, 1, 1, 1, 0 ]\n",
    "data[5] =  [ 0, 1, 1, 0, 1, 1, 0, 0, 0, 0, 0, 0, 1, 1, 1, 1, 0 ]\n",
    "data[6] =  [ 0, 1, 0, 1, 1, 1, 0, 0, 0, 0, 0, 0, 0, 1, 1, 1, 0 ]\n",
    "data[7] =  [ 0, 1, 0, 1, 1, 1, 0, 0, 0, 0, 0, 0, 1, 1, 0, 1, 1 ]\n",
    "data[8] =  [ 0, 1, 0, 1, 1, 1, 0, 0, 0, 0, 0, 1, 1, 1, 0, 1, 1 ]\n",
    "data[9] =  [ 1, 1, 1, 0, 0, 0, 1, 1, 1, 0, 0, 0, 0, 0, 0, 0, 0 ]\n",
    "data[10] = [ 0, 1, 0, 1, 1, 0, 0, 0, 0, 0, 0, 0, 1, 1, 0, 0, 1 ]\n",
    "data[11] = [ 0, 1, 0, 1, 1, 1, 0, 0, 0, 0, 1, 0, 1, 1, 0, 0, 1 ]\n",
    "data[12] = [ 0, 1, 1, 0, 0, 0, 1, 1, 1, 0, 0, 0, 1, 0, 0, 0, 0 ]\n",
    "data[13] = [ 1, 1, 1, 0, 0, 1, 1, 1, 0, 1, 1, 0, 0, 0, 1, 0, 0 ]\n",
    "data[14] = [ 0, 1, 0, 1, 1, 1, 0, 0, 0, 0, 0, 1, 0, 0, 0, 0, 1 ]\n",
    "data[15] = [ 0, 1, 0, 1, 1, 1, 0, 0, 0, 1, 0, 1, 1, 0, 0, 0, 1 ]\n",
    "data[16] = [ 1, 0, 1, 0, 0, 1, 0, 1, 0, 1, 1, 1, 0, 0, 0, 1, 0 ]\n",
    "data[17] = [ 1, 0, 1, 0, 0, 0, 1, 1, 1, 0, 0, 0, 1, 0, 1, 1, 0 ]\n",
    "data[18] = [ 0, 1, 0, 1, 1, 1, 0, 0, 0, 0, 0, 0, 1, 1, 0, 0, 1 ]\n",
    "data[19] = [ 1, 1, 1, 0, 0, 0, 1, 1, 1, 0, 1, 0, 0, 0, 1, 1, 0 ]\n",
    "data[20] = [ 1, 1, 1, 0, 0, 0, 1, 1, 0, 0, 1, 0, 0, 0, 1, 1, 0 ]\n",
    "data[21] = [ 1, 1, 1, 0, 0, 0, 1, 1, 1, 0, 0, 0, 0, 0, 1, 1, 0 ]\n",
    "data[22] = [ 1, 0, 1, 0, 0, 0, 1, 1, 1, 0, 0, 0, 0, 0, 1, 1, 0 ]\n",
    "data[23] = [ 1, 1, 1, 0, 0, 0, 1, 1, 1, 0, 0, 0, 0, 0, 1, 1, 0 ]\n",
    "data[24] = [ 1, 0, 1, 0, 0, 0, 1, 1, 1, 0, 0, 0, 0, 0, 1, 0, 0 ]\n",
    "data[25] = [ 1, 0, 1, 0, 0, 0, 1, 1, 1, 1, 0, 0, 0, 0, 1, 1, 0 ]\n",
    "data[26] = [ 1, 0, 1, 0, 0, 0, 1, 1, 1, 0, 1, 0, 0, 0, 1, 1, 0 ]\n",
    "data[27] = [ 1, 1, 1, 0, 0, 0, 1, 1, 1, 0, 1, 0, 0, 0, 1, 1, 0 ]\n",
    "data[28] = [ 1, 0, 0, 1, 1, 0, 1, 1, 1, 0, 0, 1, 1, 1, 0, 1, 1 ]\n",
    "data[29] = [ 1, 1, 1, 0, 0, 0, 1, 1, 1, 0, 1, 0, 0, 0, 1, 1, 0 ]\n",
    "data[30] = [ 0, 1, 0, 1, 1, 1, 0, 0, 0, 0, 0, 1, 1, 1, 0, 0, 1 ]\n",
    "data[31] = [ 1, 1, 1, 0, 0, 0, 1, 1, 1, 0, 1, 0, 0, 0, 1, 0, 0 ]\n",
    "data[32] = [ 1, 1, 1, 0, 0, 0, 1, 1, 1, 1, 0, 0, 1, 0, 1, 1, 0 ]\n",
    "data[33] = [ 0, 1, 0, 1, 1, 1, 0, 0, 0, 0, 0, 1, 1, 1, 0, 1, 1 ]\n",
    "data[34] = [ 1, 1, 1, 0, 0, 0, 1, 1, 1, 0, 0, 0, 0, 0, 1, 1, 0 ]\n",
    "data[35] = [ 0, 1, 0, 1, 1, 1, 0, 0, 0, 0, 0, 1, 1, 1, 0, 0, 1 ]\n",
    "data[36] = [ 1, 0, 0, 1, 1, 1, 0, 0, 0, 1, 0, 1, 0, 1, 0, 1, 1 ]\n",
    "data[37] = [ 1, 1, 0, 1, 1, 1, 0, 0, 0, 0, 0, 0, 1, 1, 0, 1, 1 ]\n",
    "data[38] = [ 0, 1, 0, 1, 1, 1, 0, 0, 0, 1, 0, 1, 1, 1, 0, 0, 1 ]\n",
    "data[39] = [ 1, 0, 1, 0, 0, 0, 1, 1, 1, 1, 1, 0, 1, 0, 1, 1, 0 ]\n",
    "data[40] = [ 1, 1, 1, 0, 0, 0, 1, 1, 1, 0, 0, 0, 0, 0, 0, 0, 0 ]\n",
    "data[41] = [ 1, 1, 1, 0, 0, 0, 1, 1, 1, 0, 0, 0, 0, 0, 1, 0, 0 ]\n",
    "data[42] = [ 1, 0, 1, 0, 0, 0, 1, 1, 1, 0, 0, 0, 0, 0, 0, 1, 0 ]\n",
    "data[43] = [ 1, 0, 1, 0, 0, 0, 1, 1, 1, 0, 0, 0, 0, 0, 1, 1, 0 ]\n",
    "data[44] = [ 1, 1, 1, 0, 0, 0, 1, 1, 1, 0, 1, 0, 0, 0, 0, 0, 0 ]\n",
    "data[45] = [ 1, 1, 1, 0, 0, 0, 1, 1, 0, 0, 1, 0, 0, 0, 1, 0, 0 ]\n",
    "data[46] = [ 1, 1, 1, 0, 0, 0, 1, 1, 1, 0, 0, 0, 0, 0, 0, 1, 0 ]\n",
    "data[47] = [ 1, 0, 1, 0, 0, 0, 1, 1, 0, 0, 0, 0, 0, 0, 0, 0, 0 ]\n",
    "data[48] = [ 1, 1, 1, 0, 0, 0, 1, 1, 0, 0, 0, 0, 0, 1, 0, 1, 0 ]\n",
    "data[49] = [ 0, 0, 0, 1, 1, 1, 0, 0, 0, 0, 0, 1, 1, 1, 0, 0, 1 ]\n",
    "data[50] = [ 1, 1, 1, 0, 0, 0, 1, 1, 1, 0, 1, 0, 0, 0, 1, 1, 0 ]\n",
    "data[51] = [ 0, 1, 0, 1, 1, 1, 0, 0, 0, 0, 0, 1, 1, 1, 0, 1, 1 ]\n",
    "data[52] = [ 1, 1, 1, 0, 0, 0, 1, 1, 1, 0, 0, 0, 0, 0, 0, 0, 0 ]\n",
    "data[53] = [ 1, 1, 0, 1, 1, 1, 0, 0, 0, 1, 0, 1, 1, 1, 0, 0, 1 ]\n",
    "data[54] = [ 1, 1, 1, 0, 0, 1, 0, 1, 0, 0, 1, 1, 0, 1, 0, 0, 0 ]\n",
    "data[55] = [ 0, 1, 0, 1, 1, 1, 0, 0, 0, 1, 1, 1, 1, 1, 0, 0, 1 ]\n",
    "data[56] = [ 0, 1, 0, 1, 1, 1, 0, 0, 0, 1, 1, 1, 1, 1, 0, 1, 1 ]\n",
    "data[57] = [ 0, 1, 0, 1, 1, 1, 0, 0, 0, 1, 0, 1, 1, 1, 0, 1, 1 ]\n",
    "data[58] = [ 0, 1, 0, 1, 1, 1, 0, 0, 0, 1, 0, 1, 1, 1, 0, 1, 1 ]\n",
    "data[59] = [ 0, 1, 0, 1, 1, 1, 0, 0, 0, 1, 0, 1, 1, 1, 0, 0, 1 ]\n",
    "data[60] = [ 1, 1, 1, 0, 0, 0, 1, 1, 1, 1, 0, 0, 0, 0, 1, 0, 0 ]\n",
    "data[61] = [ 0, 1, 0, 1, 1, 1, 0, 0, 0, 0, 0, 1, 1, 1, 0, 0, 1 ]\n",
    "data[62] = [ 1, 1, 1, 0, 0, 0, 1, 1, 1, 0, 0, 0, 0, 0, 0, 0, 0 ]\n",
    "data[63] = [ 1, 1, 1, 0, 0, 0, 1, 1, 1, 0, 1, 0, 0, 0, 0, 1, 0 ]\n",
    "data[64] = [ 1, 1, 1, 0, 0, 0, 1, 1, 1, 0, 1, 0, 0, 0, 0, 1, 0 ]\n",
    "data[65] = [ 1, 1, 0, 1, 1, 1, 1, 0, 0, 0, 0, 1, 1, 1, 0, 1, 1 ]\n",
    "data[66] = [ 0, 1, 0, 1, 1, 1, 1, 0, 0, 0, 1, 1, 1, 1, 0, 1, 1 ]\n",
    "data[67] = [ 0, 1, 0, 1, 1, 1, 0, 0, 0, 1, 0, 1, 1, 1, 0, 0, 1 ]\n",
    "data[68] = [ 1, 0, 1, 0, 0, 0, 1, 1, 1, 0, 0, 0, 1, 0, 1, 1, 0 ]\n",
    "data[69] = [ 1, 1, 1, 0, 0, 0, 1, 1, 1, 0, 0, 0, 0, 0, 1, 1, 0 ]\n",
    "data[70] = [ 1, 0, 1, 0, 0, 0, 1, 1, 1, 0, 0, 0, 1, 0, 1, 0, 0 ]\n",
    "data[71] = [ 1, 1, 1, 1, 0, 0, 1, 1, 1, 1, 1, 0, 0, 1, 0, 1, 1 ]\n",
    "data[72] = [ 1, 1, 1, 0, 0, 0, 1, 1, 1, 0, 1, 0, 0, 0, 1, 0, 0 ]\n",
    "data[73] = [ 1, 0, 1, 1, 1, 0, 1, 0, 1, 1, 0, 0, 1, 1, 0, 1, 1 ]\n",
    "data[74] = [ 1, 0, 1, 0, 0, 1, 1, 1, 1, 1, 1, 0, 0, 1, 1, 1, 0 ]\n",
    "data[75] = [ 0, 1, 1, 1, 1, 1, 0, 0, 0, 1, 1, 0, 1, 1, 0, 0, 0 ]\n",
    "data[76] = [ 0, 1, 1, 0, 1, 1, 0, 0, 0, 1, 1, 1, 1, 1, 0, 0, 0 ]\n",
    "data[77] = [ 0, 1, 1, 1, 1, 1, 0, 1, 1, 1, 1, 1, 1, 1, 0, 1, 0 ]\n",
    "data[78] = [ 1, 1, 1, 0, 1, 1, 0, 0, 0, 1, 1, 0, 1, 1, 0, 1, 0 ]\n",
    "data[79] = [ 0, 0, 0, 1, 1, 0, 0, 0, 0, 1, 0, 1, 1, 1, 0, 0, 1 ]\n",
    "data[80] = [ 1, 0, 1, 0, 0, 1, 1, 1, 1, 1, 0, 1, 0, 1, 0, 0, 0 ]\n",
    "data[81] = [ 1, 0, 1, 0, 0, 0, 1, 1, 0, 1, 1, 1, 0, 1, 0, 1, 0 ]\n",
    "data[82] = [ 0, 0, 0, 1, 1, 1, 0, 0, 0, 1, 0, 1, 1, 1, 0, 1, 1 ]\n",
    "data[83] = [ 0, 0, 0, 1, 1, 1, 0, 0, 0, 0, 0, 1, 1, 1, 0, 0, 1 ]\n",
    "data[84] = [ 0, 0, 0, 1, 1, 1, 0, 0, 0, 1, 0, 1, 1, 1, 0, 0, 1 ]\n",
    "data[85] = [ 0, 0, 1, 0, 1, 1, 0, 0, 0, 1, 1, 1, 1, 1, 0, 1, 0 ]\n",
    "data[86] = [ 0, 0, 0, 1, 1, 1, 0, 0, 0, 1, 0, 1, 1, 1, 0, 0, 1 ]\n",
    "data[87] = [ 0, 0, 0, 1, 1, 1, 0, 0, 0, 0, 0, 1, 1, 1, 0, 0, 1 ]\n",
    "data[88] = [ 0, 1, 1, 0, 1, 1, 1, 0, 1, 1, 1, 0, 1, 1, 0, 1, 0 ]\n",
    "data[89] = [ 0, 0, 0, 1, 1, 1, 0, 0, 0, 1, 0, 0, 1, 1, 0, 0, 1 ]\n",
    "data[90] = [ 1, 0, 1, 0, 0, 0, 1, 1, 1, 1, 0, 0, 0, 0, 1, 1, 0 ]\n",
    "data[91] = [ 1, 0, 1, 0, 0, 0, 1, 1, 1, 1, 1, 0, 0, 0, 1, 1, 0 ]\n",
    "data[92] = [ 1, 1, 1, 0, 0, 0, 1, 1, 0, 1, 1, 0, 0, 0, 1, 1, 0 ]\n",
    "data[93] = [ 1, 0, 1, 0, 0, 0, 1, 0, 1, 1, 1, 0, 0, 0, 1, 1, 0 ]\n",
    "data[94] = [ 1, 0, 1, 0, 1, 1, 0, 0, 0, 0, 0, 0, 0, 0, 0, 1, 0 ]\n",
    "data[95] = [ 1, 0, 1, 0, 1, 1, 0, 0, 0, 0, 1, 0, 0, 0, 1, 1, 0 ]\n",
    "data[96] = [ 0, 0, 0, 0, 1, 1, 0, 0, 0, 0, 1, 1, 1, 1, 0, 1, 0 ]\n",
    "data[97] = [ 1, 0, 0, 0, 1, 1, 1, 0, 0, 1, 1, 0, 0, 1, 0, 1, 0 ]\n",
    "data[98] = [ 1, 1, 1, 0, 0, 1, 1, 1, 1, 1, 0, 0, 0, 0, 0, 1, 0 ]\n",
    "data[99] = [ 0, 0, 0, 1, 1, 1, 0, 0, 0, 1, 0, 1, 1, 1, 0, 0, 1 ]"
   ]
  },
  {
   "cell_type": "code",
   "execution_count": null,
   "metadata": {},
   "outputs": [],
   "source": [
    "    def __init__(self, numInput, rndSeed):\n",
    "        self.numInput = numInput\n",
    "        self.weights = [0] *numInput\n",
    "        for i in range(len(self.weights)):\n",
    "            self.weights[i] = numInput / 2.0\n",
    "        self.threshold = 1.0 * numInput\n",
    "        self.alpha = 2.0\n",
    "        random.seed( rndSeed )"
   ]
  },
  {
   "cell_type": "code",
   "execution_count": 100,
   "metadata": {},
   "outputs": [
    {
     "name": "stdout",
     "output_type": "stream",
     "text": [
      "First few lines of all data are:\n",
      "[00]   0 1 0 1 1 1 0 0 0 1 0 1 1 1 0 1 1 \n",
      "[01]   0 1 0 1 1 1 0 0 0 0 0 1 1 1 0 0 1 \n",
      "[02]   0 1 1 0 1 1 0 0 0 0 1 0 1 1 0 0 0 \n",
      "[03]   0 1 1 0 0 1 0 0 0 0 1 0 1 0 0 1 0 \n",
      "[99]   0 0 0 1 1 1 0 0 0 1 0 1 1 1 0 0 1 \n"
     ]
    }
   ],
   "source": [
    "print(\"First few lines of all data are:\")\n",
    "ShowMatrix(data, 0, 4, True)"
   ]
  },
  {
   "cell_type": "code",
   "execution_count": null,
   "metadata": {},
   "outputs": [],
   "source": [
    "import numpy as np\n",
    "\n",
    "# int[][] data, seed, out int[][] trainData, out int[][] testData\n",
    "def MakeTrainTest(data, pct, seed):\n",
    "    totRows = data.shape[0] #compute number of rows in each result\n",
    "    numTrainRows = int(totRows * pct)\n",
    "    numTestRows = totRows - numTrainRows\n",
    "    #trainData = new int[numTrainRows][]\n",
    "    trainData = np.empty(data.shape)\n",
    "    #testData = new int[numTestRows][]\n",
    "    testData = np.empty(data.shape)\n",
    "    copy = np.empty(data.shape)\n",
    "\n",
    "    # int[][] copy = new int[data.Length][] #  make a copy of data\n",
    "    for i in range(copy.shape[0]):\n",
    "        # by reference to save space\n",
    "        copy[i] = data[i]\n",
    "    for i in range(copy.shape[0]):\n",
    "        # scramble row order of copy\n",
    "        r = randint(i, copy.shape[0] - 1)\n",
    "        tmp = copy[r]\n",
    "        copy[r] = copy[i]\n",
    "        copy[i] = tmp\n",
    "    for i in range(numTrainRows):\n",
    "        # create training\n",
    "        trainData[i] = copy[i]\n",
    "    for i in range(numTestRows):\n",
    "        # create test\n",
    "        testData[i] = copy[i + numTrainRows]\n",
    "        \n",
    "    return trainData, testData"
   ]
  },
  {
   "cell_type": "code",
   "execution_count": 101,
   "metadata": {},
   "outputs": [
    {
     "name": "stdout",
     "output_type": "stream",
     "text": [
      "Splitting data into 80% train and 20% test matrices\n"
     ]
    }
   ],
   "source": [
    "print(\"Splitting data into 80% train and 20% test matrices\")\n",
    "trainData, testData = MakeTrainTest(data, 0.8, 17)"
   ]
  },
  {
   "cell_type": "code",
   "execution_count": null,
   "metadata": {},
   "outputs": [],
   "source": [
    "    # int[] xValues\n",
    "    def ComputeY(self, xValues):\n",
    "        sum = 0.0\n",
    "        for i in range(numInput):\n",
    "            sum += self.weights[i] * xValues[i]\n",
    "        if sum > self.threshold:\n",
    "            return 1\n",
    "        else:\n",
    "            return 0"
   ]
  },
  {
   "cell_type": "code",
   "execution_count": 103,
   "metadata": {},
   "outputs": [
    {
     "name": "stdout",
     "output_type": "stream",
     "text": [
      "First few rows of testing data are:\n",
      "[00]   0 1 0 1 1 1 0 0 0 0 0 1 1 1 0 1 1 \n",
      "[01]   1 0 1 0 0 0 1 1 0 1 1 1 0 1 0 1 0 \n",
      "[02]   0 0 0 1 1 0 0 0 0 1 0 1 1 1 0 0 1 \n",
      "[99]   0 0 0 0 0 0 0 0 0 0 0 0 0 0 0 0 0 \n"
     ]
    }
   ],
   "source": [
    "print(\"First few rows of testing data are:\")\n",
    "ShowMatrix(testData, 0, 3, True)"
   ]
  },
  {
   "cell_type": "code",
   "execution_count": 104,
   "metadata": {},
   "outputs": [
    {
     "name": "stdout",
     "output_type": "stream",
     "text": [
      "Begin training using Winnow algorithm\n",
      "Training complete\n",
      "Wall time: 2.99 ms\n"
     ]
    }
   ],
   "source": [
    "%%time\n",
    "\n",
    "print(\"Begin training using Winnow algorithm\")\n",
    "numInput = 16\n",
    "w = Winnow(numInput, 0) #rndSeed = 0\n",
    "weights = w.TrainWeights(trainData)\n",
    "print(\"Training complete\")"
   ]
  },
  {
   "cell_type": "code",
   "execution_count": 106,
   "metadata": {},
   "outputs": [
    {
     "name": "stdout",
     "output_type": "stream",
     "text": [
      "Prediction accuracy on training data = 0.99\n",
      "Prediction accuracy on test data = 0.61\n"
     ]
    }
   ],
   "source": [
    "trainAcc = w.Accuracy(trainData)\n",
    "testAcc = w.Accuracy(testData)\n",
    "\n",
    "print(\"Prediction accuracy on training data = \" + str(trainAcc))\n",
    "print(\"Prediction accuracy on test data = \" + str(testAcc))"
   ]
  },
  {
   "cell_type": "code",
   "execution_count": null,
   "metadata": {},
   "outputs": [],
   "source": [
    "print(\"First few lines of all data are:\")\n",
    "ShowMatrix(data, 0, 4, True)"
   ]
  },
  {
   "cell_type": "code",
   "execution_count": null,
   "metadata": {},
   "outputs": [],
   "source": [
    "import random\n",
    "from random import randint\n",
    "import numpy as np\n",
    "\n",
    "class Winnow:\n",
    "    numInput = 0\n",
    "    weights = []\n",
    "    threshold = 0.0\n",
    "    alpha = 0.0"
   ]
  }
 ],
 "metadata": {
  "kernelspec": {
   "display_name": "Python 3",
   "language": "python",
   "name": "python3"
  },
  "language_info": {
   "codemirror_mode": {
    "name": "ipython",
    "version": 3
   },
   "file_extension": ".py",
   "mimetype": "text/x-python",
   "name": "python",
   "nbconvert_exporter": "python",
   "pygments_lexer": "ipython3",
   "version": "3.7.1"
  }
 },
 "nbformat": 4,
 "nbformat_minor": 1
}
