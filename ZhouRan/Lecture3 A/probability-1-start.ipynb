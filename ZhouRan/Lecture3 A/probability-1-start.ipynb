{
 "cells": [
  {
   "cell_type": "markdown",
   "metadata": {
    "button": false,
    "new_sheet": false,
    "run_control": {
     "read_only": false
    }
   },
   "source": [
    "<div style=\"text-align: right\">INFO 6105 Data Sci Engineering Methods and Tools, Week 3 Lecture 1</div>\n",
    "<div style=\"text-align: right\">Dino Konstantopoulos, 23 January 2019, with material from Peter Norvig and Cam Davidson-Pilon</div>\n",
    "\n",
    "Please unzip all images from each week's `images.zip` on blackboard onto your `C:/Users/<username>/ipynb.images` folder (create it if it doesn't exist). If there's a `data.zip` file on blackboard, unzip its contents onto your `C:/Users/<username>/data` folder (create it if it doesn't exist).\n",
    "\n",
    "At the end of this lecture, you should a good understanding of probabilities, combinatorics, python list comprehensions, python lambda arithmetic, and how to compute probabilities.\n",
    "![Bayes](http://img1.ph.126.net/xKZAzeOv_mI8a4Lwq7PHmw==/2547911489202312541.jpg)\n",
    "<center><a href=\"https://en.wikipedia.org/wiki/Thomas_Bayes\">Rev. Thomas Bayes</a><br>1701-1761\n",
    "</center>\n",
    "\n",
    "# 1. Probability\n",
    "\n",
    "In 1814, Pierre-Simon, marquis de Laplace (23 March 1749 – 5 March 1827), a French scholar whose work was important to the development of mathematics, statistics, physics and astronomy, [wrote](https://en.wikipedia.org/wiki/Classical_definition_of_probability):\n",
    "\n",
    ">*Probability ... is thus simply a fraction whose numerator is the number of favorable cases and whose denominator is the number of all the cases possible ... when nothing leads us to expect that any one of these cases should occur more than any other.*\n",
    "\n",
    "\n",
    "Here's some vocabulary:\n",
    "\n",
    "- **[Experiment](https://en.wikipedia.org/wiki/Experiment_(probability_theory%29):**\n",
    "  An occurrence with an uncertain outcome that we can observe.\n",
    "  <br>*For example, rolling a die.*\n",
    "- **[Outcome](https://en.wikipedia.org/wiki/Outcome_(probability%29):**\n",
    "  The result of an experiment; one particular state of the world. What Laplace calls a \"case.\"\n",
    "  <br>*For example:* `4`.\n",
    "- **[Sample Space](https://en.wikipedia.org/wiki/Sample_space):**\n",
    "  The set of all possible outcomes for the experiment. \n",
    "  <br>*For example,* `{1, 2, 3, 4, 5, 6}`.\n",
    "- **[Event](https://en.wikipedia.org/wiki/Event_(probability_theory%29):**\n",
    "  A subset of possible outcomes that together have some property we are interested in.\n",
    "  <br>*For example, the event \"even die roll\" is the set of outcomes* `{2, 4, 6}`. \n",
    "  \n",
    "And here's a little game: What's the probability that someone in this classroom shares your birthday? \n",
    "Each person can have your birthday with probability 1/365. There are n−1 people other than yourself, so the probability that someone shares your birthday is ...\n",
    "\n",
    "Now, what is the probability that *two* students in this classroom have the *same* birthday? Which one of the two you think is higher?\n"
   ]
  },
  {
   "cell_type": "markdown",
   "metadata": {},
   "source": [
    "What is the probability that someone in this classroom shares your birthday? \n",
    "\n",
    "Each person can have your birthday with probability 1/365. There are n-1 people other than yourself, so the probability that someone shares your birthday is (n-1)/ 365.\n",
    "\n",
    "What is the probability that two students in this classroom have the same birthday? \n",
    "\n"
   ]
  },
  {
   "cell_type": "code",
   "execution_count": 1,
   "metadata": {},
   "outputs": [
    {
     "name": "stdout",
     "output_type": "stream",
     "text": [
      "Shares: 0.024657534246575342\n",
      "2 share: 0.11694817771107768\n"
     ]
    }
   ],
   "source": [
    "from operator import mul\n",
    "from functools import reduce\n",
    "\n",
    "# assume 10 people in class\n",
    "def probSomeoneShares():\n",
    "    return 9/365\n",
    "def prob2StudentsShare():\n",
    "    \"\"\"return 1 - (365 * 364 * ... * 356)/(365 ** 10)\"\"\"\n",
    "    lc = [n for n in range(365, 355, -1)]\n",
    "    return 1 - (reduce(mul, lc, 1) / (365 ** 10))\n",
    "\n",
    "print(\"Shares: \" + str(probSomeoneShares()))\n",
    "print(\"2 share: \" + str(prob2StudentsShare()))"
   ]
  },
  {
   "cell_type": "markdown",
   "metadata": {
    "button": false,
    "new_sheet": false,
    "run_control": {
     "read_only": false
    }
   },
   "source": [
    "# 2. Dice (singular: Die) \n",
    "<center>\n",
    "<img src=\"https://i.warosu.org/data/sci/img/0067/71/1411506402282.png\" width=\"100\" height=\"100\" />\n",
    "</center>\n",
    "\n",
    "`p` is the traditional name for the Probability function:\n",
    "```python\n",
    "from fractions import Fraction\n",
    "def p(event, space): \n",
    "    \"The probability of an event, given a sample space of equiprobable outcomes.\"\n",
    "    return Fraction(len(event & space), \n",
    "                    len(space))\n",
    "```\n",
    "\n",
    "To note:\n",
    "* We use ```Fraction``` rather than regular division because I want exact answers like 1/3, not 0.3333333333333333.\n",
    "* `&` is the python set *intersection* operation, while `|` is the python *union* operation.\n",
    "\n",
    "**Exercise**: What's the probability of rolling an even number with a single six-sided fair die? Use python tuples (unordered collection with no duplicate elements), since we don't expect them to change.\n",
    "\n",
    "Define the sample space D:\n",
    "```D    = {...}```\n",
    "\n",
    "and the event even:\n",
    "```even = {...}```\n",
    "\n",
    "and compute the probability:\n",
    "```p(even, D)```\n",
    "\n",
    "Copy and paste the code above in the cell below, and replace ```...``` with the right values!"
   ]
  },
  {
   "cell_type": "code",
   "execution_count": 6,
   "metadata": {
    "button": false,
    "new_sheet": false,
    "run_control": {
     "read_only": false
    }
   },
   "outputs": [
    {
     "data": {
      "text/plain": [
       "Fraction(1, 2)"
      ]
     },
     "execution_count": 6,
     "metadata": {},
     "output_type": "execute_result"
    }
   ],
   "source": [
    "from fractions import Fraction\n",
    "def p(event, space): \n",
    "    \"The probability of an event, given a sample space of equiprobable outcomes.\"\n",
    "    return Fraction(len(event & space), \n",
    "                    len(space))\n",
    "\n",
    "D = {1,2,3,4,5,6}\n",
    "even = {2,4,6}\n",
    "p(even, D)"
   ]
  },
  {
   "cell_type": "markdown",
   "metadata": {
    "button": false,
    "new_sheet": false,
    "run_control": {
     "read_only": false
    }
   },
   "source": [
    "What happens if you specify ```even = {2, 4, 6, 8, 10, 12, 14, 16, 18, 20}```?\n",
    "\n",
    "To note:\n",
    "* The definition of ```p``` uses ```len(event & space)``` rather than ```len(event)``` because I don't want to count outcomes that were specified in event but aren't actually in the sample space."
   ]
  },
  {
   "cell_type": "markdown",
   "metadata": {
    "button": false,
    "new_sheet": false,
    "run_control": {
     "read_only": false
    }
   },
   "source": []
  },
  {
   "cell_type": "markdown",
   "metadata": {
    "button": false,
    "new_sheet": false,
    "run_control": {
     "read_only": false
    }
   },
   "source": [
    "# 3. Urns, combinations, and permutations\n",
    "\n",
    "<br />\n",
    "<center>\n",
    "<img src=\"https://upload.wikimedia.org/wikipedia/commons/thumb/3/3c/Urn_problem_qtl6.svg/200px-Urn_problem_qtl6.svg.png\"/>\n",
    "</center>\n",
    "\n",
    "\n",
    "Around 1700, Jacob Bernoulli wrote about removing colored balls from an urn in his landmark treatise *[Ars Conjectandi](https://en.wikipedia.org/wiki/Ars_Conjectandi)*\n",
    "\n",
    "Here is a three-part problem [adapted](http://mathforum.org/library/drmath/view/69151.html)  from mathforum.org:\n",
    "\n",
    "> An urn contains 23 balls: 8 white, 6 blue, and 9 red.  We select six balls at random (each possible selection is equally likely). What is the probability of each of these possible outcomes:\n",
    "\n",
    "> 1. All balls are red\n",
    "2. 3 are blue, 2 are white, and 1 is red\n",
    "3. Exactly 4 balls are white\n",
    "\n",
    "So, outcome = set of 6 balls, sample space = set of all possible 6 ball combinations. \n",
    "\n",
    "We'll mark our balls `'W1'` through `'W8'`, `'B1'` through `'B6'`, and `'R1'` through `'R9'`.\n",
    "\n",
    "To note:\n",
    "- An outcome is a *set* of balls, where order doesn't matter, not a *sequence*, where order matters. When order **matters**, the set of outcomes is called all **permutations**. When order **does not matter**, the set of outcomes is called all **combinations**.\n",
    "\n",
    "The number of *combinations* of balls is the number of *permutations* divided by `c!`, where *c* is the number of balls. So there are less combinations and more permutations possible. If I want to choose 2 white balls from the 8 available, there are 8 ways to choose a first white ball and 7 ways to choose a second (because the first one has been picked and not available in the sample space anymore), and therefore 8 &times; 7 = 56 permutations of two white balls. But there are only 56 / 2 = 28 combinations, because `(W1, W2)` is the same combination as `(W2, W1)`.\n",
    "\n",
    "We'll start by defining the contents of the urn, and we'll use a python `set` (unordered collection with no duplicate elements), since we don't expect them to change. Since we're passing in strings, the `+` operator will concatenate strings together.\n",
    "\n",
    "```python\n",
    "def cross(A, B):\n",
    "    \"\"\"The set of ways of concatenating one item from collection A with one from B.\"\"\"\n",
    "    return {a + b \n",
    "            for a ... for b ...}  # fill in the ...\n",
    "\n",
    "urn = cross('W', '12345678') | cross('B', ...) | cross('R', ...) #fill in the ...\n",
    "urn\n",
    "len(urn)\n",
    "```"
   ]
  },
  {
   "cell_type": "code",
   "execution_count": 7,
   "metadata": {
    "button": false,
    "new_sheet": false,
    "run_control": {
     "read_only": false
    }
   },
   "outputs": [
    {
     "data": {
      "text/plain": [
       "{'B1',\n",
       " 'B2',\n",
       " 'B3',\n",
       " 'B4',\n",
       " 'B5',\n",
       " 'B6',\n",
       " 'R1',\n",
       " 'R2',\n",
       " 'R3',\n",
       " 'R4',\n",
       " 'R5',\n",
       " 'R6',\n",
       " 'R7',\n",
       " 'R8',\n",
       " 'R9',\n",
       " 'W1',\n",
       " 'W2',\n",
       " 'W3',\n",
       " 'W4',\n",
       " 'W5',\n",
       " 'W6',\n",
       " 'W7',\n",
       " 'W8'}"
      ]
     },
     "execution_count": 7,
     "metadata": {},
     "output_type": "execute_result"
    }
   ],
   "source": [
    "def cross(A, B):\n",
    "    \"\"\"The set of ways of concatenating one item from collection A with one from B.\"\"\"\n",
    "    return {a + b \n",
    "            for a in A for b in B}\n",
    "\n",
    "urn = cross('W', '12345678') | cross('B', '123456') | cross('R', '123456789')\n",
    "urn"
   ]
  },
  {
   "cell_type": "markdown",
   "metadata": {
    "button": false,
    "new_sheet": false,
    "run_control": {
     "read_only": false
    }
   },
   "source": [
    "Now let's define the sample space, `U6`, as the set of all 6-ball combinations (physicists define all forces in nature in terms of similar sample spaces where the number of samples is the number of symmetries in the behavior of the objects that the forces act upon. Read [here](https://arxiv.org/pdf/hep-th/9712154.pdf) for a good introduction to symmetry groups in physics).\n",
    "\n",
    "We will use the python `itertools.combinations` package to generate the combinations, and then join each combination into a string:\n",
    "\n",
    "```python\n",
    "import itertools\n",
    "\n",
    "def combinations(items, n):\n",
    "    \"All combinations of n items; each combination as a concatenated str.\"\n",
    "    return {' '.join(combo) \n",
    "            for combo in itertools.combinations(items, n)}\n",
    "\n",
    "U6 = combinations(urn, 6)\n",
    "len(U6)\n",
    "```"
   ]
  },
  {
   "cell_type": "code",
   "execution_count": 8,
   "metadata": {
    "button": false,
    "new_sheet": false,
    "run_control": {
     "read_only": false
    }
   },
   "outputs": [
    {
     "data": {
      "text/plain": [
       "100947"
      ]
     },
     "execution_count": 8,
     "metadata": {},
     "output_type": "execute_result"
    }
   ],
   "source": [
    "import itertools\n",
    "\n",
    "def combinations(items, n):\n",
    "    \"All combinations of n items; each combination as a concatenated str.\"\n",
    "    return {' '.join(combo) \n",
    "            for combo in itertools.combinations(items, n)}\n",
    "\n",
    "U6 = combinations(urn, 6)\n",
    "len(U6)"
   ]
  },
  {
   "cell_type": "markdown",
   "metadata": {
    "button": false,
    "new_sheet": false,
    "run_control": {
     "read_only": false
    }
   },
   "source": [
    "You should find that there are 100,947 members in our sample space. To take a peek at a random sample of 10 of them (you should always take a peek at big datasets in Data Science. *Always*):\n",
    "\n",
    "```python\n",
    "import random\n",
    "random.sample(U6, 10)\n",
    "```"
   ]
  },
  {
   "cell_type": "code",
   "execution_count": 9,
   "metadata": {
    "button": false,
    "new_sheet": false,
    "run_control": {
     "read_only": false
    }
   },
   "outputs": [
    {
     "data": {
      "text/plain": [
       "['B4 B6 R6 W3 R7 B3',\n",
       " 'R8 R4 R6 W2 B3 R5',\n",
       " 'R4 R3 R6 W6 R5 R2',\n",
       " 'W5 B6 R1 W2 R7 R2',\n",
       " 'R4 W4 B6 W8 W2 R7',\n",
       " 'R8 W8 B5 R1 W2 R5',\n",
       " 'R8 B4 R4 W4 R3 W3',\n",
       " 'W8 B5 W3 B1 R7 R2',\n",
       " 'R9 R6 W1 W2 B1 R5',\n",
       " 'R8 B5 R1 W2 B1 B3']"
      ]
     },
     "execution_count": 9,
     "metadata": {},
     "output_type": "execute_result"
    }
   ],
   "source": [
    "import random\n",
    "random.sample(U6, 10)"
   ]
  },
  {
   "cell_type": "markdown",
   "metadata": {
    "button": false,
    "new_sheet": false,
    "run_control": {
     "read_only": false
    }
   },
   "source": [
    "We can pick any of 23 balls for the first item, any of 22 for the second, ..., and any of 18 for the sixth. But since we don't care about the ordering of the six items, we divide the product by 6! (the number of possible combinations of 6 things) and thus:\n",
    "\n",
    "$$23 ~\\mbox{choose}~ 6 = \\frac{23 \\cdot 22 \\cdot 21 \\cdot 20 \\cdot 19 \\cdot 18}{6!} = 100947$$\n",
    "\n",
    "But since $23 \\cdot 22 \\cdot 21 \\cdot 20 \\cdot 19 \\cdot 18 = 23! \\;/\\; 17!$, we can write:\n",
    "\n",
    "$$n ~\\mbox{choose}~ c = \\frac{n!}{(n - c)! \\cdot c!}$$\n",
    "\n",
    "To translate that to code, use the following, and note that\n",
    "* Python has two division operators, a single slash `/` character for classic division and a double-slash `//` for *floor* division (rounds down to nearest whole number). Classic division means that if the operands are both integers, it will perform floor division, while for floating point numbers, it represents true division.\n",
    "\n",
    "```python\n",
    "from math import factorial\n",
    "\n",
    "def choose(n, c):\n",
    "    \"\"\"Number of ways to choose c items from a list of n items.\"\"\"\n",
    "    return factorial(n) // (factorial(n - c) * factorial(c))\n",
    "choose(23, 6)\n",
    "```\n"
   ]
  },
  {
   "cell_type": "code",
   "execution_count": null,
   "metadata": {
    "button": false,
    "new_sheet": false,
    "run_control": {
     "read_only": false
    }
   },
   "outputs": [],
   "source": []
  },
  {
   "cell_type": "markdown",
   "metadata": {
    "button": false,
    "new_sheet": false,
    "run_control": {
     "read_only": false
    }
   },
   "source": [
    "To note:\n",
    "* `count()` is the python function that returns the *cardinal* (a.k.a *length*) of a sequence (a.k.a. list/set/tuple/dict), filtered by an argument. True statement: ```'foobar'.count('o') == 2```. \n",
    "\n",
    "Now we're ready to answer the 4 problems: \n",
    "\n",
    "### Urn Problem 1: what's the probability of selecting 6 red balls? \n",
    "\n",
    "```python\n",
    "red6 = {b for b in U6 if b.count(...) == ...}  # fill in the ...\n",
    "print(red6)\n",
    "p(red6, U6)\n",
    "```\n",
    "\n",
    "Go ahead, cut and paste below and replace `...` with the right answer. Then verify your answer by running the code below and ensuring that it's the probability for picking 6 our of 9 balls in an unordered fashion out of sample space U6:\n",
    "```python\n",
    "p(red6, U6) == Fraction(choose(9, 6), \n",
    "                        len(U6))\n",
    "```"
   ]
  },
  {
   "cell_type": "code",
   "execution_count": 10,
   "metadata": {
    "button": false,
    "new_sheet": false,
    "run_control": {
     "read_only": false
    }
   },
   "outputs": [
    {
     "name": "stdout",
     "output_type": "stream",
     "text": [
      "{'R4 R9 R3 R6 R1 R7', 'R8 R6 R1 R7 R5 R2', 'R8 R4 R3 R6 R7 R2', 'R8 R4 R6 R1 R7 R5', 'R9 R3 R6 R1 R7 R5', 'R4 R3 R6 R1 R5 R2', 'R4 R3 R6 R1 R7 R2', 'R8 R4 R9 R6 R7 R5', 'R8 R4 R3 R6 R1 R2', 'R8 R4 R9 R6 R5 R2', 'R8 R4 R9 R3 R7 R5', 'R8 R4 R9 R1 R7 R5', 'R8 R4 R9 R1 R5 R2', 'R4 R3 R1 R7 R5 R2', 'R8 R9 R3 R6 R1 R2', 'R8 R9 R6 R7 R5 R2', 'R8 R4 R6 R1 R5 R2', 'R8 R4 R9 R6 R7 R2', 'R9 R6 R1 R7 R5 R2', 'R8 R9 R6 R1 R7 R2', 'R3 R6 R1 R7 R5 R2', 'R8 R4 R3 R1 R7 R5', 'R8 R4 R9 R3 R6 R5', 'R8 R4 R3 R6 R1 R7', 'R4 R3 R6 R7 R5 R2', 'R8 R3 R6 R1 R7 R2', 'R8 R9 R3 R1 R7 R2', 'R8 R4 R9 R6 R1 R2', 'R4 R9 R1 R7 R5 R2', 'R8 R4 R9 R3 R1 R7', 'R8 R4 R9 R3 R1 R2', 'R8 R9 R1 R7 R5 R2', 'R8 R4 R9 R3 R6 R2', 'R4 R9 R3 R6 R1 R2', 'R8 R4 R9 R3 R6 R1', 'R4 R3 R6 R1 R7 R5', 'R4 R9 R6 R1 R5 R2', 'R8 R4 R3 R6 R7 R5', 'R8 R4 R3 R1 R7 R2', 'R4 R9 R3 R6 R7 R5', 'R9 R3 R6 R1 R5 R2', 'R8 R4 R3 R6 R1 R5', 'R8 R3 R1 R7 R5 R2', 'R4 R9 R3 R1 R7 R2', 'R4 R9 R3 R6 R7 R2', 'R8 R9 R3 R6 R1 R7', 'R8 R4 R9 R3 R1 R5', 'R4 R9 R6 R1 R7 R5', 'R8 R4 R6 R7 R5 R2', 'R4 R6 R1 R7 R5 R2', 'R4 R9 R6 R7 R5 R2', 'R4 R9 R6 R1 R7 R2', 'R8 R3 R6 R1 R7 R5', 'R4 R9 R3 R1 R5 R2', 'R8 R4 R9 R3 R5 R2', 'R9 R3 R1 R7 R5 R2', 'R8 R4 R3 R7 R5 R2', 'R8 R9 R3 R6 R7 R5', 'R8 R4 R6 R1 R7 R2', 'R8 R4 R9 R3 R6 R7', 'R8 R3 R6 R7 R5 R2', 'R8 R9 R3 R1 R7 R5', 'R4 R9 R3 R7 R5 R2', 'R8 R9 R3 R6 R5 R2', 'R8 R4 R9 R3 R7 R2', 'R8 R9 R6 R1 R5 R2', 'R9 R3 R6 R1 R7 R2', 'R8 R4 R9 R6 R1 R5', 'R8 R9 R3 R6 R7 R2', 'R4 R9 R3 R1 R7 R5', 'R8 R9 R3 R1 R5 R2', 'R9 R3 R6 R7 R5 R2', 'R4 R9 R3 R6 R1 R5', 'R8 R9 R6 R1 R7 R5', 'R8 R9 R3 R6 R1 R5', 'R4 R9 R3 R6 R5 R2', 'R8 R4 R9 R7 R5 R2', 'R8 R4 R9 R1 R7 R2', 'R8 R4 R1 R7 R5 R2', 'R8 R4 R3 R6 R5 R2', 'R8 R4 R3 R1 R5 R2', 'R8 R9 R3 R7 R5 R2', 'R8 R4 R9 R6 R1 R7', 'R8 R3 R6 R1 R5 R2'}\n"
     ]
    },
    {
     "data": {
      "text/plain": [
       "Fraction(4, 4807)"
      ]
     },
     "execution_count": 10,
     "metadata": {},
     "output_type": "execute_result"
    }
   ],
   "source": [
    "red6 = {b for b in U6 if b.count('R') == 6}\n",
    "print(red6)\n",
    "p(red6, U6)"
   ]
  },
  {
   "cell_type": "markdown",
   "metadata": {
    "button": false,
    "new_sheet": false,
    "run_control": {
     "read_only": false
    }
   },
   "source": [
    "### Urn Problem 2: what is the probability of selecting 3 blue, 2 white, and 1 red?\n",
    "\n",
    "```python\n",
    "b3w2r1 = {s for s in U6 if ...}\n",
    "p(b3w2r1, U6)\n",
    "```\n",
    "\n",
    "and verify that it's equal to the probability of picking 3 blue out of 6 and 2 white out of 8 and 1 red out of 9:\n",
    "```python\n",
    "p(b3w2r1, U6) == Fraction(choose(6, 3) * choose(8, 2) * choose(9, 1), \n",
    "                          len(U6))\n",
    "```\n",
    "\n",
    "You can also reason that there are 6 ways to pick the first blue, 5 ways to pick the second blue, and 4 ways to pick the third. Then 8 ways to pick the first white and 7 to pick the second. Then 9 ways to pick a red. But the order 'B1, B2, B3' should count as the same as 'B2, B3, B1' and all the other orderings; so divide by 3! to account for the permutations of blues, by 2! to account for the permutations of whites, and finally by 100947 to get a probability."
   ]
  },
  {
   "cell_type": "code",
   "execution_count": 11,
   "metadata": {
    "button": false,
    "new_sheet": false,
    "run_control": {
     "read_only": false
    }
   },
   "outputs": [
    {
     "data": {
      "text/plain": [
       "Fraction(240, 4807)"
      ]
     },
     "execution_count": 11,
     "metadata": {},
     "output_type": "execute_result"
    }
   ],
   "source": [
    "b3w2r1 = {s for s in U6 if s.count('B') == 3 and s.count('W') == 2 and s.count('R') == 1}\n",
    "p(b3w2r1, U6)"
   ]
  },
  {
   "cell_type": "code",
   "execution_count": 14,
   "metadata": {},
   "outputs": [
    {
     "ename": "NameError",
     "evalue": "name 'choose' is not defined",
     "output_type": "error",
     "traceback": [
      "\u001b[0;31m---------------------------------------------------------------------------\u001b[0m",
      "\u001b[0;31mNameError\u001b[0m                                 Traceback (most recent call last)",
      "\u001b[0;32m<ipython-input-14-3fc8cb1de4d7>\u001b[0m in \u001b[0;36m<module>\u001b[0;34m\u001b[0m\n\u001b[0;32m----> 1\u001b[0;31m \u001b[0mFraction\u001b[0m\u001b[0;34m(\u001b[0m\u001b[0mchoose\u001b[0m\u001b[0;34m(\u001b[0m\u001b[0;36m6\u001b[0m\u001b[0;34m,\u001b[0m \u001b[0;36m3\u001b[0m\u001b[0;34m)\u001b[0m \u001b[0;34m*\u001b[0m \u001b[0mchoose\u001b[0m\u001b[0;34m(\u001b[0m\u001b[0;36m8\u001b[0m\u001b[0;34m,\u001b[0m \u001b[0;36m2\u001b[0m\u001b[0;34m)\u001b[0m \u001b[0;34m*\u001b[0m \u001b[0mchoose\u001b[0m\u001b[0;34m(\u001b[0m\u001b[0;36m9\u001b[0m\u001b[0;34m,\u001b[0m \u001b[0;36m1\u001b[0m\u001b[0;34m)\u001b[0m\u001b[0;34m,\u001b[0m \u001b[0mlen\u001b[0m\u001b[0;34m(\u001b[0m\u001b[0mU6\u001b[0m\u001b[0;34m)\u001b[0m\u001b[0;34m)\u001b[0m\u001b[0;34m\u001b[0m\u001b[0m\n\u001b[0m",
      "\u001b[0;31mNameError\u001b[0m: name 'choose' is not defined"
     ]
    }
   ],
   "source": [
    "Fraction(choose(6, 3) * choose(8, 2) * choose(9, 1), len(U6))"
   ]
  },
  {
   "cell_type": "markdown",
   "metadata": {
    "button": false,
    "new_sheet": false,
    "run_control": {
     "read_only": false
    }
   },
   "source": [
    "### Urn Problem 3: What is the probability of exactly 4 white balls?\n",
    "\n",
    "In other words, choosing 4 out of the 8 white balls and 2 out of the 15 non-white balls.\n",
    "```python\n",
    "w4 = {s for s in U6 if\n",
    "      s.count('W') == 4}\n",
    "\n",
    "P(w4, U6)\n",
    "\n",
    "P(w4, U6) == Fraction(choose(8, 4) * choose(15, 2),\n",
    "                      len(U6))\n",
    "\n",
    "P(w4, U6) == Fraction((8 * 7 * 6 * 5) * (15 * 14),\n",
    "                      factorial(4) * factorial(2) * len(U6))\n",
    "```"
   ]
  },
  {
   "cell_type": "code",
   "execution_count": 16,
   "metadata": {
    "button": false,
    "new_sheet": false,
    "run_control": {
     "read_only": false
    }
   },
   "outputs": [
    {
     "data": {
      "text/plain": [
       "Fraction(350, 4807)"
      ]
     },
     "execution_count": 16,
     "metadata": {},
     "output_type": "execute_result"
    }
   ],
   "source": [
    "w4 = {s for s in U6 if\n",
    "      s.count('W') == 4}\n",
    "\n",
    "p(w4, U6)"
   ]
  },
  {
   "cell_type": "code",
   "execution_count": 17,
   "metadata": {},
   "outputs": [
    {
     "ename": "NameError",
     "evalue": "name 'choose' is not defined",
     "output_type": "error",
     "traceback": [
      "\u001b[0;31m---------------------------------------------------------------------------\u001b[0m",
      "\u001b[0;31mNameError\u001b[0m                                 Traceback (most recent call last)",
      "\u001b[0;32m<ipython-input-17-8a29fa6e3e74>\u001b[0m in \u001b[0;36m<module>\u001b[0;34m\u001b[0m\n\u001b[0;32m----> 1\u001b[0;31m p(w4, U6) == Fraction(choose(8, 4) * choose(15, 2),\n\u001b[0m\u001b[1;32m      2\u001b[0m                       len(U6))\n",
      "\u001b[0;31mNameError\u001b[0m: name 'choose' is not defined"
     ]
    }
   ],
   "source": [
    "p(w4, U6) == Fraction(choose(8, 4) * choose(15, 2),\n",
    "                      len(U6))"
   ]
  },
  {
   "cell_type": "markdown",
   "metadata": {
    "button": false,
    "new_sheet": false,
    "run_control": {
     "read_only": false
    }
   },
   "source": [
    "# 4. Working with transformations instead of samples\n",
    "\n",
    "<br />\n",
    "<center>\n",
    "<img src=\"http://agilitrix.com/wp-content/uploads/2013/02/1-Transformation.jpg\"  width=\"500\" />\n",
    "</center>\n",
    "\n",
    "Sometimes we don't have a straightforward way to easily enumerate all possible samples in a sample space, but we have an easy way of defining a transformation that will yield a desired sample. In other words, we want to work with **lambdas** instead of **objects**. \n",
    "\n",
    "Here's a generator for natural numbers, a compact, transformation-based way of defining natural numbers so that we don't have to write a lot of data:"
   ]
  },
  {
   "cell_type": "code",
   "execution_count": 11,
   "metadata": {},
   "outputs": [],
   "source": [
    "def numbers():\n",
    "    i = 0\n",
    "    while True:\n",
    "        yield i\n",
    "        i += 1"
   ]
  },
  {
   "cell_type": "markdown",
   "metadata": {},
   "source": [
    "And here's how to consume the generator (a bit ugly, granted, can you improve on this, i.e. no `break` statement?):"
   ]
  },
  {
   "cell_type": "code",
   "execution_count": 81,
   "metadata": {},
   "outputs": [
    {
     "name": "stdout",
     "output_type": "stream",
     "text": [
      "[0, 1, 2, 3, 4, 5, 6, 7, 8, 9, 10, 11, 12, 13, 14, 15, 16, 17, 18, 19, 20, 21, 22, 23, 24, 25, 26, 27, 28, 29, 30, 31, 32, 33, 34, 35, 36, 37, 38, 39, 40, 41, 42, 43, 44, 45, 46, 47, 48, 49, 50, 51, 52, 53, 54, 55, 56, 57, 58, 59, 60, 61, 62, 63, 64, 65, 66, 67, 68, 69, 70, 71, 72, 73, 74, 75, 76, 77, 78, 79, 80, 81, 82, 83, 84, 85, 86, 87, 88, 89, 90, 91, 92, 93, 94, 95, 96, 97, 98, 99, 100]\n"
     ]
    }
   ],
   "source": [
    "import queue as Q\n",
    "q = Q.Queue()\n",
    "for index, item in enumerate(numbers()):\n",
    "    q.put(item)\n",
    "    if index == 100:\n",
    "        break\n",
    "print(list(q.queue))"
   ]
  },
  {
   "cell_type": "markdown",
   "metadata": {},
   "source": [
    "In the case of the die roll, I can define an `even` lambda: "
   ]
  },
  {
   "cell_type": "code",
   "execution_count": 18,
   "metadata": {
    "button": false,
    "new_sheet": false,
    "run_control": {
     "read_only": false
    }
   },
   "outputs": [],
   "source": [
    "def even(n): return n % 2 == 0"
   ]
  },
  {
   "cell_type": "markdown",
   "metadata": {
    "button": false,
    "new_sheet": false,
    "run_control": {
     "read_only": false
    }
   },
   "source": [
    "Now in order to make `p(even, D)` work, I'll have to modify `p` to accept an event as either\n",
    "a *set* of outcomes (as before), or a *predicate* over outcomes&mdash;a function that returns true for an outcome that is in the event:"
   ]
  },
  {
   "cell_type": "code",
   "execution_count": 19,
   "metadata": {
    "button": false,
    "new_sheet": false,
    "run_control": {
     "read_only": false
    }
   },
   "outputs": [],
   "source": [
    "def p(event, space): \n",
    "    \"\"\"The probability of an event, given a sample space of equiprobable outcomes.\n",
    "    event can be either a set of outcomes, or a predicate (true for outcomes in the event).\"\"\"\n",
    "    if is_predicate(event):\n",
    "        event = such_that(event, space)\n",
    "    return Fraction(len(event & space), len(space))\n",
    "\n",
    "is_predicate = callable\n",
    "\n",
    "def such_that(predicate, collection): \n",
    "    \"\"\"The subset of elements in the collection for which the predicate is true.\"\"\"\n",
    "    return {e for e in collection if predicate(e)}"
   ]
  },
  {
   "cell_type": "markdown",
   "metadata": {
    "button": false,
    "new_sheet": false,
    "run_control": {
     "read_only": false
    }
   },
   "source": [
    "Here we see how `such_that`, the new `even` predicate, and the new `p` work:"
   ]
  },
  {
   "cell_type": "code",
   "execution_count": 18,
   "metadata": {
    "button": false,
    "new_sheet": false,
    "run_control": {
     "read_only": false
    }
   },
   "outputs": [
    {
     "ename": "NameError",
     "evalue": "name 'such_that' is not defined",
     "output_type": "error",
     "traceback": [
      "\u001b[0;31m---------------------------------------------------------------------------\u001b[0m",
      "\u001b[0;31mNameError\u001b[0m                                 Traceback (most recent call last)",
      "\u001b[0;32m<ipython-input-18-47b0fbbfaae6>\u001b[0m in \u001b[0;36m<module>\u001b[0;34m\u001b[0m\n\u001b[0;32m----> 1\u001b[0;31m \u001b[0msuch_that\u001b[0m\u001b[0;34m(\u001b[0m\u001b[0meven\u001b[0m\u001b[0;34m,\u001b[0m \u001b[0mD\u001b[0m\u001b[0;34m)\u001b[0m\u001b[0;34m\u001b[0m\u001b[0m\n\u001b[0m",
      "\u001b[0;31mNameError\u001b[0m: name 'such_that' is not defined"
     ]
    }
   ],
   "source": [
    "such_that(even, D)"
   ]
  },
  {
   "cell_type": "code",
   "execution_count": 21,
   "metadata": {
    "button": false,
    "new_sheet": false,
    "run_control": {
     "read_only": false
    }
   },
   "outputs": [
    {
     "data": {
      "text/plain": [
       "Fraction(1, 2)"
      ]
     },
     "execution_count": 21,
     "metadata": {},
     "output_type": "execute_result"
    }
   ],
   "source": [
    "p(even, D)"
   ]
  },
  {
   "cell_type": "code",
   "execution_count": 22,
   "metadata": {
    "button": false,
    "new_sheet": false,
    "run_control": {
     "read_only": false
    }
   },
   "outputs": [
    {
     "data": {
      "text/plain": [
       "{2, 4, 6, 8, 10, 12}"
      ]
     },
     "execution_count": 22,
     "metadata": {},
     "output_type": "execute_result"
    }
   ],
   "source": [
    "D12 = {1, 2, 3, 4, 5, 6, 7, 8, 9, 10, 11, 12}\n",
    "\n",
    "such_that(even, D12)"
   ]
  },
  {
   "cell_type": "code",
   "execution_count": 23,
   "metadata": {
    "button": false,
    "new_sheet": false,
    "run_control": {
     "read_only": false
    }
   },
   "outputs": [
    {
     "data": {
      "text/plain": [
       "Fraction(1, 2)"
      ]
     },
     "execution_count": 23,
     "metadata": {},
     "output_type": "execute_result"
    }
   ],
   "source": [
    "p(even, D12)"
   ]
  },
  {
   "cell_type": "markdown",
   "metadata": {
    "button": false,
    "new_sheet": false,
    "run_control": {
     "read_only": false
    }
   },
   "source": [
    "Note: `such_that` is just like the built-in python function `filter` (recall that we talked about the most important built-in functions in python for Data Science: `map`, `reduce`, and `filter`), except that `such_that` returns a *set*.\n",
    "\n",
    "We can now define more interesting events using predicates; for example we can determine the probability that the sum of a three-dice roll is *prime*:\n",
    "\n",
    "```python\n",
    "D = {1,2,3,4,5,6}\n",
    "\n",
    "D3 = {(d1, d2, d3) for d1 in D for d2 in D for d3 in D}\n",
    "\n",
    "def prime_sum(outcome): return is_prime(sum(outcome))\n",
    "\n",
    "def is_prime(n): return ...  # implement is_prime()!\n",
    "\n",
    "p(prime_sum, D3)\n",
    "```\n",
    "\n",
    "Go ahead, please implement `is_prime()`.."
   ]
  },
  {
   "cell_type": "code",
   "execution_count": 21,
   "metadata": {
    "button": false,
    "new_sheet": false,
    "run_control": {
     "read_only": false
    }
   },
   "outputs": [
    {
     "ename": "TypeError",
     "evalue": "unsupported operand type(s) for &: 'function' and 'set'",
     "output_type": "error",
     "traceback": [
      "\u001b[0;31m---------------------------------------------------------------------------\u001b[0m",
      "\u001b[0;31mTypeError\u001b[0m                                 Traceback (most recent call last)",
      "\u001b[0;32m<ipython-input-21-d81fd56dbd68>\u001b[0m in \u001b[0;36m<module>\u001b[0;34m\u001b[0m\n\u001b[1;32m      5\u001b[0m \u001b[0;32mdef\u001b[0m \u001b[0mis_prime\u001b[0m\u001b[0;34m(\u001b[0m\u001b[0mn\u001b[0m\u001b[0;34m)\u001b[0m\u001b[0;34m:\u001b[0m \u001b[0;32mreturn\u001b[0m \u001b[0;34m...\u001b[0m  \u001b[0;31m# implement is_prime()!\u001b[0m\u001b[0;34m\u001b[0m\u001b[0m\n\u001b[1;32m      6\u001b[0m \u001b[0;34m\u001b[0m\u001b[0m\n\u001b[0;32m----> 7\u001b[0;31m \u001b[0mp\u001b[0m\u001b[0;34m(\u001b[0m\u001b[0mprime_sum\u001b[0m\u001b[0;34m,\u001b[0m \u001b[0mD3\u001b[0m\u001b[0;34m)\u001b[0m\u001b[0;34m\u001b[0m\u001b[0m\n\u001b[0m",
      "\u001b[0;32m<ipython-input-6-1226d2b31e51>\u001b[0m in \u001b[0;36mp\u001b[0;34m(event, space)\u001b[0m\n\u001b[1;32m      2\u001b[0m \u001b[0;32mdef\u001b[0m \u001b[0mp\u001b[0m\u001b[0;34m(\u001b[0m\u001b[0mevent\u001b[0m\u001b[0;34m,\u001b[0m \u001b[0mspace\u001b[0m\u001b[0;34m)\u001b[0m\u001b[0;34m:\u001b[0m\u001b[0;34m\u001b[0m\u001b[0m\n\u001b[1;32m      3\u001b[0m     \u001b[0;34m\"The probability of an event, given a sample space of equiprobable outcomes.\"\u001b[0m\u001b[0;34m\u001b[0m\u001b[0m\n\u001b[0;32m----> 4\u001b[0;31m     return Fraction(len(event & space), \n\u001b[0m\u001b[1;32m      5\u001b[0m                     len(space))\n\u001b[1;32m      6\u001b[0m \u001b[0;34m\u001b[0m\u001b[0m\n",
      "\u001b[0;31mTypeError\u001b[0m: unsupported operand type(s) for &: 'function' and 'set'"
     ]
    }
   ],
   "source": [
    "D3 = {(d1, d2, d3) for d1 in D for d2 in D for d3 in D}\n",
    "\n",
    "def prime_sum(outcome): return is_prime(sum(outcome))\n",
    "\n",
    "def is_prime(n): return ...  # implement is_prime()!\n",
    "\n",
    "p(prime_sum, D3)"
   ]
  },
  {
   "cell_type": "markdown",
   "metadata": {},
   "source": [
    "# Conclusion of Week 3, Lecture 1\n",
    "We talked about **frequentist** and **Bayesian** statistics, defined each, and took a first peek at **Bayes' Theorem**, a pillar of Data Science. **Probabilities** is all about *counting*: What's the number of alternate (quantum) universes that can exist? How many universes does Lews Hamilton win the F1 championship in? How many universes does Fernando Alonso win the F1 championship in? Computers are essentially counting machines. So we built a counting framework to let computers do the counting for us. Use it to have an idea which driver to place your bet on!\n",
    "\n",
    "We'll continue this lab next week. In the meantime, make sure you understand everything we did in this notebook, because our data science will get more complicated.\n",
    "\n",
    "<br />\n",
    "<center>\n",
    "    <img src=\"ipynb.images/complicated.jpg\" width=400 />**Complicated**</a><br>unknown artist\n",
    "</center>"
   ]
  },
  {
   "cell_type": "markdown",
   "metadata": {},
   "source": [
    "# Homework for next week\n",
    "\n",
    "<br />\n",
    "<center>\n",
    "    <img src=\"ipynb.images/f1races.png\" width=800 />\n",
    "</center>\n",
    "\n",
    "Assume there are two F1 races coming up: The Russian Grand Prix this weekend and the Japanese Grand Prix the weekend after. The 2018 driver standings are given [here](https://www.formula1.com/en/results.html/2018/drivers.html). Given these standings (please do not use team standings given on the same Web site, use driver standings), what is the Probability Distribution for each F1 driver to win the Russian Grand Prix? What is the Probability Distribution for each F1 driver to win *both* the Russian and Japanese Grand Prix? What is the probability for Ferrari to win both races? What is the probability for Ferrari to win at least one race? Note that Ferrari, and each other racing team, has two drivers per race."
   ]
  }
 ],
 "metadata": {
  "kernelspec": {
   "display_name": "Python 3",
   "language": "python",
   "name": "python3"
  },
  "language_info": {
   "codemirror_mode": {
    "name": "ipython",
    "version": 3
   },
   "file_extension": ".py",
   "mimetype": "text/x-python",
   "name": "python",
   "nbconvert_exporter": "python",
   "pygments_lexer": "ipython3",
   "version": "3.7.0"
  }
 },
 "nbformat": 4,
 "nbformat_minor": 1
}
