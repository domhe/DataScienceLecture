{
 "cells": [
  {
   "cell_type": "markdown",
   "metadata": {},
   "source": [
    "## 1. Print"
   ]
  },
  {
   "cell_type": "code",
   "execution_count": 1,
   "metadata": {
    "scrolled": true
   },
   "outputs": [
    {
     "name": "stdout",
     "output_type": "stream",
     "text": [
      "Hello World!\n",
      "Hello Again\n"
     ]
    }
   ],
   "source": [
    "# Print\n",
    "print(\"Hello World!\")\n",
    "print(\"Hello Again\")"
   ]
  },
  {
   "cell_type": "code",
   "execution_count": 2,
   "metadata": {},
   "outputs": [],
   "source": [
    "# Q1. Print another line.\n"
   ]
  },
  {
   "cell_type": "code",
   "execution_count": 3,
   "metadata": {},
   "outputs": [
    {
     "name": "stdout",
     "output_type": "stream",
     "text": [
      "But this will.\n",
      "And # this one\n"
     ]
    }
   ],
   "source": [
    "# This is a comment!\n",
    "# print(\"This won't run.\")\n",
    "print(\"But this will.\")\n",
    "print(\"And # this one\")\n",
    "# Note that '#' inside a string will be put into the string until the ending \""
   ]
  },
  {
   "cell_type": "code",
   "execution_count": 4,
   "metadata": {},
   "outputs": [
    {
     "data": {
      "text/plain": [
       "'This is magic!'"
      ]
     },
     "execution_count": 4,
     "metadata": {},
     "output_type": "execute_result"
    }
   ],
   "source": [
    "# In jupyter notebook, the last line will be printed automatically\n",
    "\"This is magic!\""
   ]
  },
  {
   "cell_type": "markdown",
   "metadata": {},
   "source": [
    "## 2. Numbers\n",
    "• +: plus (add)\n",
    "\n",
    "• -: minus (subtract)\n",
    "\n",
    "• /: slash (divide)\n",
    "\n",
    "• *: asterisk (multiply)\n",
    "\n",
    "• %: percent (mod)\n",
    "\n",
    "• <: less-than\n",
    "\n",
    "• >: greater-than\n",
    "\n",
    "• <=: less-than-equal\n",
    "\n",
    "• >=: greater-than-equal"
   ]
  },
  {
   "cell_type": "code",
   "execution_count": 5,
   "metadata": {},
   "outputs": [
    {
     "name": "stdout",
     "output_type": "stream",
     "text": [
      "25 + 30 / 6 =  30.0\n",
      "100 - 25 * 3 % 4 =  97\n",
      "3 + 2 + 1 - 5 + 4 % 2 - 1 / 4 + 6 =  6.75\n"
     ]
    }
   ],
   "source": [
    "print(\"25 + 30 / 6 = \", 25 + 30 / 6)\n",
    "print(\"100 - 25 * 3 % 4 = \", 100 - 25 * 3 % 4)\n",
    "print(\"3 + 2 + 1 - 5 + 4 % 2 - 1 / 4 + 6 = \", 3 + 2 + 1 - 5 + 4 % 2 - 1 / 4 + 6)"
   ]
  },
  {
   "cell_type": "code",
   "execution_count": 6,
   "metadata": {
    "scrolled": true
   },
   "outputs": [
    {
     "name": "stdout",
     "output_type": "stream",
     "text": [
      "3 + 2 < 5 - 7 ?  False\n"
     ]
    }
   ],
   "source": [
    "print(\"3 + 2 < 5 - 7 ? \", 3 + 2 < 5 - 7)"
   ]
  },
  {
   "cell_type": "code",
   "execution_count": 7,
   "metadata": {},
   "outputs": [
    {
     "name": "stdout",
     "output_type": "stream",
     "text": [
      "3^2 =  9\n",
      "4^2 =  16\n"
     ]
    }
   ],
   "source": [
    "print(\"3^2 = \", 3**2)\n",
    "# Alternative\n",
    "print(\"4^2 = \", pow(4, 2))"
   ]
  },
  {
   "cell_type": "code",
   "execution_count": 8,
   "metadata": {},
   "outputs": [
    {
     "name": "stdout",
     "output_type": "stream",
     "text": [
      "Is it greater? True\n",
      "Is it greater or equal? True\n",
      "Is it less or equal? False\n"
     ]
    }
   ],
   "source": [
    "print(\"Is it greater?\", 5 > -2)\n",
    "print(\"Is it greater or equal?\", 5 >= -2)\n",
    "print(\"Is it less or equal?\", 5 <= -2)"
   ]
  },
  {
   "cell_type": "code",
   "execution_count": 9,
   "metadata": {},
   "outputs": [],
   "source": [
    "# Q2. Find something you need to calculate and write a new line to do it!\n"
   ]
  },
  {
   "cell_type": "markdown",
   "metadata": {},
   "source": [
    "## 3. Variables and Strings\n",
    "In programming, a variable is nothing more than a name for something, similar to how my name. Programmers use these variable names to make their code read more like English."
   ]
  },
  {
   "cell_type": "code",
   "execution_count": 10,
   "metadata": {},
   "outputs": [
    {
     "data": {
      "text/plain": [
       "int"
      ]
     },
     "execution_count": 10,
     "metadata": {},
     "output_type": "execute_result"
    }
   ],
   "source": [
    "# Integers is the simplest type. \n",
    "# Integers contain 32 bits (four bytes) and thus range from 0 to  2^32 , \n",
    "# or 0 to 65535 for positive integers, and  −2^31  to  2^31 , \n",
    "# or -32768 to 32767, for signed integers.\n",
    "x = 100\n",
    "type(x)"
   ]
  },
  {
   "cell_type": "code",
   "execution_count": 11,
   "metadata": {},
   "outputs": [
    {
     "data": {
      "text/plain": [
       "1"
      ]
     },
     "execution_count": 11,
     "metadata": {},
     "output_type": "execute_result"
    }
   ],
   "source": [
    "x = int(1.2) # this will take the integer part \n",
    "x"
   ]
  },
  {
   "cell_type": "code",
   "execution_count": 12,
   "metadata": {},
   "outputs": [
    {
     "data": {
      "text/plain": [
       "bool"
      ]
     },
     "execution_count": 12,
     "metadata": {},
     "output_type": "execute_result"
    }
   ],
   "source": [
    "# Bool is used to represent True and False values. \n",
    "# Usually they arise as the result of a logical operation\n",
    "x = True\n",
    "type(x)"
   ]
  },
  {
   "cell_type": "code",
   "execution_count": 13,
   "metadata": {},
   "outputs": [
    {
     "name": "stdout",
     "output_type": "stream",
     "text": [
      "True\n",
      "<class 'bool'>\n"
     ]
    }
   ],
   "source": [
    "# True is actually equal to 1\n",
    "print(x == 1)\n",
    "print(type(x))"
   ]
  },
  {
   "cell_type": "code",
   "execution_count": 14,
   "metadata": {},
   "outputs": [
    {
     "data": {
      "text/plain": [
       "3"
      ]
     },
     "execution_count": 14,
     "metadata": {},
     "output_type": "execute_result"
    }
   ],
   "source": [
    "sum([x,x,x,0])"
   ]
  },
  {
   "cell_type": "code",
   "execution_count": 15,
   "metadata": {},
   "outputs": [
    {
     "data": {
      "text/plain": [
       "3.0"
      ]
     },
     "execution_count": 15,
     "metadata": {},
     "output_type": "execute_result"
    }
   ],
   "source": [
    "# = is called (equals) to give data a name!\n",
    "cars = 100\n",
    "space_in_a_car = 4.0\n",
    "drivers = 30\n",
    "passengers = 90\n",
    "cars_not_driven = cars - drivers\n",
    "cars_driven = drivers\n",
    "carpool_capacity = cars_driven * space_in_a_car\n",
    "average_passengers_per_car = passengers / cars_driven\n",
    "average_passengers_per_car"
   ]
  },
  {
   "cell_type": "code",
   "execution_count": 16,
   "metadata": {},
   "outputs": [
    {
     "name": "stdout",
     "output_type": "stream",
     "text": [
      "There are 100 cars available.\n",
      "There are only 30 drivers available.\n",
      "There will be 70 empty cars today.\n",
      "We can transport 120.0 people today.\n",
      "We have 90 to carpool today.\n"
     ]
    }
   ],
   "source": [
    "print(\"There are\", cars, \"cars available.\")\n",
    "print(\"There are only\", drivers, \"drivers available.\")\n",
    "print(\"There will be\", cars_not_driven, \"empty cars today.\")\n",
    "print(\"We can transport\", carpool_capacity, \"people today.\")\n",
    "print(\"We have\", passengers, \"to carpool today.\")"
   ]
  },
  {
   "cell_type": "code",
   "execution_count": 17,
   "metadata": {},
   "outputs": [
    {
     "ename": "NameError",
     "evalue": "name 'average_passengers_per_ca' is not defined",
     "output_type": "error",
     "traceback": [
      "\u001b[1;31m---------------------------------------------------------------------------\u001b[0m",
      "\u001b[1;31mNameError\u001b[0m                                 Traceback (most recent call last)",
      "\u001b[1;32m<ipython-input-17-1e691b4136c5>\u001b[0m in \u001b[0;36m<module>\u001b[1;34m\u001b[0m\n\u001b[0;32m      1\u001b[0m \u001b[1;31m# Q3. Typo error in this line, fix it!\u001b[0m\u001b[1;33m\u001b[0m\u001b[1;33m\u001b[0m\u001b[1;33m\u001b[0m\u001b[0m\n\u001b[0;32m      2\u001b[0m \u001b[1;31m# NameError: name 'average_passengers_per_ca' is not defined\u001b[0m\u001b[1;33m\u001b[0m\u001b[1;33m\u001b[0m\u001b[1;33m\u001b[0m\u001b[0m\n\u001b[1;32m----> 3\u001b[1;33m \u001b[0mprint\u001b[0m\u001b[1;33m(\u001b[0m\u001b[1;34m\"We need to put about\"\u001b[0m\u001b[1;33m,\u001b[0m \u001b[0maverage_passengers_per_ca\u001b[0m\u001b[1;33m,\u001b[0m \u001b[1;34m\"in each car.\"\u001b[0m\u001b[1;33m)\u001b[0m\u001b[1;33m\u001b[0m\u001b[1;33m\u001b[0m\u001b[0m\n\u001b[0m",
      "\u001b[1;31mNameError\u001b[0m: name 'average_passengers_per_ca' is not defined"
     ]
    }
   ],
   "source": [
    "# Q3. Typo error in this line, fix it!\n",
    "# NameError: name 'average_passengers_per_ca' is not defined\n",
    "print(\"We need to put about\", average_passengers_per_ca, \"in each car.\")"
   ]
  },
  {
   "cell_type": "markdown",
   "metadata": {},
   "source": [
    "##### Strings!"
   ]
  },
  {
   "cell_type": "code",
   "execution_count": 16,
   "metadata": {},
   "outputs": [
    {
     "data": {
      "text/plain": [
       "30"
      ]
     },
     "execution_count": 16,
     "metadata": {},
     "output_type": "execute_result"
    }
   ],
   "source": [
    "# Declare a string like this\n",
    "sentence = \"It's the end of the hurricane.\"\n",
    "# And get the length!\n",
    "len(sentence)"
   ]
  },
  {
   "cell_type": "code",
   "execution_count": 17,
   "metadata": {},
   "outputs": [
    {
     "data": {
      "text/plain": [
       "'i'"
      ]
     },
     "execution_count": 17,
     "metadata": {},
     "output_type": "execute_result"
    }
   ],
   "source": [
    "# A string can be treated like a list of characters\n",
    "\"This is a string\"[2] # => i"
   ]
  },
  {
   "cell_type": "code",
   "execution_count": 18,
   "metadata": {},
   "outputs": [
    {
     "data": {
      "text/plain": [
       "'This is a'"
      ]
     },
     "execution_count": 18,
     "metadata": {},
     "output_type": "execute_result"
    }
   ],
   "source": [
    "# [start : stop : step] is called slicing. \n",
    "# it returns a slice object representing the set of indices specified by range(start, stop, step).\n",
    "\"This is a string\"[0:9]"
   ]
  },
  {
   "cell_type": "code",
   "execution_count": 19,
   "metadata": {},
   "outputs": [
    {
     "data": {
      "text/plain": [
       "'Ti sa'"
      ]
     },
     "execution_count": 19,
     "metadata": {},
     "output_type": "execute_result"
    }
   ],
   "source": [
    "\"This is a string\"[0:9:2] # step of 2"
   ]
  },
  {
   "cell_type": "code",
   "execution_count": 20,
   "metadata": {},
   "outputs": [
    {
     "data": {
      "text/plain": [
       "'gnirts a si sihT'"
      ]
     },
     "execution_count": 20,
     "metadata": {},
     "output_type": "execute_result"
    }
   ],
   "source": [
    "# If we specify a step of -1, \n",
    "# we start from the end and go to the start. \n",
    "# That's because python strings are circular:\n",
    "\"This is a string\"[::-1]"
   ]
  },
  {
   "cell_type": "code",
   "execution_count": 21,
   "metadata": {},
   "outputs": [
    {
     "data": {
      "text/plain": [
       "'This is a strin'"
      ]
     },
     "execution_count": 21,
     "metadata": {},
     "output_type": "execute_result"
    }
   ],
   "source": [
    "# If we write sentence [:-1], \n",
    "# this returns all elements [:] except the last one: -1. \n",
    "# So this should drop the 'g' at the end of the sentence.\n",
    "\"This is a string\"[:-1]"
   ]
  },
  {
   "cell_type": "raw",
   "metadata": {},
   "source": [
    "One way to remember how slices work is to think of the indices as pointing between characters, with the left edge of the first character numbered 0. Then the right edge of the last character of a string of n characters has index n. For example:\n",
    "+---+---+---+---+---+---+\n",
    "| P | y | t | h | o | n |\n",
    "+---+---+---+---+---+---+\n",
    "0___1___2___3___4___5___6\n",
    "-6__-5__-4__-3__-2__-1___"
   ]
  },
  {
   "cell_type": "code",
   "execution_count": 22,
   "metadata": {},
   "outputs": [
    {
     "data": {
      "text/plain": [
       "'tho'"
      ]
     },
     "execution_count": 22,
     "metadata": {},
     "output_type": "execute_result"
    }
   ],
   "source": [
    "\"Python\"[2:-1]"
   ]
  },
  {
   "cell_type": "code",
   "execution_count": 23,
   "metadata": {},
   "outputs": [
    {
     "name": "stdout",
     "output_type": "stream",
     "text": [
      "THIS IS A STRING\n",
      "this is a string\n"
     ]
    }
   ],
   "source": [
    "# Print upper case\n",
    "print(\"This is a string\".upper())\n",
    "# Print lower case\n",
    "print(\"This is a string\".lower())"
   ]
  },
  {
   "cell_type": "code",
   "execution_count": 25,
   "metadata": {},
   "outputs": [
    {
     "name": "stdout",
     "output_type": "stream",
     "text": [
      "True\n",
      "False\n",
      "False\n",
      "True\n"
     ]
    }
   ],
   "source": [
    "# Test if the string starts with ...\n",
    "print(\"This is a string\".startswith('This'))\n",
    "print(\"This is a string\".startswith('g'))\n",
    "# Test if the string ends with ...\n",
    "print(\"This is a string\".endswith('.'))\n",
    "print(\"This is a string\".endswith('g'))"
   ]
  },
  {
   "cell_type": "code",
   "execution_count": 27,
   "metadata": {},
   "outputs": [
    {
     "data": {
      "text/plain": [
       "'3.14'"
      ]
     },
     "execution_count": 27,
     "metadata": {},
     "output_type": "execute_result"
    }
   ],
   "source": [
    "# Convert ints, floats type to string\n",
    "str(3.14)"
   ]
  },
  {
   "cell_type": "code",
   "execution_count": 26,
   "metadata": {},
   "outputs": [
    {
     "name": "stdout",
     "output_type": "stream",
     "text": [
      "Let's talk about Yibei.\n",
      "He's 24 years old.\n",
      "He studies at Northeastern University.\n"
     ]
    }
   ],
   "source": [
    "# You embed variables inside a string by using a special {} sequence and then put the variable you want inside the {} characters.\n",
    "# You also must start the string with the letter f for “format”.\n",
    "my_name = 'Yibei'\n",
    "my_age = 24\n",
    "my_school = 'Northeastern University'\n",
    "\n",
    "print(f\"Let's talk about {my_name}.\")\n",
    "print(f\"He's {my_age} years old.\")\n",
    "print(f\"He studies at {my_school}.\")"
   ]
  },
  {
   "cell_type": "code",
   "execution_count": 27,
   "metadata": {},
   "outputs": [
    {
     "name": "stdout",
     "output_type": "stream",
     "text": [
      "This is the left side of...a string with a right side.\n"
     ]
    }
   ],
   "source": [
    "# Concatenate two strings like this...\n",
    "w = \"This is the left side of...\"\n",
    "e = \"a string with a right side.\"\n",
    "print(w + e)"
   ]
  },
  {
   "cell_type": "code",
   "execution_count": 28,
   "metadata": {
    "scrolled": true
   },
   "outputs": [
    {
     "data": {
      "text/plain": [
       "'This is the left side of...#a string with a right side.'"
      ]
     },
     "execution_count": 28,
     "metadata": {},
     "output_type": "execute_result"
    }
   ],
   "source": [
    "\"#\".join([w, e]) # [w, e]is a list with two elements (separated by a ,)"
   ]
  },
  {
   "cell_type": "code",
   "execution_count": 29,
   "metadata": {},
   "outputs": [
    {
     "name": "stdout",
     "output_type": "stream",
     "text": [
      "The answer is 42\n",
      "The answer is 42.00\n"
     ]
    }
   ],
   "source": [
    "# one way to format the string\n",
    "a = 42\n",
    "print(\"The answer is %s\" % ( a ))\n",
    "print(\"The answer is %4.2f\" % ( a )) # Means"
   ]
  },
  {
   "cell_type": "code",
   "execution_count": 30,
   "metadata": {
    "scrolled": true
   },
   "outputs": [
    {
     "name": "stdout",
     "output_type": "stream",
     "text": [
      "coldcoldcoldcoldcoldcoldcoldcoldcoldcold\n"
     ]
    }
   ],
   "source": [
    "# Use *\n",
    "print(\"cold\" * 10) # what'd that do?"
   ]
  },
  {
   "cell_type": "markdown",
   "metadata": {},
   "source": [
    "#### Another example for formatter\n",
    "1. Take the formatter string defined on the first line.\n",
    "\n",
    "2. Call its format function, which is similar to telling it to do a command line command named format.\n",
    "\n",
    "3. Pass to format four arguments, which match up with the four {}s in the formatter variable. This is like passing arguments to the command line command format.\n",
    "\n",
    "4. The result of calling format on formatter is a new string that has the {} replaced with the four variables. This is what print is now printing out."
   ]
  },
  {
   "cell_type": "code",
   "execution_count": 31,
   "metadata": {},
   "outputs": [
    {
     "name": "stdout",
     "output_type": "stream",
     "text": [
      "replace\n",
      "Python is easy!\n"
     ]
    }
   ],
   "source": [
    "print(\"{}\".format(\"replace\"))\n",
    "print(\"{} is {}\".format(\"Python\", \"easy!\"))"
   ]
  },
  {
   "cell_type": "code",
   "execution_count": 32,
   "metadata": {},
   "outputs": [
    {
     "name": "stdout",
     "output_type": "stream",
     "text": [
      "1 2 3 4\n",
      "one two three four\n",
      "True False False True\n",
      "{} {} {} {} {} {} {} {} {} {} {} {} {} {} {} {}\n"
     ]
    }
   ],
   "source": [
    "formatter = \"{} {} {} {}\"\n",
    "print(formatter.format(1, 2, 3, 4))\n",
    "print(formatter.format(\"one\", \"two\", \"three\", \"four\"))\n",
    "print(formatter.format(True, False, False, True))\n",
    "print(formatter.format(formatter, formatter, formatter, formatter))"
   ]
  },
  {
   "cell_type": "markdown",
   "metadata": {},
   "source": [
    "#### Line Break!\n",
    "1. Use \"\\n\" (new line character)\n",
    "    This \\ (backslash) character encodes difficult-to-type characters into a string. There are various escape sequences available for different characters you might want to use.\n",
    "2. Use \"\"\"something\"\"\""
   ]
  },
  {
   "cell_type": "code",
   "execution_count": 8,
   "metadata": {},
   "outputs": [
    {
     "name": "stdout",
     "output_type": "stream",
     "text": [
      "Here are the months: Jan\n",
      "Feb\n",
      "Mar\n",
      "Apr\n",
      "May\n",
      "Jun\n",
      "Jul\n",
      "Aug\n"
     ]
    }
   ],
   "source": [
    "months = \"Jan\\nFeb\\nMar\\nApr\\nMay\\nJun\\nJul\\nAug\"\n",
    "print(\"Here are the months:\",months)"
   ]
  },
  {
   "cell_type": "code",
   "execution_count": 35,
   "metadata": {},
   "outputs": [
    {
     "name": "stdout",
     "output_type": "stream",
     "text": [
      "\n",
      "There's something going on here...\n",
      "We'll be able to type as much as we like.\n",
      "With the three double-quotes.\n",
      "\n"
     ]
    }
   ],
   "source": [
    "print(\"\"\"\n",
    "There's something going on here...\n",
    "We'll be able to type as much as we like.\n",
    "With the three double-quotes.\n",
    "\"\"\")"
   ]
  },
  {
   "cell_type": "code",
   "execution_count": 9,
   "metadata": {},
   "outputs": [
    {
     "name": "stdout",
     "output_type": "stream",
     "text": [
      "\n",
      "There's something going on here...\n",
      "We'll be able to type as much as we like.\n",
      "With the three double-quotes.\n",
      "\n"
     ]
    }
   ],
   "source": [
    "# We can still use the format!\n",
    "print(\"\"\"\n",
    "There's something going on here...\n",
    "We'll be able to type as much as we like.\n",
    "With the {} double-quotes.\n",
    "\"\"\".format(\"three\"))"
   ]
  },
  {
   "cell_type": "markdown",
   "metadata": {},
   "source": [
    " An important escape sequence is to escape a single-quote (') or double-quote (\"). Imagine you have a string that uses double-quotes and you want to put a double-quote inside the string. If you write \"I \"understand\" joe.\" then Python will get confused because it will think the double-quotes around \"understand\" actually ends the string. You need a way to tell Python that the double-quote inside the string isn’t a real double-quote."
   ]
  },
  {
   "cell_type": "code",
   "execution_count": 36,
   "metadata": {},
   "outputs": [
    {
     "data": {
      "text/plain": [
       "'I am 6\\'2\" tall.'"
      ]
     },
     "execution_count": 36,
     "metadata": {},
     "output_type": "execute_result"
    }
   ],
   "source": [
    "\"I am 6'2\\\" tall.\"  # escape double-quote inside double-quote string"
   ]
  },
  {
   "cell_type": "code",
   "execution_count": 37,
   "metadata": {},
   "outputs": [
    {
     "data": {
      "text/plain": [
       "'I am 6\\'2\" tall.'"
      ]
     },
     "execution_count": 37,
     "metadata": {},
     "output_type": "execute_result"
    }
   ],
   "source": [
    "'I am 6\\'2\" tall.'  # escape single-quote inside single-quote string"
   ]
  },
  {
   "cell_type": "markdown",
   "metadata": {},
   "source": [
    "See here for more escape sequences:\n",
    "http://python-ds.com/python-3-escape-sequences"
   ]
  },
  {
   "cell_type": "markdown",
   "metadata": {},
   "source": [
    "### 4. Functions\n",
    "You can create a function by using the word def in Python.\n",
    "1. We tell Python we want to make a function using def for “define.”\n",
    "2. On the same line as def we give the function a name. In this case we just called it “print_two,” but it could also be \"Cat\". It doesn’t matter, except that your function should have a short name that says what it does.\n",
    "3. We tell it we want *args (asterisk args), which means variable number of arguments. This has to go inside parentheses to work.\n",
    "4. We end this line with a : (colon) and start indenting.\n",
    "5. After the colon, all the lines that are indented four spaces will become attached to print_two. Our first indented line is one that unpacks the arguments, the same as with your scripts.\n",
    "6. To demonstrate how it works we print these arguments out, just like we would in a script."
   ]
  },
  {
   "cell_type": "code",
   "execution_count": 10,
   "metadata": {},
   "outputs": [],
   "source": [
    "# Takes any number of arguments\n",
    "def print_two(*args):\n",
    "    arg1, arg2 = args\n",
    "    print(f\"arg1: {arg1}, arg2: {arg2}\")\n",
    "# Takes two arguments\n",
    "def print_two_again(arg1, arg2):\n",
    "    print(f\"arg1: {arg1}, arg2: {arg2}\")\n",
    "# Takes just one arguments\n",
    "def print_one(arg1):\n",
    "    print(f\"arg1: {arg1}\")\n",
    "# Takes no arguments\n",
    "def print_none():\n",
    "    print(\"I am so sad. I got nothing!\")"
   ]
  },
  {
   "cell_type": "code",
   "execution_count": 11,
   "metadata": {},
   "outputs": [
    {
     "name": "stdout",
     "output_type": "stream",
     "text": [
      "arg1: Rui, arg2: Wensi\n",
      "arg1: Rui, arg2: Wensi\n",
      "arg1: Nakita\n",
      "I am so sad. I got nothing!\n"
     ]
    }
   ],
   "source": [
    "print_two(\"Rui\", \"Wensi\")\n",
    "print_two_again(\"Rui\", \"Wensi\")\n",
    "print_one(\"Nakita\")\n",
    "print_none()"
   ]
  },
  {
   "cell_type": "code",
   "execution_count": 17,
   "metadata": {},
   "outputs": [
    {
     "name": "stdout",
     "output_type": "stream",
     "text": [
      "1\n"
     ]
    }
   ],
   "source": [
    "print_two(\"1\",\"2\",\"3\")"
   ]
  },
  {
   "cell_type": "code",
   "execution_count": 18,
   "metadata": {},
   "outputs": [
    {
     "name": "stdout",
     "output_type": "stream",
     "text": [
      "1\n",
      "2\n"
     ]
    }
   ],
   "source": [
    "def print_two2(*args):\n",
    "    print(args[0])\n",
    "    print(args[1])\n",
    "print_two2(\"1\",\"2\",\"3\")"
   ]
  },
  {
   "cell_type": "code",
   "execution_count": 40,
   "metadata": {},
   "outputs": [
    {
     "name": "stdout",
     "output_type": "stream",
     "text": [
      "We can just give the function numbers directly:\n",
      "You have 20 cats!\n",
      "You also have 30 dogs!\n",
      "You must be a really great person!\n",
      "\n",
      "OR, we can use variables from our script:\n",
      "You have 10 cats!\n",
      "You also have 50 dogs!\n",
      "You must be a really great person!\n",
      "\n",
      "We can even do math inside too:\n",
      "You have 30 cats!\n",
      "You also have 11 dogs!\n",
      "You must be a really great person!\n",
      "\n",
      "And we can combine the two, variables and math:\n",
      "You have 110 cats!\n",
      "You also have 1050 dogs!\n",
      "You must be a really great person!\n",
      "\n"
     ]
    }
   ],
   "source": [
    "def cat_and_dogs(cat_count, dog_count):\n",
    "    print(f\"You have {cat_count} cats!\")\n",
    "    print(f\"You also have {dog_count} dogs!\")\n",
    "    print(\"You must be a really great person!\\n\")\n",
    "\n",
    "print(\"We can just give the function numbers directly:\")\n",
    "cat_and_dogs(20, 30)\n",
    "\n",
    "\n",
    "print(\"OR, we can use variables from our script:\")\n",
    "amount_of_cat = 10\n",
    "amount_of_dog = 50\n",
    "\n",
    "cat_and_dogs(amount_of_cat, amount_of_dog)\n",
    "\n",
    "\n",
    "print(\"We can even do math inside too:\")\n",
    "cat_and_dogs(10 + 20, 5 + 6)\n",
    "\n",
    "\n",
    "print(\"And we can combine the two, variables and math:\")\n",
    "cat_and_dogs(amount_of_cat + 100, amount_of_dog + 1000)"
   ]
  },
  {
   "cell_type": "code",
   "execution_count": 41,
   "metadata": {},
   "outputs": [],
   "source": [
    "# Q4. Write a function of your own design, and run it 3 different ways.\n"
   ]
  },
  {
   "cell_type": "markdown",
   "metadata": {},
   "source": [
    "##### Function with returns"
   ]
  },
  {
   "cell_type": "code",
   "execution_count": 42,
   "metadata": {},
   "outputs": [],
   "source": [
    "def add(a, b):\n",
    "    print(f\"Adding {a} and {b}\")\n",
    "    return a + b"
   ]
  },
  {
   "cell_type": "code",
   "execution_count": 43,
   "metadata": {},
   "outputs": [],
   "source": [
    "# Q5. Write functions for subtract, multiply and divide\n",
    "def subtract(a, b):\n",
    "    ...\n",
    "def multiply(a, b):\n",
    "    ...\n",
    "def divide(a, b):\n",
    "    ..."
   ]
  },
  {
   "cell_type": "code",
   "execution_count": 44,
   "metadata": {},
   "outputs": [
    {
     "name": "stdout",
     "output_type": "stream",
     "text": [
      "Adding 20 and 4\n"
     ]
    }
   ],
   "source": [
    "# Call the functions like this!\n",
    "a1 = add(20, 4)\n",
    "a2 = subtract(70, 6)\n",
    "a3 = multiply(30, 2)\n",
    "a4 = divide(100, 2)"
   ]
  },
  {
   "cell_type": "code",
   "execution_count": 48,
   "metadata": {},
   "outputs": [
    {
     "name": "stdout",
     "output_type": "stream",
     "text": [
      "Adding 10 and None\n"
     ]
    },
    {
     "ename": "TypeError",
     "evalue": "unsupported operand type(s) for +: 'int' and 'NoneType'",
     "output_type": "error",
     "traceback": [
      "\u001b[1;31m---------------------------------------------------------------------------\u001b[0m",
      "\u001b[1;31mTypeError\u001b[0m                                 Traceback (most recent call last)",
      "\u001b[1;32m<ipython-input-48-5fe73aec90f9>\u001b[0m in \u001b[0;36m<module>\u001b[1;34m\u001b[0m\n\u001b[0;32m      1\u001b[0m \u001b[1;31m# Try to figure this out!\u001b[0m\u001b[1;33m\u001b[0m\u001b[1;33m\u001b[0m\u001b[1;33m\u001b[0m\u001b[0m\n\u001b[1;32m----> 2\u001b[1;33m \u001b[0mwhat\u001b[0m \u001b[1;33m=\u001b[0m \u001b[0madd\u001b[0m\u001b[1;33m(\u001b[0m\u001b[1;36m10\u001b[0m\u001b[1;33m,\u001b[0m \u001b[0msubtract\u001b[0m\u001b[1;33m(\u001b[0m\u001b[1;36m20\u001b[0m\u001b[1;33m,\u001b[0m \u001b[0mmultiply\u001b[0m\u001b[1;33m(\u001b[0m\u001b[1;36m50\u001b[0m\u001b[1;33m,\u001b[0m \u001b[0mdivide\u001b[0m\u001b[1;33m(\u001b[0m\u001b[1;36m180\u001b[0m\u001b[1;33m,\u001b[0m \u001b[1;36m2\u001b[0m\u001b[1;33m)\u001b[0m\u001b[1;33m)\u001b[0m\u001b[1;33m)\u001b[0m\u001b[1;33m)\u001b[0m\u001b[1;33m\u001b[0m\u001b[1;33m\u001b[0m\u001b[0m\n\u001b[0m",
      "\u001b[1;32m<ipython-input-42-2dbe7e38e60b>\u001b[0m in \u001b[0;36madd\u001b[1;34m(a, b)\u001b[0m\n\u001b[0;32m      1\u001b[0m \u001b[1;32mdef\u001b[0m \u001b[0madd\u001b[0m\u001b[1;33m(\u001b[0m\u001b[0ma\u001b[0m\u001b[1;33m,\u001b[0m \u001b[0mb\u001b[0m\u001b[1;33m)\u001b[0m\u001b[1;33m:\u001b[0m\u001b[1;33m\u001b[0m\u001b[1;33m\u001b[0m\u001b[0m\n\u001b[0;32m      2\u001b[0m     \u001b[0mprint\u001b[0m\u001b[1;33m(\u001b[0m\u001b[1;34mf\"Adding {a} and {b}\"\u001b[0m\u001b[1;33m)\u001b[0m\u001b[1;33m\u001b[0m\u001b[1;33m\u001b[0m\u001b[0m\n\u001b[1;32m----> 3\u001b[1;33m     \u001b[1;32mreturn\u001b[0m \u001b[0ma\u001b[0m \u001b[1;33m+\u001b[0m \u001b[0mb\u001b[0m\u001b[1;33m\u001b[0m\u001b[1;33m\u001b[0m\u001b[0m\n\u001b[0m",
      "\u001b[1;31mTypeError\u001b[0m: unsupported operand type(s) for +: 'int' and 'NoneType'"
     ]
    }
   ],
   "source": [
    "# Try to figure this out!\n",
    "what = add(10, subtract(20, multiply(50, divide(180, 2))))"
   ]
  },
  {
   "cell_type": "code",
   "execution_count": 49,
   "metadata": {},
   "outputs": [],
   "source": [
    "def break_words(stuff):\n",
    "    \"\"\"Takes in a full sentences and return separated words\"\"\"\n",
    "    words = stuff.split(' ')\n",
    "    return words\n",
    "def sort_words(stuff):\n",
    "    \"\"\"Sorts the words\"\"\"\n",
    "    return sorted(words)"
   ]
  },
  {
   "cell_type": "code",
   "execution_count": 50,
   "metadata": {},
   "outputs": [
    {
     "data": {
      "text/plain": [
       "Ellipsis"
      ]
     },
     "execution_count": 50,
     "metadata": {},
     "output_type": "execute_result"
    }
   ],
   "source": [
    "# Q6. Complete this function using the two functions above\n",
    "some_string = \"I want a dog and two cats\"\n",
    "def sort_sentence(sentence):\n",
    "    \"\"\"Takes in a full sentence and returns the sorted words.\"\"\"\n",
    "    words = ...\n",
    "    return ...\n",
    "sort_sentence(some_string)"
   ]
  },
  {
   "cell_type": "markdown",
   "metadata": {},
   "source": [
    "    Functions can have positional as well as keyword arguments (with defaults, can be None if that's allowed / tested)\n",
    "\n",
    "    Positional arguments must always come before keyword arguments"
   ]
  },
  {
   "cell_type": "code",
   "execution_count": 33,
   "metadata": {},
   "outputs": [
    {
     "data": {
      "text/plain": [
       "25000.0"
      ]
     },
     "execution_count": 33,
     "metadata": {},
     "output_type": "execute_result"
    }
   ],
   "source": [
    "def some_function(a,b,c=5,d=1e3): \n",
    "    res = (a + b) * c * d\n",
    "    return res\n",
    "some_function(2,3)"
   ]
  },
  {
   "cell_type": "code",
   "execution_count": 34,
   "metadata": {
    "scrolled": true
   },
   "outputs": [
    {
     "data": {
      "text/plain": [
       "0.25"
      ]
     },
     "execution_count": 34,
     "metadata": {},
     "output_type": "execute_result"
    }
   ],
   "source": [
    "some_function(2, 3, c=5, d=0.01)"
   ]
  },
  {
   "cell_type": "code",
   "execution_count": 53,
   "metadata": {},
   "outputs": [
    {
     "name": "stdout",
     "output_type": "stream",
     "text": [
      "(2, 3, 2)\n",
      "<class 'tuple'>\n",
      "3 4 6\n"
     ]
    }
   ],
   "source": [
    "# Function with more than one outputs\n",
    "def some_function(a, b): \n",
    "    return a+1, b+1, a*b\n",
    "print(some_function(1,2))\n",
    "\n",
    "# And the result is a tuple!\n",
    "# tuple is like a list, but you can't modify the elements in it!\n",
    "print(type(some_function(1,2)))\n",
    "\n",
    "# Also you can have correct number of variables to catch the outputs\n",
    "a,b,c = some_function(2,3)\n",
    "print(a, b, c)"
   ]
  },
  {
   "cell_type": "code",
   "execution_count": 39,
   "metadata": {},
   "outputs": [
    {
     "name": "stdout",
     "output_type": "stream",
     "text": [
      "<class 'tuple'>\n",
      "1 2 3\n"
     ]
    }
   ],
   "source": [
    "print(type((1, 2, 3)))\n",
    "a, b, c = (1, 2, 3)\n",
    "print(a, b, c)"
   ]
  },
  {
   "cell_type": "code",
   "execution_count": 41,
   "metadata": {},
   "outputs": [
    {
     "ename": "ValueError",
     "evalue": "not enough values to unpack (expected 4, got 3)",
     "output_type": "error",
     "traceback": [
      "\u001b[1;31m---------------------------------------------------------------------------\u001b[0m",
      "\u001b[1;31mValueError\u001b[0m                                Traceback (most recent call last)",
      "\u001b[1;32m<ipython-input-41-131a37f8752f>\u001b[0m in \u001b[0;36m<module>\u001b[1;34m\u001b[0m\n\u001b[1;32m----> 1\u001b[1;33m \u001b[0ma\u001b[0m\u001b[1;33m,\u001b[0m \u001b[0mb\u001b[0m\u001b[1;33m,\u001b[0m \u001b[0mc\u001b[0m\u001b[1;33m,\u001b[0m \u001b[0md\u001b[0m\u001b[1;33m=\u001b[0m \u001b[1;33m(\u001b[0m\u001b[1;36m1\u001b[0m\u001b[1;33m,\u001b[0m \u001b[1;36m2\u001b[0m\u001b[1;33m,\u001b[0m \u001b[1;36m3\u001b[0m\u001b[1;33m)\u001b[0m\u001b[1;33m\u001b[0m\u001b[1;33m\u001b[0m\u001b[0m\n\u001b[0m",
      "\u001b[1;31mValueError\u001b[0m: not enough values to unpack (expected 4, got 3)"
     ]
    }
   ],
   "source": [
    "# If the number of variables doesn't match the number of elements in the tuple \n",
    "# A ValueError is all you can get\n",
    "# Don't do this!\n",
    "a, b, c, d= (1, 2, 3)\n",
    "a, b = (1, 2, 3)"
   ]
  },
  {
   "cell_type": "markdown",
   "metadata": {},
   "source": [
    "### 5. Logic\n",
    "In Python we have the following terms (characters and phrases) for determining if something is “True” or “False.” Logic on a computer is all about seeing if some combination of these characters and some variables is True at that point in the program.\n",
    "\n",
    "• and\n",
    "\n",
    "• or\n",
    "\n",
    "• not\n",
    "\n",
    "• != (not equal)\n",
    "\n",
    "• == (equal)\n",
    "\n",
    "• >= (greater-than-equal)\n",
    "\n",
    "• <= (less-than-equal)\n",
    "\n",
    "• True\n",
    "\n",
    "• False"
   ]
  },
  {
   "cell_type": "code",
   "execution_count": 42,
   "metadata": {},
   "outputs": [],
   "source": [
    "# Q7. Try to understand these logic problems\n",
    "# 1. True and True\n",
    "# 2. False and True\n",
    "# 3. 1 == 1 and 2 == 1\n",
    "# 4. \"test\" == \"test\"\n",
    "# 5. 1 == 1 or 2 != 1\n",
    "# 6. True and 1 == 1\n",
    "# 7. False and 0 != 0\n",
    "# 8. True or 1 == 1\n",
    "# 9. \"test\" == \"testing\"\n",
    "# 10. 1 != 0 and 2 == 1\n",
    "# 11. \"test\" != \"testing\"\n",
    "# 12. \"test\" == 1\n",
    "# 13. not (True and False)\n",
    "# 14. not (1 == 1 and 0 != 1)\n",
    "# 15. not (10 == 1 or 1000 == 1000)\n",
    "# 16. not (1 != 10 or 3 == 4)\n",
    "# 17. not (\"testing\" == \"testing\" and \"I\" == \"Cool Guy\")\n",
    "# 18. 1 == 1 and (not (\"testing\" == 1 or 1 == 0))\n",
    "# 19. \"chunky\" == \"bacon\" and (not (3 == 4 or 3 == 3))\n",
    "# 20. 3 == 3 and (not (\"testing\" == \"testing\" or \"Python\" == \"Fun\"))\n"
   ]
  },
  {
   "cell_type": "code",
   "execution_count": 43,
   "metadata": {},
   "outputs": [
    {
     "data": {
      "text/plain": [
       "False"
      ]
     },
     "execution_count": 43,
     "metadata": {},
     "output_type": "execute_result"
    }
   ],
   "source": [
    "True and True"
   ]
  },
  {
   "cell_type": "markdown",
   "metadata": {},
   "source": [
    "##### If statement"
   ]
  },
  {
   "cell_type": "code",
   "execution_count": 44,
   "metadata": {},
   "outputs": [
    {
     "name": "stdout",
     "output_type": "stream",
     "text": [
      "Too many cats! The world is saved!\n",
      "Not many dogs!\n"
     ]
    }
   ],
   "source": [
    "# if expression:\n",
    "#     ...\n",
    "\n",
    "people = 20\n",
    "cats = 30\n",
    "dogs = 15\n",
    "\n",
    "if people > cats:\n",
    "    print(\"Not many cats! The world is doomed!\")\n",
    "if people < cats:\n",
    "    print(\"Too many cats! The world is saved!\")\n",
    "\n",
    "if people < dogs:\n",
    "    print(\"Too many dogs!\")\n",
    "if people > dogs:\n",
    "    print(\"Not many dogs!\")"
   ]
  },
  {
   "cell_type": "code",
   "execution_count": 45,
   "metadata": {},
   "outputs": [
    {
     "name": "stdout",
     "output_type": "stream",
     "text": [
      "People are greater than or equal to dogs.\n",
      "People are less than or equal to dogs.\n",
      "People are dogs.\n"
     ]
    }
   ],
   "source": [
    "dogs += 5\n",
    "\n",
    "if people >= dogs:\n",
    "    print(\"People are greater than or equal to dogs.\")\n",
    "if people <= dogs:\n",
    "    print(\"People are less than or equal to dogs.\")\n",
    "if people == dogs:\n",
    "    print(\"People are dogs.\")"
   ]
  },
  {
   "cell_type": "code",
   "execution_count": 46,
   "metadata": {},
   "outputs": [
    {
     "name": "stdout",
     "output_type": "stream",
     "text": [
      "People are dogs.\n"
     ]
    }
   ],
   "source": [
    "# Elif and else\n",
    "if people > dogs:\n",
    "    print(\"People are greater than or equal to dogs.\")\n",
    "elif people < dogs:\n",
    "    print(\"People are less than or equal to dogs.\")\n",
    "else:\n",
    "    print(\"People are dogs.\")"
   ]
  },
  {
   "cell_type": "markdown",
   "metadata": {},
   "source": [
    "### 6. Loops and Lists\n",
    "    We are going to use a for-loop in this exercise to build and print various lists.\n",
    "    A list is exactly what the name says: a container of things that are organized in order from first to last.\n",
    "    for item in iterable: \n",
    "        expression(s)"
   ]
  },
  {
   "cell_type": "code",
   "execution_count": 59,
   "metadata": {},
   "outputs": [
    {
     "name": "stdout",
     "output_type": "stream",
     "text": [
      "This is count 1\n",
      "This is count 2\n",
      "This is count 3\n",
      "This is count 4\n",
      "This is count 5\n",
      "A fruit of type: apples\n",
      "A fruit of type: oranges\n",
      "A fruit of type: pears\n",
      "A fruit of type: apricots\n",
      "I got 1\n",
      "I got pennies\n",
      "I got 2\n",
      "I got dimes\n",
      "I got 3\n",
      "I got quarters\n"
     ]
    }
   ],
   "source": [
    "the_count = [1, 2, 3, 4, 5]\n",
    "fruits =['apples', 'oranges', 'pears', 'apricots']\n",
    "change = [1, 'pennies', 2, 'dimes', 3, 'quarters']\n",
    "\n",
    "# this first kind of for-loop goes through a list\n",
    "for number in the_count:\n",
    "    print(f\"This is count {number}\")\n",
    "    \n",
    "for fruit in fruits:\n",
    "    print(f\"A fruit of type: {fruit}\")\n",
    "    \n",
    "# also we can go through mixed lists too\n",
    "# notice we have to use {} since we don't know what's in it\n",
    "for i in change:\n",
    "    print(f\"I got {i}\")"
   ]
  },
  {
   "cell_type": "code",
   "execution_count": 60,
   "metadata": {
    "scrolled": true
   },
   "outputs": [
    {
     "name": "stdout",
     "output_type": "stream",
     "text": [
      "Adding 0 to the list.\n",
      "Adding 1 to the list.\n",
      "Adding 2 to the list.\n",
      "Adding 3 to the list.\n",
      "Adding 4 to the list.\n",
      "Adding 5 to the list.\n",
      "Element was: 0\n",
      "Element was: 1\n",
      "Element was: 2\n",
      "Element was: 3\n",
      "Element was: 4\n",
      "Element was: 5\n"
     ]
    }
   ],
   "source": [
    "# we can also build lists, first start with an empty one\n",
    "elements = []\n",
    "\n",
    "# then use the range function to do 0 to 5 counts\n",
    "for i in range(0, 6): # Mark\n",
    "    print(f\"Adding {i} to the list.\")\n",
    "    elements.append(i)\n",
    "\n",
    "# now we can print them out too\n",
    "for i in elements:\n",
    "    print(f\"Element was: {i}\")\n",
    "    \n",
    "# Think! Could you have avoided that for-loop entirely on Mark and just assigned range(0,6) directly to elements?"
   ]
  },
  {
   "cell_type": "code",
   "execution_count": 61,
   "metadata": {},
   "outputs": [
    {
     "name": "stdout",
     "output_type": "stream",
     "text": [
      "a is Not convertible to a float\n",
      "1.0\n",
      "54.1\n",
      "43.a is Not convertible to a float\n"
     ]
    }
   ],
   "source": [
    "# A try catch block\n",
    "# You can see it as a generalization of the if ... else construction, \n",
    "# allowing more flexibility in handling failures in code\n",
    "text = ('a','1','54.1','43.a')\n",
    "for t in text:\n",
    "    try:\n",
    "        temp = float(t)\n",
    "        print(temp)\n",
    "    except ValueError:\n",
    "        print(str(t) + ' is Not convertible to a float')"
   ]
  },
  {
   "cell_type": "code",
   "execution_count": 62,
   "metadata": {},
   "outputs": [
    {
     "ename": "ValueError",
     "evalue": "could not convert string to float: 'a'",
     "output_type": "error",
     "traceback": [
      "\u001b[1;31m---------------------------------------------------------------------------\u001b[0m",
      "\u001b[1;31mValueError\u001b[0m                                Traceback (most recent call last)",
      "\u001b[1;32m<ipython-input-62-1bfb9b557057>\u001b[0m in \u001b[0;36m<module>\u001b[1;34m\u001b[0m\n\u001b[0;32m      2\u001b[0m \u001b[0mtext\u001b[0m \u001b[1;33m=\u001b[0m \u001b[1;33m(\u001b[0m\u001b[1;34m'a'\u001b[0m\u001b[1;33m,\u001b[0m\u001b[1;34m'1'\u001b[0m\u001b[1;33m,\u001b[0m\u001b[1;34m'54.1'\u001b[0m\u001b[1;33m,\u001b[0m\u001b[1;34m'43.a'\u001b[0m\u001b[1;33m)\u001b[0m\u001b[1;33m\u001b[0m\u001b[1;33m\u001b[0m\u001b[0m\n\u001b[0;32m      3\u001b[0m \u001b[1;32mfor\u001b[0m \u001b[0mt\u001b[0m \u001b[1;32min\u001b[0m \u001b[0mtext\u001b[0m\u001b[1;33m:\u001b[0m\u001b[1;33m\u001b[0m\u001b[1;33m\u001b[0m\u001b[0m\n\u001b[1;32m----> 4\u001b[1;33m     \u001b[0mtemp\u001b[0m \u001b[1;33m=\u001b[0m \u001b[0mfloat\u001b[0m\u001b[1;33m(\u001b[0m\u001b[0mt\u001b[0m\u001b[1;33m)\u001b[0m\u001b[1;33m\u001b[0m\u001b[1;33m\u001b[0m\u001b[0m\n\u001b[0m\u001b[0;32m      5\u001b[0m     \u001b[0mprint\u001b[0m\u001b[1;33m(\u001b[0m\u001b[0mtemp\u001b[0m\u001b[1;33m)\u001b[0m\u001b[1;33m\u001b[0m\u001b[1;33m\u001b[0m\u001b[0m\n",
      "\u001b[1;31mValueError\u001b[0m: could not convert string to float: 'a'"
     ]
    }
   ],
   "source": [
    "# The consequence of not having a try catch block if python throws an error!\n",
    "text = ('a','1','54.1','43.a')\n",
    "for t in text:\n",
    "    temp = float(t)\n",
    "    print(temp)"
   ]
  },
  {
   "cell_type": "markdown",
   "metadata": {},
   "source": [
    "    Now to totally blow your mind with a new loop, the while-loop. A while-loop will keep executing the code block under it as long as a Boolean expression is True.\n",
    "    Here’s the problem with while-loops: Sometimes they do not stop. This is great if your intention is to just keep looping until the end of the universe. Otherwise, you almost always want your loops to end eventually."
   ]
  },
  {
   "cell_type": "code",
   "execution_count": 63,
   "metadata": {},
   "outputs": [
    {
     "name": "stdout",
     "output_type": "stream",
     "text": [
      "At the top i is 0\n",
      "Numbers now:  [0]\n",
      "At the top i is 1\n",
      "Numbers now:  [0, 1]\n",
      "At the top i is 2\n",
      "Numbers now:  [0, 1, 2]\n",
      "At the top i is 3\n",
      "Numbers now:  [0, 1, 2, 3]\n",
      "At the top i is 4\n",
      "Numbers now:  [0, 1, 2, 3, 4]\n",
      "At the top i is 5\n",
      "Numbers now:  [0, 1, 2, 3, 4, 5]\n",
      "At the top i is 6\n",
      "Numbers now:  [0, 1, 2, 3, 4, 5, 6]\n",
      "At the top i is 7\n",
      "Numbers now:  [0, 1, 2, 3, 4, 5, 6, 7]\n",
      "At the top i is 8\n",
      "Numbers now:  [0, 1, 2, 3, 4, 5, 6, 7, 8]\n",
      "At the top i is 9\n",
      "Numbers now:  [0, 1, 2, 3, 4, 5, 6, 7, 8, 9]\n",
      "The numbers: \n",
      "0\n",
      "1\n",
      "2\n",
      "3\n",
      "4\n",
      "5\n",
      "6\n",
      "7\n",
      "8\n",
      "9\n"
     ]
    }
   ],
   "source": [
    "i = 0\n",
    "numbers = []\n",
    "\n",
    "while i < 10:\n",
    "    print(f\"At the top i is {i}\")\n",
    "    numbers.append(i)\n",
    "    \n",
    "    i = i + 1\n",
    "    \n",
    "    print(\"Numbers now: \", numbers)\n",
    "\n",
    "print(\"The numbers: \")\n",
    "for num in numbers:\n",
    "    print(num)"
   ]
  },
  {
   "cell_type": "code",
   "execution_count": 64,
   "metadata": {},
   "outputs": [],
   "source": [
    "# Q8. Convert this while-loop to a function that you can call, and replace 10 in the test (i < 10) with a variable.\n",
    "#     Try different numbers with your function\n"
   ]
  },
  {
   "cell_type": "markdown",
   "metadata": {},
   "source": [
    "##### Accessing elements of list"
   ]
  },
  {
   "cell_type": "code",
   "execution_count": 47,
   "metadata": {},
   "outputs": [
    {
     "name": "stdout",
     "output_type": "stream",
     "text": [
      "bear\n"
     ]
    }
   ],
   "source": [
    "animals = ['bear', 'tiger', 'penguin', 'zebra']\n",
    "bear = animals[0]\n",
    "# Note that 0 in Python means the first element in a list\n",
    "print(bear)"
   ]
  },
  {
   "cell_type": "code",
   "execution_count": 48,
   "metadata": {
    "scrolled": true
   },
   "outputs": [
    {
     "name": "stdout",
     "output_type": "stream",
     "text": [
      "['zebra', 'penguin', 'tiger', 'bear']\n",
      "['bear', 'tiger', 'penguin', 'zebra']\n"
     ]
    }
   ],
   "source": [
    "print(animals[::-1]) ## same as animals.reverse() but it is NOT operating in place\n",
    "print(animals)"
   ]
  },
  {
   "cell_type": "code",
   "execution_count": 49,
   "metadata": {},
   "outputs": [
    {
     "name": "stdout",
     "output_type": "stream",
     "text": [
      "['zebra', 'penguin', 'tiger', 'bear']\n"
     ]
    }
   ],
   "source": [
    "animals.reverse()\n",
    "print(animals)"
   ]
  },
  {
   "cell_type": "markdown",
   "metadata": {},
   "source": [
    "##### Doing Things to Lists"
   ]
  },
  {
   "cell_type": "code",
   "execution_count": 50,
   "metadata": {},
   "outputs": [
    {
     "name": "stdout",
     "output_type": "stream",
     "text": [
      "Adding:  Boy\n",
      "There are 7 items now.\n",
      "Adding:  Girl\n",
      "There are 8 items now.\n",
      "Adding:  Banana\n",
      "There are 9 items now.\n",
      "Adding:  Corn\n",
      "There are 10 items now.\n",
      "There we go:  ['Apples', 'Oranges', 'Crows', 'Telephone', 'Light', 'Sugar', 'Boy', 'Girl', 'Banana', 'Corn']\n"
     ]
    }
   ],
   "source": [
    "ten_things = \"Apples Oranges Crows Telephone Light Sugar\"\n",
    "# Wait! No enough items in the list, we need to do something.\n",
    "stuff = ten_things.split(' ')\n",
    "more_stuff = [\"Day\", \"Night\", \"Song\", \"Frisbee\", \"Corn\", \"Banana\", \"Girl\", \"Boy\"]\n",
    "while len(stuff) != 10:\n",
    "    next_one = more_stuff.pop()\n",
    "    print(\"Adding: \", next_one)\n",
    "    stuff.append(next_one)\n",
    "    print(f\"There are {len(stuff)} items now.\")\n",
    "\n",
    "print(\"There we go: \", stuff)"
   ]
  },
  {
   "cell_type": "code",
   "execution_count": 69,
   "metadata": {
    "scrolled": true
   },
   "outputs": [
    {
     "name": "stdout",
     "output_type": "stream",
     "text": [
      "Oranges\n",
      "Corn\n",
      "Corn\n",
      "Apples Oranges Crows Telephone Light Sugar Boy Girl Banana\n",
      "Telephone#Light\n"
     ]
    }
   ],
   "source": [
    "# Let's do some things with stuff.\n",
    "\n",
    "# Second element\n",
    "print(stuff[1]) \n",
    "\n",
    "# Second element from last\n",
    "print(stuff[-1])\n",
    "\n",
    "# Return the last element and remove it from the list\n",
    "print(stuff.pop())\n",
    "\n",
    "# Build a string with items in the list and separate them with space\n",
    "print(' '.join(stuff))\n",
    "\n",
    "# Build a string with items from 3(included) to 5(not included) in the list and separate them with #\n",
    "print('#'.join(stuff[3:5]))\n",
    "\n",
    "# To learn more, take a data structure class!"
   ]
  },
  {
   "cell_type": "code",
   "execution_count": 51,
   "metadata": {},
   "outputs": [
    {
     "data": {
      "text/plain": [
       "['my things', 'my stuff', 'my Brady']"
      ]
     },
     "execution_count": 51,
     "metadata": {},
     "output_type": "execute_result"
    }
   ],
   "source": [
    "# A great way to build a list!\n",
    "str_list = ['things', 'stuff', 'Brady']\n",
    "['my ' + x for x in str_list]"
   ]
  },
  {
   "cell_type": "code",
   "execution_count": 52,
   "metadata": {},
   "outputs": [
    {
     "data": {
      "text/plain": [
       "['THINGS', 'STUFF', 'BRADY']"
      ]
     },
     "execution_count": 52,
     "metadata": {},
     "output_type": "execute_result"
    }
   ],
   "source": [
    "[x.upper() for x in str_list]"
   ]
  },
  {
   "cell_type": "code",
   "execution_count": 53,
   "metadata": {
    "scrolled": true
   },
   "outputs": [
    {
     "data": {
      "text/plain": [
       "[8, 10, 12]"
      ]
     },
     "execution_count": 53,
     "metadata": {},
     "output_type": "execute_result"
    }
   ],
   "source": [
    "[x+y for x,y in zip([1,2,3],[7,8,9])] # using zip (above)"
   ]
  },
  {
   "cell_type": "code",
   "execution_count": 54,
   "metadata": {
    "scrolled": true
   },
   "outputs": [
    {
     "data": {
      "text/plain": [
       "[7, 8, 3, 4, 5]"
      ]
     },
     "execution_count": 54,
     "metadata": {},
     "output_type": "execute_result"
    }
   ],
   "source": [
    "[x + 6 if (x < 3) else x for x in [1,2,3,4,5]] # [7, 8, 3, 4, 5]"
   ]
  },
  {
   "cell_type": "code",
   "execution_count": 55,
   "metadata": {},
   "outputs": [
    {
     "name": "stdout",
     "output_type": "stream",
     "text": [
      "7\n",
      "8\n",
      "3\n",
      "4\n",
      "5\n"
     ]
    }
   ],
   "source": [
    "# The ugly way :(\n",
    "for x in [1,2,3,4,5]:\n",
    "    if (x < 3):\n",
    "        print (x + 6)\n",
    "    else:\n",
    "        print(x)"
   ]
  },
  {
   "cell_type": "markdown",
   "metadata": {},
   "source": [
    "##### Dictionary!\n",
    "    You can use numbers to index into a list.\n",
    "    A dict lets you use anything, not just numbers."
   ]
  },
  {
   "cell_type": "code",
   "execution_count": 56,
   "metadata": {},
   "outputs": [
    {
     "name": "stdout",
     "output_type": "stream",
     "text": [
      "Yibei\n",
      "24\n"
     ]
    }
   ],
   "source": [
    "stuff = {'name': 'Yibei', 'age': 20 + 2 * 2}\n",
    "print(stuff['name'])\n",
    "print(stuff['age'])"
   ]
  },
  {
   "cell_type": "code",
   "execution_count": 57,
   "metadata": {},
   "outputs": [
    {
     "name": "stdout",
     "output_type": "stream",
     "text": [
      "Boston\n"
     ]
    }
   ],
   "source": [
    "# We can put new things into the dictionary with strings.\n",
    "stuff['city'] = \"Boston\"\n",
    "print(stuff['city'])"
   ]
  },
  {
   "cell_type": "code",
   "execution_count": 58,
   "metadata": {},
   "outputs": [
    {
     "data": {
      "text/plain": [
       "True"
      ]
     },
     "execution_count": 58,
     "metadata": {},
     "output_type": "execute_result"
    }
   ],
   "source": [
    "# See if one key is in a dict or not\n",
    "'city' in stuff"
   ]
  },
  {
   "cell_type": "code",
   "execution_count": 59,
   "metadata": {},
   "outputs": [
    {
     "data": {
      "text/plain": [
       "dict_items([('name', 'Yibei'), ('age', 24), ('city', 'Boston')])"
      ]
     },
     "execution_count": 59,
     "metadata": {},
     "output_type": "execute_result"
    }
   ],
   "source": [
    "# Returns key/value pairs as list of tuples\n",
    "stuff.items()"
   ]
  },
  {
   "cell_type": "code",
   "execution_count": 60,
   "metadata": {},
   "outputs": [
    {
     "name": "stdout",
     "output_type": "stream",
     "text": [
      "dict_keys(['name', 'age', 'city'])\n"
     ]
    },
    {
     "data": {
      "text/plain": [
       "dict_values(['Yibei', 24, 'Boston'])"
      ]
     },
     "execution_count": 60,
     "metadata": {},
     "output_type": "execute_result"
    }
   ],
   "source": [
    "# Returns list of keys\n",
    "print(stuff.keys())\n",
    "# Returns list of values\n",
    "stuff.values()"
   ]
  },
  {
   "cell_type": "code",
   "execution_count": 61,
   "metadata": {},
   "outputs": [
    {
     "ename": "KeyError",
     "evalue": "'not exist'",
     "output_type": "error",
     "traceback": [
      "\u001b[1;31m---------------------------------------------------------------------------\u001b[0m",
      "\u001b[1;31mKeyError\u001b[0m                                  Traceback (most recent call last)",
      "\u001b[1;32m<ipython-input-61-6988c7a81b1a>\u001b[0m in \u001b[0;36m<module>\u001b[1;34m\u001b[0m\n\u001b[0;32m      1\u001b[0m \u001b[1;31m# If a key is not exist, there will be a error!\u001b[0m\u001b[1;33m\u001b[0m\u001b[1;33m\u001b[0m\u001b[1;33m\u001b[0m\u001b[0m\n\u001b[1;32m----> 2\u001b[1;33m \u001b[0mstuff\u001b[0m\u001b[1;33m[\u001b[0m\u001b[1;34m'not exist'\u001b[0m\u001b[1;33m]\u001b[0m\u001b[1;33m\u001b[0m\u001b[1;33m\u001b[0m\u001b[0m\n\u001b[0m",
      "\u001b[1;31mKeyError\u001b[0m: 'not exist'"
     ]
    }
   ],
   "source": [
    "# If a key is not exist, there will be a error!\n",
    "stuff['not exist']"
   ]
  },
  {
   "cell_type": "code",
   "execution_count": 62,
   "metadata": {},
   "outputs": [
    {
     "name": "stdout",
     "output_type": "stream",
     "text": [
      "{'name': 'Yibei', 'age': 24, 'city': 'Boston', 1: 'Wow'}\n"
     ]
    }
   ],
   "source": [
    "# We can also use number as an index\n",
    "stuff[1] = \"Wow\"\n",
    "print(stuff)"
   ]
  },
  {
   "cell_type": "code",
   "execution_count": 63,
   "metadata": {
    "scrolled": true
   },
   "outputs": [
    {
     "name": "stdout",
     "output_type": "stream",
     "text": [
      "{'name': 'Yibei', 'age': 24, 1: 'Wow'}\n"
     ]
    }
   ],
   "source": [
    "# We can delete something by\n",
    "del stuff['city']\n",
    "print(stuff)"
   ]
  },
  {
   "cell_type": "code",
   "execution_count": 64,
   "metadata": {},
   "outputs": [],
   "source": [
    "# Here we create a mapping of state to abbreviation\n",
    "states = {\n",
    "    'Oregon': 'OR',\n",
    "    'Florida': 'FL',\n",
    "    'California': 'CA',\n",
    "    'New York': 'NY',\n",
    "    'Michigan': 'MI'\n",
    "}\n",
    "\n",
    "# create a basic set of states and some cities in them\n",
    "cities = {\n",
    "    'CA': 'San Francisco',\n",
    "    'MI': 'Detroit',\n",
    "    'FL': 'Jacksonville'\n",
    "}\n",
    "\n",
    "# add some more cities\n",
    "cities['NY'] = 'New York'\n",
    "cities['OR'] = 'Portland'"
   ]
  },
  {
   "cell_type": "code",
   "execution_count": 84,
   "metadata": {},
   "outputs": [
    {
     "ename": "SyntaxError",
     "evalue": "can't assign to Ellipsis (<ipython-input-84-a2a591be95df>, line 24)",
     "output_type": "error",
     "traceback": [
      "\u001b[1;36m  File \u001b[1;32m\"<ipython-input-84-a2a591be95df>\"\u001b[1;36m, line \u001b[1;32m24\u001b[0m\n\u001b[1;33m    for ... in list(...):\u001b[0m\n\u001b[1;37m       ^\u001b[0m\n\u001b[1;31mSyntaxError\u001b[0m\u001b[1;31m:\u001b[0m can't assign to Ellipsis\n"
     ]
    }
   ],
   "source": [
    "# Q9. Complete these blanks (...)\n",
    "# print out some cities\n",
    "print('-' * 10)\n",
    "print(\"NY State has: \", cities['NY'])\n",
    "print(\"OR State has: \", ...)\n",
    "\n",
    "# print some states\n",
    "print('-' * 10)\n",
    "print(\"Michigan's abbreviation is: \", states['Michigan'])\n",
    "print(\"Florida's abbreviation is: \", ...)\n",
    "\n",
    "# do it by using the state then cities dict\n",
    "print('-' * 10)\n",
    "print(\"Michigan has: \", cities[states['Michigan']])\n",
    "print(\"Florida has: \", ...)\n",
    "\n",
    "# print every state abbreviation\n",
    "print('-' * 10)\n",
    "for state, abbrev in list(states.items()):\n",
    "    print(f\"{state} is abbreviated {abbrev}\")\n",
    "\n",
    "# print every city in state\n",
    "print('-' * 10)\n",
    "for ... in list(...):\n",
    "    print(f\"{...} has the city {...}\")"
   ]
  },
  {
   "cell_type": "code",
   "execution_count": 65,
   "metadata": {},
   "outputs": [
    {
     "name": "stdout",
     "output_type": "stream",
     "text": [
      "----------\n",
      "Sorry, no Texas.\n",
      "The city for the state 'TX' is: Does Not Exist\n"
     ]
    }
   ],
   "source": [
    "print('-' * 10)\n",
    "# To safely get a abbreviation by state that might not be there, use:\n",
    "state = states.get('Texas')\n",
    "\n",
    "if not state:\n",
    "    print(\"Sorry, no Texas.\")\n",
    "\n",
    "# get a city with a default value\n",
    "city = cities.get('TX', 'Does Not Exist')\n",
    "print(f\"The city for the state 'TX' is: {city}\")"
   ]
  },
  {
   "cell_type": "markdown",
   "metadata": {},
   "source": [
    "##### Set!"
   ]
  },
  {
   "cell_type": "code",
   "execution_count": 72,
   "metadata": {
    "scrolled": true
   },
   "outputs": [
    {
     "name": "stdout",
     "output_type": "stream",
     "text": [
      "set()\n",
      "{1}\n",
      "set()\n",
      "{1, 2, 3, 4}\n",
      "{1, 2, 3, 4, 5}\n"
     ]
    }
   ],
   "source": [
    "empty_set = set()\n",
    "print(empty_set)\n",
    "empty_set.add(1)\n",
    "print(empty_set)\n",
    "empty_set.remove(1)\n",
    "print(empty_set)\n",
    "\n",
    "filled_set = {1, 2, 2, 3, 4}\n",
    "print(filled_set)\n",
    "filled_set.add(5) \n",
    "print(filled_set)"
   ]
  },
  {
   "cell_type": "code",
   "execution_count": 73,
   "metadata": {},
   "outputs": [
    {
     "data": {
      "text/plain": [
       "{3, 4, 5}"
      ]
     },
     "execution_count": 73,
     "metadata": {},
     "output_type": "execute_result"
    }
   ],
   "source": [
    "# Do set intersection with &\n",
    "other_set = {3, 4, 5, 6}\n",
    "filled_set & other_set  # => {3, 4, 5}"
   ]
  },
  {
   "cell_type": "code",
   "execution_count": 74,
   "metadata": {},
   "outputs": [
    {
     "data": {
      "text/plain": [
       "{1, 2, 3, 4, 5, 6}"
      ]
     },
     "execution_count": 74,
     "metadata": {},
     "output_type": "execute_result"
    }
   ],
   "source": [
    "# Do set union with |\n",
    "filled_set | other_set  # => {1, 2, 3, 4, 5, 6}"
   ]
  },
  {
   "cell_type": "code",
   "execution_count": 75,
   "metadata": {},
   "outputs": [
    {
     "data": {
      "text/plain": [
       "{1, 4}"
      ]
     },
     "execution_count": 75,
     "metadata": {},
     "output_type": "execute_result"
    }
   ],
   "source": [
    "# Do set difference with -\n",
    "{1, 2, 3, 4} - {2, 3, 5}  # => {1, 4}"
   ]
  },
  {
   "cell_type": "code",
   "execution_count": 76,
   "metadata": {
    "scrolled": true
   },
   "outputs": [
    {
     "data": {
      "text/plain": [
       "False"
      ]
     },
     "execution_count": 76,
     "metadata": {},
     "output_type": "execute_result"
    }
   ],
   "source": [
    "# Check if set on the left is a superset of set on the right\n",
    "{1, 2} >= {1, 2, 3}  # => False"
   ]
  },
  {
   "cell_type": "code",
   "execution_count": 77,
   "metadata": {},
   "outputs": [
    {
     "data": {
      "text/plain": [
       "True"
      ]
     },
     "execution_count": 77,
     "metadata": {},
     "output_type": "execute_result"
    }
   ],
   "source": [
    "# Check if set on the left is a subset of set on the right\n",
    "{1, 2} <= {1, 2, 3}  # => True"
   ]
  },
  {
   "cell_type": "code",
   "execution_count": 78,
   "metadata": {},
   "outputs": [
    {
     "name": "stdout",
     "output_type": "stream",
     "text": [
      "True\n",
      "False\n",
      "True\n"
     ]
    }
   ],
   "source": [
    "# Check for existence in a set with in\n",
    "print(2 in filled_set)  # => True\n",
    "print(10 in filled_set)  # => False\n",
    "print(10 not in filled_set) # => True"
   ]
  },
  {
   "cell_type": "markdown",
   "metadata": {},
   "source": [
    "### 7. Objects\n",
    "    A class is a way to take a grouping of functions and data and place them inside a container so you can access them with the . (dot) operator."
   ]
  },
  {
   "cell_type": "code",
   "execution_count": 79,
   "metadata": {},
   "outputs": [],
   "source": [
    "class MyClass(object):\n",
    "    # Class can have a __init__ function\n",
    "    # Python will call this function to initialize your newly created empty object.\n",
    "    # self is an empty object Python made for you, and you can set variables on it.\n",
    "    def __init__(self):\n",
    "        self.thought = \"I am thinking about a peach\"\n",
    "    # Define your own function like this\n",
    "    def apple(self):\n",
    "        print(\"Here's an apple!\")"
   ]
  },
  {
   "cell_type": "code",
   "execution_count": 80,
   "metadata": {},
   "outputs": [
    {
     "name": "stdout",
     "output_type": "stream",
     "text": [
      "Here's an apple!\n",
      "I am thinking about a peach\n"
     ]
    }
   ],
   "source": [
    "# When you instantiate a class what you get is called an object.\n",
    "# You instantiate (create) a class by calling the class like it’s a function, like this:\n",
    "thing = MyClass()\n",
    "thing.apple()\n",
    "print(thing.thought)"
   ]
  },
  {
   "cell_type": "code",
   "execution_count": 82,
   "metadata": {},
   "outputs": [
    {
     "name": "stdout",
     "output_type": "stream",
     "text": [
      "apple\n",
      "banana\n",
      "blueberry\n"
     ]
    },
    {
     "data": {
      "text/plain": [
       "Ellipsis"
      ]
     },
     "execution_count": 82,
     "metadata": {},
     "output_type": "execute_result"
    }
   ],
   "source": [
    "class Say(object):\n",
    "    def __init__(self, words):\n",
    "        self.words = words\n",
    "    def tell_me(self):\n",
    "        for line in self.words:\n",
    "            print(line)\n",
    "\n",
    "sentence1 = Say([\"apple\", \"banana\", \"blueberry\"])\n",
    "sentence1.tell_me()\n",
    "\n",
    "# Try to init another object and say something else\n",
    "..."
   ]
  },
  {
   "cell_type": "markdown",
   "metadata": {},
   "source": [
    "Read this if you want to know more about OOP in Python\n",
    "https://realpython.com/python3-object-oriented-programming/"
   ]
  },
  {
   "cell_type": "markdown",
   "metadata": {},
   "source": [
    "### 8. Imports\n",
    "    "
   ]
  },
  {
   "cell_type": "code",
   "execution_count": 3,
   "metadata": {},
   "outputs": [
    {
     "name": "stdout",
     "output_type": "stream",
     "text": [
      "Variable   Type      Data/Info\n",
      "------------------------------\n",
      "this       module    <module 'this' from 'C:\\\\<...>Anaconda3\\\\lib\\\\this.py'>\n"
     ]
    }
   ],
   "source": [
    "# Shows all the valiables we declared in the notebook or imported from external files!\n",
    "%whos"
   ]
  },
  {
   "cell_type": "code",
   "execution_count": 2,
   "metadata": {},
   "outputs": [
    {
     "name": "stdout",
     "output_type": "stream",
     "text": [
      "The Zen of Python, by Tim Peters\n",
      "\n",
      "Beautiful is better than ugly.\n",
      "Explicit is better than implicit.\n",
      "Simple is better than complex.\n",
      "Complex is better than complicated.\n",
      "Flat is better than nested.\n",
      "Sparse is better than dense.\n",
      "Readability counts.\n",
      "Special cases aren't special enough to break the rules.\n",
      "Although practicality beats purity.\n",
      "Errors should never pass silently.\n",
      "Unless explicitly silenced.\n",
      "In the face of ambiguity, refuse the temptation to guess.\n",
      "There should be one-- and preferably only one --obvious way to do it.\n",
      "Although that way may not be obvious at first unless you're Dutch.\n",
      "Now is better than never.\n",
      "Although never is often better than *right* now.\n",
      "If the implementation is hard to explain, it's a bad idea.\n",
      "If the implementation is easy to explain, it may be a good idea.\n",
      "Namespaces are one honking great idea -- let's do more of those!\n"
     ]
    },
    {
     "data": {
      "text/plain": [
       "['__builtins__',\n",
       " '__cached__',\n",
       " '__doc__',\n",
       " '__file__',\n",
       " '__loader__',\n",
       " '__name__',\n",
       " '__package__',\n",
       " '__spec__',\n",
       " 'c',\n",
       " 'd',\n",
       " 'i',\n",
       " 's']"
      ]
     },
     "execution_count": 2,
     "metadata": {},
     "output_type": "execute_result"
    }
   ],
   "source": [
    "import this\n",
    "# dir() yeilds the functions. Note there are buiilt-in functions, too.\n",
    "dir(this)"
   ]
  },
  {
   "cell_type": "code",
   "execution_count": 4,
   "metadata": {},
   "outputs": [
    {
     "name": "stdout",
     "output_type": "stream",
     "text": [
      "Help on module this:\n",
      "\n",
      "NAME\n",
      "    this\n",
      "\n",
      "DATA\n",
      "    c = 97\n",
      "    d = {'A': 'N', 'B': 'O', 'C': 'P', 'D': 'Q', 'E': 'R', 'F': 'S', 'G': ...\n",
      "    i = 25\n",
      "    s = \"Gur Mra bs Clguba, ol Gvz Crgref\\n\\nOrnhgvshy vf o...bar ubaxvat ...\n",
      "\n",
      "FILE\n",
      "    c:\\users\\cyrus\\anaconda3\\lib\\this.py\n",
      "\n",
      "\n"
     ]
    }
   ],
   "source": [
    "# And we can get help information from the module, \n",
    "# which consits of the triple-quoted comment string for each defined function.\n",
    "help(this)"
   ]
  },
  {
   "cell_type": "code",
   "execution_count": 5,
   "metadata": {},
   "outputs": [
    {
     "name": "stdout",
     "output_type": "stream",
     "text": [
      "97\n",
      "{'A': 'N', 'B': 'O', 'C': 'P', 'D': 'Q', 'E': 'R', 'F': 'S', 'G': 'T', 'H': 'U', 'I': 'V', 'J': 'W', 'K': 'X', 'L': 'Y', 'M': 'Z', 'N': 'A', 'O': 'B', 'P': 'C', 'Q': 'D', 'R': 'E', 'S': 'F', 'T': 'G', 'U': 'H', 'V': 'I', 'W': 'J', 'X': 'K', 'Y': 'L', 'Z': 'M', 'a': 'n', 'b': 'o', 'c': 'p', 'd': 'q', 'e': 'r', 'f': 's', 'g': 't', 'h': 'u', 'i': 'v', 'j': 'w', 'k': 'x', 'l': 'y', 'm': 'z', 'n': 'a', 'o': 'b', 'p': 'c', 'q': 'd', 'r': 'e', 's': 'f', 't': 'g', 'u': 'h', 'v': 'i', 'w': 'j', 'x': 'k', 'y': 'l', 'z': 'm'}\n"
     ]
    }
   ],
   "source": [
    "# A variable in the module:\n",
    "print(this.c)\n",
    "# A dict in the module:\n",
    "print(this.d)"
   ]
  },
  {
   "cell_type": "code",
   "execution_count": 6,
   "metadata": {},
   "outputs": [
    {
     "data": {
      "text/plain": [
       "97"
      ]
     },
     "execution_count": 6,
     "metadata": {},
     "output_type": "execute_result"
    }
   ],
   "source": [
    "# creating shortcuts to the module:\n",
    "import this as ti\n",
    "ti.c"
   ]
  },
  {
   "cell_type": "code",
   "execution_count": 7,
   "metadata": {},
   "outputs": [],
   "source": [
    "import numpy as np"
   ]
  },
  {
   "cell_type": "code",
   "execution_count": 8,
   "metadata": {},
   "outputs": [
    {
     "name": "stderr",
     "output_type": "stream",
     "text": [
      "IOPub data rate exceeded.\n",
      "The notebook server will temporarily stop sending output\n",
      "to the client in order to avoid crashing it.\n",
      "To change this limit, set the config variable\n",
      "`--NotebookApp.iopub_data_rate_limit`.\n",
      "\n",
      "Current values:\n",
      "NotebookApp.iopub_data_rate_limit=1000000.0 (bytes/sec)\n",
      "NotebookApp.rate_limit_window=3.0 (secs)\n",
      "\n"
     ]
    }
   ],
   "source": [
    "np."
   ]
  },
  {
   "cell_type": "code",
   "execution_count": null,
   "metadata": {},
   "outputs": [],
   "source": []
  }
 ],
 "metadata": {
  "kernelspec": {
   "display_name": "Python 3",
   "language": "python",
   "name": "python3"
  },
  "language_info": {
   "codemirror_mode": {
    "name": "ipython",
    "version": 3
   },
   "file_extension": ".py",
   "mimetype": "text/x-python",
   "name": "python",
   "nbconvert_exporter": "python",
   "pygments_lexer": "ipython3",
   "version": "3.6.10"
  }
 },
 "nbformat": 4,
 "nbformat_minor": 2
}
