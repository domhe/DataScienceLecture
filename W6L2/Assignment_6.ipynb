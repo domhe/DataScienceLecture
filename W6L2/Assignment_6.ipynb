{
 "cells": [
  {
   "cell_type": "code",
   "execution_count": 2,
   "metadata": {},
   "outputs": [
    {
     "name": "stdout",
     "output_type": "stream",
     "text": [
      "Collecting translate\n",
      "  Downloading https://files.pythonhosted.org/packages/85/b2/2ea329a07bbc0c7227eef84ca89ffd6895e7ec237d6c0b26574d56103e53/translate-3.5.0-py2.py3-none-any.whl\n",
      "Collecting tox (from translate)\n",
      "\u001b[?25l  Downloading https://files.pythonhosted.org/packages/3a/21/aa738f33db84be2caf89fae9d868320f7fc004329dd681cec4056d08cf75/tox-3.14.5-py2.py3-none-any.whl (81kB)\n",
      "\u001b[K     |████████████████████████████████| 81kB 1.7MB/s eta 0:00:011\n",
      "\u001b[?25hRequirement already satisfied: click in /opt/anaconda3/lib/python3.7/site-packages (from translate) (7.0)\n",
      "Collecting pre-commit (from translate)\n",
      "\u001b[?25l  Downloading https://files.pythonhosted.org/packages/a3/5d/626c6de070f37b09af7b8952c914532d81e0c6cfaf2784ac852a5c449aa5/pre_commit-2.1.0-py2.py3-none-any.whl (171kB)\n",
      "\u001b[K     |████████████████████████████████| 174kB 3.2MB/s eta 0:00:01\n",
      "\u001b[?25hRequirement already satisfied: requests in /opt/anaconda3/lib/python3.7/site-packages (from translate) (2.22.0)\n",
      "Requirement already satisfied: lxml in /opt/anaconda3/lib/python3.7/site-packages (from translate) (4.4.1)\n",
      "Requirement already satisfied: filelock<4,>=3.0.0 in /opt/anaconda3/lib/python3.7/site-packages (from tox->translate) (3.0.12)\n",
      "Requirement already satisfied: pluggy<1,>=0.12.0 in /opt/anaconda3/lib/python3.7/site-packages (from tox->translate) (0.13.0)\n",
      "Requirement already satisfied: packaging>=14 in /opt/anaconda3/lib/python3.7/site-packages (from tox->translate) (19.2)\n",
      "Requirement already satisfied: importlib-metadata<2,>=0.12; python_version < \"3.8\" in /opt/anaconda3/lib/python3.7/site-packages (from tox->translate) (0.23)\n",
      "Collecting toml>=0.9.4 (from tox->translate)\n",
      "  Downloading https://files.pythonhosted.org/packages/a2/12/ced7105d2de62fa7c8fb5fce92cc4ce66b57c95fb875e9318dba7f8c5db0/toml-0.10.0-py2.py3-none-any.whl\n",
      "Collecting virtualenv>=16.0.0 (from tox->translate)\n",
      "\u001b[?25l  Downloading https://files.pythonhosted.org/packages/a3/dd/e43866ac0d25cd1ecbde0814f6cd7372ea257fbdf443dc9f0a01740da93d/virtualenv-20.0.4-py2.py3-none-any.whl (4.6MB)\n",
      "\u001b[K     |████████████████████████████████| 4.6MB 1.4MB/s eta 0:00:01\n",
      "\u001b[?25hCollecting six<2,>=1.14.0 (from tox->translate)\n",
      "  Using cached https://files.pythonhosted.org/packages/65/eb/1f97cb97bfc2390a276969c6fae16075da282f5058082d4cb10c6c5c1dba/six-1.14.0-py2.py3-none-any.whl\n",
      "Requirement already satisfied: py<2,>=1.4.17 in /opt/anaconda3/lib/python3.7/site-packages (from tox->translate) (1.8.0)\n",
      "Collecting cfgv>=2.0.0 (from pre-commit->translate)\n",
      "  Downloading https://files.pythonhosted.org/packages/2a/b8/1b9626e940bf80cc5a19a19e6b4c99282aa88f438cbcd2d86d7a2a666974/cfgv-3.0.0-py2.py3-none-any.whl\n",
      "Requirement already satisfied: pyyaml>=5.1 in /opt/anaconda3/lib/python3.7/site-packages (from pre-commit->translate) (5.1.2)\n",
      "Collecting nodeenv>=0.11.1 (from pre-commit->translate)\n",
      "  Downloading https://files.pythonhosted.org/packages/08/43/86ff33286c83f7b5e8903c32db01fe122c5e8a9d8dc1067dcaa9be54a033/nodeenv-1.3.5-py2.py3-none-any.whl\n",
      "Collecting identify>=1.0.0 (from pre-commit->translate)\n",
      "\u001b[?25l  Downloading https://files.pythonhosted.org/packages/73/08/ebd9cd04a6741b2cdf9a634170070d16085a38c2041e11a9b634c1cef623/identify-1.4.11-py2.py3-none-any.whl (97kB)\n",
      "\u001b[K     |████████████████████████████████| 102kB 2.7MB/s ta 0:00:011\n",
      "\u001b[?25hRequirement already satisfied: chardet<3.1.0,>=3.0.2 in /opt/anaconda3/lib/python3.7/site-packages (from requests->translate) (3.0.4)\n",
      "Requirement already satisfied: idna<2.9,>=2.5 in /opt/anaconda3/lib/python3.7/site-packages (from requests->translate) (2.8)\n",
      "Requirement already satisfied: urllib3!=1.25.0,!=1.25.1,<1.26,>=1.21.1 in /opt/anaconda3/lib/python3.7/site-packages (from requests->translate) (1.24.2)\n",
      "Requirement already satisfied: certifi>=2017.4.17 in /opt/anaconda3/lib/python3.7/site-packages (from requests->translate) (2019.9.11)\n",
      "Requirement already satisfied: pyparsing>=2.0.2 in /opt/anaconda3/lib/python3.7/site-packages (from packaging>=14->tox->translate) (2.4.2)\n",
      "Requirement already satisfied: zipp>=0.5 in /opt/anaconda3/lib/python3.7/site-packages (from importlib-metadata<2,>=0.12; python_version < \"3.8\"->tox->translate) (0.6.0)\n",
      "Collecting distlib<1,>=0.3.0 (from virtualenv>=16.0.0->tox->translate)\n",
      "\u001b[?25l  Downloading https://files.pythonhosted.org/packages/7d/29/694a3a4d7c0e1aef76092e9167fbe372e0f7da055f5dcf4e1313ec21d96a/distlib-0.3.0.zip (571kB)\n",
      "\u001b[K     |████████████████████████████████| 573kB 1.1MB/s eta 0:00:01\n",
      "\u001b[?25hCollecting appdirs<2,>=1.4.3 (from virtualenv>=16.0.0->tox->translate)\n",
      "  Downloading https://files.pythonhosted.org/packages/56/eb/810e700ed1349edde4cbdc1b2a21e28cdf115f9faf263f6bbf8447c1abf3/appdirs-1.4.3-py2.py3-none-any.whl\n",
      "Requirement already satisfied: more-itertools in /opt/anaconda3/lib/python3.7/site-packages (from zipp>=0.5->importlib-metadata<2,>=0.12; python_version < \"3.8\"->tox->translate) (7.2.0)\n",
      "Building wheels for collected packages: distlib\n",
      "  Building wheel for distlib (setup.py) ... \u001b[?25ldone\n",
      "\u001b[?25h  Created wheel for distlib: filename=distlib-0.3.0-cp37-none-any.whl size=340428 sha256=a67eb558b6d0b2563a9c8bfd0d4c3413cb5d180bf09ffc31efde2da38da58659\n",
      "  Stored in directory: /Users/godofhandsome/Library/Caches/pip/wheels/6e/e8/db/c73dae4867666e89ba3cfbc4b5c092446f0e584eda6f409cbb\n",
      "Successfully built distlib\n",
      "\u001b[31mERROR: astroid 2.3.1 requires typed-ast<1.5,>=1.4.0; implementation_name == \"cpython\" and python_version < \"3.8\", which is not installed.\u001b[0m\n",
      "\u001b[31mERROR: astroid 2.3.1 has requirement six==1.12, but you'll have six 1.14.0 which is incompatible.\u001b[0m\n",
      "Installing collected packages: toml, distlib, six, appdirs, virtualenv, tox, cfgv, nodeenv, identify, pre-commit, translate\n",
      "  Found existing installation: six 1.12.0\n",
      "    Uninstalling six-1.12.0:\n",
      "      Successfully uninstalled six-1.12.0\n",
      "Successfully installed appdirs-1.4.3 cfgv-3.0.0 distlib-0.3.0 identify-1.4.11 nodeenv-1.3.5 pre-commit-2.1.0 six-1.14.0 toml-0.10.0 tox-3.14.5 translate-3.5.0 virtualenv-20.0.4\n",
      "Note: you may need to restart the kernel to use updated packages.\n"
     ]
    }
   ],
   "source": [
    "  pip install translate"
   ]
  },
  {
   "cell_type": "code",
   "execution_count": null,
   "metadata": {},
   "outputs": [],
   "source": [
    "import jieba\n"
   ]
  },
  {
   "cell_type": "code",
   "execution_count": null,
   "metadata": {},
   "outputs": [],
   "source": []
  },
  {
   "cell_type": "code",
   "execution_count": null,
   "metadata": {},
   "outputs": [],
   "source": []
  }
 ],
 "metadata": {
  "kernelspec": {
   "display_name": "Python 3",
   "language": "python",
   "name": "python3"
  },
  "language_info": {
   "codemirror_mode": {
    "name": "ipython",
    "version": 3
   },
   "file_extension": ".py",
   "mimetype": "text/x-python",
   "name": "python",
   "nbconvert_exporter": "python",
   "pygments_lexer": "ipython3",
   "version": "3.7.4"
  }
 },
 "nbformat": 4,
 "nbformat_minor": 2
}
